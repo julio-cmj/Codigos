{
 "cells": [
  {
   "cell_type": "code",
   "execution_count": 4,
   "metadata": {},
   "outputs": [
    {
     "ename": "KeyboardInterrupt",
     "evalue": "",
     "output_type": "error",
     "traceback": [
      "\u001b[1;31m---------------------------------------------------------------------------\u001b[0m",
      "\u001b[1;31mKeyboardInterrupt\u001b[0m                         Traceback (most recent call last)",
      "Cell \u001b[1;32mIn[4], line 1\u001b[0m\n\u001b[1;32m----> 1\u001b[0m \u001b[38;5;28;01mfrom\u001b[39;00m\u001b[38;5;250m \u001b[39m\u001b[38;5;21;01mqiskit_ibm_runtime\u001b[39;00m\u001b[38;5;250m \u001b[39m\u001b[38;5;28;01mimport\u001b[39;00m QiskitRuntimeService\n\u001b[0;32m      2\u001b[0m service \u001b[38;5;241m=\u001b[39m QiskitRuntimeService()\n\u001b[0;32m      3\u001b[0m \u001b[38;5;28;01mimport\u001b[39;00m\u001b[38;5;250m \u001b[39m\u001b[38;5;21;01mnumpy\u001b[39;00m\u001b[38;5;250m \u001b[39m\u001b[38;5;28;01mas\u001b[39;00m\u001b[38;5;250m \u001b[39m\u001b[38;5;21;01mnp\u001b[39;00m\n",
      "File \u001b[1;32mc:\\Users\\julio\\AppData\\Local\\Programs\\Python\\Python313\\Lib\\site-packages\\qiskit_ibm_runtime\\__init__.py:205\u001b[0m\n\u001b[0;32m    202\u001b[0m \u001b[38;5;28;01mimport\u001b[39;00m\u001b[38;5;250m \u001b[39m\u001b[38;5;21;01mlogging\u001b[39;00m\n\u001b[0;32m    203\u001b[0m \u001b[38;5;28;01mimport\u001b[39;00m\u001b[38;5;250m \u001b[39m\u001b[38;5;21;01mwarnings\u001b[39;00m\n\u001b[1;32m--> 205\u001b[0m \u001b[38;5;28;01mfrom\u001b[39;00m\u001b[38;5;250m \u001b[39m\u001b[38;5;21;01m.\u001b[39;00m\u001b[38;5;21;01mqiskit_runtime_service\u001b[39;00m\u001b[38;5;250m \u001b[39m\u001b[38;5;28;01mimport\u001b[39;00m QiskitRuntimeService\n\u001b[0;32m    206\u001b[0m \u001b[38;5;28;01mfrom\u001b[39;00m\u001b[38;5;250m \u001b[39m\u001b[38;5;21;01m.\u001b[39;00m\u001b[38;5;21;01mibm_backend\u001b[39;00m\u001b[38;5;250m \u001b[39m\u001b[38;5;28;01mimport\u001b[39;00m IBMBackend\n\u001b[0;32m    207\u001b[0m \u001b[38;5;28;01mfrom\u001b[39;00m\u001b[38;5;250m \u001b[39m\u001b[38;5;21;01m.\u001b[39;00m\u001b[38;5;21;01mruntime_job\u001b[39;00m\u001b[38;5;250m \u001b[39m\u001b[38;5;28;01mimport\u001b[39;00m RuntimeJob\n",
      "File \u001b[1;32mc:\\Users\\julio\\AppData\\Local\\Programs\\Python\\Python313\\Lib\\site-packages\\qiskit_ibm_runtime\\qiskit_runtime_service.py:26\u001b[0m\n\u001b[0;32m     23\u001b[0m \u001b[38;5;28;01mfrom\u001b[39;00m\u001b[38;5;250m \u001b[39m\u001b[38;5;21;01mqiskit\u001b[39;00m\u001b[38;5;21;01m.\u001b[39;00m\u001b[38;5;21;01mproviders\u001b[39;00m\u001b[38;5;21;01m.\u001b[39;00m\u001b[38;5;21;01mexceptions\u001b[39;00m\u001b[38;5;250m \u001b[39m\u001b[38;5;28;01mimport\u001b[39;00m QiskitBackendNotFoundError\n\u001b[0;32m     24\u001b[0m \u001b[38;5;28;01mfrom\u001b[39;00m\u001b[38;5;250m \u001b[39m\u001b[38;5;21;01mqiskit\u001b[39;00m\u001b[38;5;21;01m.\u001b[39;00m\u001b[38;5;21;01mproviders\u001b[39;00m\u001b[38;5;21;01m.\u001b[39;00m\u001b[38;5;21;01mproviderutils\u001b[39;00m\u001b[38;5;250m \u001b[39m\u001b[38;5;28;01mimport\u001b[39;00m filter_backends\n\u001b[1;32m---> 26\u001b[0m \u001b[38;5;28;01mfrom\u001b[39;00m\u001b[38;5;250m \u001b[39m\u001b[38;5;21;01mqiskit_ibm_runtime\u001b[39;00m\u001b[38;5;250m \u001b[39m\u001b[38;5;28;01mimport\u001b[39;00m ibm_backend\n\u001b[0;32m     27\u001b[0m \u001b[38;5;28;01mfrom\u001b[39;00m\u001b[38;5;250m \u001b[39m\u001b[38;5;21;01m.\u001b[39;00m\u001b[38;5;21;01mproxies\u001b[39;00m\u001b[38;5;250m \u001b[39m\u001b[38;5;28;01mimport\u001b[39;00m ProxyConfiguration\n\u001b[0;32m     28\u001b[0m \u001b[38;5;28;01mfrom\u001b[39;00m\u001b[38;5;250m \u001b[39m\u001b[38;5;21;01m.\u001b[39;00m\u001b[38;5;21;01mutils\u001b[39;00m\u001b[38;5;21;01m.\u001b[39;00m\u001b[38;5;21;01mhgp\u001b[39;00m\u001b[38;5;250m \u001b[39m\u001b[38;5;28;01mimport\u001b[39;00m to_instance_format, from_instance_format\n",
      "File \u001b[1;32mc:\\Users\\julio\\AppData\\Local\\Programs\\Python\\Python313\\Lib\\site-packages\\qiskit_ibm_runtime\\ibm_backend.py:36\u001b[0m\n\u001b[0;32m     26\u001b[0m \u001b[38;5;28;01mfrom\u001b[39;00m\u001b[38;5;250m \u001b[39m\u001b[38;5;21;01m.\u001b[39;00m\u001b[38;5;21;01mmodels\u001b[39;00m\u001b[38;5;250m \u001b[39m\u001b[38;5;28;01mimport\u001b[39;00m (\n\u001b[0;32m     27\u001b[0m     BackendStatus,\n\u001b[0;32m     28\u001b[0m     BackendProperties,\n\u001b[1;32m   (...)\u001b[0m\n\u001b[0;32m     31\u001b[0m     QasmBackendConfiguration,\n\u001b[0;32m     32\u001b[0m )\n\u001b[0;32m     34\u001b[0m \u001b[38;5;28;01mfrom\u001b[39;00m\u001b[38;5;250m \u001b[39m\u001b[38;5;21;01m.\u001b[39;00m\u001b[38;5;250m \u001b[39m\u001b[38;5;28;01mimport\u001b[39;00m qiskit_runtime_service  \u001b[38;5;66;03m# pylint: disable=unused-import,cyclic-import\u001b[39;00m\n\u001b[1;32m---> 36\u001b[0m \u001b[38;5;28;01mfrom\u001b[39;00m\u001b[38;5;250m \u001b[39m\u001b[38;5;21;01m.\u001b[39;00m\u001b[38;5;21;01mapi\u001b[39;00m\u001b[38;5;21;01m.\u001b[39;00m\u001b[38;5;21;01mclients\u001b[39;00m\u001b[38;5;250m \u001b[39m\u001b[38;5;28;01mimport\u001b[39;00m RuntimeClient\n\u001b[0;32m     37\u001b[0m \u001b[38;5;28;01mfrom\u001b[39;00m\u001b[38;5;250m \u001b[39m\u001b[38;5;21;01m.\u001b[39;00m\u001b[38;5;21;01mexceptions\u001b[39;00m\u001b[38;5;250m \u001b[39m\u001b[38;5;28;01mimport\u001b[39;00m (\n\u001b[0;32m     38\u001b[0m     IBMBackendApiProtocolError,\n\u001b[0;32m     39\u001b[0m     IBMBackendValueError,\n\u001b[0;32m     40\u001b[0m     IBMBackendError,\n\u001b[0;32m     41\u001b[0m )\n\u001b[0;32m     42\u001b[0m \u001b[38;5;28;01mfrom\u001b[39;00m\u001b[38;5;250m \u001b[39m\u001b[38;5;21;01m.\u001b[39;00m\u001b[38;5;21;01mutils\u001b[39;00m\u001b[38;5;21;01m.\u001b[39;00m\u001b[38;5;21;01mbackend_converter\u001b[39;00m\u001b[38;5;250m \u001b[39m\u001b[38;5;28;01mimport\u001b[39;00m convert_to_target\n",
      "File \u001b[1;32mc:\\Users\\julio\\AppData\\Local\\Programs\\Python\\Python313\\Lib\\site-packages\\qiskit_ibm_runtime\\api\\clients\\__init__.py:15\u001b[0m\n\u001b[0;32m      1\u001b[0m \u001b[38;5;66;03m# This code is part of Qiskit.\u001b[39;00m\n\u001b[0;32m      2\u001b[0m \u001b[38;5;66;03m#\u001b[39;00m\n\u001b[0;32m      3\u001b[0m \u001b[38;5;66;03m# (C) Copyright IBM 2021.\u001b[39;00m\n\u001b[1;32m   (...)\u001b[0m\n\u001b[0;32m     10\u001b[0m \u001b[38;5;66;03m# copyright notice, and modified files need to carry a notice indicating\u001b[39;00m\n\u001b[0;32m     11\u001b[0m \u001b[38;5;66;03m# that they have been altered from the originals.\u001b[39;00m\n\u001b[0;32m     13\u001b[0m \u001b[38;5;124;03m\"\"\"IBM Quantum API clients.\"\"\"\u001b[39;00m\n\u001b[1;32m---> 15\u001b[0m \u001b[38;5;28;01mfrom\u001b[39;00m\u001b[38;5;250m \u001b[39m\u001b[38;5;21;01m.\u001b[39;00m\u001b[38;5;21;01mauth\u001b[39;00m\u001b[38;5;250m \u001b[39m\u001b[38;5;28;01mimport\u001b[39;00m AuthClient\n\u001b[0;32m     16\u001b[0m \u001b[38;5;28;01mfrom\u001b[39;00m\u001b[38;5;250m \u001b[39m\u001b[38;5;21;01m.\u001b[39;00m\u001b[38;5;21;01mversion\u001b[39;00m\u001b[38;5;250m \u001b[39m\u001b[38;5;28;01mimport\u001b[39;00m VersionClient\n\u001b[0;32m     17\u001b[0m \u001b[38;5;28;01mfrom\u001b[39;00m\u001b[38;5;250m \u001b[39m\u001b[38;5;21;01m.\u001b[39;00m\u001b[38;5;21;01mruntime\u001b[39;00m\u001b[38;5;250m \u001b[39m\u001b[38;5;28;01mimport\u001b[39;00m RuntimeClient\n",
      "File \u001b[1;32mc:\\Users\\julio\\AppData\\Local\\Programs\\Python\\Python313\\Lib\\site-packages\\qiskit_ibm_runtime\\api\\clients\\auth.py:18\u001b[0m\n\u001b[0;32m     15\u001b[0m \u001b[38;5;28;01mfrom\u001b[39;00m\u001b[38;5;250m \u001b[39m\u001b[38;5;21;01mtyping\u001b[39;00m\u001b[38;5;250m \u001b[39m\u001b[38;5;28;01mimport\u001b[39;00m Dict, List, Optional, Any, Union\n\u001b[0;32m     16\u001b[0m \u001b[38;5;28;01mfrom\u001b[39;00m\u001b[38;5;250m \u001b[39m\u001b[38;5;21;01mrequests\u001b[39;00m\u001b[38;5;21;01m.\u001b[39;00m\u001b[38;5;21;01mexceptions\u001b[39;00m\u001b[38;5;250m \u001b[39m\u001b[38;5;28;01mimport\u001b[39;00m RequestException\n\u001b[1;32m---> 18\u001b[0m \u001b[38;5;28;01mfrom\u001b[39;00m\u001b[38;5;250m \u001b[39m\u001b[38;5;21;01m.\u001b[39;00m\u001b[38;5;21;01m.\u001b[39;00m\u001b[38;5;21;01mauth\u001b[39;00m\u001b[38;5;250m \u001b[39m\u001b[38;5;28;01mimport\u001b[39;00m QuantumAuth\n\u001b[0;32m     19\u001b[0m \u001b[38;5;28;01mfrom\u001b[39;00m\u001b[38;5;250m \u001b[39m\u001b[38;5;21;01m.\u001b[39;00m\u001b[38;5;21;01m.\u001b[39;00m\u001b[38;5;21;01mexceptions\u001b[39;00m\u001b[38;5;250m \u001b[39m\u001b[38;5;28;01mimport\u001b[39;00m AuthenticationLicenseError, RequestsApiError\n\u001b[0;32m     20\u001b[0m \u001b[38;5;28;01mfrom\u001b[39;00m\u001b[38;5;250m \u001b[39m\u001b[38;5;21;01m.\u001b[39;00m\u001b[38;5;21;01m.\u001b[39;00m\u001b[38;5;21;01mrest\u001b[39;00m\u001b[38;5;250m \u001b[39m\u001b[38;5;28;01mimport\u001b[39;00m Api\n",
      "File \u001b[1;32mc:\\Users\\julio\\AppData\\Local\\Programs\\Python\\Python313\\Lib\\site-packages\\qiskit_ibm_runtime\\api\\auth.py:22\u001b[0m\n\u001b[0;32m     19\u001b[0m \u001b[38;5;28;01mfrom\u001b[39;00m\u001b[38;5;250m \u001b[39m\u001b[38;5;21;01mrequests\u001b[39;00m\u001b[38;5;21;01m.\u001b[39;00m\u001b[38;5;21;01mauth\u001b[39;00m\u001b[38;5;250m \u001b[39m\u001b[38;5;28;01mimport\u001b[39;00m AuthBase\n\u001b[0;32m     21\u001b[0m \u001b[38;5;28;01mfrom\u001b[39;00m\u001b[38;5;250m \u001b[39m\u001b[38;5;21;01mibm_cloud_sdk_core\u001b[39;00m\u001b[38;5;250m \u001b[39m\u001b[38;5;28;01mimport\u001b[39;00m IAMTokenManager\n\u001b[1;32m---> 22\u001b[0m \u001b[38;5;28;01mfrom\u001b[39;00m\u001b[38;5;250m \u001b[39m\u001b[38;5;21;01m.\u001b[39;00m\u001b[38;5;21;01m.\u001b[39;00m\u001b[38;5;21;01mutils\u001b[39;00m\u001b[38;5;21;01m.\u001b[39;00m\u001b[38;5;21;01mutils\u001b[39;00m\u001b[38;5;250m \u001b[39m\u001b[38;5;28;01mimport\u001b[39;00m cname_from_crn\n\u001b[0;32m     24\u001b[0m CLOUD_IAM_URL \u001b[38;5;241m=\u001b[39m \u001b[38;5;124m\"\u001b[39m\u001b[38;5;124miam.cloud.ibm.com\u001b[39m\u001b[38;5;124m\"\u001b[39m\n\u001b[0;32m     25\u001b[0m STAGING_CLOUD_IAM_URL \u001b[38;5;241m=\u001b[39m \u001b[38;5;124m\"\u001b[39m\u001b[38;5;124miam.test.cloud.ibm.com\u001b[39m\u001b[38;5;124m\"\u001b[39m\n",
      "File \u001b[1;32mc:\\Users\\julio\\AppData\\Local\\Programs\\Python\\Python313\\Lib\\site-packages\\qiskit_ibm_runtime\\utils\\__init__.py:38\u001b[0m\n\u001b[0;32m     22\u001b[0m \u001b[38;5;28;01mfrom\u001b[39;00m\u001b[38;5;250m \u001b[39m\u001b[38;5;21;01m.\u001b[39;00m\u001b[38;5;21;01mutils\u001b[39;00m\u001b[38;5;250m \u001b[39m\u001b[38;5;28;01mimport\u001b[39;00m (\n\u001b[0;32m     23\u001b[0m     to_python_identifier,\n\u001b[0;32m     24\u001b[0m     is_crn,\n\u001b[1;32m   (...)\u001b[0m\n\u001b[0;32m     27\u001b[0m     are_circuits_dynamic,\n\u001b[0;32m     28\u001b[0m )\n\u001b[0;32m     29\u001b[0m \u001b[38;5;28;01mfrom\u001b[39;00m\u001b[38;5;250m \u001b[39m\u001b[38;5;21;01m.\u001b[39;00m\u001b[38;5;21;01mvalidations\u001b[39;00m\u001b[38;5;250m \u001b[39m\u001b[38;5;28;01mimport\u001b[39;00m (\n\u001b[0;32m     30\u001b[0m     validate_estimator_pubs,\n\u001b[0;32m     31\u001b[0m     validate_classical_registers,\n\u001b[1;32m   (...)\u001b[0m\n\u001b[0;32m     35\u001b[0m     validate_rzz_pubs,\n\u001b[0;32m     36\u001b[0m )\n\u001b[1;32m---> 38\u001b[0m \u001b[38;5;28;01mfrom\u001b[39;00m\u001b[38;5;250m \u001b[39m\u001b[38;5;21;01m.\u001b[39;00m\u001b[38;5;21;01mjson\u001b[39;00m\u001b[38;5;250m \u001b[39m\u001b[38;5;28;01mimport\u001b[39;00m RuntimeEncoder, RuntimeDecoder, to_base64_string\n",
      "File \u001b[1;32mc:\\Users\\julio\\AppData\\Local\\Programs\\Python\\Python313\\Lib\\site-packages\\qiskit_ibm_runtime\\utils\\json.py:33\u001b[0m\n\u001b[0;32m     30\u001b[0m \u001b[38;5;28;01mimport\u001b[39;00m\u001b[38;5;250m \u001b[39m\u001b[38;5;21;01mnumpy\u001b[39;00m\u001b[38;5;250m \u001b[39m\u001b[38;5;28;01mas\u001b[39;00m\u001b[38;5;250m \u001b[39m\u001b[38;5;21;01mnp\u001b[39;00m\n\u001b[0;32m     32\u001b[0m \u001b[38;5;28;01mtry\u001b[39;00m:\n\u001b[1;32m---> 33\u001b[0m     \u001b[38;5;28;01mimport\u001b[39;00m\u001b[38;5;250m \u001b[39m\u001b[38;5;21;01mscipy\u001b[39;00m\u001b[38;5;21;01m.\u001b[39;00m\u001b[38;5;21;01msparse\u001b[39;00m\n\u001b[0;32m     35\u001b[0m     HAS_SCIPY \u001b[38;5;241m=\u001b[39m \u001b[38;5;28;01mTrue\u001b[39;00m\n\u001b[0;32m     36\u001b[0m \u001b[38;5;28;01mexcept\u001b[39;00m \u001b[38;5;167;01mImportError\u001b[39;00m:\n",
      "File \u001b[1;32mc:\\Users\\julio\\AppData\\Local\\Programs\\Python\\Python313\\Lib\\site-packages\\scipy\\sparse\\__init__.py:302\u001b[0m\n\u001b[0;32m    300\u001b[0m \u001b[38;5;28;01mfrom\u001b[39;00m\u001b[38;5;250m \u001b[39m\u001b[38;5;21;01m.\u001b[39;00m\u001b[38;5;21;01m_base\u001b[39;00m\u001b[38;5;250m \u001b[39m\u001b[38;5;28;01mimport\u001b[39;00m \u001b[38;5;241m*\u001b[39m\n\u001b[0;32m    301\u001b[0m \u001b[38;5;28;01mfrom\u001b[39;00m\u001b[38;5;250m \u001b[39m\u001b[38;5;21;01m.\u001b[39;00m\u001b[38;5;21;01m_csr\u001b[39;00m\u001b[38;5;250m \u001b[39m\u001b[38;5;28;01mimport\u001b[39;00m \u001b[38;5;241m*\u001b[39m\n\u001b[1;32m--> 302\u001b[0m \u001b[38;5;28;01mfrom\u001b[39;00m\u001b[38;5;250m \u001b[39m\u001b[38;5;21;01m.\u001b[39;00m\u001b[38;5;21;01m_csc\u001b[39;00m\u001b[38;5;250m \u001b[39m\u001b[38;5;28;01mimport\u001b[39;00m \u001b[38;5;241m*\u001b[39m\n\u001b[0;32m    303\u001b[0m \u001b[38;5;28;01mfrom\u001b[39;00m\u001b[38;5;250m \u001b[39m\u001b[38;5;21;01m.\u001b[39;00m\u001b[38;5;21;01m_lil\u001b[39;00m\u001b[38;5;250m \u001b[39m\u001b[38;5;28;01mimport\u001b[39;00m \u001b[38;5;241m*\u001b[39m\n\u001b[0;32m    304\u001b[0m \u001b[38;5;28;01mfrom\u001b[39;00m\u001b[38;5;250m \u001b[39m\u001b[38;5;21;01m.\u001b[39;00m\u001b[38;5;21;01m_dok\u001b[39;00m\u001b[38;5;250m \u001b[39m\u001b[38;5;28;01mimport\u001b[39;00m \u001b[38;5;241m*\u001b[39m\n",
      "File \u001b[1;32m<frozen importlib._bootstrap>:1360\u001b[0m, in \u001b[0;36m_find_and_load\u001b[1;34m(name, import_)\u001b[0m\n",
      "File \u001b[1;32m<frozen importlib._bootstrap>:1331\u001b[0m, in \u001b[0;36m_find_and_load_unlocked\u001b[1;34m(name, import_)\u001b[0m\n",
      "File \u001b[1;32m<frozen importlib._bootstrap>:935\u001b[0m, in \u001b[0;36m_load_unlocked\u001b[1;34m(spec)\u001b[0m\n",
      "File \u001b[1;32m<frozen importlib._bootstrap_external>:1022\u001b[0m, in \u001b[0;36mexec_module\u001b[1;34m(self, module)\u001b[0m\n",
      "File \u001b[1;32m<frozen importlib._bootstrap_external>:1118\u001b[0m, in \u001b[0;36mget_code\u001b[1;34m(self, fullname)\u001b[0m\n",
      "File \u001b[1;32m<frozen importlib._bootstrap_external>:1218\u001b[0m, in \u001b[0;36mget_data\u001b[1;34m(self, path)\u001b[0m\n",
      "\u001b[1;31mKeyboardInterrupt\u001b[0m: "
     ]
    }
   ],
   "source": [
    "from qiskit_ibm_runtime import QiskitRuntimeService\n",
    "service = QiskitRuntimeService()\n",
    "import numpy as np"
   ]
  },
  {
   "cell_type": "code",
   "execution_count": null,
   "metadata": {},
   "outputs": [
    {
     "name": "stdout",
     "output_type": "stream",
     "text": [
      "Estimated B = 0.06734072336756258 ± 0.007705112232686821\n"
     ]
    }
   ],
   "source": [
    "# Estimator\n",
    "jobT = service.job('d0thosemu1ms73d6kbbg')\n",
    "result = jobT.result()[0]\n",
    "exp_value = result.data.evs\n",
    "value_error = result.data.stds\n",
    "\n",
    "# parameters\n",
    "h = 1; k = 0.2;\n",
    "# Energies\n",
    "ene_B = (h**2)/(np.sqrt(h**2+k**2))\n",
    "est_B = exp_value + ene_B\n",
    "\n",
    "print(\"Estimated B =\",est_B,\"±\",value_error)"
   ]
  },
  {
   "cell_type": "code",
   "execution_count": null,
   "metadata": {},
   "outputs": [
    {
     "name": "stdout",
     "output_type": "stream",
     "text": [
      "Estimated V = 0.060464464626439465 ± 0.004580941049401879\n"
     ]
    }
   ],
   "source": [
    "# Estimator\n",
    "jobT = service.job('d0thota4p3dc73f3etdg')\n",
    "result = jobT.result()[0]\n",
    "exp_value = result.data.evs\n",
    "value_error = result.data.stds\n",
    "\n",
    "# parameters\n",
    "h = 1; k = 0.2;\n",
    "\n",
    "# Energies\n",
    "ene_V=(2*k**2)/(np.sqrt(h**2+k**2))\n",
    "est_V = exp_value + ene_V\n",
    "\n",
    "print(\"Estimated V =\",est_V,\"±\",value_error)"
   ]
  },
  {
   "cell_type": "code",
   "execution_count": null,
   "metadata": {},
   "outputs": [
    {
     "name": "stdout",
     "output_type": "stream",
     "text": [
      "Estimated B = 0.18975607950111784 ± 0.01107131471834679\n"
     ]
    }
   ],
   "source": [
    "# Estimator\n",
    "jobT = service.job('d0thou6mu1ms73d6kbdg')\n",
    "result = jobT.result()[0]\n",
    "exp_value = result.data.evs\n",
    "value_error = result.data.stds\n",
    "\n",
    "# parameters\n",
    "h = 1; k = 0.5;\n",
    "\n",
    "# Energies\n",
    "ene_B = (h**2)/(np.sqrt(h**2+k**2))\n",
    "est_B = exp_value + ene_B\n",
    "\n",
    "print(\"Estimated B =\",est_B,\"±\",value_error)"
   ]
  },
  {
   "cell_type": "code",
   "execution_count": null,
   "metadata": {},
   "outputs": [
    {
     "name": "stdout",
     "output_type": "stream",
     "text": [
      "Estimated V = 0.43873888913146775 ± 0.021167043318106007\n"
     ]
    }
   ],
   "source": [
    "# Estimator\n",
    "jobT = service.job('d0thoug7m9ds739had40')\n",
    "result = jobT.result()[0]\n",
    "exp_value = result.data.evs\n",
    "value_error = result.data.stds\n",
    "\n",
    "# parameters\n",
    "h = 1; k = 0.5;\n",
    "\n",
    "# Energies\n",
    "ene_V=(2*k**2)/(np.sqrt(h**2+k**2))\n",
    "est_V = exp_value + ene_V\n",
    "\n",
    "print(\"Estimated V =\",est_V,\"±\",value_error)"
   ]
  },
  {
   "cell_type": "code",
   "execution_count": null,
   "metadata": {},
   "outputs": [
    {
     "name": "stdout",
     "output_type": "stream",
     "text": [
      "Estimated B = 0.19638376369419475 ± 0.014339792533605237\n"
     ]
    }
   ],
   "source": [
    "# Estimator\n",
    "jobT = service.job('d0thova4p3dc73f3etg0')\n",
    "result = jobT.result()[0]\n",
    "exp_value = result.data.evs\n",
    "value_error = result.data.stds\n",
    "\n",
    "# parameters\n",
    "h = 1; k = 1;\n",
    "\n",
    "# Energies\n",
    "ene_B = (h**2)/(np.sqrt(h**2+k**2))\n",
    "est_B = exp_value + ene_B\n",
    "\n",
    "print(\"Estimated B =\",est_B,\"±\",value_error)"
   ]
  },
  {
   "cell_type": "code",
   "execution_count": null,
   "metadata": {},
   "outputs": [
    {
     "name": "stdout",
     "output_type": "stream",
     "text": [
      "Estimated V = 0.3058087026658656 ± 0.02253591104135561\n"
     ]
    }
   ],
   "source": [
    "# Estimator\n",
    "jobT = service.job('d0thp06mu1ms73d6kbgg')\n",
    "result = jobT.result()[0]\n",
    "exp_value = result.data.evs\n",
    "value_error = result.data.stds\n",
    "\n",
    "# parameters\n",
    "h = 1; k = 1;\n",
    "\n",
    "# Energies\n",
    "ene_V=(2*k**2)/(np.sqrt(h**2+k**2))\n",
    "est_V = exp_value + ene_V\n",
    "\n",
    "print(\"Estimated V =\",est_V,\"±\",value_error)"
   ]
  },
  {
   "cell_type": "code",
   "execution_count": null,
   "metadata": {},
   "outputs": [
    {
     "name": "stdout",
     "output_type": "stream",
     "text": [
      "Estimated B = 0.17373510096542688 ± 0.061257194479750456\n"
     ]
    }
   ],
   "source": [
    "# Estimator\n",
    "jobT = service.job('d0thp0vp51os73b13o70')\n",
    "result = jobT.result()[0]\n",
    "exp_value = result.data.evs\n",
    "value_error = result.data.stds\n",
    "\n",
    "# parameters\n",
    "h = 1.5; k = 1;\n",
    "\n",
    "# Energies\n",
    "ene_B = (h**2)/(np.sqrt(h**2+k**2))\n",
    "est_B = exp_value + ene_B\n",
    "\n",
    "print(\"Estimated B =\",est_B,\"±\",value_error)"
   ]
  },
  {
   "cell_type": "code",
   "execution_count": null,
   "metadata": {},
   "outputs": [
    {
     "name": "stdout",
     "output_type": "stream",
     "text": [
      "Estimated V = 0.2693315593570177 ± 0.13430729521468765\n"
     ]
    }
   ],
   "source": [
    "# Estimator\n",
    "jobT = service.job('d0thp1g7m9ds739had70')\n",
    "result = jobT.result()[0]\n",
    "exp_value = result.data.evs\n",
    "value_error = result.data.stds\n",
    "\n",
    "# parameters\n",
    "h = 1.5; k = 1;\n",
    "\n",
    "# Energies\n",
    "ene_V=(2*k**2)/(np.sqrt(h**2+k**2))\n",
    "est_V = exp_value + ene_V\n",
    "\n",
    "print(\"Estimated V =\",est_V,\"±\",value_error)"
   ]
  },
  {
   "cell_type": "code",
   "execution_count": null,
   "metadata": {},
   "outputs": [
    {
     "name": "stdout",
     "output_type": "stream",
     "text": [
      "Estimated B = 0.1076891495347343 ± 0.059108660449645564\n"
     ]
    }
   ],
   "source": [
    "# Estimator\n",
    "jobT = service.job('d0thp224p3dc73f3etjg')\n",
    "result = jobT.result()[0]\n",
    "exp_value = result.data.evs\n",
    "value_error = result.data.stds\n",
    "\n",
    "# parameters\n",
    "h = 1; k = 1.5;\n",
    "\n",
    "# Energies\n",
    "ene_B = (h**2)/(np.sqrt(h**2+k**2))\n",
    "est_B = exp_value + ene_B\n",
    "\n",
    "print(\"Estimated B =\",est_B,\"±\",value_error)"
   ]
  },
  {
   "cell_type": "code",
   "execution_count": null,
   "metadata": {},
   "outputs": [],
   "source": [
    "# Estimator\n",
    "jobT = service.job('d0thp2umu1ms73d6kbk0')\n",
    "result = jobT.result()[0]\n",
    "exp_value = result.data.evs\n",
    "value_error = result.data.stds\n",
    "\n",
    "# parameters\n",
    "h = 1; k = 1.5;\n",
    "\n",
    "# Energies\n",
    "ene_V=(2*k**2)/(np.sqrt(h**2+k**2))\n",
    "est_V = exp_value + ene_V\n",
    "\n",
    "print(\"Estimated V =\",est_V,\"±\",value_error)"
   ]
  },
  {
   "cell_type": "code",
   "execution_count": null,
   "metadata": {},
   "outputs": [],
   "source": [
    "Long distance\n",
    "\n",
    "Estimator H ID = d0qkh0iq9bic73baha80 h = 1 k = 0.2\n",
    "Estimator V ID = d0qkh1aq9bic73baha9g h = 1 k = 0.2\n",
    "Estimator H ID = d0qkh20hmjts73cre2mg h = 1 k = 0.5\n",
    "Estimator V ID = d0qkh2ghmjts73cre2n0 h = 1 k = 0.5\n",
    "Estimator H ID = d0qkh3775hms73dvlrlg h = 1 k = 1\n",
    "Estimator V ID = d0qkh3ghmjts73cre2og h = 1 k = 1\n",
    "Estimator H ID = d0qkh4775hms73dvlrmg h = 1.5 k = 1\n",
    "Estimator V ID = d0qkh4iq9bic73bahaeg h = 1.5 k = 1\n",
    "Estimator H ID = d0qkh5775hms73dvlrp0 h = 1 k = 1.5\n",
    "Estimator V ID = d0qkh5g15afs73cmd8j0 h = 1 k = 1.5"
   ]
  },
  {
   "cell_type": "code",
   "execution_count": null,
   "metadata": {},
   "outputs": [
    {
     "name": "stdout",
     "output_type": "stream",
     "text": [
      "Estimated B = 0.30134506243654746 ± 0.014280920294992722\n"
     ]
    }
   ],
   "source": [
    "Long distance\n",
    "\n",
    "Circuit H ID = d0t7fdq4p3dc73f34ivg h = 1 k = 0.2\n",
    "Circuit V ID = d0t7fe6mu1ms73d69uug h = 1 k = 0.2\n",
    "Circuit H ID = d0t7fenp51os73b0pe10 h = 1 k = 0.5\n",
    "Circuit V ID = d0t7feq4p3dc73f34j20 h = 1 k = 0.5\n",
    "Circuit H ID = d0t7fffp51os73b0pe2g h = 1 k = 1\n",
    "Circuit V ID = d0t7ffg7m9ds739h0240 h = 1 k = 1\n",
    "Circuit H ID = d0t7ffo7m9ds739h0250 h = 1.5 k = 1\n",
    "Circuit V ID = d0t7fga4p3dc73f34j3g h = 1.5 k = 1\n",
    "Circuit H ID = d0t7fgi4p3dc73f34j40 h = 1 k = 1.5\n",
    "Circuit V ID = d0t7fgvp51os73b0pe40 h = 1 k = 1.5"
   ]
  },
  {
   "cell_type": "code",
   "execution_count": null,
   "metadata": {},
   "outputs": [],
   "source": [
    "Sampler H ID = d0rmj1emu1ms73d4nm50 h = 1 k = 0.2\n",
    "Sampler V ID = d0rmj1mmu1ms73d4nm5g h = 1 k = 0.2\n",
    "Sampler H ID = d0rmj1q4p3dc73f1ib0g h = 1 k = 0.5\n",
    "Sampler V ID = d0rmj2emu1ms73d4nm6g h = 1 k = 0.5\n",
    "Sampler H ID = d0rmj2g7m9ds739fdo80 h = 1 k = 1\n",
    "Sampler V ID = d0rmj2umu1ms73d4nm90 h = 1 k = 1\n",
    "Sampler H ID = d0rmj3fp51os73av76e0 h = 1.5 k = 1\n",
    "Sampler V ID = d0rmj3np51os73av76fg h = 1.5 k = 1\n",
    "Sampler H ID = d0rmj3q4p3dc73f1ib50 h = 1 k = 1.5\n",
    "Sampler V ID = d0rmj4fp51os73av76h0 h = 1 k = 1.5"
   ]
  },
  {
   "cell_type": "code",
   "execution_count": null,
   "metadata": {},
   "outputs": [],
   "source": [
    "# Com ajuste\n",
    "\n",
    "Estimator H, ID = d0rnqm87m9ds739ff1gg, h = 1 k = 0.2\n",
    "Estimator V, ID = d0rnqn6mu1ms73d4ovf0, h = 1 k = 0.2\n",
    "Estimator H, ID = d0rnqnvp51os73av8flg, h = 1 k = 0.5\n",
    "Estimator V, ID = d0rnqofp51os73av8fmg, h = 1 k = 0.5\n",
    "Estimator H, ID = d0rnqp6mu1ms73d4ovhg, h = 1 k = 1\n",
    "Estimator V, ID = d0rnqpq4p3dc73f1jk0g, h = 1 k = 1\n",
    "Estimator H, ID = d0rnqq87m9ds739ff1kg, h = 1.5 k = 1\n",
    "Estimator V, ID = d0rnqr7p51os73av8fp0, h = 1.5 k = 1\n",
    "Estimator H, ID = d0rnqrvp51os73av8frg, h = 1 k = 1.5\n",
    "Estimator V, ID = d0rnqsfp51os73av8fsg, h = 1 k = 1.5"
   ]
  },
  {
   "cell_type": "code",
   "execution_count": null,
   "metadata": {},
   "outputs": [],
   "source": [
    "# Sem ajuste\n",
    "\n",
    "Estimator H, ID = d0thosemu1ms73d6kbbg, h = 1 k = 0.2\n",
    "Estimator V, ID = d0thota4p3dc73f3etdg, h = 1 k = 0.2\n",
    "Estimator H, ID = d0thou6mu1ms73d6kbdg, h = 1 k = 0.5\n",
    "Estimator V, ID = d0thoug7m9ds739had40, h = 1 k = 0.5\n",
    "Estimator H, ID = d0thova4p3dc73f3etg0, h = 1 k = 1\n",
    "Estimator V, ID = d0thp06mu1ms73d6kbgg, h = 1 k = 1\n",
    "Estimator H, ID = d0thp0vp51os73b13o70, h = 1.5 k = 1\n",
    "Estimator V, ID = d0thp1g7m9ds739had70, h = 1.5 k = 1\n",
    "Estimator H, ID = d0thp224p3dc73f3etjg, h = 1 k = 1.5\n",
    "Estimator V, ID = d0thp2umu1ms73d6kbk0, h = 1 k = 1.5"
   ]
  },
  {
   "cell_type": "code",
   "execution_count": null,
   "metadata": {},
   "outputs": [
    {
     "name": "stdout",
     "output_type": "stream",
     "text": [
      "Estimated V = -0.3273152646947264 ± 0.025889561482026115\n",
      "Estimated A = 0.9845171411477875 ± 0.022563204477386127\n",
      "Estimated B = 0.09503719944433842 ± 0.014426232160133987\n"
     ]
    }
   ],
   "source": [
    "\n",
    "jobV = service.job('d0thd6umu1ms73d6jvqg')\n",
    "result = jobV.result()[0]\n",
    "exp_value_V = result.data.evs\n",
    "value_error_V = result.data.stds\n",
    "\n",
    "jobA = service.job('d0thd7i4p3dc73f3ehqg')\n",
    "result = jobA.result()[0]\n",
    "exp_value_A = result.data.evs\n",
    "value_error_A = result.data.stds\n",
    "\n",
    "jobB = service.job('d0thd624p3dc73f3ehog')\n",
    "result = jobB.result()[0]\n",
    "exp_value_B = result.data.evs\n",
    "value_error_B = result.data.stds\n",
    "\n",
    "# parameters\n",
    "h = 1; k = 0.2;\n",
    "\n",
    "# Energies\n",
    "ene_A = (h**2)/(np.sqrt(h**2+k**2))\n",
    "ene_B = (h**2)/(np.sqrt(h**2+k**2))\n",
    "est_B = exp_value_B + ene_B\n",
    "est_A = exp_value_A + ene_A\n",
    "ene_V=(2*k**2)/(np.sqrt(h**2+k**2))\n",
    "est_V = exp_value + ene_V\n",
    "\n",
    "\n",
    "# Print results\n",
    "print(\"Estimated V =\",est_V,\"±\",value_error_V)\n",
    "print(\"Estimated A =\",est_A,\"±\",value_error_A)\n",
    "print(\"Estimated B =\",est_B,\"±\",value_error_B)"
   ]
  },
  {
   "cell_type": "code",
   "execution_count": null,
   "metadata": {},
   "outputs": [
    {
     "name": "stdout",
     "output_type": "stream",
     "text": [
      "Estimated V = -0.3273152646947264 ± 0.10932434790842684\n",
      "Estimated A = 0.17863564523084463 ± 0.5083072890948757\n",
      "Estimated B = 0.11080622276287821 ± 0.05942642048465497\n"
     ]
    }
   ],
   "source": [
    "jobV = service.job('d0thkho7m9ds739ha8tg')\n",
    "result = jobV.result()[0]\n",
    "exp_value_V = result.data.evs\n",
    "value_error_V = result.data.stds\n",
    "\n",
    "jobA = service.job('d0thkii4p3dc73f3ep6g')\n",
    "result = jobA.result()[0]\n",
    "exp_value_A = result.data.evs\n",
    "value_error_A = result.data.stds\n",
    "\n",
    "jobB = service.job('d0thkh6mu1ms73d6k6v0')\n",
    "result = jobB.result()[0]\n",
    "exp_value_B = result.data.evs\n",
    "value_error_B = result.data.stds\n",
    "\n",
    "# parameters\n",
    "h = 1; k = 0.2;\n",
    "\n",
    "# Energies\n",
    "ene_A = (h**2)/(np.sqrt(h**2+k**2))\n",
    "ene_B = (h**2)/(np.sqrt(h**2+k**2))\n",
    "est_B = exp_value_B + ene_B\n",
    "est_A = exp_value_A + ene_A\n",
    "ene_V=(2*k**2)/(np.sqrt(h**2+k**2))\n",
    "est_V = exp_value + ene_V\n",
    "\n",
    "\n",
    "# Print results\n",
    "print(\"Estimated V =\",est_V,\"±\",value_error_V)\n",
    "print(\"Estimated A =\",est_A,\"±\",value_error_A)\n",
    "print(\"Estimated B =\",est_B,\"±\",value_error_B)"
   ]
  },
  {
   "cell_type": "code",
   "execution_count": null,
   "metadata": {},
   "outputs": [],
   "source": [
    "  from qiskit_ibm_runtime import QiskitRuntimeService\n",
    "  service = QiskitRuntimeService.save_account(\n",
    "    token=\"9c82ca92e18726f8b6c119f2b2ab25fa97e2821a8d7b9ab34538bff7dd8b499acaea42414972ebf09092cb2b4b3cde2a1a2abe2a6f1f7ee31b449dc29b545812\", # Your token is confidential.\n",
    "    # Do not share your key in public code.\n",
    "    channel='ibm_quantum',\n",
    "    set_as_default=True, # Optionally set these as your default credentials.\n",
    "    overwrite=True\n",
    "  )"
   ]
  },
  {
   "cell_type": "code",
   "execution_count": 9,
   "metadata": {},
   "outputs": [
    {
     "data": {
      "image/png": "[encoded data removed]",
      "text/plain": [
       "<Figure size 1040x451.5 with 1 Axes>"
      ]
     },
     "metadata": {},
     "output_type": "display_data"
    },
    {
     "data": {
      "text/plain": [
       "{'1110': 1000}"
      ]
     },
     "execution_count": 9,
     "metadata": {},
     "output_type": "execute_result"
    }
   ],
   "source": [
    "from qiskit_aer import AerSimulator\n",
    "from qiskit import QuantumCircuit, ClassicalRegister\n",
    "\n",
    "qc = QuantumCircuit(4)\n",
    "qr = ClassicalRegister(4)\n",
    "qc.add_register(qr)\n",
    "qc.x(1)\n",
    "qc.measure([0,1],[0,1])\n",
    "with qc.if_test((0,0)):\n",
    "    qc.x(2)\n",
    "with qc.if_test((1,1)):\n",
    "    qc.x(3)\n",
    "qc.measure([2,3],[2,3])\n",
    "qc.barrier()\n",
    "qc.x(0)\n",
    "display(qc.draw('mpl'))\n",
    "AerSimulator().run(qc,shots=1000).result().get_counts()"
   ]
  },
  {
   "cell_type": "code",
   "execution_count": 31,
   "metadata": {},
   "outputs": [
    {
     "data": {
      "text/plain": [
       "array([15358225.20571883,  6979428.40125892])"
      ]
     },
     "execution_count": 31,
     "metadata": {},
     "output_type": "execute_result"
    }
   ],
   "source": [
    "from scipy.optimize import minimize\n",
    "import numpy as np\n",
    "def f(X):\n",
    "    h, k = X\n",
    "    phi = np.arctan2(h*k, h**2 + 2*k**2)/2\n",
    "    return -(h*k* np.sin(2*phi) - (h**2+2*k**2) * (1-np.cos(2*phi))) / np.sqrt(h**2 + k**2)\n",
    "\n",
    "#result = minimize(f, [1, 1], method='BFGS')\n",
    "result = minimize(f, [1, 1])\n",
    "max_value = -result.fun  \n",
    "result.x\n"
   ]
  }
 ],
 "metadata": {
  "kernelspec": {
   "display_name": "Python 3",
   "language": "python",
   "name": "python3"
  },
  "language_info": {
   "codemirror_mode": {
    "name": "ipython",
    "version": 3
   },
   "file_extension": ".py",
   "mimetype": "text/x-python",
   "name": "python",
   "nbconvert_exporter": "python",
   "pygments_lexer": "ipython3",
   "version": "3.13.1"
  }
 },
 "nbformat": 4,
 "nbformat_minor": 2
}
