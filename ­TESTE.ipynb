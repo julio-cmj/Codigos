{
 "cells": [
  {
   "cell_type": "code",
   "execution_count": 1,
   "id": "604a9110",
   "metadata": {},
   "outputs": [
    {
     "ename": "NameError",
     "evalue": "name 'np' is not defined",
     "output_type": "error",
     "traceback": [
      "\u001b[1;31m---------------------------------------------------------------------------\u001b[0m",
      "\u001b[1;31mNameError\u001b[0m                                 Traceback (most recent call last)",
      "Cell \u001b[1;32mIn[1], line 1\u001b[0m\n\u001b[1;32m----> 1\u001b[0m ket_00 \u001b[38;5;241m=\u001b[39m \u001b[43mnp\u001b[49m\u001b[38;5;241m.\u001b[39marray(Statevector\u001b[38;5;241m.\u001b[39mfrom_label(\u001b[38;5;124m'\u001b[39m\u001b[38;5;124m00\u001b[39m\u001b[38;5;124m'\u001b[39m)) \u001b[38;5;241m*\u001b[39m \u001b[38;5;241m2\u001b[39m\n\u001b[0;32m      2\u001b[0m ket_11 \u001b[38;5;241m=\u001b[39m np\u001b[38;5;241m.\u001b[39marray(Statevector\u001b[38;5;241m.\u001b[39mfrom_label(\u001b[38;5;124m'\u001b[39m\u001b[38;5;124m11\u001b[39m\u001b[38;5;124m'\u001b[39m)) \u001b[38;5;241m*\u001b[39m \u001b[38;5;241m3\u001b[39m\n\u001b[0;32m      3\u001b[0m z \u001b[38;5;241m=\u001b[39m Operator\u001b[38;5;241m.\u001b[39mfrom_label(\u001b[38;5;124m'\u001b[39m\u001b[38;5;124mXX\u001b[39m\u001b[38;5;124m'\u001b[39m)\n",
      "\u001b[1;31mNameError\u001b[0m: name 'np' is not defined"
     ]
    }
   ],
   "source": [
    "ket_00 = np.array(Statevector.from_label('00')) * 2\n",
    "ket_11 = np.array(Statevector.from_label('11')) * 3\n",
    "z = Operator.from_label('XX')\n",
    "ket_g = ket_00 - ket_11\n",
    "z.draw('latex')\n",
    "#ket_g.conj().T @ z @ ket_g"
   ]
  },
  {
   "cell_type": "code",
   "execution_count": null,
   "id": "a00d76fa",
   "metadata": {},
   "outputs": [
    {
     "data": {
      "text/plain": [
       "-0.007891838926010617"
      ]
     },
     "execution_count": 32,
     "metadata": {},
     "output_type": "execute_result"
    }
   ],
   "source": [
    "h_A = 1\n",
    "h_B = 0.01\n",
    "k = 0.393\n",
    "\n",
    "t = 2*k/(np.sqrt((h_A + h_B)**2+4*k**2) + h_A + h_B)\n",
    "\n",
    "f = (t**2-1)/(t**2+1)\n",
    "\n",
    "f*h_B"
   ]
  },
  {
   "cell_type": "code",
   "execution_count": 4,
   "id": "3e31aba9",
   "metadata": {},
   "outputs": [
    {
     "data": {
      "image/png": "[encoded data removed]",
      "text/plain": [
       "<Figure size 203.885x284.278 with 1 Axes>"
      ]
     },
     "metadata": {},
     "output_type": "display_data"
    },
    {
     "data": {
      "text/latex": [
       "$$\n",
       "\n",
       "\\begin{bmatrix}\n",
       "\\frac{\\sqrt{3}}{2} & 0 & 0 & 0 & - \\frac{1}{2} & 0 & 0 & 0  \\\\\n",
       " 0 & \\frac{\\sqrt{3}}{2} & 0 & 0 & 0 & - \\frac{1}{2} & 0 & 0  \\\\\n",
       " 0 & 0 & \\frac{\\sqrt{3}}{2} & 0 & 0 & 0 & - \\frac{1}{2} & 0  \\\\\n",
       " 0 & 0 & 0 & \\frac{\\sqrt{3}}{2} & 0 & 0 & 0 & - \\frac{1}{2}  \\\\\n",
       " \\frac{1}{2} & 0 & 0 & 0 & \\frac{\\sqrt{3}}{2} & 0 & 0 & 0  \\\\\n",
       " 0 & \\frac{1}{2} & 0 & 0 & 0 & \\frac{\\sqrt{3}}{2} & 0 & 0  \\\\\n",
       " 0 & 0 & \\frac{1}{2} & 0 & 0 & 0 & \\frac{\\sqrt{3}}{2} & 0  \\\\\n",
       " 0 & 0 & 0 & \\frac{1}{2} & 0 & 0 & 0 & \\frac{\\sqrt{3}}{2}  \\\\\n",
       " \\end{bmatrix}\n",
       "$$"
      ],
      "text/plain": [
       "<IPython.core.display.Latex object>"
      ]
     },
     "execution_count": 4,
     "metadata": {},
     "output_type": "execute_result"
    }
   ],
   "source": [
    "from qiskit import QuantumCircuit\n",
    "import numpy as np\n",
    "from qiskit.quantum_info import Operator\n",
    "qc = QuantumCircuit(3)\n",
    "qc.ry(np.pi/3, 2)\n",
    "display(qc.draw('mpl'))\n",
    "Operator(qc.to_instruction()).draw('latex')"
   ]
  },
  {
   "cell_type": "code",
   "execution_count": 3,
   "id": "e0ce7a50",
   "metadata": {},
   "outputs": [
    {
     "data": {
      "text/latex": [
       "$$\n",
       "\n",
       "\\begin{bmatrix}\n",
       "\\frac{\\sqrt{3}}{2} & 0 & 0 & 0 & - \\frac{1}{2} & 0 & 0 & 0  \\\\\n",
       " 0 & \\frac{\\sqrt{3}}{2} & 0 & 0 & 0 & - \\frac{1}{2} & 0 & 0  \\\\\n",
       " 0 & 0 & \\frac{\\sqrt{3}}{2} & 0 & 0 & 0 & - \\frac{1}{2} & 0  \\\\\n",
       " 0 & 0 & 0 & \\frac{\\sqrt{3}}{2} & 0 & 0 & 0 & - \\frac{1}{2}  \\\\\n",
       " \\frac{1}{2} & 0 & 0 & 0 & \\frac{\\sqrt{3}}{2} & 0 & 0 & 0  \\\\\n",
       " 0 & \\frac{1}{2} & 0 & 0 & 0 & \\frac{\\sqrt{3}}{2} & 0 & 0  \\\\\n",
       " 0 & 0 & \\frac{1}{2} & 0 & 0 & 0 & \\frac{\\sqrt{3}}{2} & 0  \\\\\n",
       " 0 & 0 & 0 & \\frac{1}{2} & 0 & 0 & 0 & \\frac{\\sqrt{3}}{2}  \\\\\n",
       " \\end{bmatrix}\n",
       "$$"
      ],
      "text/plain": [
       "<IPython.core.display.Latex object>"
      ]
     },
     "execution_count": 3,
     "metadata": {},
     "output_type": "execute_result"
    }
   ],
   "source": [
    "from qiskit.quantum_info import Statevector, Operator, DensityMatrix\n",
    "import numpy as np\n",
    "# Parameters\n",
    "h_A = 1; h_B = 0.001; h_C = 0.786; k = 0.393; \n",
    "\n",
    "\n",
    "# Basis\n",
    "ket_0 = np.array([[1], [0]])\n",
    "ket_1 = np.array([[0],[1]])\n",
    "ket_00 = np.kron(ket_0,ket_0)\n",
    "ket_11 = np.kron(ket_1,ket_1)\n",
    "\n",
    "# Operators\n",
    "I = np.array(Operator.from_label('III'))\n",
    "#I = np.array(Operator.from_label('I'))\n",
    "Z_A = np.array(Operator.from_label('ZII')); Z_B = np.array(Operator.from_label('IZI')); Z_C = np.array(Operator.from_label('IIZ'))\n",
    "X_AB = np.array(Operator.from_label('XXI')); X_A = np.array(Operator.from_label('XII'))\n",
    "Y_B = np.array(Operator.from_label('IYI')); Y_C = np.array(Operator.from_label('YII'))\n",
    "Y = np.array(Operator.from_label('Y'))\n",
    "# Ground state\n",
    "theta = np.arctan(np.sqrt((h_A/(2*k) + h_B/(2*k))**2+1)-(h_A/(2*k) + h_B/(2*k)))\n",
    "\n",
    "# Define angle phi\n",
    "phi = np.pi/6\n",
    "# Define operations\n",
    "\n",
    "#def U_1(mi):\n",
    "#    \"\"\"Conditional unitary operation\"\"\"\n",
    "#    Ry = np.cos(phi) * I - 1j*mi*np.sin(phi) * Y\n",
    "#    JJ = np.kron(I, Ry)\n",
    "#    return np.kron(JJ,I)\n",
    "\n",
    "#def U_2(mi):\n",
    "#    \"\"\"Conditional unitary operation\"\"\"\n",
    "#    return np.cos(phi) * np.kron(I,np.kron(I,I)) - 1j*mi*np.sin(phi) * Y_B\n",
    "\n",
    "\n",
    "def U_3(mi):\n",
    "    \"\"\"Conditional unitary operation\"\"\"\n",
    "    return np.cos(phi) * I - 1j*mi*np.sin(phi) * Y_C\n",
    "\n",
    "Operator(U_3(1)).draw('latex')\n"
   ]
  },
  {
   "cell_type": "code",
   "execution_count": null,
   "id": "bdec7e56",
   "metadata": {},
   "outputs": [
    {
     "data": {
      "text/plain": [
       "array([[0.+0.j, 0.-1.j, 0.+0.j, 0.+0.j],\n",
       "       [0.+1.j, 0.+0.j, 0.+0.j, 0.+0.j],\n",
       "       [0.+0.j, 0.+0.j, 0.+0.j, 0.-1.j],\n",
       "       [0.+0.j, 0.+0.j, 0.+1.j, 0.+0.j]])"
      ]
     },
     "execution_count": 66,
     "metadata": {},
     "output_type": "execute_result"
    }
   ],
   "source": [
    "I = np.array(Operator.from_label('I'))\n",
    "np.kron(I,Y)\n"
   ]
  }
 ],
 "metadata": {
  "kernelspec": {
   "display_name": "Python 3",
   "language": "python",
   "name": "python3"
  },
  "language_info": {
   "codemirror_mode": {
    "name": "ipython",
    "version": 3
   },
   "file_extension": ".py",
   "mimetype": "text/x-python",
   "name": "python",
   "nbconvert_exporter": "python",
   "pygments_lexer": "ipython3",
   "version": "3.13.1"
  }
 },
 "nbformat": 4,
 "nbformat_minor": 5
}
