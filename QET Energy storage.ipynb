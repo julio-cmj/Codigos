{
 "cells": [
  {
   "cell_type": "markdown",
   "id": "f5a978b3",
   "metadata": {},
   "source": [
    "## Quantum energy teleportation protocol to storage energy"
   ]
  },
  {
   "cell_type": "markdown",
   "id": "e0192fef",
   "metadata": {},
   "source": [
    "### Import packages"
   ]
  },
  {
   "cell_type": "code",
   "execution_count": 2,
   "id": "53c94edf",
   "metadata": {},
   "outputs": [],
   "source": [
    "import numpy as np\n",
    "from qiskit import QuantumCircuit\n",
    "from qiskit import transpile\n",
    "\n",
    "from qiskit_aer import AerSimulator\n",
    "from qiskit_aer.primitives import SamplerV2 as sampler\n",
    "from qiskit.visualization import plot_histogram"
   ]
  },
  {
   "cell_type": "code",
   "execution_count": null,
   "id": "825c9a7e",
   "metadata": {},
   "outputs": [
    {
     "data": {
      "text/plain": [
       "'Ground State:'"
      ]
     },
     "metadata": {},
     "output_type": "display_data"
    },
    {
     "data": {
      "text/latex": [
       "$$0.9458287088 |000\\rangle-0.3246660649 |011\\rangle$$"
      ],
      "text/plain": [
       "<IPython.core.display.Latex object>"
      ]
     },
     "metadata": {},
     "output_type": "display_data"
    },
    {
     "data": {
      "text/latex": [
       "$$\n",
       "\n",
       "\\begin{bmatrix}\n",
       "0 & 0 & 0 & 0 & 0 & 0 & 0 & 0  \\\\\n",
       " 0 & 0 & 0 & 0 & 0 & 0 & 0 & 0  \\\\\n",
       " 0 & 0 & 0 & 0 & 0 & 0 & 0 & 0  \\\\\n",
       " 0 & 0 & 0 & 0 & 0 & 0 & 0 & 0  \\\\\n",
       " 0 & 0 & 0 & 0 & 0.2531804042 & 0 & 0 & -0.2499797692  \\\\\n",
       " 0 & 0 & 0 & 0 & 0 & 0.2531804042 & -0.2499797692 & 0  \\\\\n",
       " 0 & 0 & 0 & 0 & 0 & -0.2499797692 & 0.2468195958 & 0  \\\\\n",
       " 0 & 0 & 0 & 0 & -0.2499797692 & 0 & 0 & 0.2468195958  \\\\\n",
       " \\end{bmatrix}\n",
       "$$"
      ],
      "text/plain": [
       "<IPython.core.display.Latex object>"
      ]
     },
     "metadata": {},
     "output_type": "display_data"
    },
    {
     "name": "stdout",
     "output_type": "stream",
     "text": [
      "\n",
      "Ground State Energies:\n",
      "<H_A> = [[-8.32667268e-17+0.j]]\n",
      "<H_B> = [[-1.51788304e-18+0.j]]\n",
      "<V> = [[0.+0.j]]\n",
      "            \n",
      "Final Energies:\n",
      "H_A = 0.7891838926010616,\n",
      "H_B = 0.007764622758458546,\n",
      "H_C = 1.572,\n",
      "V = -0.30320901615994295,\n",
      "E_A = 0.48597487644111864,\n",
      "E_B = -0.2954443934014844\n",
      "\n"
     ]
    }
   ],
   "source": [
    "from qiskit.quantum_info import Statevector, Operator\n",
    "\n",
    "# Parameters\n",
    "h_A = 1; h_B = 0.01; h_C = 0.786; k = 0.393; \n",
    "\n",
    "# Basis\n",
    "ket_0 = np.array([[1],[0]])\n",
    "ket_1 = np.array([[0],[1]])\n",
    "ket_00 = np.kron(ket_0,ket_0)\n",
    "ket_11 = np.kron(ket_1,ket_1)\n",
    "\n",
    "# Operators\n",
    "I = Operator.from_label('III').to_matrix()\n",
    "Z_A = Operator.from_label('IIZ').to_matrix(); Z_B = Operator.from_label('IZI').to_matrix(); Z_C = Operator.from_label('ZII').to_matrix()\n",
    "X_AB = Operator.from_label('IXX').to_matrix(); X_A = Operator.from_label('IIX').to_matrix()\n",
    "Y_B = Operator.from_label('IYI').to_matrix(); Y_C = Operator.from_label('YII').to_matrix()\n",
    "\n",
    "# Ground state\n",
    "theta = np.arctan(np.sqrt((h_A/(2*k) + h_B/(2*k))**2+1)-(h_A/(2*k) + h_B/(2*k)))\n",
    "\n",
    "qet_g = np.cos(theta)*ket_00 - np.sin(theta)*ket_11\n",
    "ket_g = np.kron(ket_0,qet_g)\n",
    "state_g = Statevector(ket_g)\n",
    "display('Ground State:', state_g.draw('latex'))\n",
    "\n",
    "# Hamiltonians\n",
    "alpha = 2*k/(np.sqrt((h_A + h_B)**2+4*k**2) + h_A + h_B)\n",
    "\n",
    "H_A = -h_A * Z_A - h_A *(alpha**2-1)/(alpha**2+1) * I\n",
    "H_B = -h_B * Z_B - h_B*(alpha**2-1)/(alpha**2+1) * I\n",
    "H_C = -h_C * Z_C + h_C * I\n",
    "V = 2*k * X_AB + 4*k*alpha/(alpha**2+1) * I\n",
    "\n",
    "# Define angle phi\n",
    "phi = np.arctan(np.sqrt((h_B/(2*k))**2+1)-h_B/(2*k)) - theta\n",
    "\n",
    "# Define operations\n",
    "def P_A(mi):\n",
    "    \"\"\"Measurement of qubit A\"\"\"\n",
    "    return 1/2 * (I + mi * X_A)\n",
    "\n",
    "def Ry_B(mi):\n",
    "    \"\"\"Rotation around Y axis for qubit B\"\"\"\n",
    "    return np.cos(phi) * I - 1j*mi*np.sin(phi) * Y_B\n",
    "\n",
    "def Ry_C(mi):\n",
    "    \"\"\"Rotation around Y axis for qubit C\"\"\"\n",
    "    return np.cos(phi) * I - 1j*mi*np.sin(phi) * Y_C\n",
    "\n",
    "def Ry_pi():\n",
    "    \"\"\"Rotation of pi around Y axis for qubit C\"\"\"\n",
    "    return np.cos(np.pi/2) * I - 1j*np.sin(np.pi/2) * Y_C\n",
    "\n",
    "# Final State Density Matrix\n",
    "P_QET = np.zeros((8, 8), dtype=complex)\n",
    "for mi in [-1, 1]:\n",
    "    P_QET = P_QET + Ry_C(-mi) @ Ry_B(-mi) @  Ry_C(mi) @ Ry_pi() @P_A(mi) @ (ket_g@ket_g.conj().T) @ P_A(mi) @ Ry_pi().conj().T @ Ry_C(mi).conj().T  @ Ry_B(-mi).conj().T @ Ry_C(-mi).conj().T\n",
    "display(Operator(P_QET).draw('latex'))\n",
    "\n",
    "# Energies\n",
    "E_Ha = np.trace(P_QET@H_A).real\n",
    "E_Hb = np.trace(P_QET@H_B).real\n",
    "E_Hc = np.trace(P_QET@H_C).real\n",
    "E_V = np.trace(P_QET@V).real\n",
    "E_A = np.trace(P_QET@(H_A+V)).real\n",
    "E_B = np.trace(P_QET@(H_B+V)).real \n",
    "\n",
    "# Print results\n",
    "print(f\"\"\"\n",
    "Ground State Energies:\n",
    "<H_A> = {ket_g.T@H_A@ket_g}\n",
    "<H_B> = {ket_g.T@H_B@ket_g}\n",
    "<V> = {ket_g.T@V@ket_g}\n",
    "            \n",
    "Final Energies:\n",
    "H_A = {E_Ha},\n",
    "H_B = {E_Hb},\n",
    "H_C = {E_Hc},\n",
    "V = {E_V},\n",
    "E_A = {E_A},\n",
    "E_B = {E_B}\n",
    "\"\"\")"
   ]
  },
  {
   "cell_type": "markdown",
   "id": "77dc498f",
   "metadata": {},
   "source": [
    "### Function to generate a circuit that measures the local term $Z$ or $H$"
   ]
  },
  {
   "cell_type": "code",
   "execution_count": 74,
   "id": "f5605253",
   "metadata": {},
   "outputs": [],
   "source": [
    "def qc_H(h_A,h_B,k):\n",
    "    qc = QuantumCircuit(3)\n",
    "\n",
    "    # Prepare ground state\n",
    "    theta = np.arctan(np.sqrt((h_A/(2*k) + h_B/(2*k))**2+1)-(h_A/(2*k) + h_B/(2*k)))\n",
    "                  \n",
    "    qc.ry(-2*theta,0)\n",
    "    qc.cx(0,1)\n",
    "    qc.barrier()\n",
    "\n",
    "    # Alice's projective measurement\n",
    "    qc.h(0)\n",
    "    qc.barrier()\n",
    "\n",
    "    # Charlie prepare qubit C\n",
    "    phi = np.arctan(np.sqrt((h_B/(2*k))**2+1)-h_B/(2*k)) - theta\n",
    "\n",
    "    qc.cry(np.pi - 2*phi,0,2)\n",
    "\n",
    "    qc.x(0)\n",
    "    qc.cry(np.pi + 2*phi,0,2)\n",
    "    qc.x(0)\n",
    "    qc.barrier()\n",
    "\n",
    "    #Bob's conditional operation\n",
    "    qc.cry(2*phi,0,1)\n",
    "    qc.cry(2*phi,0,2)\n",
    "    \n",
    "    qc.x(0)\n",
    "    qc.cry(-2*phi,0,1)\n",
    "    qc.cry(-2*phi,0,2)\n",
    "    qc.x(0)\n",
    "\n",
    "    # measurament of qubit B and C\n",
    "    qc.measure_all()\n",
    "\n",
    "    return qc"
   ]
  },
  {
   "cell_type": "markdown",
   "id": "f32e1768",
   "metadata": {},
   "source": [
    "### Function to generate a circuit that measures the interaction term $X_0X_1$ or $V$"
   ]
  },
  {
   "cell_type": "code",
   "execution_count": 75,
   "id": "ce1d8e25",
   "metadata": {},
   "outputs": [],
   "source": [
    "def qc_V(h_A,h_B,k):\n",
    "    qc = QuantumCircuit(3)\n",
    "\n",
    "    # Prepare ground state\n",
    "    theta = np.arctan(np.sqrt((h_A/(2*k) + h_B/(2*k))**2+1)-(h_A/(2*k) + h_B/(2*k)))\n",
    "                  \n",
    "    qc.ry(-2*theta,0)\n",
    "    qc.cx(0,1)\n",
    "    qc.barrier()\n",
    "\n",
    "    # Alice's projective measurement\n",
    "    qc.h(0)\n",
    "    qc.barrier()\n",
    "\n",
    "    # Charlie prepare qubit C\n",
    "    phi = np.arctan(np.sqrt((h_B/(2*k))**2+1)-h_B/(2*k)) - theta\n",
    "\n",
    "    qc.cry(np.pi - 2*phi,0,2)\n",
    "\n",
    "    qc.x(0)\n",
    "    qc.cry(np.pi + 2*phi,0,2)\n",
    "    qc.x(0)\n",
    "    qc.barrier()\n",
    "\n",
    "    #Bob's conditional operation\n",
    "    qc.cry(2*phi,0,1)\n",
    "    qc.cry(2*phi,0,2)\n",
    "\n",
    "    \n",
    "    qc.x(0)\n",
    "    qc.cry(-2*phi,0,1)\n",
    "    qc.cry(-2*phi,0,2)\n",
    "    qc.x(0)\n",
    "\n",
    "    # measurament of qubit B and C\n",
    "    qc.h(1)\n",
    "    qc.measure_all()\n",
    "\n",
    "    return qc"
   ]
  },
  {
   "cell_type": "markdown",
   "id": "d6547f27",
   "metadata": {},
   "source": [
    "### Show quantum circuit"
   ]
  },
  {
   "cell_type": "code",
   "execution_count": 76,
   "id": "f471f141",
   "metadata": {},
   "outputs": [
    {
     "data": {
      "image/png": "[encoded data removed]",
      "text/plain": [
       "<Figure size 1834.55x367.889 with 1 Axes>"
      ]
     },
     "execution_count": 76,
     "metadata": {},
     "output_type": "execute_result"
    }
   ],
   "source": [
    "qc = qc_H(1,1,1)\n",
    "qc.draw('mpl')"
   ]
  },
  {
   "cell_type": "markdown",
   "id": "f16d0e26",
   "metadata": {},
   "source": [
    "### Simulate circuit $H$ with aer simulator"
   ]
  },
  {
   "cell_type": "code",
   "execution_count": 77,
   "id": "2da26eba",
   "metadata": {},
   "outputs": [],
   "source": [
    "# Initiate simulator\n",
    "simulator = AerSimulator()\n",
    "\n",
    "# Parameters\n",
    "h_A = 1;h_B = 0.01; k = 0.393;\n",
    "n_shots = 1000\n",
    "\n",
    "# Generate circuit\n",
    "qc = qc_H(h_A,h_B,k)\n",
    "qc_B = transpile(qc, simulator, optimization_level=3)\n",
    "\n",
    "# Run job with Sampler\n",
    "jobB_sim = sampler().run([qc_B], shots=n_shots)"
   ]
  },
  {
   "cell_type": "markdown",
   "id": "415f3cf6",
   "metadata": {},
   "source": [
    "### Simulate circuit $V$ with aer simulator"
   ]
  },
  {
   "cell_type": "code",
   "execution_count": 78,
   "id": "ce784626",
   "metadata": {},
   "outputs": [],
   "source": [
    "# Initiate simulator\n",
    "simulator = AerSimulator()\n",
    "\n",
    "# Parameters\n",
    "h_A = 1;h_B = 0.01; k = 0.393;\n",
    "n_shots = 1000\n",
    "\n",
    "# Generate circuit\n",
    "qc = qc_V(h_A,h_B,k)\n",
    "qc_A = transpile(qc, simulator, optimization_level=3)\n",
    "\n",
    "# Run job with Sampler\n",
    "jobA_sim = sampler().run([qc_A], shots=n_shots)"
   ]
  },
  {
   "cell_type": "markdown",
   "id": "51354716",
   "metadata": {},
   "source": [
    "### Show Results for simulated circuit $H$"
   ]
  },
  {
   "cell_type": "code",
   "execution_count": 79,
   "id": "fbcbc1d9",
   "metadata": {},
   "outputs": [
    {
     "name": "stdout",
     "output_type": "stream",
     "text": [
      "Alice's local energy =  0.8131838926010617 ± 0.031613667930184886\n",
      "H_B =  0.007631838926010617 ± 0.00031612086296225377\n",
      "H_C =  1.572 ± 7.021666937153402e-18\n"
     ]
    },
    {
     "data": {
      "image/png": "[encoded data removed]",
      "text/plain": [
       "<Figure size 640x480 with 1 Axes>"
      ]
     },
     "execution_count": 79,
     "metadata": {},
     "output_type": "execute_result"
    }
   ],
   "source": [
    "result = jobB_sim.result()[0]\n",
    "counts = result.data.meas.get_counts()\n",
    "\n",
    "h_C = 0.786\n",
    "alpha = 2*k/(np.sqrt((h_A + h_B)**2+4*k**2) + h_A + h_B)\n",
    "f_i = (alpha**2-1)/(alpha**2+1)\n",
    "ene_A = -h_A*f_i\n",
    "ene_B = -h_B*f_i\n",
    "ene_C = h_C\n",
    "\n",
    "error_A = []\n",
    "error_B = []\n",
    "error_C = []\n",
    "for orig_bit_string, count in counts.items():\n",
    "        bit_string = orig_bit_string[::-1]\n",
    "\n",
    "        ene_A += -h_A*(-1)**int(bit_string[0])*count/n_shots\n",
    "        ene_B += -h_B*(-1)**int(bit_string[1])*count/n_shots      \n",
    "        ene_C += -h_C*(-1)**int(bit_string[2])*count/n_shots\n",
    "\n",
    "        for i in range(count):\n",
    "            error_A.append(-h_A*(-1)**int(bit_string[0]))\n",
    "            error_B.append(-h_B*(-1)**int(bit_string[1]))\n",
    "            error_C.append(-0.786*(-1)**int(bit_string[2]))\n",
    "\n",
    "print(\"Alice's local energy = \",ene_A,\"±\",np.std(error_A)/np.sqrt(n_shots))\n",
    "print(\"H_B = \",ene_B,\"±\",np.std(error_B)/np.sqrt(n_shots))\n",
    "print(\"H_C = \",ene_C,\"±\",np.std(error_C)/np.sqrt(n_shots))\n",
    "\n",
    "plot_histogram(counts, title=\"aer_simulator H\")"
   ]
  },
  {
   "cell_type": "markdown",
   "id": "5e927389",
   "metadata": {},
   "source": [
    "### Show results for simulated circuit $V$"
   ]
  },
  {
   "cell_type": "code",
   "execution_count": 80,
   "id": "9af97e3e",
   "metadata": {},
   "outputs": [
    {
     "name": "stdout",
     "output_type": "stream",
     "text": [
      "Interacting energy, V =  -0.3032726216699351 ± 0.02481649837797428\n"
     ]
    },
    {
     "data": {
      "image/png": "[encoded data removed]",
      "text/plain": [
       "<Figure size 640x480 with 1 Axes>"
      ]
     },
     "execution_count": 80,
     "metadata": {},
     "output_type": "execute_result"
    }
   ],
   "source": [
    "result = jobA_sim.result()[0]\n",
    "counts = result.data.meas.get_counts()\n",
    "\n",
    "alpha = 2*k/(np.sqrt((h_A + h_B)**2+4*k**2) + h_A + h_B)\n",
    "ene_V = 4*k*alpha/(alpha**2+1)\n",
    "\n",
    "error_V = []\n",
    "for orig_bit_string, count in counts.items():\n",
    "        bit_string = orig_bit_string[::-1]\n",
    "\n",
    "        ene_V += 2*k*(-1)**int(bit_string[0])*(-1)**int(bit_string[1])*count/n_shots\n",
    "\n",
    "        for i in range(count):\n",
    "            error_V.append(2*k*(-1)**(int(bit_string[1])))\n",
    "\n",
    "print(\"Interacting energy, V = \",ene_V,\"±\",np.std(error_V)/np.sqrt(n_shots))\n",
    "\n",
    "plot_histogram(counts, title='aer_simulator V')"
   ]
  }
 ],
 "metadata": {
  "kernelspec": {
   "display_name": "Python 3",
   "language": "python",
   "name": "python3"
  },
  "language_info": {
   "codemirror_mode": {
    "name": "ipython",
    "version": 3
   },
   "file_extension": ".py",
   "mimetype": "text/x-python",
   "name": "python",
   "nbconvert_exporter": "python",
   "pygments_lexer": "ipython3",
   "version": "3.13.1"
  }
 },
 "nbformat": 4,
 "nbformat_minor": 5
}
