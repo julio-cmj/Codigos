{
 "cells": [
  {
   "cell_type": "markdown",
   "metadata": {},
   "source": [
    "## Quantum energy teleportation protocol with minimal model"
   ]
  },
  {
   "cell_type": "markdown",
   "metadata": {},
   "source": [
    "### Import packages"
   ]
  },
  {
   "cell_type": "code",
   "execution_count": 1,
   "metadata": {},
   "outputs": [],
   "source": [
    "import numpy as np\n",
    "from qiskit import QuantumCircuit\n",
    "from qiskit import transpile\n",
    "\n",
    "from qiskit_aer import AerSimulator\n",
    "from qiskit_aer.primitives import SamplerV2 as sampler\n",
    "from qiskit.visualization import plot_histogram"
   ]
  },
  {
   "cell_type": "markdown",
   "metadata": {},
   "source": [
    "### Function to generate a circuit that measures the local term $Z$ or $H$"
   ]
  },
  {
   "cell_type": "code",
   "execution_count": 2,
   "metadata": {},
   "outputs": [],
   "source": [
    "def qc_H(h,k):\n",
    "\n",
    "    # Generate circuit\n",
    "    qc = QuantumCircuit(2)\n",
    "\n",
    "    #Prepare the ground state\n",
    "    theta = -np.arcsin((1/np.sqrt(2))*(np.sqrt(1+h/np.sqrt(h**2+k**2))))\n",
    "\n",
    "    qc.ry(2*theta,0)\n",
    "    qc.cx(0,1)\n",
    "\n",
    "    # Projective measurement on A\n",
    "    qc.barrier()\n",
    "    qc.h(0)\n",
    "\n",
    "    # Condicional operation on B\n",
    "    qc.barrier()\n",
    "    phi = 0.5*np.arcsin((h*k)/np.sqrt((h**2+2*k**2)**2+(h*k)**2))\n",
    "\n",
    "    qc.cry(-2*phi,0,1)\n",
    "    \n",
    "    qc.x(0)\n",
    "    qc.cry(2*phi,0,1)\n",
    "    qc.x(0)\n",
    "\n",
    "    # measurement of Bob's Z term\n",
    "    qc.measure_all()\n",
    "\n",
    "    return qc"
   ]
  },
  {
   "cell_type": "markdown",
   "metadata": {},
   "source": [
    "### Function to generate a circuit that measures the interaction term $XX$ or $V$"
   ]
  },
  {
   "cell_type": "code",
   "execution_count": 3,
   "metadata": {},
   "outputs": [],
   "source": [
    "def qc_V(h,k):\n",
    "\n",
    "    # Create circuit\n",
    "    qc = QuantumCircuit(2)\n",
    "    \n",
    "    #Prepare the ground state\n",
    "    theta = -np.arcsin((1/np.sqrt(2))*(np.sqrt(1+h/np.sqrt(h**2+k**2))))\n",
    "\n",
    "    qc.ry(2*theta,0)\n",
    "    qc.cx(0,1)\n",
    "\n",
    "    # Projective measurement of A\n",
    "    qc.barrier()\n",
    "    qc.h(0)\n",
    "\n",
    "    # Condicional operation on B\n",
    "    qc.barrier()\n",
    "    phi = 0.5*np.arcsin((h*k)/np.sqrt((h**2+2*k**2)**2+(h*k)**2))\n",
    "\n",
    "    qc.cry(-2*phi,0,1)\n",
    "\n",
    "    qc.x(0)\n",
    "    qc.cry(2*phi,0,1)\n",
    "    qc.x(0)\n",
    "\n",
    "    # Measurement of the interaction term V\n",
    "    qc.h(1)\n",
    "    qc.measure_all()\n",
    "\n",
    "    return qc"
   ]
  },
  {
   "cell_type": "markdown",
   "metadata": {},
   "source": [
    "### Function to generate a circuit for estimator"
   ]
  },
  {
   "cell_type": "code",
   "execution_count": 4,
   "metadata": {},
   "outputs": [],
   "source": [
    "def qc_T(h,k):\n",
    "\n",
    "    # Create circuit\n",
    "    qc = QuantumCircuit(2)\n",
    "    \n",
    "    #Prepare the ground state\n",
    "    theta = -np.arcsin((1/np.sqrt(2))*(np.sqrt(1+h/np.sqrt(h**2+k**2))))\n",
    "\n",
    "    qc.ry(2*theta,0)\n",
    "    qc.cx(0,1)\n",
    "\n",
    "    # Projective measurement of A\n",
    "    qc.barrier()\n",
    "    qc.h(0)\n",
    "\n",
    "    # Condicional operation on B\n",
    "    qc.barrier()\n",
    "    phi = 0.5*np.arcsin((h*k)/np.sqrt((h**2+2*k**2)**2+(h*k)**2))\n",
    "\n",
    "    qc.cry(-2*phi,0,1)\n",
    "\n",
    "    qc.x(0)\n",
    "    qc.cry(2*phi,0,1)\n",
    "    qc.x(0)\n",
    "\n",
    "    # Measurements\n",
    "    qc.h(0)\n",
    "    qc.measure_all()\n",
    "\n",
    "    return qc"
   ]
  },
  {
   "cell_type": "markdown",
   "metadata": {},
   "source": [
    "### Show quantum circuit"
   ]
  },
  {
   "cell_type": "code",
   "execution_count": 5,
   "metadata": {},
   "outputs": [
    {
     "data": {
      "image/png": "[encoded data removed]",
      "text/plain": [
       "<Figure size 1165.66x284.278 with 1 Axes>"
      ]
     },
     "execution_count": 5,
     "metadata": {},
     "output_type": "execute_result"
    }
   ],
   "source": [
    "qc = qc_H(1, 1)\n",
    "qc.draw('mpl')"
   ]
  },
  {
   "cell_type": "markdown",
   "metadata": {},
   "source": [
    "### Simulate circuit H with aer simulator"
   ]
  },
  {
   "cell_type": "code",
   "execution_count": 29,
   "metadata": {},
   "outputs": [],
   "source": [
    "# Initiate simulator\n",
    "simulator = AerSimulator()\n",
    "\n",
    "# Parameters\n",
    "h = 1.5; k = 1;\n",
    "n_shots = 100000\n",
    "\n",
    "# Generate circuit\n",
    "qc = qc_H(h, k)\n",
    "qc_A = transpile(qc, simulator, optimization_level=3)\n",
    "\n",
    "# Run job with Sampler\n",
    "jobA_sim = sampler().run([qc_A], shots=n_shots)"
   ]
  },
  {
   "cell_type": "markdown",
   "metadata": {},
   "source": [
    "### Simulate circuit $V$ with aer simulator"
   ]
  },
  {
   "cell_type": "code",
   "execution_count": 30,
   "metadata": {},
   "outputs": [],
   "source": [
    "# Initiate simulator\n",
    "simulator = AerSimulator()\n",
    "\n",
    "# Parameters\n",
    "h = 1.5; k = 1;\n",
    "n_shots = 100000\n",
    "\n",
    "# Generate circuit\n",
    "qc = qc_V(h, k)\n",
    "qc_B = transpile(qc, simulator, optimization_level=3)\n",
    "\n",
    "# Run job with Sampler\n",
    "jobB_sim = sampler().run([qc_B], shots=n_shots)"
   ]
  },
  {
   "cell_type": "markdown",
   "metadata": {},
   "source": [
    "### Show results for simulated circuit $H$"
   ]
  },
  {
   "cell_type": "code",
   "execution_count": 31,
   "metadata": {},
   "outputs": [
    {
     "name": "stdout",
     "output_type": "stream",
     "text": [
      "Theoric energy injected by Alice 1.2480754415067656\n",
      "H_A = 1.2435154415067657 ± 0.004743394571823009\n",
      "H_B = 0.34582544150676564 ± 0.003789386411412803\n"
     ]
    },
    {
     "data": {
      "image/png": "[encoded data removed]",
      "text/plain": [
       "<Figure size 640x480 with 1 Axes>"
      ]
     },
     "execution_count": 31,
     "metadata": {},
     "output_type": "execute_result"
    }
   ],
   "source": [
    "# Extract results\n",
    "result = jobA_sim.result()[0]\n",
    "counts = result.data.meas.get_counts()\n",
    "\n",
    "# Energies\n",
    "ene_A = (h**2)/(np.sqrt(h**2+k**2))\n",
    "ene_B = (h**2)/(np.sqrt(h**2+k**2))\n",
    "\n",
    "# Error arrays\n",
    "error_A = []\n",
    "error_B = []\n",
    "\n",
    "# Calculate energies and errors\n",
    "for orig_bit_string, count in counts.items():\n",
    "        bit_string = orig_bit_string[::-1]\n",
    "\n",
    "        ene_A += h*(-1)**int(bit_string[0])*count/n_shots\n",
    "        ene_B += h*(-1)**int(bit_string[1])*count/n_shots\n",
    "\n",
    "        for i in range(count):\n",
    "            error_A.append(h*(-1)**int(bit_string[0]))\n",
    "            error_B.append(h*(-1)**int(bit_string[1]))\n",
    "\n",
    "# Print results\n",
    "print(\"Theoric energy injected by Alice\",h**2/np.sqrt(h**2+k**2))\n",
    "print(\"H_A =\",ene_A,\"±\",np.std(error_A)/np.sqrt(n_shots))\n",
    "print(\"H_B =\",ene_B,\"±\",np.std(error_B)/np.sqrt(n_shots))\n",
    "\n",
    "plot_histogram(counts, title=\"aer_simulator - H\")"
   ]
  },
  {
   "cell_type": "markdown",
   "metadata": {},
   "source": [
    "### Show results for simulated circuit V"
   ]
  },
  {
   "cell_type": "code",
   "execution_count": 32,
   "metadata": {},
   "outputs": [
    {
     "name": "stdout",
     "output_type": "stream",
     "text": [
      "V = -0.4858796075495417 ± 0.0063245544652568205\n"
     ]
    },
    {
     "data": {
      "image/png": "[encoded data removed]",
      "text/plain": [
       "<Figure size 640x480 with 1 Axes>"
      ]
     },
     "execution_count": 32,
     "metadata": {},
     "output_type": "execute_result"
    }
   ],
   "source": [
    "# Extract results\n",
    "result = jobB_sim.result()[0]\n",
    "counts = result.data.meas.get_counts()\n",
    "\n",
    "# Energies\n",
    "ene_V = (2*k**2)/(np.sqrt(h**2+k**2))\n",
    "\n",
    "# Error arrays\n",
    "error_V = []\n",
    "\n",
    "# Calculate energies\n",
    "for orig_bit_string, count in counts.items():\n",
    "        bit_string = orig_bit_string[::-1]\n",
    "\n",
    "        ene_V += 2*k*(-1)**int(bit_string[0])*(-1)**int(bit_string[1])*count/n_shots\n",
    "\n",
    "        for i in range(count):\n",
    "            error_V.append(2*k*(-1)**(int(bit_string[1])))\n",
    "\n",
    "# Print results\n",
    "print(\"V =\",ene_V,\"±\",np.std(error_V)/np.sqrt(n_shots))\n",
    "\n",
    "plot_histogram(counts, title='aer_simulator - V')"
   ]
  },
  {
   "cell_type": "markdown",
   "metadata": {},
   "source": [
    "### Get backend and its properties"
   ]
  },
  {
   "cell_type": "code",
   "execution_count": 10,
   "metadata": {},
   "outputs": [
    {
     "name": "stdout",
     "output_type": "stream",
     "text": [
      "Backend = ibm_brisbane\n",
      "Qubit 0 has a \n",
      "  - T1 time of 83.51966433411945 microseconds\n",
      "  - T2 time of 42.35910768485592 microseconds\n",
      "  - U2 gate error of 0.00092640312216779\n",
      "  - U2 gate duration of 59.99999999999999 nanoseconds\n",
      "  - resonant frequency of 4.721907253805372 GHz\n"
     ]
    }
   ],
   "source": [
    "# Log in IBM platoform\n",
    "from qiskit_ibm_runtime import QiskitRuntimeService\n",
    "service = QiskitRuntimeService()\n",
    "\n",
    "# Select least busy backend\n",
    "backend = service.least_busy(operational=True)\n",
    "\n",
    "# Get backend properties\n",
    "props = backend.properties()\n",
    "\n",
    "# Function to select specific properties\n",
    "def describe_qubit(qubit, properties):\n",
    "    \"\"\"Print a string describing some of reported properties of the given qubit.\"\"\"\n",
    "\n",
    "    # Conversion factors from standard SI units\n",
    "    us = 1e6\n",
    "    ns = 1e9\n",
    "    GHz = 1e-9\n",
    "\n",
    "    print(\"Backend = {6}\\n\"\n",
    "          \"Qubit {0} has a \\n\"\n",
    "          \"  - T1 time of {1} microseconds\\n\"\n",
    "          \"  - T2 time of {2} microseconds\\n\"\n",
    "          \"  - U2 gate error of {3}\\n\"\n",
    "          \"  - U2 gate duration of {4} nanoseconds\\n\"\n",
    "          \"  - resonant frequency of {5} GHz\".format(\n",
    "              qubit,\n",
    "              properties.t1(qubit) * us,\n",
    "              properties.t2(qubit) * us,\n",
    "              properties.gate_error('sx', qubit),\n",
    "              properties.gate_length('sx', qubit) * ns,\n",
    "              properties.frequency(qubit) * GHz,\n",
    "              backend.name))\n",
    "\n",
    "describe_qubit(0, props)"
   ]
  },
  {
   "cell_type": "markdown",
   "metadata": {},
   "source": [
    "### Run job with Sampler"
   ]
  },
  {
   "cell_type": "code",
   "execution_count": null,
   "metadata": {},
   "outputs": [],
   "source": [
    "# Import Sampler \n",
    "from qiskit_ibm_runtime import Batch, SamplerV2 as sampler\n",
    "\n",
    "# Parameters h and k\n",
    "variables = [(1,0.2),(1,0.5),(1,1),(1.5,1),(1,1.5)]\n",
    "\n",
    "#  Run job in Batch mode\n",
    "with Batch(backend=backend):\n",
    "    n_shots = 5000\n",
    "\n",
    "    for variable in variables:\n",
    "        h = variable[0]\n",
    "        k = variable[1]\n",
    "\n",
    "        # Generate circuits V and H\n",
    "        circuit_H = qc_H(h,k)\n",
    "        qc_A = transpile(circuit_H, backend=backend, optimization_level=3)\n",
    "\n",
    "        circuit_V = qc_H(h,k)\n",
    "        qc_B = transpile(circuit_V, backend=backend, optimization_level=3)\n",
    "        \n",
    "        # Run jobs for each circuit\n",
    "        job_A = sampler().run([(qc_A)], shots=n_shots)\n",
    "        print(\"Circuit H\",\"ID =\",job_A.job_id(), \"h =\",h, \"k =\",k)\n",
    "\n",
    "        job_B = sampler().run([(qc_B)], shots=n_shots)\n",
    "        print(\"Circuit V\",\"ID =\",job_B.job_id(), \"h =\",h, \"k =\",k) "
   ]
  },
  {
   "cell_type": "markdown",
   "metadata": {},
   "source": [
    "### Run job with Estimator"
   ]
  },
  {
   "cell_type": "code",
   "execution_count": null,
   "metadata": {},
   "outputs": [
    {
     "name": "stdout",
     "output_type": "stream",
     "text": [
      "Estimator H ID = d0dcfged8drg008zdtyg h = 1 k = 1\n"
     ]
    },
    {
     "name": "stderr",
     "output_type": "stream",
     "text": [
      "qiskit_runtime_service.check_pending_jobs:WARNING:2025-05-06 22:39:02,447: The pending jobs limit has been reached. Waiting for job <RuntimeJobV2('d0dcf24qnmvg0087szh0', 'sampler')> to finish before submitting the next one.\n"
     ]
    },
    {
     "name": "stdout",
     "output_type": "stream",
     "text": [
      "Estimator V ID = d0dcgqakzhn0008w20y0 h = 1 k = 1\n"
     ]
    }
   ],
   "source": [
    "# Import Estimator \n",
    "from qiskit_ibm_runtime import Batch, EstimatorV2 as estimator\n",
    "from qiskit.transpiler import preset_passmanagers\n",
    "from qiskit.quantum_info import SparsePauliOp \n",
    "\n",
    "# Parameters h and k\n",
    "variables = [(1,0.2),(1,0.5),(1,1),(1.5,1),(1,1.5)]\n",
    "#variables = [(1,1)]\n",
    "transpiler = preset_passmanagers.generate_preset_pass_manager(optimization_level=3, backend=backend)\n",
    "\n",
    "#  Run job in Batch mode\n",
    "with Batch(backend=backend):\n",
    "\n",
    "    for variable in variables:\n",
    "        h = variable[0]\n",
    "        k = variable[1]\n",
    "        observables = [SparsePauliOp('ZI', h), SparsePauliOp('XX', 2*k)]\n",
    "\n",
    "        # Generate circuit\n",
    "        circuit_T = qc_T(h,k)\n",
    "        qc_t = transpiler.run(circuit_T)\n",
    "        \n",
    "        # Run jobs\n",
    "        transpiled_observable = observables[0].apply_layout(qc_t.layout)\n",
    "        job_C = estimator(options={\"resilience_level\": 2}).run([(qc_t, transpiled_observable)]) \n",
    "        print(\"Estimator H\",\"ID =\",job_C.job_id(), \"h =\",h, \"k =\",k) \n",
    "\n",
    "        transpiled_observable = observables[1].apply_layout(qc_t.layout)\n",
    "        job_D = estimator(options={\"resilience_level\": 2}).run([(qc_t, transpiled_observable)]) \n",
    "        print(\"Estimator V\",\"ID =\",job_D.job_id(), \"h =\",h, \"k =\",k) "
   ]
  },
  {
   "cell_type": "markdown",
   "metadata": {},
   "source": [
    "### Show results for circuit H"
   ]
  },
  {
   "cell_type": "code",
   "execution_count": null,
   "metadata": {},
   "outputs": [
    {
     "name": "stdout",
     "output_type": "stream",
     "text": [
      "H_B = 0.28510678118654736 ± 0.012821201191776066\n",
      "Estimated B = 0.24772683219229563 ± 0.018261788652163696\n"
     ]
    },
    {
     "data": {
      "image/png": "[encoded data removed]",
      "text/plain": [
       "<Figure size 640x480 with 1 Axes>"
      ]
     },
     "execution_count": 12,
     "metadata": {},
     "output_type": "execute_result"
    }
   ],
   "source": [
    "# Extract results\n",
    "\n",
    "# Sampler\n",
    "jobS = service.job('czzxtx3nhqag008v1a5g')\n",
    "result = jobS.result()[0]\n",
    "counts = result.data.meas.get_counts()\n",
    "\n",
    "# Estimator\n",
    "jobT = service.job('d0byhfnrxz8g008akf00')\n",
    "result = jobT.result()[0]\n",
    "exp_value = result.data.evs\n",
    "value_error = result.data.stds\n",
    "\n",
    "# parameters\n",
    "h = 1; k = 1;\n",
    "n_shots = 5000\n",
    "\n",
    "# Energies\n",
    "ene_A = (h**2)/(np.sqrt(h**2+k**2))\n",
    "ene_B = (h**2)/(np.sqrt(h**2+k**2))\n",
    "est_B = exp_value + ene_B\n",
    "\n",
    "# Error arrays\n",
    "error_A = []\n",
    "error_B = []\n",
    "\n",
    "# Calculate errors\n",
    "for orig_bit_string, count in counts.items():\n",
    "        bit_string = orig_bit_string[::-1]\n",
    "\n",
    "        ene_A += h*(-1)**int(bit_string[0])*count/n_shots\n",
    "        ene_B += h*(-1)**int(bit_string[1])*count/n_shots\n",
    "\n",
    "        for i in range(count):\n",
    "            error_A.append(h*(-1)**int(bit_string[0]))\n",
    "            error_B.append(h*(-1)**int(bit_string[1]))\n",
    "\n",
    "# Print results\n",
    "#print(\"Theoric energy injected by Alice\",h**2/np.sqrt(h**2+k**2))\n",
    "#print(\"H_A =\",ene_A,\"±\",np.std(error_A)/np.sqrt(n_shots))\n",
    "print(\"H_B =\",ene_B,\"±\",np.std(error_B)/np.sqrt(n_shots))\n",
    "print(\"Estimated B =\",est_B,\"±\",value_error)\n",
    "\n",
    "plot_histogram(counts, title=f\"{backend.name} H\")"
   ]
  },
  {
   "cell_type": "markdown",
   "metadata": {},
   "source": [
    "### Show results for circuit V"
   ]
  },
  {
   "cell_type": "code",
   "execution_count": null,
   "metadata": {},
   "outputs": [
    {
     "name": "stdout",
     "output_type": "stream",
     "text": [
      "V = -0.32498643762690504 ± 0.028265112913271724\n",
      "Estimated V = -0.3923585615645657 ± 0.020807835017131654\n"
     ]
    },
    {
     "data": {
      "image/png": "[encoded data removed]",
      "text/plain": [
       "<Figure size 640x480 with 1 Axes>"
      ]
     },
     "execution_count": 13,
     "metadata": {},
     "output_type": "execute_result"
    }
   ],
   "source": [
    "# Extract results\n",
    "\n",
    "# Sampler\n",
    "jobS = service.job('czzxtvknhqag008v1a40')\n",
    "result = jobS.result()[0]\n",
    "counts = result.data.meas.get_counts()\n",
    "\n",
    "# Estimator\n",
    "jobT = service.job('d0byhhy6rr3g0087np90')\n",
    "result = jobT.result()[0]\n",
    "exp_value = result.data.evs\n",
    "value_error = result.data.stds\n",
    "\n",
    "# Parameters \n",
    "h = 1;k = 1;\n",
    "n_shots = 5000\n",
    "\n",
    "# Energies\n",
    "ene_V = (2*k**2)/(np.sqrt(h**2+k**2))\n",
    "est_V = exp_value + ene_V\n",
    "\n",
    "# Erros arrays\n",
    "error_V = []\n",
    "\n",
    "# Calculate energies and errors\n",
    "for orig_bit_string, count in counts.items():\n",
    "        bit_string = orig_bit_string[::-1]\n",
    "\n",
    "        ene_V += 2*k*(-1)**int(bit_string[0])*(-1)**int(bit_string[1])*count/n_shots\n",
    "\n",
    "        for i in range(count):\n",
    "            error_V.append(2*k*(-1)**(int(bit_string[1])))\n",
    "\n",
    "# Print results\n",
    "print(\"V =\",ene_V,\"±\",np.std(error_V)/np.sqrt(n_shots))\n",
    "print(\"Estimated V =\",est_V,\"±\",value_error)\n",
    "\n",
    "plot_histogram(counts, title=f\"{backend.name} V\")"
   ]
  },
  {
   "cell_type": "markdown",
   "metadata": {},
   "source": [
    "## Extra: Initial ground state energy"
   ]
  },
  {
   "cell_type": "code",
   "execution_count": 14,
   "metadata": {},
   "outputs": [
    {
     "name": "stdout",
     "output_type": "stream",
     "text": [
      "H_A = 0.0020467811865474417 ± 0.002242521786739206\n",
      "H_B = 0.0020467811865474417 ± 0.002242521786739206\n",
      "V = 0.005373562373094859 ± 0.006324458264231016\n",
      "E_A = 0.007420343559642301\n",
      "E_B = 0.007420343559642301\n"
     ]
    },
    {
     "data": {
      "image/png": "[encoded data removed]",
      "text/plain": [
       "<Figure size 640x480 with 1 Axes>"
      ]
     },
     "execution_count": 14,
     "metadata": {},
     "output_type": "execute_result"
    }
   ],
   "source": [
    "from qiskit_aer.primitives import SamplerV2 as sampler\n",
    "\n",
    "h = 1; k = 1;\n",
    "theta = -np.arcsin((1/np.sqrt(2))*(np.sqrt(1+h/np.sqrt(h**2+k**2))))\n",
    "\n",
    "# Circuit V\n",
    "\n",
    "qcV = QuantumCircuit(2)\n",
    "\n",
    "# Prepare the ground state\n",
    "qcV.ry(2*theta,0)\n",
    "qcV.cx(0,1)\n",
    "\n",
    "# Measure Energies\n",
    "qcV.h(0)\n",
    "qcV.h(1)\n",
    "qcV.measure_all()\n",
    "\n",
    "# Circuit H\n",
    "\n",
    "qcH = QuantumCircuit(2)\n",
    "\n",
    "# Prepare the ground state\n",
    "qcH.ry(2*theta,0)\n",
    "qcH.cx(0,1)\n",
    "\n",
    "# Measure Energies\n",
    "qcH.measure_all()\n",
    "\n",
    "###################################################################################################################################################################################################\n",
    "\n",
    "# Initiate simulator\n",
    "simulator = AerSimulator()\n",
    "\n",
    "# Parameters\n",
    "n_shots = 100000\n",
    "\n",
    "# Generate circuits\n",
    "qcH = transpile(qcH, simulator, optimization_level=3)\n",
    "\n",
    "qcV = transpile(qcV, simulator, optimization_level=3)\n",
    "\n",
    "# Run job with Sampler\n",
    "jobA = sampler().run([qcH], shots=n_shots)\n",
    "jobB = sampler().run([qcV], shots=n_shots)\n",
    "\n",
    "###################################################################################################################################################################################################\n",
    "result = jobA.result()[0]\n",
    "counts = result.data.meas.get_counts()\n",
    "\n",
    "# Energies\n",
    "ene_A = (h**2)/(np.sqrt(h**2+k**2))\n",
    "ene_B = (h**2)/(np.sqrt(h**2+k**2))\n",
    "\n",
    "# Error arrays\n",
    "error_A = []\n",
    "error_B = []\n",
    "\n",
    "# Calculate errors\n",
    "for orig_bit_string, count in counts.items():\n",
    "        bit_string = orig_bit_string[::-1]\n",
    "\n",
    "        ene_A += h*(-1)**int(bit_string[0])*count/n_shots\n",
    "        ene_B += h*(-1)**int(bit_string[1])*count/n_shots\n",
    "\n",
    "        for i in range(count):\n",
    "            error_A.append(h*(-1)**int(bit_string[0]))\n",
    "            error_B.append(h*(-1)**int(bit_string[1]))\n",
    "\n",
    "# Print results\n",
    "print(\"H_A =\",ene_A,\"±\",np.std(error_A)/np.sqrt(n_shots))\n",
    "print(\"H_B =\",ene_B,\"±\",np.std(error_B)/np.sqrt(n_shots))\n",
    "\n",
    "\n",
    "result = jobB.result()[0]\n",
    "counts = result.data.meas.get_counts()\n",
    "\n",
    "# Energies\n",
    "ene_V = (2*k**2)/(np.sqrt(h**2+k**2))\n",
    "\n",
    "# Erros arrays\n",
    "error_V = []\n",
    "\n",
    "# Calculate energies and errors\n",
    "for orig_bit_string, count in counts.items():\n",
    "        bit_string = orig_bit_string[::-1]\n",
    "\n",
    "        ene_V += 2*k*(-1)**int(bit_string[0])*(-1)**int(bit_string[1])*count/n_shots\n",
    "\n",
    "        for i in range(count):\n",
    "            error_V.append(2*k*(-1)**(int(bit_string[1])))\n",
    "\n",
    "# Print results\n",
    "print(\"V =\",ene_V,\"±\",np.std(error_V)/np.sqrt(n_shots))\n",
    "\n",
    "###################################################################################################################################################################################################\n",
    "print(\"E_A =\", ene_A + ene_V)\n",
    "print(\"E_B =\", ene_B + ene_V)\n",
    "\n",
    "plot_histogram(counts)"
   ]
  }
 ],
 "metadata": {
  "kernelspec": {
   "display_name": "Python 3",
   "language": "python",
   "name": "python3"
  },
  "language_info": {
   "codemirror_mode": {
    "name": "ipython",
    "version": 3
   },
   "file_extension": ".py",
   "mimetype": "text/x-python",
   "name": "python",
   "nbconvert_exporter": "python",
   "pygments_lexer": "ipython3",
   "version": "3.13.1"
  }
 },
 "nbformat": 4,
 "nbformat_minor": 2
}
