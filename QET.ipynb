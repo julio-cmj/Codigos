{
 "cells": [
  {
   "cell_type": "markdown",
   "metadata": {},
   "source": [
    "## Quantum energy teleportation protocol with minimal model\n",
    "\n",
    "The minimal model is the simplest model capable of doing energy teleportation, it's composed of a system of two qubits."
   ]
  },
  {
   "cell_type": "markdown",
   "metadata": {},
   "source": [
    "### Import packages\n",
    "\n",
    "Import necessary packages to create and simulate the protocol."
   ]
  },
  {
   "cell_type": "code",
   "execution_count": 1,
   "metadata": {},
   "outputs": [],
   "source": [
    "import numpy as np\n",
    "from qiskit import QuantumCircuit\n",
    "from qiskit import transpile\n",
    "\n",
    "from qiskit_aer import AerSimulator\n",
    "from qiskit.visualization import plot_histogram"
   ]
  },
  {
   "cell_type": "markdown",
   "metadata": {},
   "source": [
    "### Theory\n",
    "\n",
    "The energy of qubit B is $E_B = H_B + V$, where $H_B = h\\sigma_Z^B + ...$ and $V = 2k\\sigma^A_X\\sigma^B_X + ...$. Since $\\sigma_Z$ and $\\sigma_X$ doesn't commute, two differents circuits are needed to measure the energy of a qubit.\n"
   ]
  },
  {
   "cell_type": "code",
   "execution_count": 7,
   "metadata": {},
   "outputs": [
    {
     "data": {
      "text/plain": [
       "'Ground State:'"
      ]
     },
     "metadata": {},
     "output_type": "display_data"
    },
    {
     "data": {
      "text/latex": [
       "$$0.3826834324 |00\\rangle-0.9238795325 |11\\rangle$$"
      ],
      "text/plain": [
       "<IPython.core.display.Latex object>"
      ]
     },
     "metadata": {},
     "output_type": "display_data"
    },
    {
     "data": {
      "text/plain": [
       "'Final State:'"
      ]
     },
     "metadata": {},
     "output_type": "display_data"
    },
    {
     "data": {
      "text/latex": [
       "$$\n",
       "\n",
       "\\begin{bmatrix}\n",
       "0.1381966011 & 0 & 0 & - \\frac{\\sqrt{5}}{10}  \\\\\n",
       " 0 & 0.1381966011 & - \\frac{\\sqrt{5}}{10} & 0  \\\\\n",
       " 0 & - \\frac{\\sqrt{5}}{10} & 0.3618033989 & 0  \\\\\n",
       " - \\frac{\\sqrt{5}}{10} & 0 & 0 & 0.3618033989  \\\\\n",
       " \\end{bmatrix}\n",
       "$$"
      ],
      "text/plain": [
       "<IPython.core.display.Latex object>"
      ]
     },
     "metadata": {},
     "output_type": "display_data"
    },
    {
     "name": "stdout",
     "output_type": "stream",
     "text": [
      "\n",
      "Ground State Energies:\n",
      "<H_A> = [[0.+0.j]]\n",
      "<H_B> = [[0.+0.j]]\n",
      "<V> = [[-1.11022302e-16+0.j]]\n",
      "            \n",
      "Final Energies:\n",
      "H_A = 0.7071067811865476,\n",
      "H_B = 0.2598931856865896,\n",
      "V = -0.374640819626737,\n",
      "E_A = 0.3324659615598105,\n",
      "E_B = -0.11474763394014753\n",
      "\n"
     ]
    }
   ],
   "source": [
    "from qiskit.quantum_info import Statevector, Operator\n",
    "\n",
    "# Parameters\n",
    "h = 1; k = 1; \n",
    "\n",
    "# Basis\n",
    "ket_0 = np.array([[1], [0]])\n",
    "ket_1 = np.array([[0],[1]])\n",
    "ket_00 = np.kron(ket_0,ket_0)\n",
    "ket_11 = np.kron(ket_1,ket_1)\n",
    "\n",
    "# Operators\n",
    "I = Operator.from_label('II').to_matrix();\n",
    "Z_A = Operator.from_label('IZ').to_matrix(); Z_B = Operator.from_label('ZI').to_matrix();\n",
    "X_AB = Operator.from_label('XX').to_matrix(); X_A = Operator.from_label('IX').to_matrix();\n",
    "Y_B = Operator.from_label('YI').to_matrix()\n",
    "\n",
    "# Ground state\n",
    "ket_g = np.sqrt(1/2)*np.sqrt(1-h/np.sqrt(h**2+k**2))*ket_00 - np.sqrt(1/2)*np.sqrt(1+h/np.sqrt(h**2+k**2))*ket_11\n",
    "state_g = Statevector(ket_g)\n",
    "display('Ground State:', state_g.draw('latex'))\n",
    "\n",
    "# Hamiltonians\n",
    "H_A = h*Z_A + h**2/np.sqrt(h**2+k**2) * I\n",
    "H_B = h*Z_B + h**2/np.sqrt(h**2+k**2) * I\n",
    "V = 2*k*X_AB + 2*k**2/np.sqrt(h**2+k**2) * I\n",
    "\n",
    "# Define angle phi\n",
    "phi = np.arctan2(h*k, h**2 + 2*k**2)/2\n",
    "\n",
    "# Define operations\n",
    "def P_0(mi):\n",
    "    \"\"\"Projective measurement on qubit 0 or A\"\"\"\n",
    "    return 1/2 * (I + mi*X_A)\n",
    "\n",
    "def U_1(mi):\n",
    "    \"\"\"Conditional unitary operation\"\"\"\n",
    "    return np.cos(phi) * I - 1j*mi*np.sin(phi) * Y_B\n",
    "\n",
    "# Final State Density Matrix\n",
    "P_QET = U_1(-1)@P_0(-1)@(ket_g@ket_g.conj().T)@P_0(-1)@U_1(-1).conj().T + U_1(+1)@P_0(+1)@(ket_g@ket_g.conj().T)@P_0(+1)@U_1(+1).conj().T\n",
    "display('Final State:', Operator(P_QET).draw('latex'))\n",
    "\n",
    "# Energies\n",
    "E_Ha = np.trace(P_QET@H_A).real\n",
    "E_Hb = np.trace(P_QET@H_B).real\n",
    "E_V = np.trace(P_QET@V).real\n",
    "E_A = np.trace(P_QET@(H_A+V)).real\n",
    "E_B = np.trace(P_QET@(H_B+V)).real # or -(h*k* np.sin(2*phi) - (h**2+2*k**2) * (1-np.cos(2*phi))) / np.sqrt(h**2 + k**2)\n",
    "\n",
    "# Print results\n",
    "print(f\"\"\"\n",
    "Ground State Energies:\n",
    "<H_A> = {ket_g.T@H_A@ket_g}\n",
    "<H_B> = {ket_g.T@H_B@ket_g}\n",
    "<V> = {ket_g.T@V@ket_g}\n",
    "            \n",
    "Final Energies:\n",
    "H_A = {E_Ha},\n",
    "H_B = {E_Hb},\n",
    "V = {E_V},\n",
    "E_A = {E_A},\n",
    "E_B = {E_B}\n",
    "\"\"\")"
   ]
  },
  {
   "cell_type": "markdown",
   "metadata": {},
   "source": [
    "### Function to generate a circuit that measures the local term $\\sigma_Z$ or $H_b$\n",
    "\n",
    "This circuit implements the minimal model and measures $H_b$."
   ]
  },
  {
   "cell_type": "code",
   "execution_count": 26,
   "metadata": {},
   "outputs": [],
   "source": [
    "def qc_H(h,k):\n",
    "\n",
    "    # Generate circuit\n",
    "    qc = QuantumCircuit(2)\n",
    "\n",
    "    #Prepare the ground state\n",
    "    theta = -np.arcsin((1/np.sqrt(2))*(np.sqrt(1+h/np.sqrt(h**2+k**2))))\n",
    "\n",
    "    qc.ry(2*theta,0)\n",
    "    qc.cx(0,1)\n",
    "\n",
    "    # Projective measurement on A\n",
    "    qc.barrier()\n",
    "    qc.h(0)\n",
    "\n",
    "    # Condicional operation on B\n",
    "    qc.barrier()\n",
    "    phi = 0.5*np.arcsin((h*k)/np.sqrt((h**2+2*k**2)**2+(h*k)**2))\n",
    "\n",
    "    qc.cry(-2*phi,0,1)\n",
    "    \n",
    "    qc.x(0)\n",
    "    qc.cry(2*phi,0,1)\n",
    "    qc.x(0)\n",
    "\n",
    "    # measurement of Bob's Z term\n",
    "    qc.measure_all()\n",
    "\n",
    "    return qc"
   ]
  },
  {
   "cell_type": "markdown",
   "metadata": {},
   "source": [
    "### Function to generate a circuit that measures the interaction term $\\sigma_X\\sigma_X$ or $V$\n",
    "\n",
    "This circuit is the same as above, but measures in the basis $\\sigma_X$."
   ]
  },
  {
   "cell_type": "code",
   "execution_count": null,
   "metadata": {},
   "outputs": [
    {
     "data": {
      "image/png": "[encoded data removed]",
      "text/plain": [
       "<Figure size 1165.66x284.278 with 1 Axes>"
      ]
     },
     "execution_count": 2,
     "metadata": {},
     "output_type": "execute_result"
    }
   ],
   "source": [
    "def qc_V(h,k):\n",
    "\n",
    "    # Create circuit\n",
    "    qc = QuantumCircuit(2)\n",
    "    \n",
    "    #Prepare the ground state\n",
    "    theta = -np.arcsin((1/np.sqrt(2))*(np.sqrt(1+h/np.sqrt(h**2+k**2))))\n",
    "\n",
    "    qc.ry(2*theta,0)\n",
    "    qc.cx(0,1)\n",
    "\n",
    "    # Projective measurement of A\n",
    "    qc.barrier()\n",
    "    qc.h(0)\n",
    "\n",
    "    # Condicional operation on B\n",
    "    qc.barrier()\n",
    "    phi = 0.5*np.arcsin((h*k)/np.sqrt((h**2+2*k**2)**2+(h*k)**2))\n",
    "\n",
    "    qc.cry(-2*phi,0,1)\n",
    "\n",
    "    qc.x(0)\n",
    "    qc.cry(2*phi,0,1)\n",
    "    qc.x(0)\n",
    "\n",
    "    # Measurement of the interaction term V\n",
    "    qc.h(1)\n",
    "    qc.measure_all()\n",
    "\n",
    "    return qc"
   ]
  },
  {
   "cell_type": "markdown",
   "metadata": {},
   "source": [
    "### Circuit for Estimator"
   ]
  },
  {
   "cell_type": "code",
   "execution_count": 20,
   "metadata": {},
   "outputs": [],
   "source": [
    "def qc_T(h,k):\n",
    "\n",
    "    # Create circuit\n",
    "    qc = QuantumCircuit(2)\n",
    "    \n",
    "    #Prepare the ground state\n",
    "    theta = -np.arcsin((1/np.sqrt(2))*(np.sqrt(1+h/np.sqrt(h**2+k**2))))\n",
    "\n",
    "    qc.ry(2*theta,0)\n",
    "    qc.cx(0,1)\n",
    "\n",
    "    # Projective measurement of A\n",
    "    qc.barrier()\n",
    "    qc.h(0)\n",
    "\n",
    "    # Condicional operation on B\n",
    "    qc.barrier()\n",
    "    phi = 0.5*np.arcsin((h*k)/np.sqrt((h**2+2*k**2)**2+(h*k)**2))\n",
    "\n",
    "    qc.cry(-2*phi,0,1)\n",
    "\n",
    "    qc.x(0)\n",
    "    qc.cry(2*phi,0,1)\n",
    "    qc.x(0)\n",
    "\n",
    "    # Measurement of the interaction term V\n",
    "    qc.h(0)\n",
    "    #qc.measure_all()\n",
    "\n",
    "    return qc"
   ]
  },
  {
   "cell_type": "markdown",
   "metadata": {},
   "source": [
    "### Show quantum circuit"
   ]
  },
  {
   "cell_type": "code",
   "execution_count": 4,
   "metadata": {},
   "outputs": [
    {
     "data": {
      "image/png": "[encoded data removed]",
      "text/plain": [
       "<Figure size 1165.66x284.278 with 1 Axes>"
      ]
     },
     "execution_count": 4,
     "metadata": {},
     "output_type": "execute_result"
    }
   ],
   "source": [
    "qc = qc_H(1, 1)\n",
    "qc.draw('mpl')"
   ]
  },
  {
   "cell_type": "markdown",
   "metadata": {},
   "source": [
    "### Simulate circuits with aer simulator\n",
    "\n",
    "Simulates the circuits without noise but with statistical randomness. "
   ]
  },
  {
   "cell_type": "code",
   "execution_count": 37,
   "metadata": {},
   "outputs": [],
   "source": [
    "# Initiate simulator\n",
    "simulator = AerSimulator()\n",
    "\n",
    "# Parameters\n",
    "h = 1; k = 0.2;\n",
    "n_shots = 100000\n",
    "\n",
    "# Generate circuits\n",
    "qc = qc_H(h, k)\n",
    "qc_A = transpile(qc, simulator, optimization_level=3)\n",
    "\n",
    "qc = qc_V(h, k)\n",
    "qc_B = transpile(qc, simulator, optimization_level=3)\n",
    "\n",
    "# Run job with Sampler\n",
    "jobA_sim = simulator.run([qc_B], shots=n_shots)\n",
    "jobB_sim = simulator.run([qc_B], shots=n_shots)"
   ]
  },
  {
   "cell_type": "markdown",
   "metadata": {},
   "source": [
    "### Show results for simulated circuit $H$"
   ]
  },
  {
   "cell_type": "code",
   "execution_count": 38,
   "metadata": {},
   "outputs": [
    {
     "name": "stdout",
     "output_type": "stream",
     "text": [
      "H_A = 0.9793406756909201 ± 0.0031622752290083795\n",
      "H_B = 0.9733006756909202 ± 0.0031621938612298897\n"
     ]
    },
    {
     "data": {
      "image/png": "[encoded data removed]",
      "text/plain": [
       "<Figure size 640x480 with 1 Axes>"
      ]
     },
     "execution_count": 38,
     "metadata": {},
     "output_type": "execute_result"
    }
   ],
   "source": [
    "# Extract results\n",
    "result = jobA_sim.result()\n",
    "counts = result.get_counts()\n",
    "\n",
    "# Energies\n",
    "ene_A = (h**2)/(np.sqrt(h**2+k**2))\n",
    "ene_B = (h**2)/(np.sqrt(h**2+k**2))\n",
    "\n",
    "# Error arrays\n",
    "error_A = []\n",
    "error_B = []\n",
    "\n",
    "# Calculate energies and errors\n",
    "for orig_bit_string, count in counts.items():\n",
    "        bit_string = orig_bit_string[::-1]\n",
    "\n",
    "        ene_A += h*(-1)**int(bit_string[0])*count/n_shots\n",
    "        ene_B += h*(-1)**int(bit_string[1])*count/n_shots\n",
    "\n",
    "        for i in range(count):\n",
    "            error_A.append(h*(-1)**int(bit_string[0]))\n",
    "            error_B.append(h*(-1)**int(bit_string[1]))\n",
    "\n",
    "# Print results\n",
    "#print(\"Theoric energy injected by Alice\",h**2/np.sqrt(h**2+k**2))\n",
    "print(\"H_A =\",ene_A,\"±\",np.std(error_A)/np.sqrt(n_shots))\n",
    "print(\"H_B =\",ene_B,\"±\",np.std(error_B)/np.sqrt(n_shots))\n",
    "\n",
    "plot_histogram(counts, title=\"aer_simulator - H\")"
   ]
  },
  {
   "cell_type": "markdown",
   "metadata": {},
   "source": [
    "### Show results for simulated circuit V"
   ]
  },
  {
   "cell_type": "code",
   "execution_count": 36,
   "metadata": {},
   "outputs": [
    {
     "name": "stdout",
     "output_type": "stream",
     "text": [
      "V = -0.37930643762690514 ± 0.006324554863703848\n"
     ]
    },
    {
     "data": {
      "image/png": "[encoded data removed]",
      "text/plain": [
       "<Figure size 640x480 with 1 Axes>"
      ]
     },
     "execution_count": 36,
     "metadata": {},
     "output_type": "execute_result"
    }
   ],
   "source": [
    "# Extract results\n",
    "result = jobB_sim.result()\n",
    "counts = result.get_counts()\n",
    "\n",
    "# Energies\n",
    "ene_V = (2*k**2)/(np.sqrt(h**2+k**2))\n",
    "\n",
    "# Error arrays\n",
    "error_V = []\n",
    "\n",
    "# Calculate energies\n",
    "for orig_bit_string, count in counts.items():\n",
    "        bit_string = orig_bit_string[::-1]\n",
    "\n",
    "        ene_V += 2*k*(-1)**int(bit_string[0])*(-1)**int(bit_string[1])*count/n_shots\n",
    "\n",
    "        for i in range(count):\n",
    "            error_V.append(2*k*(-1)**(int(bit_string[1])))\n",
    "\n",
    "# Print results\n",
    "print(\"V =\",ene_V,\"±\",np.std(error_V)/np.sqrt(n_shots))\n",
    "\n",
    "plot_histogram(counts, title='aer_simulator - V')"
   ]
  },
  {
   "cell_type": "markdown",
   "metadata": {},
   "source": [
    "### Get backend and its properties\n",
    "\n",
    "Login the IBM Quantum Platform, selects the QPU with least number of jobs qeueded and shows some of its properties."
   ]
  },
  {
   "cell_type": "code",
   "execution_count": 6,
   "metadata": {},
   "outputs": [
    {
     "name": "stderr",
     "output_type": "stream",
     "text": [
      "C:\\Users\\julio\\AppData\\Local\\Temp\\ipykernel_15232\\1821219519.py:3: DeprecationWarning: The \"ibm_quantum\" channel option is deprecated and will be sunset on 1 July. After this date, \"ibm_cloud\" and \"local\" will be the only valid channels. For information on migrating to the new IBM Quantum Platform on the \"ibm_cloud\" channel, review the migration guide https://quantum.cloud.ibm.com/docs/migration-guides/classic-iqp-to-cloud-iqp .\n",
      "  service = QiskitRuntimeService()\n"
     ]
    },
    {
     "name": "stdout",
     "output_type": "stream",
     "text": [
      "Backend = ibm_brisbane\n",
      "Qubit 0 has a \n",
      "  - T1 time of 116.4054772797434 microseconds\n",
      "  - T2 time of 44.00809937781838 microseconds\n",
      "  - U2 gate error of 0.00022439267322114942\n",
      "  - U2 gate duration of 59.99999999999999 nanoseconds\n",
      "\n"
     ]
    }
   ],
   "source": [
    "# Log in IBM platform\n",
    "from qiskit_ibm_runtime import QiskitRuntimeService\n",
    "service = QiskitRuntimeService()\n",
    "\n",
    "# Select least busy backend\n",
    "backend = service.least_busy(operational=True)\n",
    "\n",
    "# Get backend properties\n",
    "props = backend.properties()\n",
    "\n",
    "# Function to select specific properties\n",
    "def describe_qubit(qubit, properties):\n",
    "    \"\"\"Print a string describing some of reported properties of the given qubit.\"\"\"\n",
    "\n",
    "    # Conversion factors from standard SI units\n",
    "    us = 1e6\n",
    "    ns = 1e9\n",
    "    GHz = 1e-9\n",
    "\n",
    "    print(\"Backend = {5}\\n\"\n",
    "          \"Qubit {0} has a \\n\"\n",
    "          \"  - T1 time of {1} microseconds\\n\"\n",
    "          \"  - T2 time of {2} microseconds\\n\"\n",
    "          \"  - U2 gate error of {3}\\n\"\n",
    "          \"  - U2 gate duration of {4} nanoseconds\\n\".format(\n",
    "              qubit,\n",
    "              properties.t1(qubit) * us,\n",
    "              properties.t2(qubit) * us,\n",
    "              properties.gate_error('sx', qubit),\n",
    "              properties.gate_length('sx', qubit) * ns,\n",
    "              backend.name))\n",
    "\n",
    "describe_qubit(0, props)"
   ]
  },
  {
   "cell_type": "markdown",
   "metadata": {},
   "source": [
    "### Run job with Sampler\n",
    "\n",
    "Runs both circuits that measures $H_B$ and $V$ with the Sampler primitive."
   ]
  },
  {
   "cell_type": "code",
   "execution_count": null,
   "metadata": {},
   "outputs": [],
   "source": [
    "# Import Sampler \n",
    "from qiskit_ibm_runtime import Batch, SamplerV2 as sampler\n",
    "\n",
    "# Parameters h and k\n",
    "variables = [(1,0.2),(1,0.5),(1,1),(1.5,1),(1,1.5)]\n",
    "\n",
    "#  Run job in Batch mode\n",
    "with Batch(backend=backend):\n",
    "    n_shots = 3000\n",
    "\n",
    "    # initiate sampler and enable error mitigation\n",
    "    sampler = sampler()\n",
    "    options = sampler.options\n",
    "    options.dynamical_decoupling.enable = True\n",
    "    options.twirling.enable_gates = True\n",
    "\n",
    "    for variable in variables:\n",
    "        h = variable[0]\n",
    "        k = variable[1]\n",
    "\n",
    "        # Generate circuits H and V\n",
    "        circuit_H = qc_H(h,k)\n",
    "        transpiled_H = transpile(circuit_H, backend=backend, optimization_level=3)\n",
    "\n",
    "        circuit_V = qc_V(h,k)\n",
    "        transpiled_V = transpile(circuit_V, backend=backend, optimization_level=3)\n",
    "        \n",
    "        # Run jobs for each circuit\n",
    "        job_H = sampler.run([(transpiled_H)], shots=n_shots)\n",
    "        job_H.update_tags([f'k={k},h={h}', 'error mitigated','sampler','H', 'MM',f'{n_shots}'])  # Add tags to job\n",
    "        print(f\"Sampler H, ID = {job_H.job_id()}, h = {h} k = {k}\")\n",
    "\n",
    "        job_V = sampler.run([(transpiled_V)], shots=n_shots)\n",
    "        job_V.update_tags([f'k={k},h={h}', 'error mitigated','sampler','V', 'MM'])  # Add tags to job\n",
    "        print(f\"Sampler V, ID = {job_V.job_id()}, h = {h} k = {k}\")"
   ]
  },
  {
   "cell_type": "markdown",
   "metadata": {},
   "source": [
    "### Run job with Estimator\n",
    "\n",
    "Runs the appropriate circuit with the Estimator primitive."
   ]
  },
  {
   "cell_type": "code",
   "execution_count": 215,
   "metadata": {},
   "outputs": [],
   "source": [
    "# Import Estimator \n",
    "from qiskit_ibm_runtime import Batch, EstimatorV2 as estimator\n",
    "from qiskit.transpiler import preset_passmanagers\n",
    "from qiskit.quantum_info import SparsePauliOp \n",
    "\n",
    "# Parameters h and k\n",
    "variables = [(1,0.2),(1,0.5),(1,1),(1.5,1),(1,1.5)]\n",
    "\n",
    "transpiler = preset_passmanagers.generate_preset_pass_manager(optimization_level=3, backend=backend)\n",
    "\n",
    "#  Run job in Batch mode\n",
    "with Batch(backend=backend):\n",
    "\n",
    "    for variable in variables:\n",
    "        h = variable[0]\n",
    "        k = variable[1]\n",
    "        observables = [SparsePauliOp('ZI', h), SparsePauliOp('XX', 2*k)]\n",
    "\n",
    "        # Generate circuit\n",
    "        circuit_T = qc_T(h,k)\n",
    "        qc_t = transpiler.run(circuit_T)\n",
    "        \n",
    "        # Run jobs\n",
    "        transpiled_observable = observables[0].apply_layout(qc_t.layout)\n",
    "        job_C = estimator(options={\"resilience_level\": 2}).run([(qc_t, transpiled_observable)])\n",
    "        job_C.update_tags([f'k={k},h={h}', 'error mitigated', 'estimator', 'H', 'MM']) # Add tags\n",
    "        print(f\"Estimator H, ID = {job_C.job_id()}, h = {h} k = {k}\") \n",
    "\n",
    "        transpiled_observable = observables[1].apply_layout(qc_t.layout)\n",
    "        job_D = estimator(options={\"resilience_level\": 2}).run([(qc_t, transpiled_observable)]) \n",
    "        job_D.update_tags([f'k={k},h={h}', 'error mitigated', 'estimator', 'V', 'MM']) # Add tags\n",
    "        print(f\"Estimator V, ID = {job_D.job_id()}, h = {h} k = {k}\") "
   ]
  },
  {
   "cell_type": "code",
   "execution_count": 21,
   "metadata": {},
   "outputs": [
    {
     "name": "stdout",
     "output_type": "stream",
     "text": [
      "Estimator H, ID = d0ydv3wvx7bg0082dmv0, h = 1 k = 1\n",
      "Estimator V, ID = d0ydv5c7qc70008sddn0, h = 1 k = 1\n",
      "Estimator A, ID = d0ydv6w1wej00089x070, h = 1 k = 1\n"
     ]
    }
   ],
   "source": [
    "# Import Estimator \n",
    "from qiskit_ibm_runtime import Batch, EstimatorV2 as estimator\n",
    "from qiskit.transpiler import preset_passmanagers\n",
    "from qiskit.quantum_info import SparsePauliOp \n",
    "\n",
    "# Parameters h and k\n",
    "#variables = [(1,0.2),(1,0.5),(1,1),(1.5,1),(1,1.5)]\n",
    "variables = [(1,1)]\n",
    "\n",
    "transpiler = preset_passmanagers.generate_preset_pass_manager(optimization_level=3, backend=backend)\n",
    "\n",
    "#  Run job in Batch mode\n",
    "with Batch(backend=backend):\n",
    "\n",
    "    for variable in variables:\n",
    "        h = variable[0]\n",
    "        k = variable[1]\n",
    "        observables = [SparsePauliOp('ZI', h), SparsePauliOp('XX', 2*k), SparsePauliOp('IZ', h)]\n",
    "\n",
    "        # Generate circuit\n",
    "        circuit_H = qc_H(h,k)\n",
    "        qc_t = transpiler.run(circuit_H)\n",
    "\n",
    "        circuit_V = qc_V(h,k)\n",
    "        transpiled_V = transpiler.run(circuit_V)\n",
    "\n",
    "        circuit_T = qc_T(h,k)\n",
    "        qc_t = transpiler.run(circuit_T)\n",
    "        \n",
    "        # Run jobs\n",
    "        transpiled_observable = observables[0].apply_layout(qc_t.layout)\n",
    "        job_H = estimator(options={\"resilience_level\": 2}).run([(qc_t, transpiled_observable)])\n",
    "        job_H.update_tags([f'k={k},h={h}', 'error mitigated', 'estimator', 'B', 'MM']) # Add tags\n",
    "        print(f\"Estimator H, ID = {job_H.job_id()}, h = {h} k = {k}\") \n",
    "\n",
    "        transpiled_observable = observables[1].apply_layout(qc_t.layout)\n",
    "        job_V = estimator(options={\"resilience_level\": 2}).run([(qc_t, transpiled_observable)]) \n",
    "        job_V.update_tags([f'k={k},h={h}', 'error mitigated', 'estimator', 'V', 'MM']) # Add tags\n",
    "        print(f\"Estimator V, ID = {job_V.job_id()}, h = {h} k = {k}\") \n",
    "\n",
    "        transpiled_observable = observables[2].apply_layout(qc_t.layout)\n",
    "        job_A = estimator(options={\"resilience_level\": 2}).run([(qc_t, transpiled_observable)])\n",
    "        job_A.update_tags([f'k={k},h={h}', 'error mitigated', 'estimator', 'A', 'MM']) # Add tags\n",
    "        print(f\"Estimator A, ID = {job_A.job_id()}, h = {h} k = {k}\") "
   ]
  },
  {
   "cell_type": "markdown",
   "metadata": {},
   "source": [
    "### Show results for circuit H"
   ]
  },
  {
   "cell_type": "code",
   "execution_count": 25,
   "metadata": {},
   "outputs": [
    {
     "name": "stdout",
     "output_type": "stream",
     "text": [
      "H_A = 0.7019067811865476 ± 0.014141944420764775\n",
      "Sampler B = 0.28510678118654736 ± 0.012821201191776066\n",
      "Estimator B = 0.28940506043938174 ± 0.044136117833493256\n"
     ]
    },
    {
     "data": {
      "image/png": "[encoded data removed]",
      "text/plain": [
       "<Figure size 640x480 with 1 Axes>"
      ]
     },
     "execution_count": 25,
     "metadata": {},
     "output_type": "execute_result"
    }
   ],
   "source": [
    "# Extract results\n",
    "\n",
    "# Sampler\n",
    "jobS = service.job('czzxtx3nhqag008v1a5g')\n",
    "result = jobS.result()[0]\n",
    "counts = result.data.meas.get_counts()\n",
    "\n",
    "# Estimator\n",
    "jobT = service.job('d0ydv3wvx7bg0082dmv0')\n",
    "result = jobT.result()[0]\n",
    "exp_value = result.data.evs\n",
    "value_error = result.data.stds\n",
    "\n",
    "# parameters\n",
    "h = 1; k = 1;\n",
    "n_shots = 5000\n",
    "\n",
    "# Energies\n",
    "ene_A = (h**2)/(np.sqrt(h**2+k**2))\n",
    "ene_B = (h**2)/(np.sqrt(h**2+k**2))\n",
    "est_B = exp_value + ene_B\n",
    "\n",
    "# Error arrays\n",
    "error_A = []\n",
    "error_B = []\n",
    "\n",
    "# Calculate errors\n",
    "for orig_bit_string, count in counts.items():\n",
    "        bit_string = orig_bit_string[::-1]\n",
    "\n",
    "        ene_A += h*(-1)**int(bit_string[0])*count/n_shots\n",
    "        ene_B += h*(-1)**int(bit_string[1])*count/n_shots\n",
    "\n",
    "        for i in range(count):\n",
    "            error_A.append(h*(-1)**int(bit_string[0]))\n",
    "            error_B.append(h*(-1)**int(bit_string[1]))\n",
    "\n",
    "# Print results\n",
    "print(f\"H_A = {ene_A} ± {np.std(error_A)/np.sqrt(n_shots)}\")\n",
    "print(f\"Sampler B = {ene_B} ± {np.std(error_B)/np.sqrt(n_shots)}\")\n",
    "print(f\"Estimator B = {est_B} ± {value_error}\")\n",
    "\n",
    "plot_histogram(counts, title=f\"{jobS.backend().name} - H\")"
   ]
  },
  {
   "cell_type": "markdown",
   "metadata": {},
   "source": [
    "### Show results for circuit V"
   ]
  },
  {
   "cell_type": "code",
   "execution_count": 23,
   "metadata": {},
   "outputs": [
    {
     "name": "stdout",
     "output_type": "stream",
     "text": [
      "V = -0.32498643762690504 ± 0.028265112913271724\n",
      "Estimated V = -0.33456180860668683 ± 0.0727060898394306\n"
     ]
    },
    {
     "data": {
      "image/png": "[encoded data removed]",
      "text/plain": [
       "<Figure size 640x480 with 1 Axes>"
      ]
     },
     "execution_count": 23,
     "metadata": {},
     "output_type": "execute_result"
    }
   ],
   "source": [
    "# Extract results\n",
    "\n",
    "# Sampler\n",
    "jobS = service.job('czzxtvknhqag008v1a40')\n",
    "result = jobS.result()[0]\n",
    "counts = result.data.meas.get_counts()\n",
    "\n",
    "# Estimator\n",
    "jobT = service.job('d0ydv5c7qc70008sddn0')\n",
    "result = jobT.result()[0]\n",
    "exp_value = result.data.evs\n",
    "value_error = result.data.stds\n",
    "\n",
    "# Parameters \n",
    "h = 1;k = 1;\n",
    "n_shots = 5000\n",
    "\n",
    "# Energies\n",
    "ene_V = (2*k**2)/(np.sqrt(h**2+k**2))\n",
    "est_V = exp_value + ene_V\n",
    "\n",
    "# Erros arrays\n",
    "error_V = []\n",
    "\n",
    "# Calculate energies and errors\n",
    "for orig_bit_string, count in counts.items():\n",
    "        bit_string = orig_bit_string[::-1]\n",
    "\n",
    "        ene_V += 2*k*(-1)**int(bit_string[0])*(-1)**int(bit_string[1])*count/n_shots\n",
    "\n",
    "        for i in range(count):\n",
    "            error_V.append(2*k*(-1)**(int(bit_string[1])))\n",
    "\n",
    "# Print results\n",
    "print(f\"V = {ene_V} ± {np.std(error_V)/np.sqrt(n_shots)}\")\n",
    "print(f\"Estimated V = {est_V} ± {value_error}\")\n",
    "\n",
    "plot_histogram(counts, title=f\"{jobS.backend().name} - V\")"
   ]
  },
  {
   "cell_type": "markdown",
   "metadata": {},
   "source": [
    "## Extra: Initial ground state energy\n",
    "\n",
    "Generate the ground state of the Minimal Model, simulate circuits to measure $H_A$, $H_B$ and $V$ and calculates $E_A$ and $E_B$"
   ]
  },
  {
   "cell_type": "code",
   "execution_count": null,
   "metadata": {},
   "outputs": [],
   "source": [
    "from qiskit_aer.primitives import SamplerV2 as sampler\n",
    "\n",
    "h = 1; k = 1;\n",
    "theta = -np.arcsin((1/np.sqrt(2))*(np.sqrt(1+h/np.sqrt(h**2+k**2))))\n",
    "\n",
    "# Circuit V\n",
    "\n",
    "qcV = QuantumCircuit(2)\n",
    "\n",
    "# Prepare the ground state\n",
    "qcV.ry(2*theta,0)\n",
    "qcV.cx(0,1)\n",
    "\n",
    "# Measure Energies\n",
    "qcV.h(0)\n",
    "qcV.h(1)\n",
    "qcV.measure_all()\n",
    "\n",
    "# Circuit H\n",
    "\n",
    "qcH = QuantumCircuit(2)\n",
    "\n",
    "# Prepare the ground state\n",
    "qcH.ry(2*theta,0)\n",
    "qcH.cx(0,1)\n",
    "\n",
    "# Measure Energies\n",
    "qcH.measure_all()\n",
    "\n",
    "###################################################################################################################################################################################################\n",
    "\n",
    "# Initiate simulator\n",
    "simulator = AerSimulator()\n",
    "\n",
    "# Parameters\n",
    "n_shots = 100000\n",
    "\n",
    "# Generate circuits\n",
    "qcH = transpile(qcH, simulator, optimization_level=3)\n",
    "\n",
    "qcV = transpile(qcV, simulator, optimization_level=3)\n",
    "\n",
    "# Run job with Sampler\n",
    "jobA = sampler().run([qcH], shots=n_shots)\n",
    "jobB = sampler().run([qcV], shots=n_shots)\n",
    "\n",
    "###################################################################################################################################################################################################\n",
    "result = jobA.result()[0]\n",
    "counts = result.data.meas.get_counts()\n",
    "\n",
    "# Energies\n",
    "ene_A = (h**2)/(np.sqrt(h**2+k**2))\n",
    "ene_B = (h**2)/(np.sqrt(h**2+k**2))\n",
    "\n",
    "# Error arrays\n",
    "error_A = []\n",
    "error_B = []\n",
    "\n",
    "# Calculate errors\n",
    "for orig_bit_string, count in counts.items():\n",
    "        bit_string = orig_bit_string[::-1]\n",
    "\n",
    "        ene_A += h*(-1)**int(bit_string[0])*count/n_shots\n",
    "        ene_B += h*(-1)**int(bit_string[1])*count/n_shots\n",
    "\n",
    "        for i in range(count):\n",
    "            error_A.append(h*(-1)**int(bit_string[0]))\n",
    "            error_B.append(h*(-1)**int(bit_string[1]))\n",
    "\n",
    "# Print results\n",
    "print(\"H_A =\",ene_A,\"±\",np.std(error_A)/np.sqrt(n_shots))\n",
    "print(\"H_B =\",ene_B,\"±\",np.std(error_B)/np.sqrt(n_shots))\n",
    "\n",
    "\n",
    "result = jobB.result()[0]\n",
    "counts = result.data.meas.get_counts()\n",
    "\n",
    "# Energies\n",
    "ene_V = (2*k**2)/(np.sqrt(h**2+k**2))\n",
    "\n",
    "# Erros arrays\n",
    "error_V = []\n",
    "\n",
    "# Calculate energies and errors\n",
    "for orig_bit_string, count in counts.items():\n",
    "        bit_string = orig_bit_string[::-1]\n",
    "\n",
    "        ene_V += 2*k*(-1)**int(bit_string[0])*(-1)**int(bit_string[1])*count/n_shots\n",
    "\n",
    "        for i in range(count):\n",
    "            error_V.append(2*k*(-1)**(int(bit_string[1])))\n",
    "\n",
    "# Print results\n",
    "print(\"V =\",ene_V,\"±\",np.std(error_V)/np.sqrt(n_shots))\n",
    "\n",
    "###################################################################################################################################################################################################\n",
    "print(\"E_A =\", ene_A + ene_V)\n",
    "print(\"E_B =\", ene_B + ene_V)\n",
    "\n",
    "plot_histogram(counts)"
   ]
  }
 ],
 "metadata": {
  "kernelspec": {
   "display_name": "Python 3",
   "language": "python",
   "name": "python3"
  },
  "language_info": {
   "codemirror_mode": {
    "name": "ipython",
    "version": 3
   },
   "file_extension": ".py",
   "mimetype": "text/x-python",
   "name": "python",
   "nbconvert_exporter": "python",
   "pygments_lexer": "ipython3",
   "version": "3.13.1"
  }
 },
 "nbformat": 4,
 "nbformat_minor": 2
}
