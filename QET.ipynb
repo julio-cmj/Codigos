{
 "cells": [
  {
   "cell_type": "markdown",
   "metadata": {},
   "source": [
    "## Quantum energy teleportation protocol with minimal model"
   ]
  },
  {
   "cell_type": "markdown",
   "metadata": {},
   "source": [
    "### Import packages"
   ]
  },
  {
   "cell_type": "code",
   "execution_count": null,
   "metadata": {},
   "outputs": [],
   "source": [
    "import numpy as np\n",
    "from qiskit import QuantumCircuit, QuantumRegister\n",
    "from qiskit import transpile\n",
    "\n",
    "from qiskit_aer import AerSimulator\n",
    "from qiskit_aer.primitives import SamplerV2 as sampler\n",
    "from qiskit.visualization import plot_histogram"
   ]
  },
  {
   "cell_type": "markdown",
   "metadata": {},
   "source": [
    "### Function to generate a circuit that measures the interaction term $X_0X_1$ or $V$"
   ]
  },
  {
   "cell_type": "code",
   "execution_count": 28,
   "metadata": {},
   "outputs": [],
   "source": [
    "def qc_V(h,k):\n",
    "\n",
    "    # Create circuit\n",
    "    qr = QuantumRegister(2)\n",
    "    qc = QuantumCircuit(qr)\n",
    "    \n",
    "    #Prepare the ground state\n",
    "    theta = -np.arcsin((1/np.sqrt(2))*(np.sqrt(1+h/np.sqrt(h**2+k**2))))\n",
    "\n",
    "    qc.ry(2*theta,qr[0])\n",
    "    qc.cx(qr[0],qr[1])\n",
    "\n",
    "    qc.barrier()\n",
    "\n",
    "    # Projective measurement of A\n",
    "    qc.h(qr[0])\n",
    "\n",
    "    qc.barrier()\n",
    "\n",
    "    # Condicional operation on B\n",
    "    phi = 0.5*np.arcsin((h*k)/np.sqrt((h**2+2*k**2)**2+(h*k)**2))\n",
    "\n",
    "    qc.cry(-2*phi,qr[0],qr[1])\n",
    "\n",
    "    qc.x(qr[0])\n",
    "    qc.cry(2*phi,qr[0],qr[1])\n",
    "    qc.x(qr[0])\n",
    "\n",
    "    # Measurement of the interaction term V\n",
    "    qc.h(qr[1])\n",
    "    qc.measure_all()\n",
    "\n",
    "    return qc\n"
   ]
  },
  {
   "cell_type": "markdown",
   "metadata": {},
   "source": [
    "### Function to generate a circuit that measures the local term $Z_1$ or $H_1$"
   ]
  },
  {
   "cell_type": "code",
   "execution_count": null,
   "metadata": {},
   "outputs": [],
   "source": [
    "def qc_H(h,k):\n",
    "\n",
    "    # Generate circuit\n",
    "    qr = QuantumRegister(2)\n",
    "    qc = QuantumCircuit(qr)\n",
    "\n",
    "    #Prepare the ground state\n",
    "    theta = -np.arcsin((1/np.sqrt(2))*(np.sqrt(1+h/np.sqrt(h**2+k**2))))\n",
    "\n",
    "    qc.ry(2*theta,qr[0])\n",
    "    qc.cx(qr[0],qr[1])\n",
    "    \n",
    "    qc.barrier()\n",
    "\n",
    "    # Projective measurement on A\n",
    "    qc.h(qr[0])\n",
    "\n",
    "    qc.barrier()\n",
    "\n",
    "    # Condicional operation on B\n",
    "    phi = 0.5*np.arcsin((h*k)/np.sqrt((h**2+2*k**2)**2+(h*k)**2))\n",
    "\n",
    "    qc.cry(-2*phi,qr[0],qr[1])\n",
    "    \n",
    "    qc.x(qr[0])\n",
    "    qc.cry(2*phi,qr[0],qr[1])\n",
    "    qc.x(qr[0])\n",
    "\n",
    "    # measurement of Bob's Z term\n",
    "    qc.measure_all()\n",
    "\n",
    "    return qc"
   ]
  },
  {
   "cell_type": "markdown",
   "metadata": {},
   "source": [
    "### Show quantum circuit"
   ]
  },
  {
   "cell_type": "code",
   "execution_count": 39,
   "metadata": {},
   "outputs": [
    {
     "data": {
      "image/png": "[encoded data removed]",
      "text/plain": [
       "<Figure size 1165.66x284.278 with 1 Axes>"
      ]
     },
     "execution_count": 39,
     "metadata": {},
     "output_type": "execute_result"
    }
   ],
   "source": [
    "qc = qc_H(1.5, 1)\n",
    "qc.draw('mpl')"
   ]
  },
  {
   "cell_type": "markdown",
   "metadata": {},
   "source": [
    "### Simulate circuit $V$ with aer simulator"
   ]
  },
  {
   "cell_type": "code",
   "execution_count": 35,
   "metadata": {},
   "outputs": [],
   "source": [
    "# Initiate simulator\n",
    "simulator = AerSimulator()\n",
    "\n",
    "# Parameters\n",
    "h = 1.5; k = 1;\n",
    "n_shots = 100000\n",
    "\n",
    "# Generate circuit\n",
    "qc = qc_V(h, k)\n",
    "qc_A = transpile(qc, simulator, optimization_level=3)\n",
    "\n",
    "# Run job with Sampler\n",
    "jobA_sim = sampler().run([qc_A], shots=n_shots)"
   ]
  },
  {
   "cell_type": "markdown",
   "metadata": {},
   "source": [
    "### Simulate circuit H with aer simulator"
   ]
  },
  {
   "cell_type": "code",
   "execution_count": 36,
   "metadata": {},
   "outputs": [],
   "source": [
    "# Initiate simulator\n",
    "simulator = AerSimulator()\n",
    "\n",
    "# Parameters\n",
    "h = 1.5; k = 1;\n",
    "n_shots = 100000\n",
    "\n",
    "# Generate circuit\n",
    "qc = qc_H(h, k)\n",
    "qc_B = transpile(qc, simulator, optimization_level=3)\n",
    "\n",
    "# Run job with Sampler\n",
    "jobB_sim = sampler().run([qc_B], shots=n_shots)"
   ]
  },
  {
   "cell_type": "markdown",
   "metadata": {},
   "source": [
    "### Show results for simulated circuit V"
   ]
  },
  {
   "cell_type": "code",
   "execution_count": null,
   "metadata": {},
   "outputs": [
    {
     "name": "stdout",
     "output_type": "stream",
     "text": [
      "Exact E_A =  1.2480754415067656\n",
      "Alice's local energy =  1.2486454415067656 ± 0.004743416147777887\n",
      "Interacting energy, V =  -0.4876396075495417 ± 0.006324554954777449\n"
     ]
    },
    {
     "data": {
      "image/png": "[encoded data removed]",
      "text/plain": [
       "<Figure size 640x480 with 1 Axes>"
      ]
     },
     "execution_count": 37,
     "metadata": {},
     "output_type": "execute_result"
    }
   ],
   "source": [
    "\n",
    "result = jobA_sim.result()[0]\n",
    "counts = result.data.meas.get_counts()\n",
    "\n",
    "\n",
    "ene_A = (h**2)/(np.sqrt(h**2+k**2))\n",
    "ene_V = (2*k**2)/(np.sqrt(h**2+k**2))\n",
    "\n",
    "error_A = []\n",
    "error_V = []\n",
    "for orig_bit_string, count in counts.items():\n",
    "        bit_string = orig_bit_string[::-1]\n",
    "\n",
    "        ene_A += h*(-1)**int(bit_string[0])*count/n_shots\n",
    "        ene_V += 2*k*(-1)**int(bit_string[0])*(-1)**int(bit_string[1])*count/n_shots\n",
    "\n",
    "        for i in range(count):\n",
    "            error_A.append(h*(-1)**int(bit_string[0]))\n",
    "            error_V.append(2*k*(-1)**(int(bit_string[1])))\n",
    "\n",
    "print(\"Exact E_A =\",h**2/np.sqrt(h**2+k**2))\n",
    "print(\"Alice's local energy =\",ene_A,\"±\",np.std(error_A)/np.sqrt(n_shots))\n",
    "print(\"Interacting energy, V =\",ene_V,\"±\",np.std(error_V)/np.sqrt(n_shots))\n",
    "\n",
    "plot_histogram(counts, title='aer_simulator V')"
   ]
  },
  {
   "cell_type": "markdown",
   "metadata": {},
   "source": [
    "### Show results for simulated circuit $H$"
   ]
  },
  {
   "cell_type": "code",
   "execution_count": null,
   "metadata": {},
   "outputs": [
    {
     "ename": "NameError",
     "evalue": "name 'jobB_sim' is not defined",
     "output_type": "error",
     "traceback": [
      "\u001b[1;31m---------------------------------------------------------------------------\u001b[0m",
      "\u001b[1;31mNameError\u001b[0m                                 Traceback (most recent call last)",
      "Cell \u001b[1;32mIn[1], line 1\u001b[0m\n\u001b[1;32m----> 1\u001b[0m result \u001b[38;5;241m=\u001b[39m \u001b[43mjobB_sim\u001b[49m\u001b[38;5;241m.\u001b[39mresult()[\u001b[38;5;241m0\u001b[39m]\n\u001b[0;32m      2\u001b[0m counts \u001b[38;5;241m=\u001b[39m result\u001b[38;5;241m.\u001b[39mdata\u001b[38;5;241m.\u001b[39mmeas\u001b[38;5;241m.\u001b[39mget_counts()\n\u001b[0;32m      4\u001b[0m ene_A \u001b[38;5;241m=\u001b[39m (h\u001b[38;5;241m*\u001b[39m\u001b[38;5;241m*\u001b[39m\u001b[38;5;241m2\u001b[39m)\u001b[38;5;241m/\u001b[39m(np\u001b[38;5;241m.\u001b[39msqrt(h\u001b[38;5;241m*\u001b[39m\u001b[38;5;241m*\u001b[39m\u001b[38;5;241m2\u001b[39m\u001b[38;5;241m+\u001b[39mk\u001b[38;5;241m*\u001b[39m\u001b[38;5;241m*\u001b[39m\u001b[38;5;241m2\u001b[39m))\n",
      "\u001b[1;31mNameError\u001b[0m: name 'jobB_sim' is not defined"
     ]
    }
   ],
   "source": [
    "\n",
    "result = jobB_sim.result()[0]\n",
    "counts = result.data.meas.get_counts()\n",
    "\n",
    "ene_A = (h**2)/(np.sqrt(h**2+k**2))\n",
    "ene_B=(h**2)/(np.sqrt(h**2+k**2))\n",
    "\n",
    "error_A = []\n",
    "error_B = []\n",
    "for orig_bit_string, count in counts.items():\n",
    "        bit_string = orig_bit_string[::-1]\n",
    "\n",
    "        ene_B += h*(-1)**int(bit_string[1])*count/n_shots\n",
    "        ene_A += h*(-1)**int(bit_string[0])*count/n_shots\n",
    "\n",
    "        for i in range(count):\n",
    "            error_A.append(h*(-1)**int(bit_string[0]))\n",
    "            error_B.append(h*(-1)**int(bit_string[1]))\n",
    "\n",
    "print(\"Exact E_0 =\",h**2/np.sqrt(h**2+k**2))\n",
    "print(\"Alice's local energy =\",ene_A,\"±\",np.std(error_A)/np.sqrt(n_shots))\n",
    "print(\"Bob's local energy, H_1 =\",ene_B,\"±\",np.std(error_B)/np.sqrt(n_shots))\n",
    "\n",
    "plot_histogram(counts, title=\"aer_simulator H\")"
   ]
  },
  {
   "cell_type": "markdown",
   "metadata": {},
   "source": [
    "### Get backend and its properties"
   ]
  },
  {
   "cell_type": "code",
   "execution_count": null,
   "metadata": {},
   "outputs": [
    {
     "name": "stdout",
     "output_type": "stream",
     "text": [
      "Backend = ibm_kyiv\n",
      "Qubit 0 has a \n",
      "  - T1 time of 397.7145290786901 microseconds\n",
      "  - T2 time of 385.6892515765576 microseconds\n",
      "  - U2 gate error of 0.00024628156915416807\n",
      "  - U2 gate duration of 49.77777777777777 nanoseconds\n",
      "  - resonant frequency of 4.655633112337349 GHz\n"
     ]
    }
   ],
   "source": [
    "# Log in IBM platoform\n",
    "from qiskit_ibm_runtime import QiskitRuntimeService\n",
    "service = QiskitRuntimeService()\n",
    "\n",
    "# Select least busy backend\n",
    "backend = service.least_busy(operational=True)\n",
    "\n",
    "# Get backend properties\n",
    "props = backend.properties()\n",
    "\n",
    "# Function to select specific properties\n",
    "def describe_qubit(qubit, properties):\n",
    "    \"\"\"Print a string describing some of reported properties of the given qubit.\"\"\"\n",
    "\n",
    "    # Conversion factors from standard SI units\n",
    "    us = 1e6\n",
    "    ns = 1e9\n",
    "    GHz = 1e-9\n",
    "\n",
    "    print(\"Backend = {6}\\n\"\n",
    "          \"Qubit {0} has a \\n\"\n",
    "          \"  - T1 time of {1} microseconds\\n\"\n",
    "          \"  - T2 time of {2} microseconds\\n\"\n",
    "          \"  - U2 gate error of {3}\\n\"\n",
    "          \"  - U2 gate duration of {4} nanoseconds\\n\"\n",
    "          \"  - resonant frequency of {5} GHz\".format(\n",
    "              qubit,\n",
    "              properties.t1(qubit) * us,\n",
    "              properties.t2(qubit) * us,\n",
    "              properties.gate_error('sx', qubit),\n",
    "              properties.gate_length('sx', qubit) * ns,\n",
    "              properties.frequency(qubit) * GHz,\n",
    "              backend.name))\n",
    "\n",
    "describe_qubit(0, props)"
   ]
  },
  {
   "cell_type": "markdown",
   "metadata": {},
   "source": [
    "### Run job in IBM Backend"
   ]
  },
  {
   "cell_type": "code",
   "execution_count": null,
   "metadata": {},
   "outputs": [
    {
     "name": "stdout",
     "output_type": "stream",
     "text": [
      "czywkf5qnmvg008w5es0\n",
      "czywkgpkzhn0008dawjg\n",
      "czywkhynhqag008ttppg\n"
     ]
    },
    {
     "name": "stderr",
     "output_type": "stream",
     "text": [
      "qiskit_runtime_service.check_pending_jobs:WARNING:2025-04-14 22:51:55,290: The pending jobs limit has been reached. Waiting for job <RuntimeJobV2('czywkf5qnmvg008w5es0', 'sampler')> to finish before submitting the next one.\n"
     ]
    },
    {
     "name": "stdout",
     "output_type": "stream",
     "text": [
      "czywm38d8drg008hyyt0\n",
      "czywm4rkzhn0008dawr0\n",
      "czywm60d8drg008hyywg\n"
     ]
    },
    {
     "name": "stderr",
     "output_type": "stream",
     "text": [
      "qiskit_runtime_service.check_pending_jobs:WARNING:2025-04-14 22:53:16,851: The pending jobs limit has been reached. Waiting for job <RuntimeJobV2('czywm38d8drg008hyyt0', 'sampler')> to finish before submitting the next one.\n"
     ]
    },
    {
     "name": "stdout",
     "output_type": "stream",
     "text": [
      "czywm7rnhqag008ttpvg\n",
      "czywm91qnmvg008w5f00\n"
     ]
    }
   ],
   "source": [
    "# Import Sampler and Batch mode\n",
    "from qiskit_ibm_runtime import Batch, SamplerV2 as sampler\n",
    "\n",
    "# Parameters h and k\n",
    "variables = [(1,0.2),(1,0.5),(1,1),(1.5,1)]\n",
    "\n",
    "# Run job in Batch mode\n",
    "with Batch(backend=backend):\n",
    "    n_shots = 5000\n",
    "\n",
    "    for variable in variables:\n",
    "        h = variable[0]\n",
    "        k = variable[1]\n",
    "\n",
    "        # Generate circuits V and H\n",
    "        circuit_V = qc_V(h,k)\n",
    "        qc_A = transpile(circuit_V, backend=backend, optimization_level=3)\n",
    "        \n",
    "        circuit_H = qc_H(h,k)\n",
    "        qc_B = transpile(circuit_H, backend=backend, optimization_level=3)\n",
    "\n",
    "        # Run jobs for each circuit\n",
    "        job_A = sampler().run([(qc_A)], shots=n_shots)\n",
    "        print(\"ID =\"job_A.job_id(), \"h =\"h,\"k =\"k)\n",
    "\n",
    "        job_B = sampler().run([(qc_B)], shots=n_shots)\n",
    "        print(\"ID =\"job_B.job_id(), \"h =\"h,\"k =\"k) "
   ]
  },
  {
   "cell_type": "markdown",
   "metadata": {},
   "source": [
    "### Show results for circuit V"
   ]
  },
  {
   "cell_type": "code",
   "execution_count": null,
   "metadata": {},
   "outputs": [
    {
     "name": "stdout",
     "output_type": "stream",
     "text": [
      "Exact E_A 1.2480754415067656\n",
      "Alice's local energy 1.2564754415067658 STD is 0.02121112443978395\n",
      "Interacting energy V 0.46060039245045836 STD is 0.028268866266619175\n"
     ]
    },
    {
     "data": {
      "image/png": "[encoded data removed]",
      "text/plain": [
       "<Figure size 640x480 with 1 Axes>"
      ]
     },
     "execution_count": 24,
     "metadata": {},
     "output_type": "execute_result"
    }
   ],
   "source": [
    "# Select job ID\n",
    "jobA = service.job('cybwydh9b62g008j8xk0')\n",
    "\n",
    "result = jobA.result()[0]\n",
    "counts = result.data.meas.get_counts()\n",
    "\n",
    "# Parameters \n",
    "k = 1;h = 1.5;\n",
    "\n",
    "ene_A=(h**2)/(np.sqrt(h**2+k**2))\n",
    "ene_V=(2*k**2)/(np.sqrt(h**2+k**2))\n",
    "\n",
    "error_A=[]\n",
    "error_V=[]\n",
    "for orig_bit_string, count in counts.items():\n",
    "        bit_string = orig_bit_string[::-1]\n",
    "\n",
    "        ene_A += h*(-1)**int(bit_string[0])*count/n_shots\n",
    "        ene_V += 2*k*(-1)**int(bit_string[0])*(-1)**int(bit_string[1])*count/n_shots\n",
    "\n",
    "        for i in range(count):\n",
    "            error_A.append(h*(-1)**int(bit_string[0]))\n",
    "            error_V.append(2*k*(-1)**(int(bit_string[1])))\n",
    "\n",
    "print(\"Theorical value for Alice local energy (E_A) = \",h**2/np.sqrt(h**2+k**2))\n",
    "print(\"Alice's local energy = \",ene_A,\"±\",np.std(error_A)/np.sqrt(n_shots))\n",
    "print(\"Interacting energy V = \",ene_V,\"±\",np.std(error_V)/np.sqrt(n_shots))\n",
    "\n",
    "plot_histogram(counts, title=backend.name 'V')"
   ]
  },
  {
   "cell_type": "code",
   "execution_count": null,
   "metadata": {},
   "outputs": [
    {
     "name": "stdout",
     "output_type": "stream",
     "text": [
      "Exact E_A 1.2480754415067656\n",
      "Alice's local energy 1.2390754415067657 STD is 0.021210816815955012\n",
      "Bob's local energy 0.8958754415067656 STD is 0.017173932281222028\n"
     ]
    },
    {
     "data": {
      "image/png": "[encoded data removed]",
      "text/plain": [
       "<Figure size 640x480 with 1 Axes>"
      ]
     },
     "execution_count": 25,
     "metadata": {},
     "output_type": "execute_result"
    }
   ],
   "source": [
    "jobB = service.job('cybwyf17v8tg008g0a70')\n",
    "result = jobB.result()[0]\n",
    "counts = result.data.meas.get_counts()\n",
    "\n",
    "# parameters\n",
    "k = 1;h = 1.5;\n",
    "\n",
    "# \n",
    "ene_A = (h**2)/(np.sqrt(h**2+k**2))\n",
    "ene_B=(h**2)/(np.sqrt(h**2+k**2))\n",
    "\n",
    "error_A = []\n",
    "error_B = []\n",
    "for orig_bit_string, count in counts.items():\n",
    "        bit_string = orig_bit_string[::-1]\n",
    "\n",
    "        ene_B += h*(-1)**int(bit_string[1])*count/n_shots\n",
    "        ene_A += h*(-1)**int(bit_string[0])*count/n_shots\n",
    "\n",
    "        for i in range(count):\n",
    "            error_A.append(h*(-1)**int(bit_string[0]))\n",
    "            error_B.append(h*(-1)**int(bit_string[1]))\n",
    "\n",
    "print(\"Theoretical value for Alice local energy (E_A) =\",h**2/np.sqrt(h**2+k**2))\n",
    "print(\"Alice's local energy =\",ene_A,\"±\",np.std(error_A)/np.sqrt(n_shots))\n",
    "print(\"Bob's local energy =\",ene_B,\"±\",np.std(error_B)/np.sqrt(n_shots))\n",
    "\n",
    "plot_histogram(counts, title=backend.name 'H')"
   ]
  },
  {
   "cell_type": "code",
   "execution_count": 26,
   "metadata": {},
   "outputs": [
    {
     "ename": "NameError",
     "evalue": "name 'cyemjfs9b62g008jkw20' is not defined",
     "output_type": "error",
     "traceback": [
      "\u001b[1;31m---------------------------------------------------------------------------\u001b[0m",
      "\u001b[1;31mNameError\u001b[0m                                 Traceback (most recent call last)",
      "Cell \u001b[1;32mIn[26], line 1\u001b[0m\n\u001b[1;32m----> 1\u001b[0m \u001b[43mcyemjfs9b62g008jkw20\u001b[49m\n\u001b[0;32m      2\u001b[0m cyemjj29b62g008jkw30\n\u001b[0;32m      3\u001b[0m cyemjma9b62g008jkw3g\n",
      "\u001b[1;31mNameError\u001b[0m: name 'cyemjfs9b62g008jkw20' is not defined"
     ]
    }
   ],
   "source": [
    "cyemjfs9b62g008jkw20\n",
    "cyemjj29b62g008jkw30\n",
    "cyemjma9b62g008jkw3g\n",
    "cyemjsv7v8tg008hbbhg\n",
    "cyemjwb7v8tg008hbbjg\n",
    "cyemjybcw2k0008r6k60\n",
    "cyemk04nrmz00086ht0g\n",
    "cyemk2wrta1g0088363g"
   ]
  }
 ],
 "metadata": {
  "kernelspec": {
   "display_name": "Python 3",
   "language": "python",
   "name": "python3"
  },
  "language_info": {
   "codemirror_mode": {
    "name": "ipython",
    "version": 3
   },
   "file_extension": ".py",
   "mimetype": "text/x-python",
   "name": "python",
   "nbconvert_exporter": "python",
   "pygments_lexer": "ipython3",
   "version": "3.13.1"
  }
 },
 "nbformat": 4,
 "nbformat_minor": 2
}
