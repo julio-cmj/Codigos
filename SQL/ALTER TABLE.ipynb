{
 "cells": [
  {
   "cell_type": "code",
   "execution_count": null,
   "metadata": {
    "dotnet_interactive": {
     "language": "sql"
    },
    "polyglot_notebook": {
     "kernelName": "sql"
    },
    "vscode": {
     "languageId": "polyglot-notebook"
    }
   },
   "outputs": [],
   "source": [
    "-- adicionando coluna \n",
    "\n",
    "ALTER TABLE table_name\n",
    "ADD COLUMN column_name column_type;"
   ]
  },
  {
   "cell_type": "code",
   "execution_count": null,
   "metadata": {
    "dotnet_interactive": {
     "language": "sql"
    },
    "polyglot_notebook": {
     "kernelName": "sql"
    },
    "vscode": {
     "languageId": "polyglot-notebook"
    }
   },
   "outputs": [],
   "source": [
    "--  adicionando primary key sem nome\n",
    "\n",
    "ALTER TABLE table_name\n",
    "ADD PRIMARY KEY (column_name1, column_name2, ...);\n",
    "\n",
    "-- adicionando primary key com nome\n",
    "\n",
    "ALTER TABLE table_name\n",
    "ADD CONSTRAINT key_name PRIMARY KEY (column_name1, column_name2, ...);"
   ]
  },
  {
   "cell_type": "code",
   "execution_count": null,
   "metadata": {
    "dotnet_interactive": {
     "language": "sql"
    },
    "polyglot_notebook": {
     "kernelName": "sql"
    },
    "vscode": {
     "languageId": "polyglot-notebook"
    }
   },
   "outputs": [],
   "source": [
    "-- adicionando foreign key sem nome\n",
    "\n",
    "ALTER TABLE table_name\n",
    "ADD FOREIGN KEY (column_name1, column_name2, ...)\n",
    "REFERENCES other_table_name(other_table_column_name);\n",
    "\n",
    "-- adicionando foreign key com nome\n",
    "\n",
    "ALTER TABLE table_name\n",
    "ADD CONSTRAINT key_name FOREIGN KEY (column_name1, column_name2, ...)\n",
    "REFERENCES other_table_name(other_table_column_name);"
   ]
  },
  {
   "cell_type": "code",
   "execution_count": null,
   "metadata": {
    "dotnet_interactive": {
     "language": "sql"
    },
    "polyglot_notebook": {
     "kernelName": "sql"
    },
    "vscode": {
     "languageId": "polyglot-notebook"
    }
   },
   "outputs": [],
   "source": [
    "-- excluindo primary key\n",
    "\n",
    "ALTER TABLE table_name\n",
    "DROP PRIMARY KEY;"
   ]
  },
  {
   "cell_type": "code",
   "execution_count": null,
   "metadata": {
    "dotnet_interactive": {
     "language": "sql"
    },
    "polyglot_notebook": {
     "kernelName": "sql"
    },
    "vscode": {
     "languageId": "polyglot-notebook"
    }
   },
   "outputs": [],
   "source": [
    "-- excluindo foreign key\n",
    "\n",
    "ALTER TABLE table_name\n",
    "DROP FOREIGN KEY key_name;"
   ]
  },
  {
   "cell_type": "code",
   "execution_count": null,
   "metadata": {
    "dotnet_interactive": {
     "language": "sql"
    },
    "polyglot_notebook": {
     "kernelName": "sql"
    },
    "vscode": {
     "languageId": "polyglot-notebook"
    }
   },
   "outputs": [],
   "source": [
    "-- modificando tipo de coluna\n",
    "\n",
    "ALTER TABLE table_name\n",
    "MODIFY COLUMN column_name new_column_type;"
   ]
  },
  {
   "cell_type": "code",
   "execution_count": null,
   "metadata": {
    "dotnet_interactive": {
     "language": "sql"
    },
    "polyglot_notebook": {
     "kernelName": "sql"
    },
    "vscode": {
     "languageId": "polyglot-notebook"
    }
   },
   "outputs": [],
   "source": [
    "-- modificando nome e tipo de coluna\n",
    "\n",
    "ALTER TABLE table_name\n",
    "CHANGE old_column_name new_column_name new_column_type;"
   ]
  },
  {
   "cell_type": "code",
   "execution_count": null,
   "metadata": {
    "dotnet_interactive": {
     "language": "sql"
    },
    "polyglot_notebook": {
     "kernelName": "sql"
    },
    "vscode": {
     "languageId": "polyglot-notebook"
    }
   },
   "outputs": [],
   "source": [
    "-- excluindo coluna\n",
    "\n",
    "ALTER TABLE table_name\n",
    "DROP COLUMN column_name;"
   ]
  }
 ],
 "metadata": {
  "language_info": {
   "name": "python"
  },
  "orig_nbformat": 4
 },
 "nbformat": 4,
 "nbformat_minor": 2
}
