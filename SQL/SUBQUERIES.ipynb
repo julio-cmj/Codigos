{
 "cells": [
  {
   "cell_type": "code",
   "execution_count": null,
   "metadata": {
    "vscode": {
     "languageId": "sql"
    }
   },
   "outputs": [],
   "source": [
    "-- utilizar o resultado de um querry em outro querry\n",
    "-- exemplos"
   ]
  },
  {
   "cell_type": "code",
   "execution_count": null,
   "metadata": {
    "vscode": {
     "languageId": "sql"
    }
   },
   "outputs": [],
   "source": [
    "-- SELECT\n",
    "\n",
    "SELECT *, \n",
    "    (SELECT \n",
    "         name \n",
    "     FROM \n",
    "         users_info \n",
    "     WHERE \n",
    "         username = registered_users.username) AS name \n",
    "FROM\n",
    "    registered_users\n",
    "\n",
    "-----------------------------------------------------------------------------------------------------------------------------------------------------------------------------------------------------------------------\n",
    "\n",
    "SELECT \n",
    "    id,\n",
    "    product \n",
    "FROM\n",
    "    new_orders AS newor \n",
    "WHERE unit_price < (\n",
    "    SELECT \n",
    "        AVG(unit_price) \n",
    "    FROM \n",
    "        new_orders\n",
    "    WHERE \n",
    "        product_category = newor.product_category);"
   ]
  },
  {
   "cell_type": "code",
   "execution_count": null,
   "metadata": {
    "vscode": {
     "languageId": "sql"
    }
   },
   "outputs": [],
   "source": [
    "-- UPDATE\n",
    "\n",
    "UPDATE\n",
    "    students \n",
    "SET\n",
    "    exams_passed = TRUE \n",
    "WHERE \n",
    "    name in (\n",
    "        SELECT\n",
    "            name\n",
    "        FROM\n",
    "            exam_results \n",
    "        WHERE\n",
    "            math_exam_mark >= 18\n",
    "            AND english_exam_mark >= 18\n",
    "        ); \n",
    "\n",
    "----------------------------------------------------------------------------------------------------------------------------------------------------------------------------------------------------\n",
    "\n",
    "UPDATE\n",
    "    students \n",
    "SET\n",
    "    scholarship = (\n",
    "        SELECT \n",
    "            MIN(scholarship)\n",
    "        FROM students\n",
    "    ) \n",
    "WHERE\n",
    "    exam_passed = FALSE; "
   ]
  },
  {
   "cell_type": "code",
   "execution_count": null,
   "metadata": {
    "vscode": {
     "languageId": "sql"
    }
   },
   "outputs": [],
   "source": [
    "-- INSERT \n",
    "\n",
    "INSERT INTO employees \n",
    "VALUES (\n",
    "    'Tomas Hedwig', \n",
    "    (SELECT salary FROM employees WHERE name = 'Ann Reed'), \n",
    "    (SELECT id FROM departments WHERE department = 'PR')\n",
    ")"
   ]
  },
  {
   "cell_type": "code",
   "execution_count": null,
   "metadata": {
    "vscode": {
     "languageId": "sql"
    }
   },
   "outputs": [],
   "source": [
    "-- DELETE \n",
    "\n",
    "DELETE FROM orders\n",
    "WHERE customer_id = (SELECT customer_id FROM customers WHERE name = 'Ann Smith')"
   ]
  }
 ],
 "metadata": {
  "language_info": {
   "name": "python"
  },
  "orig_nbformat": 4
 },
 "nbformat": 4,
 "nbformat_minor": 2
}
