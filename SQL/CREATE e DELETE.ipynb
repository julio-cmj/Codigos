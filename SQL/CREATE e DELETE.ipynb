{
 "cells": [
  {
   "cell_type": "code",
   "execution_count": null,
   "metadata": {
    "dotnet_interactive": {
     "language": "sql"
    },
    "polyglot_notebook": {
     "kernelName": "sql"
    },
    "vscode": {
     "languageId": "polyglot-notebook"
    }
   },
   "outputs": [],
   "source": [
    "-- usando a database\n",
    "USE database_name;\n",
    "\n",
    "-- criando database\n",
    "CREATE DATABASE database_name;\n",
    "\n",
    "-- criando tabela\n",
    "CREATE TABLE table_name(\n",
    "    column1_name column1_type,\n",
    "    column2_name column2_type,\n",
    "    column3_name column3_type\n",
    "    CONSTRAINT\n",
    ");"
   ]
  },
  {
   "cell_type": "code",
   "execution_count": null,
   "metadata": {
    "vscode": {
     "languageId": "sql"
    }
   },
   "outputs": [],
   "source": [
    "-- NULL is equal to UNKOWN\n",
    "\n",
    "NULL = 1    -- UNKOWN\n",
    "NULL <> 1   -- UNKOWN\n",
    "NULL > 1    -- UNKOWN\n",
    "NULL = '1'  -- UNKOWN\n",
    "NULL = NULL -- UNKOWN\n",
    "\n",
    "-- Método para avaliar NULL\n",
    "NULL IS NULL\n",
    "NULL IS NOT NULL"
   ]
  },
  {
   "cell_type": "code",
   "execution_count": null,
   "metadata": {
    "dotnet_interactive": {
     "language": "sql"
    },
    "polyglot_notebook": {
     "kernelName": "sql"
    },
    "vscode": {
     "languageId": "polyglot-notebook"
    }
   },
   "outputs": [],
   "source": [
    "-- excluindo database\n",
    "DROP DATABASE database_name;\n",
    "\n",
    "-- excluindo tabela\n",
    "DROP TABLE table_name;\n",
    "\n",
    "-- excluindo coluna\n",
    "ALTER TABLE table_name\n",
    "DROP COLUMN column_name;\n",
    "\n",
    "-- excluindo valores das tabelas\n",
    "DELETE FROM table_name -- sem condição deleta todas as colunas \n",
    "WHERE condition -- ex: column_name = 0;"
   ]
  }
 ],
 "metadata": {
  "language_info": {
   "name": "python"
  },
  "orig_nbformat": 4
 },
 "nbformat": 4,
 "nbformat_minor": 2
}
