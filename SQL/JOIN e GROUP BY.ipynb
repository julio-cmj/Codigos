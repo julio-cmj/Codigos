{
 "cells": [
  {
   "cell_type": "code",
   "execution_count": null,
   "metadata": {
    "dotnet_interactive": {
     "language": "sql"
    },
    "polyglot_notebook": {
     "kernelName": "sql"
    },
    "vscode": {
     "languageId": "polyglot-notebook"
    }
   },
   "outputs": [],
   "source": [
    "-- JOIN\n",
    "\n",
    "INNER JOIN | Somenete a intersecção\n",
    "RIGHT JOIN | Todos os valores da direita e a intersecção\n",
    "LEFT JOIN  | Todos os valores da esquerda e a intersecção\n",
    "FULL OUTER JOIN | Todos os valores"
   ]
  },
  {
   "cell_type": "code",
   "execution_count": null,
   "metadata": {
    "dotnet_interactive": {
     "language": "sql"
    },
    "polyglot_notebook": {
     "kernelName": "sql"
    },
    "vscode": {
     "languageId": "polyglot-notebook"
    }
   },
   "outputs": [],
   "source": [
    "-- Template\n",
    "\n",
    "SELECT val1 [AS name1], ..., valN [AS nameN]\n",
    "FROM table1 \n",
    "[type_of_join] JOIN  table2 \n",
    "    ON table1.col_name_table1 = table2.col_name_table2\n",
    "[type_of_join] JOIN table3\n",
    "    ON table2.col_name_table2 = table3.col_name_table3;\n",
    "ORDER BY\n",
    "    ..."
   ]
  },
  {
   "cell_type": "code",
   "execution_count": null,
   "metadata": {
    "dotnet_interactive": {
     "language": "sql"
    },
    "polyglot_notebook": {
     "kernelName": "sql"
    },
    "vscode": {
     "languageId": "polyglot-notebook"
    }
   },
   "outputs": [],
   "source": [
    "-- GROUP BY\n",
    "-- TEMPLATE \n",
    "\n",
    "SELECT \n",
    "    column_name,\n",
    "    aggregation \n",
    "FROM \n",
    "    table_name\n",
    "WHERE \n",
    "    list_of_conditions\n",
    "GROUP BY \n",
    "    column_name \n",
    "HAVING \n",
    "    list_of_aggregate_conditions\n",
    "ORDER BY \n",
    "    list_of_columns/aliases"
   ]
  }
 ],
 "metadata": {
  "language_info": {
   "name": "python"
  },
  "orig_nbformat": 4
 },
 "nbformat": 4,
 "nbformat_minor": 2
}
