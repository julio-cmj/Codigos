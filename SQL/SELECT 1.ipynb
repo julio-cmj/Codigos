{
 "cells": [
  {
   "cell_type": "code",
   "execution_count": null,
   "metadata": {
    "dotnet_interactive": {
     "language": "sql"
    },
    "polyglot_notebook": {
     "kernelName": "sql"
    },
    "vscode": {
     "languageId": "polyglot-notebook"
    }
   },
   "outputs": [],
   "source": [
    "-- template\n",
    "\n",
    "SELECT \n",
    "    column_1_1 [as a], \n",
    "    column_1_2 [as b], \n",
    "    ..., \n",
    "    column_1_n \n",
    "FROM \n",
    "     table_1 \n",
    "WHERE \n",
    "    logical_expression\n",
    "SET_OPERATOR\n",
    "SELECT \n",
    "    column_2_1,\n",
    "    column_2_2,\n",
    "    ...,\n",
    "    column_2_n  \n",
    "FROM \n",
    "    table_2 \n",
    "WHERE \n",
    "    logical_expression\n",
    "SET_OPERATOR\n",
    "...\n",
    "\n",
    "SELECT * -- todas as colunas"
   ]
  },
  {
   "cell_type": "code",
   "execution_count": null,
   "metadata": {
    "dotnet_interactive": {
     "language": "sql"
    },
    "polyglot_notebook": {
     "kernelName": "sql"
    },
    "vscode": {
     "languageId": "polyglot-notebook"
    }
   },
   "outputs": [],
   "source": [
    "-- Alias\n",
    "\n",
    "SELECT\n",
    "    'string' AS string,\n",
    "    2 AS numberic,\n",
    "    (2+2)*3 AS arithmetic_expression;"
   ]
  },
  {
   "cell_type": "code",
   "execution_count": null,
   "metadata": {
    "dotnet_interactive": {
     "language": "sql"
    },
    "polyglot_notebook": {
     "kernelName": "sql"
    },
    "vscode": {
     "languageId": "polyglot-notebook"
    }
   },
   "outputs": [],
   "source": [
    " -- literals\n",
    "SELECT 'hello world' -- text\n",
    "SELECT 2             -- numeric\n",
    "SELECT TRUE          -- boolean\n",
    "SELECT FALSE\n",
    "SELECT NULL          -- NULL\n",
    "\n",
    "-- arithmetics expressions\n",
    "SELECT 2 + 2 -- addition\n",
    "SELECT 2 - 2 -- subtraction\n",
    "SELECT 2 * 2 -- multiplication\n",
    "SELECT 2 / 2 -- division\n",
    "SELECT 2 % 2 -- modulo\n",
    "\n",
    "SELECT 'string', 2, (2+2)*3"
   ]
  },
  {
   "cell_type": "code",
   "execution_count": null,
   "metadata": {
    "dotnet_interactive": {
     "language": "sql"
    },
    "polyglot_notebook": {
     "kernelName": "sql"
    },
    "vscode": {
     "languageId": "polyglot-notebook"
    }
   },
   "outputs": [],
   "source": [
    "-- where conditions\n",
    "\n",
    "WHERE (column1_name = 'name1' OR column1_name = 'name2') AND NOT (column2_name = 'name')\n",
    "\n",
    "-- NOT, AND, OR \n",
    "--  =      | equality check\n",
    "-- <, >    | less, greater\n",
    "-- <=, >=  | less or equal, greater or equal\n",
    "-- !<, !>  | not less than, not greater than\n",
    "-- <>, !=  | not equal\n",
    "\n",
    "-- BETWEEN | Checks if value is within the range of comparisons (price BETWEEN 2 AND 5)\n",
    "-- IN      | Checks if the value is in the list of constant values or in the result set (price IN (2,5,8))\n",
    "-- LIKE    | Checks if value matches the pattern. %: zero ou varias, _: qualquer simbolo (prince LIKE \"%s__%\")\n",
    "-- EXISTS  | Checks if subquery returns at least one record\n",
    "-- ANY     | returns true if any subquery is TRUE\n",
    "-- IS NULL | retorna valores NULL ou NOT NULL\n",
    "-- IS DISTINCT FROM | não retorna UNKOWN em caso de valores NULL, somente TRUE ou FALSE."
   ]
  },
  {
   "cell_type": "code",
   "execution_count": null,
   "metadata": {
    "dotnet_interactive": {
     "language": "sql"
    },
    "polyglot_notebook": {
     "kernelName": "sql"
    },
    "vscode": {
     "languageId": "polyglot-notebook"
    }
   },
   "outputs": [],
   "source": [
    "-- set operators\n",
    "\n",
    "-- UNION | une os dois resultados sem duplicatas\n",
    "-- UNION ALL | une os dois resultados com duplicatas\n",
    "-- INTERSECT | intersecção dos resultados\n",
    "-- MINUS ou EXCEPT | a diferença entre os resultados\n",
    "\n",
    "SELECT expression FROM table_name\n",
    "UNION | UNION ALL | INTERSECT | EXCEPT \n",
    "SELECT expression FROM table_name\n"
   ]
  }
 ],
 "metadata": {
  "language_info": {
   "name": "python"
  },
  "orig_nbformat": 4
 },
 "nbformat": 4,
 "nbformat_minor": 2
}
