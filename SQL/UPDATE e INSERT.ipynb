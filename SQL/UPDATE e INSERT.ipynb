{
 "cells": [
  {
   "cell_type": "code",
   "execution_count": null,
   "metadata": {
    "dotnet_interactive": {
     "language": "sql"
    },
    "polyglot_notebook": {
     "kernelName": "sql"
    },
    "vscode": {
     "languageId": "polyglot-notebook"
    }
   },
   "outputs": [],
   "source": [
    "-- UPDATE - altera valores\n",
    "\n",
    "UPDATE \n",
    "    table_name \n",
    "SET \n",
    "    col1 = expr1, \n",
    "    col2 = expr2, \n",
    "    …, \n",
    "    colN = expr \n",
    "WHERE \n",
    "    logical_expression;"
   ]
  },
  {
   "cell_type": "code",
   "execution_count": null,
   "metadata": {
    "dotnet_interactive": {
     "language": "sql"
    },
    "polyglot_notebook": {
     "kernelName": "sql"
    },
    "vscode": {
     "languageId": "polyglot-notebook"
    }
   },
   "outputs": [],
   "source": [
    "-- INSERT - adiciona valores\n",
    "\n",
    "INSERT INTO table_name (column1_name, column2_name, column3_name)  -- definir as colunas é opcional\n",
    "VALUES (text, numeric, boolean),\n",
    "       (text, numeric, boolean),\n",
    "        ..."
   ]
  },
  {
   "cell_type": "code",
   "execution_count": null,
   "metadata": {
    "dotnet_interactive": {
     "language": "sql"
    },
    "polyglot_notebook": {
     "kernelName": "sql"
    },
    "vscode": {
     "languageId": "polyglot-notebook"
    }
   },
   "outputs": [],
   "source": [
    "-- adicionando valores de uma tabela em outra\n",
    "\n",
    "INSERT INTO table1 (table1_column_1, table1_column_2, ..., table1_column_n)\n",
    "    SELECT \n",
    "        table2_column_1,\n",
    "        table2_column_2,\n",
    "        ...,\n",
    "        table2_column_n \n",
    "    FROM \n",
    "        table2\n",
    "    WHERE \n",
    "        condition; "
   ]
  }
 ],
 "metadata": {
  "language_info": {
   "name": "python"
  },
  "orig_nbformat": 4
 },
 "nbformat": 4,
 "nbformat_minor": 2
}
