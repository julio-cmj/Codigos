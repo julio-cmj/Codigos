{
 "cells": [
  {
   "cell_type": "code",
   "execution_count": null,
   "metadata": {
    "dotnet_interactive": {
     "language": "sql"
    },
    "polyglot_notebook": {
     "kernelName": "sql"
    },
    "vscode": {
     "languageId": "polyglot-notebook"
    }
   },
   "outputs": [],
   "source": [
    "-- NOT NULL\n",
    "-- UNIQUE\n",
    "-- CHECK - adiciona uma condição \n",
    "-- DEFAULT - adiciona um valor padrao\n",
    "-- PRIMARY KEY\n",
    "-- FORAIGN KEY"
   ]
  },
  {
   "cell_type": "code",
   "execution_count": null,
   "metadata": {
    "dotnet_interactive": {
     "language": "sql"
    },
    "polyglot_notebook": {
     "kernelName": "sql"
    },
    "vscode": {
     "languageId": "polyglot-notebook"
    }
   },
   "outputs": [],
   "source": [
    "-- check e default\n",
    "\n",
    "CREATE TABLE table_name (\n",
    "    column1_name column1_type check (column1_name > 10),\n",
    "    column2_name column1_type default 'default_value'\n",
    ")"
   ]
  },
  {
   "cell_type": "code",
   "execution_count": null,
   "metadata": {
    "dotnet_interactive": {
     "language": "sql"
    },
    "polyglot_notebook": {
     "kernelName": "sql"
    },
    "vscode": {
     "languageId": "polyglot-notebook"
    }
   },
   "outputs": [],
   "source": [
    "-- constraints nomeadas\n",
    "\n",
    "CREATE TABLE table_name (\n",
    "    column1_name column1_type ,\n",
    "    column2_name column1_type\n",
    "    CONSTRAINT contraint_name UNIQUE (column1_name)\n",
    ");"
   ]
  },
  {
   "cell_type": "code",
   "execution_count": null,
   "metadata": {
    "dotnet_interactive": {
     "language": "sql"
    },
    "polyglot_notebook": {
     "kernelName": "sql"
    },
    "vscode": {
     "languageId": "polyglot-notebook"
    }
   },
   "outputs": [],
   "source": [
    "-- adicionado constraints\n",
    "\n",
    "-- unique\n",
    "ALTER TABLE table_name\n",
    "ADD UNIQUE (column_name);\n",
    "\n",
    "-- check\n",
    "ALTER TABLE table_name\n",
    "ADD CONSTRAINT column_name CHECK (expression); \n",
    "\n",
    "-- default\n",
    "ALTER TABLE employees\n",
    "ALTER column_name SET DEFAULT 'default_value';\n",
    "\n",
    "-- NOT NULL\n",
    "ALTER TABLE table_name\n",
    "MODIFY column_name column_type NOT NULL;\n",
    "\n"
   ]
  },
  {
   "cell_type": "code",
   "execution_count": null,
   "metadata": {
    "dotnet_interactive": {
     "language": "sql"
    },
    "polyglot_notebook": {
     "kernelName": "sql"
    },
    "vscode": {
     "languageId": "polyglot-notebook"
    }
   },
   "outputs": [],
   "source": [
    "-- excluindo constraints \n",
    "\n",
    "-- unique\n",
    "ALTER TABLE table_name\n",
    "DROP INDEX constraint_name; \n",
    "\n",
    "-- check\n",
    "ALTER TABLE table_name\n",
    "DROP CHECK column_name;\n",
    "\n",
    "--default\n",
    "ALTER TABLE table_name\n",
    "ALTER column_name DROP DEFAULT; \n",
    "\n",
    "-- not null\n",
    "ALTER TABLE employees\n",
    "MODIFY column_name column_type ;"
   ]
  },
  {
   "cell_type": "code",
   "execution_count": null,
   "metadata": {
    "dotnet_interactive": {
     "language": "sql"
    },
    "polyglot_notebook": {
     "kernelName": "sql"
    },
    "vscode": {
     "languageId": "polyglot-notebook"
    }
   },
   "outputs": [],
   "source": [
    "-- primary keys - não pode haver valores repetidos ou nulos \n",
    "-- criando tabela, sem nome\n",
    "\n",
    "CREATE TABLE table_name (\n",
    "    column1_name column1_type PRIMARY KEY, \n",
    "    column2_name column2_type,\n",
    "    column3_name column3_type\n",
    ");\n",
    "\n",
    "-- com nome\n",
    "\n",
    "CREATE TABLE table_name (\n",
    "    column1_name column1_type,\n",
    "    column2_name column2_type,\n",
    "    column3_name column3_type,\n",
    "    CONSTRAINT key_name PRIMARY KEY (column_name1, column_name2, ...)\n",
    ");"
   ]
  },
  {
   "cell_type": "code",
   "execution_count": null,
   "metadata": {
    "dotnet_interactive": {
     "language": "sql"
    },
    "polyglot_notebook": {
     "kernelName": "sql"
    },
    "vscode": {
     "languageId": "polyglot-notebook"
    }
   },
   "outputs": [],
   "source": [
    "--  adicionando primary key sem nome\n",
    "\n",
    "ALTER TABLE table_name\n",
    "ADD PRIMARY KEY (column_name1, column_name2, ...);\n",
    "\n",
    "-- adicionando primary key com nome\n",
    "\n",
    "ALTER TABLE table_name\n",
    "ADD CONSTRAINT key_name PRIMARY KEY (column_name1, column_name2, ...);"
   ]
  },
  {
   "cell_type": "code",
   "execution_count": null,
   "metadata": {
    "dotnet_interactive": {
     "language": "sql"
    },
    "polyglot_notebook": {
     "kernelName": "sql"
    },
    "vscode": {
     "languageId": "polyglot-notebook"
    }
   },
   "outputs": [],
   "source": [
    "-- excluindo primary key\n",
    "\n",
    "ALTER TABLE table_name\n",
    "DROP PRIMARY KEY;"
   ]
  },
  {
   "cell_type": "code",
   "execution_count": null,
   "metadata": {
    "dotnet_interactive": {
     "language": "sql"
    },
    "polyglot_notebook": {
     "kernelName": "sql"
    },
    "vscode": {
     "languageId": "polyglot-notebook"
    }
   },
   "outputs": [],
   "source": [
    "-- foreign key - referencia outra tabela\n",
    "-- criando tabela, sem nome\n",
    "\n",
    "CREATE TABLE table_name (\n",
    "    column1_name column1_type, \n",
    "    column2_name column2_type,\n",
    "    column3_name column3_type,\n",
    "    FOREIGN KEY (column_name1, column_name2, ...)\n",
    "    REFERENCES other_table_name(other_table_column_name)\n",
    ");\n",
    "\n",
    "-- com nome\n",
    "\n",
    "CREATE TABLE table_name (\n",
    "    column1_name column1_type,\n",
    "    column2_name column2_type,\n",
    "    column3_name column3_type,\n",
    "    CONSTRAINT key_name PRIMARY KEY (column_name1, column_name2, ...)\n",
    "    REFERENCES other_table_name(other_table_column_name)\n",
    ");"
   ]
  },
  {
   "cell_type": "code",
   "execution_count": null,
   "metadata": {
    "dotnet_interactive": {
     "language": "sql"
    },
    "polyglot_notebook": {
     "kernelName": "sql"
    },
    "vscode": {
     "languageId": "polyglot-notebook"
    }
   },
   "outputs": [],
   "source": [
    "-- adicionando foreign key sem nome\n",
    "\n",
    "ALTER TABLE table_name\n",
    "ADD FOREIGN KEY (column_name1, column_name2, ...)\n",
    "REFERENCES other_table_name(other_table_column_name);\n",
    "\n",
    "-- adicionando foreign key com nome\n",
    "\n",
    "ALTER TABLE table_name\n",
    "ADD CONSTRAINT key_name FOREIGN KEY (column_name1, column_name2, ...)\n",
    "REFERENCES other_table_name(other_table_column_name);\n"
   ]
  },
  {
   "cell_type": "code",
   "execution_count": null,
   "metadata": {
    "dotnet_interactive": {
     "language": "sql"
    },
    "polyglot_notebook": {
     "kernelName": "sql"
    },
    "vscode": {
     "languageId": "polyglot-notebook"
    }
   },
   "outputs": [],
   "source": [
    "-- excluindo foreign key\n",
    "\n",
    "ALTER TABLE table_name\n",
    "DROP FOREIGN KEY key_name;"
   ]
  },
  {
   "cell_type": "code",
   "execution_count": null,
   "metadata": {
    "dotnet_interactive": {
     "language": "sql"
    },
    "polyglot_notebook": {
     "kernelName": "sql"
    },
    "vscode": {
     "languageId": "polyglot-notebook"
    }
   },
   "outputs": [],
   "source": [
    "-- referencial actions em foreign keys\n",
    "-- ON UPDATE/ON DELETE\n",
    "\n",
    "--CASCADE     | if a row in the parent table is deleted or updated, all matching rows will be deleted or updated automatically\n",
    "--SET NULL    | if a row in the parent table is deleted or updated, all matching foreign key values in the child table will be set to NULL\n",
    "--RESTRICT    | if we try to update or delete a row in the parent table, the operation will be rejected\n",
    "--SET DEFAULT | if a row with the corresponding value is deleted or updated, the foreign key value in the child table will be set to the default value\n",
    "--NO ACTION   | this keyword can mean different actions depending on a dialect. In MySQL, it is equivalent to the RESTRICT keyword, so if we create the table employees with one of the queries above, delete and update actions in the table departments will be forbidden\n",
    "\n",
    "CREATE TABLE table_name (\n",
    "    ...\n",
    "    REFERENCES other_table_name(other_table_column_name)\n",
    "        ON DELETE SET NULL\n",
    "        ON UPDATE CASCADE\n",
    "); "
   ]
  }
 ],
 "metadata": {
  "language_info": {
   "name": "python"
  },
  "orig_nbformat": 4
 },
 "nbformat": 4,
 "nbformat_minor": 2
}
