{
 "cells": [
  {
   "cell_type": "code",
   "execution_count": null,
   "metadata": {},
   "outputs": [],
   "source": [
    "# part of speech tagging is the process of classifying words into such lexical categories adverbs, adjectives, nouns, and verbs are called part-of-speech.\n",
    "\n",
    "import nltk\n",
    "from nltk import tag \n",
    "from nltk import word_tokenize"
   ]
  },
  {
   "cell_type": "code",
   "execution_count": null,
   "metadata": {},
   "outputs": [],
   "source": [
    "# download tagger\n",
    "\n",
    "nltk.download('punkt')\n",
    "nltk.download('averaged_perceptron_tagger')"
   ]
  },
  {
   "cell_type": "code",
   "execution_count": null,
   "metadata": {},
   "outputs": [],
   "source": [
    "# classificações\n",
    "\n",
    "nltk.help.upenn_tagset('NN') # argumento opcional"
   ]
  },
  {
   "cell_type": "code",
   "execution_count": 14,
   "metadata": {},
   "outputs": [
    {
     "name": "stdout",
     "output_type": "stream",
     "text": [
      "[('The', 'DT'), ('Amazon', 'NNP'), ('Theatre', 'NNP'), ('is', 'VBZ'), ('an', 'DT'), ('opera', 'NN'), ('house', 'NN'), ('in', 'IN'), ('Manaus', 'NNP'), (',', ','), ('in', 'IN'), ('the', 'DT'), ('heart', 'NN'), ('of', 'IN'), ('the', 'DT'), ('Amazon', 'NNP'), ('rainforest', 'NN'), ('in', 'IN'), ('Brazil', 'NNP')]\n"
     ]
    }
   ],
   "source": [
    "# nltk.pos_tag\n",
    "\n",
    "text = 'The Amazon Theatre is an opera house in Manaus, in the heart of the Amazon rainforest in Brazil'\n",
    "tokenized = word_tokenize(text)\n",
    "print(nltk.pos_tag(tokenized))"
   ]
  }
 ],
 "metadata": {
  "kernelspec": {
   "display_name": "Python 3",
   "language": "python",
   "name": "python3"
  },
  "language_info": {
   "codemirror_mode": {
    "name": "ipython",
    "version": 3
   },
   "file_extension": ".py",
   "mimetype": "text/x-python",
   "name": "python",
   "nbconvert_exporter": "python",
   "pygments_lexer": "ipython3",
   "version": "3.10.5"
  },
  "orig_nbformat": 4
 },
 "nbformat": 4,
 "nbformat_minor": 2
}
