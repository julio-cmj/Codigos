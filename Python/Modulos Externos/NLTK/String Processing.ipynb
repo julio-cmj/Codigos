{
 "cells": [
  {
   "cell_type": "code",
   "execution_count": null,
   "metadata": {},
   "outputs": [],
   "source": [
    "# string processing\n",
    "\n",
    "import nltk\n",
    "from nltk import tokenize #  tokenization. It breaks raw textual data into smaller units (words, phrases, or any other entities).\n",
    "from nltk import stem"
   ]
  },
  {
   "cell_type": "code",
   "execution_count": null,
   "metadata": {},
   "outputs": [],
   "source": [
    "# Tipos de separadores: TabTokenizer, ToktokTokenizer, line_tokenize, TweetTokenizer...\n",
    "\n",
    "# word_tokenize() - retorna palavras e pontuações\n",
    "\n",
    "tokenize.word_tokenize(\"I have got a cat. My cat's name is C-3PO. He's golden.\")"
   ]
  },
  {
   "cell_type": "code",
   "execution_count": null,
   "metadata": {},
   "outputs": [],
   "source": [
    "# WordPunctTokenizer().\n",
    "\n",
    "tokenize.WordPunctTokenizer().tokenize(\"I have got a cat. My cat's name is C-3PO. He's golden.\")"
   ]
  },
  {
   "cell_type": "code",
   "execution_count": null,
   "metadata": {},
   "outputs": [],
   "source": [
    "# regexp_tokenize() - retorna tokens de acordo com uma regexp\n",
    "\n",
    "tokenize.regexp_tokenize(\"I have got a cat. My cat's name is C-3PO. He's golden.\", 'golden')"
   ]
  },
  {
   "cell_type": "code",
   "execution_count": null,
   "metadata": {},
   "outputs": [],
   "source": [
    "# TreebankWordTokenizer() - retorna tokens de acordo com Penn Treebank\n",
    "\n",
    "tokenize.TreebankWordTokenizer().tokenize(\"I have got a cat. My cat's name is C-3PO. He's golden.\")"
   ]
  },
  {
   "cell_type": "code",
   "execution_count": null,
   "metadata": {},
   "outputs": [],
   "source": [
    "# Sent_tokenize() - retorna tokens em sequências\n",
    "\n",
    "tokenize.sent_tokenize(\"I have got a cat. My cat's name is C-3PO. He's golden.\")"
   ]
  },
  {
   "cell_type": "code",
   "execution_count": null,
   "metadata": {},
   "outputs": [],
   "source": [
    "# spaCy, keras, gensim, HuggingFace, Stanza"
   ]
  },
  {
   "cell_type": "code",
   "execution_count": null,
   "metadata": {},
   "outputs": [],
   "source": [
    "tokenize.WhitespaceTokenizer()"
   ]
  }
 ],
 "metadata": {
  "kernelspec": {
   "display_name": "Python 3",
   "language": "python",
   "name": "python3"
  },
  "language_info": {
   "codemirror_mode": {
    "name": "ipython",
    "version": 3
   },
   "file_extension": ".py",
   "mimetype": "text/x-python",
   "name": "python",
   "nbconvert_exporter": "python",
   "pygments_lexer": "ipython3",
   "version": "3.10.5"
  },
  "orig_nbformat": 4
 },
 "nbformat": 4,
 "nbformat_minor": 2
}
