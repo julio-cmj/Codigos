{
 "cells": [
  {
   "cell_type": "code",
   "execution_count": null,
   "metadata": {},
   "outputs": [
    {
     "data": {
      "image/png": "[encoded data removed]",
      "text/plain": [
       "<Figure size 538.128x200.667 with 1 Axes>"
      ]
     },
     "execution_count": 2,
     "metadata": {},
     "output_type": "execute_result"
    }
   ],
   "source": [
    "import numpy as np\n",
    "from qiskit import QuantumCircuit\n",
    " \n",
    "U = 0.5 * np.array([\n",
    "    [1, 1, 1, 1],\n",
    "    [-1, 1, -1, 1],\n",
    "    [-1, -1, 1, 1],\n",
    "    [-1, 1, 1, -1]\n",
    "])\n",
    " \n",
    "circuit = QuantumCircuit(2)\n",
    "circuit.unitary(U, circuit.qubits)\n",
    "circuit.draw('mpl')"
   ]
  },
  {
   "cell_type": "code",
   "execution_count": 6,
   "metadata": {},
   "outputs": [
    {
     "name": "stdout",
     "output_type": "stream",
     "text": [
      "Operator([[ 0.5+0.j,  0.5+0.j,  0.5+0.j,  0.5+0.j],\n",
      "          [-0.5+0.j,  0.5+0.j, -0.5+0.j,  0.5+0.j],\n",
      "          [-0.5+0.j, -0.5+0.j,  0.5+0.j,  0.5+0.j],\n",
      "          [-0.5+0.j,  0.5+0.j,  0.5+0.j, -0.5+0.j]],\n",
      "         input_dims=(2, 2), output_dims=(2, 2))\n"
     ]
    }
   ],
   "source": [
    "from qiskit.quantum_info import Operator\n",
    " \n",
    "# compute unitary matrix of circuit\n",
    "U = Operator(circuit)\n",
    " \n",
    "# re-synthesize\n",
    "better_circuit = QuantumCircuit(2)\n",
    "better_circuit.unitary(U, [0,1])\n",
    "better_circuit.decompose().draw()\n",
    "U"
   ]
  },
  {
   "cell_type": "code",
   "execution_count": 18,
   "metadata": {},
   "outputs": [
    {
     "name": "stdout",
     "output_type": "stream",
     "text": [
      " > Counts: {'010': 1024}\n"
     ]
    }
   ],
   "source": [
    "from qiskit import QuantumCircuit\n",
    "from qiskit.primitives import StatevectorSampler as Sampler\n",
    "\n",
    "qc = QuantumCircuit(3)\n",
    "qc.x(1)\n",
    "qc.measure_all()\n",
    " \n",
    "job = Sampler().run([qc])\n",
    "result = job.result()\n",
    "print(f\" > Counts: {result[0].data.meas.get_counts()}\")"
   ]
  }
 ],
 "metadata": {
  "kernelspec": {
   "display_name": "Python 3",
   "language": "python",
   "name": "python3"
  },
  "language_info": {
   "codemirror_mode": {
    "name": "ipython",
    "version": 3
   },
   "file_extension": ".py",
   "mimetype": "text/x-python",
   "name": "python",
   "nbconvert_exporter": "python",
   "pygments_lexer": "ipython3",
   "version": "3.13.1"
  }
 },
 "nbformat": 4,
 "nbformat_minor": 2
}
