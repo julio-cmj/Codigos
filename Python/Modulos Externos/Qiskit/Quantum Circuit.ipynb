{
 "cells": [
  {
   "cell_type": "markdown",
   "metadata": {},
   "source": [
    "## Criação de Circuitos"
   ]
  },
  {
   "cell_type": "code",
   "execution_count": 39,
   "metadata": {},
   "outputs": [
    {
     "name": "stdout",
     "output_type": "stream",
     "text": [
      "[Qubit(QuantumRegister(2, 'q'), 0), Qubit(QuantumRegister(2, 'q'), 1)]\n",
      "[CircuitInstruction(operation=Instruction(name='x', num_qubits=1, num_clbits=0, params=[]), qubits=(Qubit(QuantumRegister(2, 'q'), 0),), clbits=())]\n"
     ]
    },
    {
     "data": {
      "text/html": [
       "<pre style=\"word-wrap: normal;white-space: pre;background: #fff0;line-height: 1.1;font-family: &quot;Courier New&quot;,Courier,monospace\">     ┌───┐\n",
       "q_0: ┤ X ├\n",
       "     └───┘\n",
       "q_1: ─────\n",
       "          </pre>"
      ],
      "text/plain": [
       "     ┌───┐\n",
       "q_0: ┤ X ├\n",
       "     └───┘\n",
       "q_1: ─────\n",
       "          "
      ]
     },
     "execution_count": 39,
     "metadata": {},
     "output_type": "execute_result"
    }
   ],
   "source": [
    "# Visualizar as propriedades do circuito\n",
    "\n",
    "from qiskit import QuantumCircuit\n",
    " \n",
    "qc = QuantumCircuit(2)\n",
    "qc.x(0)\n",
    "\n",
    "print(qc.qubits)\n",
    "print(qc.data)\n",
    "\n",
    "qc.draw()\n"
   ]
  },
  {
   "cell_type": "code",
   "execution_count": 106,
   "metadata": {},
   "outputs": [
    {
     "data": {
      "image/png": "[encoded data removed]",
      "text/plain": [
       "<Figure size 705.552x284.278 with 1 Axes>"
      ]
     },
     "execution_count": 106,
     "metadata": {},
     "output_type": "execute_result"
    }
   ],
   "source": [
    "# decompose - decompõe as portas lógicas em portas fundamentais\n",
    "\n",
    "from qiskit import QuantumCircuit\n",
    "\n",
    "qc = QuantumCircuit(3)\n",
    "qc.ch(0,1) # controle hadamard\n",
    "\n",
    "qc.decompose().draw('mpl')"
   ]
  },
  {
   "cell_type": "code",
   "execution_count": null,
   "metadata": {},
   "outputs": [
    {
     "name": "stdout",
     "output_type": "stream",
     "text": [
      "Instruction(name='mcx', num_qubits=5, num_clbits=0, params=[])\n"
     ]
    },
    {
     "data": {
      "image/png": "[encoded data removed]",
      "text/plain": [
       "<Figure size 203.885x451.5 with 1 Axes>"
      ]
     },
     "execution_count": 57,
     "metadata": {},
     "output_type": "execute_result"
    }
   ],
   "source": [
    "# Append \n",
    "\n",
    "from qiskit.circuit.library import MCXGate\n",
    "from qiskit import QuantumCircuit\n",
    "gate = MCXGate(4)\n",
    "print(gate)\n",
    "\n",
    "circuit = QuantumCircuit(5)\n",
    "circuit.append(gate, [4, 1, 2, 3, 0])\n",
    "circuit.draw('mpl')"
   ]
  },
  {
   "cell_type": "code",
   "execution_count": 77,
   "metadata": {},
   "outputs": [
    {
     "name": "stdout",
     "output_type": "stream",
     "text": [
      "[[ 0.70710678+0.j  0.70710678+0.j]\n",
      " [ 0.70710678+0.j -0.70710678+0.j]]\n",
      "\n",
      "[[ 1.+0.j  0.+0.j]\n",
      " [ 0.+0.j -1.+0.j]]\n",
      "\n",
      "[[1.000000e+00+0.j 0.000000e+00+0.j]\n",
      " [0.000000e+00+0.j 6.123234e-17+1.j]]\n",
      "\n",
      "[[ 1.+0.j  0.+0.j  0.+0.j  0.+0.j]\n",
      " [ 0.+0.j  1.+0.j  0.+0.j  0.+0.j]\n",
      " [ 0.+0.j  0.+0.j  1.+0.j  0.+0.j]\n",
      " [ 0.+0.j  0.+0.j  0.+0.j -1.+0.j]]\n"
     ]
    }
   ],
   "source": [
    "# Visualizar em forma de matrix e modificar as portas\n",
    "from qiskit import QuantumCircuit\n",
    "qc = QuantumCircuit(1)\n",
    "qc.h(0)\n",
    "gate = qc.data[0].operation\n",
    "print(gate.to_matrix())             \n",
    "print()\n",
    "\n",
    "from qiskit.circuit.library import ZGate\n",
    "gate = ZGate()\n",
    "print(gate.to_matrix())             # X gate\n",
    "print()\n",
    "print(gate.power(1/2).to_matrix())  # √X gate\n",
    "print()\n",
    "print(gate.control(1).to_matrix())  # CX (controlled X) gate"
   ]
  },
  {
   "cell_type": "code",
   "execution_count": null,
   "metadata": {},
   "outputs": [
    {
     "name": "stdout",
     "output_type": "stream",
     "text": [
      "     ┌───┐\n",
      "q_0: ┤ X ├\n",
      "     └───┘\n",
      "q_1: ─────\n",
      "          \n",
      "q_2: ─────\n",
      "          \n",
      "q_3: ─────\n",
      "          \n",
      "     ┌───┐\n",
      "q_0: ┤ Y ├\n",
      "     ├───┤\n",
      "q_1: ┤ Z ├\n",
      "     └───┘\n"
     ]
    },
    {
     "data": {
      "image/png": "[encoded data removed]",
      "text/plain": [
       "<Figure size 203.885x367.889 with 1 Axes>"
      ]
     },
     "execution_count": 85,
     "metadata": {},
     "output_type": "execute_result"
    }
   ],
   "source": [
    "# Compose - juntar dois circuitos\n",
    "from qiskit import QuantumCircuit\n",
    "\n",
    "qc_a = QuantumCircuit(4)\n",
    "qc_a.x(0)\n",
    "print(qc_a)\n",
    "\n",
    "qc_b = QuantumCircuit(2)\n",
    "qc_b.y(0)\n",
    "qc_b.z(1)\n",
    "print(qc_b) \n",
    "\n",
    "# adiciona os qubits de B nas linhas 1 e 3 de A\n",
    "combined = qc_a.compose(qc_b, qubits=[1, 3]) # cria um circuito novo, para modificar um circuito use inplace = True\n",
    "combined.draw(\"mpl\")"
   ]
  },
  {
   "cell_type": "code",
   "execution_count": 103,
   "metadata": {},
   "outputs": [
    {
     "data": {
      "image/png": "[encoded data removed]",
      "text/plain": [
       "<Figure size 203.885x367.889 with 1 Axes>"
      ]
     },
     "execution_count": 103,
     "metadata": {},
     "output_type": "execute_result"
    }
   ],
   "source": [
    "# to_instrucion - transforma um circuito em uma instrução\n",
    "from qiskit import QuantumCircuit\n",
    "\n",
    "qc_a = QuantumCircuit(4)\n",
    "qc_a.x(0)\n",
    " \n",
    "qc_b = QuantumCircuit(2, name = \"B\")\n",
    "qc_b.y(0)\n",
    "qc_b.z(1)\n",
    "\n",
    "inst = qc_b.to_instruction()\n",
    "qc_a.append(inst, [1, 2])\n",
    "qc_a.decompose().draw(\"mpl\")\n",
    "\n",
    "# 0 = qubit 0 de b"
   ]
  },
  {
   "cell_type": "code",
   "execution_count": 102,
   "metadata": {},
   "outputs": [
    {
     "data": {
      "image/png": "[encoded data removed]",
      "text/plain": [
       "<Figure size 454.719x367.889 with 1 Axes>"
      ]
     },
     "execution_count": 102,
     "metadata": {},
     "output_type": "execute_result"
    }
   ],
   "source": [
    "# to_gate - transforma um circuito em uma porta lógica se for unitário (opções diferentes que instruções)\n",
    "from qiskit import QuantumCircuit\n",
    "\n",
    "qc_a = QuantumCircuit(4)\n",
    "qc_a.x(0)\n",
    " \n",
    "qc_b = QuantumCircuit(2, name = \"B\")\n",
    "qc_b.y(0)\n",
    "qc_b.z(1)\n",
    "\n",
    "gate = qc_b.to_gate().control()\n",
    "qc_a.append(gate, [0, 1, 3])\n",
    "qc_a.decompose().draw(\"mpl\")\n"
   ]
  },
  {
   "cell_type": "code",
   "execution_count": null,
   "metadata": {},
   "outputs": [],
   "source": [
    "# "
   ]
  }
 ],
 "metadata": {
  "kernelspec": {
   "display_name": "Python 3",
   "language": "python",
   "name": "python3"
  },
  "language_info": {
   "codemirror_mode": {
    "name": "ipython",
    "version": 3
   },
   "file_extension": ".py",
   "mimetype": "text/x-python",
   "name": "python",
   "nbconvert_exporter": "python",
   "pygments_lexer": "ipython3",
   "version": "3.13.1"
  }
 },
 "nbformat": 4,
 "nbformat_minor": 2
}
