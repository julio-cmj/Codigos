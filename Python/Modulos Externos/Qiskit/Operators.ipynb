{
 "cells": [
  {
   "cell_type": "markdown",
   "metadata": {
    "vscode": {
     "languageId": "plaintext"
    }
   },
   "source": [
    "## Criação de operadores"
   ]
  },
  {
   "cell_type": "code",
   "execution_count": 33,
   "metadata": {},
   "outputs": [
    {
     "name": "stdout",
     "output_type": "stream",
     "text": [
      "X:\n",
      " [[0.+0.j 1.+0.j]\n",
      " [1.+0.j 0.+0.j]] \n",
      "X tensor X:\n",
      " [[0.+0.j 0.+0.j 0.+0.j 1.+0.j]\n",
      " [0.+0.j 0.+0.j 1.+0.j 0.+0.j]\n",
      " [0.+0.j 1.+0.j 0.+0.j 0.+0.j]\n",
      " [1.+0.j 0.+0.j 0.+0.j 0.+0.j]] \n",
      "i*X:\n",
      " [[0.+0.j 0.+1.j]\n",
      " [0.+1.j 0.+0.j]]\n"
     ]
    }
   ],
   "source": [
    "# Pauli - Z,X,Y,I\n",
    "\n",
    "from qiskit.quantum_info import Pauli\n",
    "\n",
    "X = Pauli('X')\n",
    "XX = Pauli('XX') # X tensor X\n",
    "iX = Pauli('iX') # i*X\n",
    "\n",
    "print(f\"X:\\n {X.to_matrix()} \\nX tensor X:\\n {XX.to_matrix()} \\ni*X:\\n {iX.to_matrix()}\")"
   ]
  },
  {
   "cell_type": "code",
   "execution_count": 37,
   "metadata": {},
   "outputs": [
    {
     "name": "stdout",
     "output_type": "stream",
     "text": [
      "X:\n",
      " [[0.+0.j 1.+0.j]\n",
      " [1.+0.j 0.+0.j]] \n",
      "X tensor X:\n",
      " [[0.+0.j 0.+0.j 0.+0.j 1.+0.j]\n",
      " [0.+0.j 0.+0.j 1.+0.j 0.+0.j]\n",
      " [0.+0.j 1.+0.j 0.+0.j 0.+0.j]\n",
      " [1.+0.j 0.+0.j 0.+0.j 0.+0.j]] \n",
      "X+X:\n",
      " [[0.+0.j 2.+0.j]\n",
      " [2.+0.j 0.+0.j]] \n",
      "i*X:\n",
      " [[0.+0.j 0.+1.j]\n",
      " [0.+1.j 0.+0.j]] \n",
      "XII:\n",
      " [[0.+0.j 0.+0.j 0.+0.j 0.+0.j 1.+0.j 0.+0.j 0.+0.j 0.+0.j]\n",
      " [0.+0.j 0.+0.j 0.+0.j 0.+0.j 0.+0.j 1.+0.j 0.+0.j 0.+0.j]\n",
      " [0.+0.j 0.+0.j 0.+0.j 0.+0.j 0.+0.j 0.+0.j 1.+0.j 0.+0.j]\n",
      " [0.+0.j 0.+0.j 0.+0.j 0.+0.j 0.+0.j 0.+0.j 0.+0.j 1.+0.j]\n",
      " [1.+0.j 0.+0.j 0.+0.j 0.+0.j 0.+0.j 0.+0.j 0.+0.j 0.+0.j]\n",
      " [0.+0.j 1.+0.j 0.+0.j 0.+0.j 0.+0.j 0.+0.j 0.+0.j 0.+0.j]\n",
      " [0.+0.j 0.+0.j 1.+0.j 0.+0.j 0.+0.j 0.+0.j 0.+0.j 0.+0.j]\n",
      " [0.+0.j 0.+0.j 0.+0.j 1.+0.j 0.+0.j 0.+0.j 0.+0.j 0.+0.j]]\n"
     ]
    }
   ],
   "source": [
    "# SparsePauliop\n",
    "\n",
    "from qiskit.quantum_info import SparsePauliOp\n",
    "\n",
    "X = SparsePauliOp(['X'])\n",
    "XX = SparsePauliOp(['XX']) # X tensor X\n",
    "X_X = SparsePauliOp(['X','X']) # X + X\n",
    "iX = SparsePauliOp(['X'], coeffs=[1j]) # i*X\n",
    "XII = SparsePauliOp.from_sparse_list([(['X'], [2], 1)], num_qubits=3) # ([\"operadores\"], \"[index_qubits]\", coeficiente)\n",
    "\n",
    "print(f\"X:\\n {X.to_matrix()} \\nX tensor X:\\n {XX.to_matrix()} \\nX+X:\\n {X_X.to_matrix()} \\ni*X:\\n {iX.to_matrix()} \\nXII:\\n {XII.to_matrix()}\")"
   ]
  },
  {
   "cell_type": "code",
   "execution_count": 43,
   "metadata": {},
   "outputs": [
    {
     "name": "stdout",
     "output_type": "stream",
     "text": [
      "SparsePauliOp(['X', 'Y'],\n",
      "              coeffs=[1.+0.j, 1.+0.j])\n",
      "SparsePauliOp(['X'],\n",
      "              coeffs=[2.+0.j])\n",
      "SparsePauliOp(['Z'],\n",
      "              coeffs=[0.+1.j])\n",
      "SparsePauliOp(['XY'],\n",
      "              coeffs=[1.+0.j])\n"
     ]
    }
   ],
   "source": [
    "# Operações entre operadores\n",
    "\n",
    "from qiskit.quantum_info import SparsePauliOp\n",
    "\n",
    "x = SparsePauliOp(['X'])\n",
    "y = SparsePauliOp(['Y'])\n",
    "\n",
    "print(x + y)\n",
    "print(2*x)\n",
    "print(x@y)  # x * y\n",
    "print(x.tensor(y))"
   ]
  },
  {
   "cell_type": "code",
   "execution_count": 52,
   "metadata": {},
   "outputs": [
    {
     "name": "stdout",
     "output_type": "stream",
     "text": [
      "Operator([[0.+0.j, 0.+0.j, 0.+0.j, 1.+0.j],\n",
      "          [0.+0.j, 0.+0.j, 1.+0.j, 0.+0.j],\n",
      "          [0.+0.j, 1.+0.j, 0.+0.j, 0.+0.j],\n",
      "          [1.+0.j, 0.+0.j, 0.+0.j, 0.+0.j]],\n",
      "         input_dims=(2, 2), output_dims=(2, 2))\n"
     ]
    }
   ],
   "source": [
    "# Operator\n",
    "\n",
    "from qiskit.quantum_info import Operator\n",
    "import numpy as np\n",
    "XX = Operator(\n",
    "    np.array(\n",
    "        [\n",
    "            [0, 0, 0, 1],\n",
    "            [0, 0, 1, 0],\n",
    "            [0, 1, 0, 0],\n",
    "            [1, 0, 0, 0],\n",
    "        ]\n",
    "    )\n",
    ")\n",
    "\n",
    "# input e ouput dimensions = numero de qubits que entram e saem\n",
    "\n",
    "print(XX)"
   ]
  },
  {
   "cell_type": "code",
   "execution_count": 53,
   "metadata": {},
   "outputs": [
    {
     "name": "stdout",
     "output_type": "stream",
     "text": [
      "SparsePauliOp(['IZ', 'XI', 'YY'],\n",
      "              coeffs=[-1. +0.j,  0.5+0.j,  1. -0.j])\n"
     ]
    }
   ],
   "source": [
    "# Passando um operador para as bases de Pauli\n",
    "\n",
    "import numpy as np\n",
    "from qiskit.quantum_info import SparsePauliOp\n",
    " \n",
    "matrix = np.array(\n",
    "    [[-1, 0, 0.5, -1], [0, 1, 1, 0.5], [0.5, 1, -1, 0], [-1, 0.5, 0, 1]]\n",
    ")\n",
    " \n",
    "observable = SparsePauliOp.from_operator(matrix)\n",
    "print(observable)"
   ]
  },
  {
   "cell_type": "code",
   "execution_count": null,
   "metadata": {},
   "outputs": [],
   "source": [
    "# Criando um operador unitario\n",
    "\n",
    "import numpy as np\n",
    "from qiskit import QuantumCircuit\n",
    " \n",
    "U = 0.5 * np.array([\n",
    "    [1, 1, 1, 1],\n",
    "    [-1, 1, -1, 1],\n",
    "    [-1, -1, 1, 1],\n",
    "    [-1, 1, 1, -1]\n",
    "])\n",
    " \n",
    "circuit = QuantumCircuit(2)\n",
    "circuit.unitary(U, circuit.qubits)\n",
    "circuit.draw('mpl')"
   ]
  }
 ],
 "metadata": {
  "kernelspec": {
   "display_name": "Python 3",
   "language": "python",
   "name": "python3"
  },
  "language_info": {
   "codemirror_mode": {
    "name": "ipython",
    "version": 3
   },
   "file_extension": ".py",
   "mimetype": "text/x-python",
   "name": "python",
   "nbconvert_exporter": "python",
   "pygments_lexer": "ipython3",
   "version": "3.13.1"
  }
 },
 "nbformat": 4,
 "nbformat_minor": 2
}
