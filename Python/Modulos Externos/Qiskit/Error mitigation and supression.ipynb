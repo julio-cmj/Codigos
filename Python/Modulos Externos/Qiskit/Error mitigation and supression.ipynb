{
 "cells": [
  {
   "cell_type": "markdown",
   "id": "3f6e7834",
   "metadata": {},
   "source": [
    "### Resumo e códigos para implementação de técnicas de mitigação e supressão de erro"
   ]
  },
  {
   "cell_type": "code",
   "execution_count": null,
   "id": "02a0af94",
   "metadata": {},
   "outputs": [],
   "source": [
    "# Implementação através do level de resiliência\n",
    "\n",
    "estimator = Estimator(backend, options={\"resilience_level\": 2})"
   ]
  },
  {
   "cell_type": "markdown",
   "id": "b431dbf3",
   "metadata": {},
   "source": [
    "## Dynamical Decoupling\n",
    "\n",
    "Aplica uma sequência de portas a qubits que estão ociosos para evitar que eles interajam com outros qubits ou com o ambiente.\n",
    "\n",
    "As portas se somam na identidade, sem idealmente alterar o resultado do circuito."
   ]
  },
  {
   "cell_type": "code",
   "execution_count": null,
   "id": "d48a380b",
   "metadata": {},
   "outputs": [],
   "source": [
    "# Implementação\n",
    "\n",
    "estimator = Estimator(mode=backend)\n",
    "estimator.options.dynamical_decoupling.enable = True\n",
    "estimator.options.dynamical_decoupling.sequence_type = \"XY4\""
   ]
  },
  {
   "cell_type": "raw",
   "id": "02078ad7",
   "metadata": {
    "vscode": {
     "languageId": "raw"
    }
   },
   "source": [
    "Parameters:\n",
    "\n",
    "enable (UnsetType | bool)\n",
    "sequence_type (UnsetType | Literal['XX', 'XpXm', 'XY4'])\n",
    "extra_slack_distribution (UnsetType | Literal['middle', 'edges'])\n",
    "scheduling_method (UnsetType | Literal['alap', 'asap'])\n",
    "skip_reset_qubits (UnsetType | bool)"
   ]
  },
  {
   "cell_type": "raw",
   "id": "c2b03b5a",
   "metadata": {
    "vscode": {
     "languageId": "raw"
    }
   },
   "source": [
    "Incompatibilidade:\n",
    " \n",
    "dynamic circuits"
   ]
  },
  {
   "cell_type": "markdown",
   "id": "bc13bdc0",
   "metadata": {},
   "source": [
    "## randomized compiling (Twirling)"
   ]
  },
  {
   "cell_type": "markdown",
   "id": "f695fb40",
   "metadata": {},
   "source": [
    "### Pauli Twirling\n",
    "\n",
    "Converte o canal ruidoso em um canal de Pauli, atua adicionando operadores de Pauli aletoriamente no começo e fim das portas lógicas.\n",
    "\n",
    "As portas se somam na identidade, sem idealmente alterar o resultado do circuito."
   ]
  },
  {
   "cell_type": "code",
   "execution_count": null,
   "id": "10e28bb5",
   "metadata": {},
   "outputs": [],
   "source": [
    "# Implementação\n",
    "\n",
    "estimator = Estimator()\n",
    "estimator.options.twirling.enable_gates = True\n",
    "estimator.options.twirling.num_randomizations = 32\n",
    "estimator.options.twirling.shots_per_randomization = 100"
   ]
  },
  {
   "cell_type": "markdown",
   "id": "48e999e2",
   "metadata": {},
   "source": [
    "### Twirled readout error extinction (TREX)\n",
    "\n",
    "Adiciona uma porta NOT antes da medição e um NOT clássico após a medição."
   ]
  },
  {
   "cell_type": "code",
   "execution_count": null,
   "id": "bdc1f98f",
   "metadata": {},
   "outputs": [],
   "source": [
    "# Implementação\n",
    "\n",
    "estimator = Estimator()\n",
    "estimator.options.resilience.measure_mitigation = True\n",
    "estimator.options.resilience.measure_noise_learning.num_randomizations = 32\n",
    "estimator.options.resilience.measure_noise_learning.shots_per_randomization = 100"
   ]
  },
  {
   "cell_type": "raw",
   "id": "4177ff24",
   "metadata": {
    "vscode": {
     "languageId": "raw"
    }
   },
   "source": [
    "Parameters:\n",
    "\n",
    "enable_gates (UnsetType | bool)\n",
    "enable_measure (UnsetType | bool)\n",
    "num_randomizations (UnsetType | int | Literal['auto'])\n",
    "shots_per_randomization (UnsetType | int | Literal['auto'])\n",
    "strategy (UnsetType | Literal['active', 'active-accum', 'active-circuit', 'all'])"
   ]
  },
  {
   "cell_type": "raw",
   "id": "16038b76",
   "metadata": {
    "vscode": {
     "languageId": "raw"
    }
   },
   "source": [
    "Incompatibilidade:\n",
    "\n",
    "Fractional gates\n",
    "non-Clifford entanglers\n",
    "\n",
    "Notes:\n",
    "Can be used with dynamic circuits with non-conditional gates."
   ]
  },
  {
   "cell_type": "markdown",
   "id": "c91c4b50",
   "metadata": {},
   "source": [
    "## Zero-noise extrapolation (ZNE)\n",
    "\n",
    "Executa circuitos com vários leveis de ruído (noise amplification). \n",
    "\n",
    "Depois extrapola o valor do estimavel para o limite onde há zero ruído, a partir dos valores de cada nivel de ruído (Expolation). "
   ]
  },
  {
   "cell_type": "code",
   "execution_count": null,
   "id": "3f0ad58f",
   "metadata": {},
   "outputs": [],
   "source": [
    "# Implementação\n",
    "\n",
    "estimator = Estimator()\n",
    "estimator.options.resilience.zne_mitigation = True\n",
    "estimator.options.resilience.zne.noise_factors = (1, 3, 5)\n",
    "estimator.options.resilience.zne.extrapolator = \"exponential\""
   ]
  },
  {
   "cell_type": "raw",
   "id": "7b490c16",
   "metadata": {
    "vscode": {
     "languageId": "raw"
    }
   },
   "source": [
    "Parameters:\n",
    "\n",
    "amplifier (UnsetType | Literal['gate_folding', 'gate_folding_front', 'gate_folding_back', 'pea'])\n",
    "noise_factors (UnsetType | Sequence[float])\n",
    "extrapolator (UnsetType | Literal['linear', 'exponential', 'double_exponential', 'polynomial_degree_1', 'polynomial_degree_2', 'polynomial_degree_3', 'polynomial_degree_4', 'polynomial_degree_5', 'polynomial_degree_6', 'polynomial_degree_7', 'fallback'] | ~typing.Sequence[~typing.Literal['linear', 'exponential', 'double_exponential', 'polynomial_degree_1', 'polynomial_degree_2', 'polynomial_degree_3', 'polynomial_degree_4', 'polynomial_degree_5', 'polynomial_degree_6', 'polynomial_degree_7', 'fallback']])\n",
    "extrapolated_noise_factors (UnsetType | Sequence[float])"
   ]
  },
  {
   "cell_type": "raw",
   "id": "c4965d60",
   "metadata": {
    "vscode": {
     "languageId": "raw"
    }
   },
   "source": [
    "Incompatibilidade(Gate-folding):                                        Incompatibilidade(PEA):\n",
    "\n",
    "Dynamic circuits                                                        Dynamic circuits\n",
    "PEA                                                                     Gate-folding ZNE\n",
    "PEC                                                                     PEC                                      \n",
    "Might not work when using custom gates.                                 Fractional gates"
   ]
  },
  {
   "cell_type": "markdown",
   "id": "599f8b95",
   "metadata": {},
   "source": [
    "## Probabilistic error cancellation (PEC)\n",
    "\n",
    "Divide o circuito em uma combinação linear de circuitos com ruído."
   ]
  },
  {
   "cell_type": "code",
   "execution_count": null,
   "id": "16c6d8d6",
   "metadata": {},
   "outputs": [],
   "source": [
    "# Implementação\n",
    "\n",
    "estimator = Estimator()\n",
    "estimator.options.resilience.pec_mitigation = True\n",
    "estimator.options.resilience.pec.max_overhead = 100"
   ]
  },
  {
   "cell_type": "raw",
   "id": "82233aea",
   "metadata": {
    "vscode": {
     "languageId": "raw"
    }
   },
   "source": [
    "Parameters:\n",
    "\n",
    "max_overhead (UnsetType | float | None)\n",
    "noise_gain (UnsetType | float | Literal['auto'])"
   ]
  },
  {
   "cell_type": "raw",
   "id": "f75ed055",
   "metadata": {
    "vscode": {
     "languageId": "raw"
    }
   },
   "source": [
    "Incompatibilidade:\n",
    "\n",
    "Dynamic circuits\n",
    "Fractional gates\n",
    "Gate-folding ZNE\n",
    "PEA"
   ]
  }
 ],
 "metadata": {
  "kernelspec": {
   "display_name": "Python 3",
   "language": "python",
   "name": "python3"
  },
  "language_info": {
   "codemirror_mode": {
    "name": "ipython",
    "version": 3
   },
   "file_extension": ".py",
   "mimetype": "text/x-python",
   "name": "python",
   "nbconvert_exporter": "python",
   "pygments_lexer": "ipython3",
   "version": "3.13.1"
  }
 },
 "nbformat": 4,
 "nbformat_minor": 5
}
