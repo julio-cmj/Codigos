{
 "cells": [
  {
   "cell_type": "code",
   "execution_count": null,
   "metadata": {},
   "outputs": [],
   "source": [
    "import pandas as pd"
   ]
  },
  {
   "cell_type": "code",
   "execution_count": null,
   "metadata": {},
   "outputs": [],
   "source": [
    "# Creating DataFrames pd.DataFrame(value, name=name, index=index)\n",
    "frame1 = pd.DataFrame({'Yes': [50, 21], 'No': [131, 2]})\n",
    "frame2 = pd.DataFrame({'Bob': ['I liked it.', 'It was awful.'], 'Sue': ['Pretty good.', 'Bland.']})\n",
    "\n",
    "print(frame1)\n",
    "print(frame2)"
   ]
  },
  {
   "cell_type": "code",
   "execution_count": null,
   "metadata": {},
   "outputs": [],
   "source": [
    "# alterando nome dos axes\n",
    "# dataframe.rename() - renomeia varias características do DataFrame, pode ser usado para renomear apenas certas colunas ou index\n",
    "dataframe = pd.DataFrame({'Bob': ['I liked it.', 'It was awful.'], 'Sue': ['Pretty good.', 'Bland.']},)  \n",
    "\n",
    "# Alterando o Index\n",
    "dataframe.index = ['Linha 1', 'Linha 2']\n",
    "\n",
    "# Alterando o header\n",
    "dataframe.columns = ['Coluna 1', 'Coluna 2']\n",
    "#dataframe.rename(columns='{Bob':'Coluna 1', 'Sue':'Coluna 2'}, inplace=True)\n",
    "\n",
    "print(dataframe)\n",
    "\n",
    "# resetando index\n",
    "dataframe.reset_index(inplace=True, drop=True) "
   ]
  },
  {
   "cell_type": "code",
   "execution_count": null,
   "metadata": {},
   "outputs": [],
   "source": [
    "# lendo por index\n",
    "frame1 = pd.DataFrame({'Yes': [50, 21], 'No': [131, 2]})\n",
    "frame2 = pd.DataFrame({'Bob': ['I liked it.', 'It was awful.'], 'Sue': ['Pretty good.', 'Bland.']})\n",
    "\n",
    "print(frame1['No'])           # [] - retorna uma serie\n",
    "print(frame2[['Bob', 'Sue']]) # [[]] - retorna um DataFrame"
   ]
  },
  {
   "cell_type": "code",
   "execution_count": null,
   "metadata": {},
   "outputs": [],
   "source": [
    "# adicionando linhas \n",
    "\n",
    "dataframe = pd.DataFrame({'numbers': [10, 20], 'letters': ['a', 'f']})\n",
    "\n",
    "dataframe['LETTERS'] = ['A', 'F']\n",
    "\n",
    "print(dataframe)"
   ]
  },
  {
   "cell_type": "code",
   "execution_count": null,
   "metadata": {},
   "outputs": [],
   "source": [
    "# visualizar os arquivos\n",
    "\"\"\"\n",
    "dataframe.head(n) |  mostra as n primeiras linhas \n",
    "dataframe.tail(n) |  mostra as n ultimas linhas\n",
    "dataframe.shape() |  mostra o numero de linhas e colunas \n",
    "dataframe.info()  |  mostra varias informações sobre o dataframe, como numero, tipo de dado e nome das colunas\n",
    "dataframe.index   |  retorna os indexes \n",
    "dataframe.columns |  retorna as coluans\n",
    "dataframe.axes    |  retorna uma lista com index e colunas\n",
    "\"\"\""
   ]
  },
  {
   "cell_type": "code",
   "execution_count": null,
   "metadata": {},
   "outputs": [],
   "source": [
    "# importando arquivo - pd.read_[DataType](path) \n",
    "# ex: read_csv, read_sql, read_xml\n",
    "'''\n",
    "sep        |  delimiter, default: ','\n",
    "header     |  ROW NUMBER that stores the headers. By default the first row.\n",
    "names      |  lista de nomes para o header. If you want to use other column names, set header=0 and pass a list of new column names with names.\n",
    "index_col  |  COLUMN NUMBER that stores the index label. It's set to None by default and the row numbers are used as indexes.\n",
    "usecols    |  lista com nome ou index das colunas escolhidas \n",
    "'''"
   ]
  },
  {
   "cell_type": "code",
   "execution_count": null,
   "metadata": {},
   "outputs": [],
   "source": [
    "wine_reviews = pd.read_csv(\"C:/Users/JULIO/documents/Codigos/Dados/winemag-data-130k-v2.csv\")\n",
    "wine_reviews.head(3)"
   ]
  },
  {
   "cell_type": "code",
   "execution_count": null,
   "metadata": {},
   "outputs": [],
   "source": [
    "wine_reviews = pd.read_csv(\"C:/Users/JULIO/documents/Codigos/Dados/winemag-data-130k-v2.csv\", index_col=0, header=0)\n",
    "wine_reviews.head(3)"
   ]
  },
  {
   "cell_type": "code",
   "execution_count": null,
   "metadata": {},
   "outputs": [],
   "source": [
    "wine_reviews = pd.read_csv(\"C:/Users/JULIO/documents/Codigos/Dados/winemag-data-130k-v2.csv\", index_col=2, header=2)\n",
    "wine_reviews.head(3)"
   ]
  },
  {
   "cell_type": "code",
   "execution_count": null,
   "metadata": {},
   "outputs": [],
   "source": [
    "wine_reviews = pd.read_csv(\"C:/Users/JULIO/documents/Codigos/Dados/winemag-data-130k-v2.csv\", usecols=[1,3,5])\n",
    "wine_reviews.head(3)"
   ]
  },
  {
   "cell_type": "code",
   "execution_count": null,
   "metadata": {},
   "outputs": [],
   "source": [
    "# salvando DataFrame em um arquivo - dataframe.to_[DataType](path)\n",
    "\"\"\"\n",
    "sep     |  delimiter, default: ','\n",
    "header  |  stores the column names (default True). You can also pass a list of column names different from the ones that the DataFrame has.\n",
    "index   |  whether to write an index (default True)\n",
    "columns |  the list of columns to write. By default, all columns are used, but you can pass a list of column names to use only part of them.\n",
    "\"\"\""
   ]
  },
  {
   "cell_type": "code",
   "execution_count": null,
   "metadata": {},
   "outputs": [],
   "source": [
    "wine_reviews = pd.read_csv(\"C:/Users/JULIO/documents/Codigos/Dados/winemag-data-130k-v2.csv\")\n",
    "wine_reviews.columns"
   ]
  }
 ],
 "metadata": {
  "kernelspec": {
   "display_name": "Python 3",
   "language": "python",
   "name": "python3"
  },
  "language_info": {
   "codemirror_mode": {
    "name": "ipython",
    "version": 3
   },
   "file_extension": ".py",
   "mimetype": "text/x-python",
   "name": "python",
   "nbconvert_exporter": "python",
   "pygments_lexer": "ipython3",
   "version": "3.10.5"
  },
  "orig_nbformat": 4
 },
 "nbformat": 4,
 "nbformat_minor": 2
}
