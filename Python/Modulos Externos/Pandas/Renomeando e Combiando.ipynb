{
 "cells": [
  {
   "cell_type": "code",
   "execution_count": null,
   "metadata": {},
   "outputs": [],
   "source": [
    "import pandas as pd\n",
    "#reviews = pd.read_csv(\"C:/Users/julio\\Downloads/codigos/Dados/winemag-data-130k-v2.csv\", index_col=0)\n",
    "#reviews.head()"
   ]
  },
  {
   "cell_type": "code",
   "execution_count": null,
   "metadata": {},
   "outputs": [],
   "source": [
    "# Renomeando colunas\n",
    "reviews.rename(columns={'points': 'score'}) # ->> utilizando dicionario"
   ]
  },
  {
   "cell_type": "code",
   "execution_count": null,
   "metadata": {},
   "outputs": [],
   "source": [
    "# Renomeando linhas\n",
    "reviews.rename(index={0: 'firstEntry', 1: 'secondEntry'}) # ->> utilizando dicionario"
   ]
  },
  {
   "cell_type": "code",
   "execution_count": null,
   "metadata": {},
   "outputs": [],
   "source": [
    "# Renomenado a coluna o nome das colunas e das linhas de index\n",
    "reviews.rename_axis(\"wines\", axis='rows').rename_axis(\"fields\", axis='columns')"
   ]
  },
  {
   "cell_type": "code",
   "execution_count": null,
   "metadata": {},
   "outputs": [],
   "source": [
    "# Concatenando - pd.concat([dataframe1, dataframe2, ...]) \n",
    "'''\n",
    "axis=0       |  axis=0, concatena por linha(por baixo); axis=1, concatena por coluna(pela direita)\n",
    "join='outer' |  outer, todas linhas são preservadas; inner, somente as linhas que possuem os mesmos indexes são concatenadas \n",
    "keys=[lista] |  adiciona uma nova coluna para indicar quais valores são de cada dataframe\n",
    "ignore_index |  False, mantem os indexes originais da lista adicionada; True, reordena a lista com os novos valores\n",
    "'''"
   ]
  },
  {
   "cell_type": "code",
   "execution_count": null,
   "metadata": {},
   "outputs": [],
   "source": [
    "# exemplos\n",
    "junior_class = pd.DataFrame({'Name': ['Ann', 'Kate', 'George', 'Eric'], '100m (sec.)': ['16.3', '17.1', '14.8', '14.3'],'2km (min., sec.)': ['9,24', '9,45', '9,17', '8,14']}, index=[1, 2, 3, 4])\n",
    "senior_class = pd.DataFrame({'Name': ['Jack', 'Alicia', 'Ella', 'James'], '100m (sec.)': ['15.9', '17.8', '17.0', '15.0'],'2km (min., sec.)': ['8,18', '9,02', '8,58', '7,58']})\n",
    "\n",
    "pd.concat([junior_class, senior_class], axis=1)\n",
    "pd.concat([junior_class, senior_class], ignore_index=True)\n",
    "pd.concat([junior_class, senior_class], axis=1, join='inner')\n",
    "pd.concat([junior_class, senior_class], keys=['Jun. class', 'Sen. class'])"
   ]
  },
  {
   "cell_type": "code",
   "execution_count": null,
   "metadata": {},
   "outputs": [],
   "source": [
    "# Misturando - dataframe1.merge(dataframe2), similiar a join em sql\n",
    "'''\n",
    "how='inner' |  (inner, left, right, outer); inner: somente intersecção, left: todos da esquerda e intersecção, right: todos da direita e intersecção, outer: todos. \n",
    "on=[lista]  |  especifica quais valores devem ser misturados em forma de lista, os valores devem estar em ambas as listas\n",
    "left_on     |  especifica quais valores do dataframe esquerdo devem ser misturados\n",
    "right_on    |  especifica quais valores do dataframe direito devem ser mistutados\n",
    "sort\n",
    "'''"
   ]
  },
  {
   "cell_type": "code",
   "execution_count": null,
   "metadata": {},
   "outputs": [],
   "source": [
    "# exemplo\n",
    "junior_class = pd.DataFrame({'Name': ['Ann', 'Kate', 'George', 'Eric'], '100m (sec.)': ['16.3', '17.1', '14.8', '14.3'],'2km (min., sec.)': ['9,24', '9,45', '9,17', '8,14']}, index=[1, 2, 3, 4])\n",
    "age_of_participants = pd.DataFrame({'Name': ['Ann', 'Eric', 'Ella'], 'Age': ['16', '16', '18']})\n",
    "\n",
    "junior_class.merge(age_of_participants)"
   ]
  },
  {
   "cell_type": "code",
   "execution_count": null,
   "metadata": {},
   "outputs": [],
   "source": [
    "# Combinando pelo lado\n",
    "left = canadian_youtube.set_index(['title', 'trending_date'])\n",
    "right = british_youtube.set_index(['title', 'trending_date'])\n",
    "\n",
    "left.join(right, lsuffix='_CAN', rsuffix='_UK')"
   ]
  }
 ],
 "metadata": {
  "kernelspec": {
   "display_name": "Python 3",
   "language": "python",
   "name": "python3"
  },
  "language_info": {
   "codemirror_mode": {
    "name": "ipython",
    "version": 3
   },
   "file_extension": ".py",
   "mimetype": "text/x-python",
   "name": "python",
   "nbconvert_exporter": "python",
   "pygments_lexer": "ipython3",
   "version": "3.10.5"
  },
  "orig_nbformat": 4,
  "vscode": {
   "interpreter": {
    "hash": "ca4ae65869d2cb0a1ce9a252154e55d284ddfed7dca74e9ec9cf70dfaaed74d1"
   }
  }
 },
 "nbformat": 4,
 "nbformat_minor": 2
}
