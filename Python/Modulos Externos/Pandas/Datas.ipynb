{
 "cells": [
  {
   "cell_type": "code",
   "execution_count": null,
   "metadata": {},
   "outputs": [],
   "source": [
    "import pandas as pd"
   ]
  },
  {
   "cell_type": "code",
   "execution_count": null,
   "metadata": {},
   "outputs": [],
   "source": [
    "# altera o tipo de dado de object para datime64\n",
    "\n",
    "table = pd.DataFrame ({'date': ['2022-06-01', '2022-06-02', '2022-06-03'],\n",
    "                    'guest': [5, 10, 20]})\n",
    "print(table.dtypes)\n",
    "\n",
    "table['date'] = pd.to_datetime(table['date'])\n",
    "print(table.dtypes)"
   ]
  },
  {
   "cell_type": "code",
   "execution_count": null,
   "metadata": {},
   "outputs": [],
   "source": [
    "# opcionais\n",
    "\"\"\"\n",
    "default = yyyy-mm-dd\n",
    "dayfirst=True  | indica que o primeiro valor corresponde ao dia dd-mm-yyyy\n",
    "yearfirst=True | indica que o primeiro valor corresponde ao ano yy-mm-dd\n",
    "format= %d%m%Y %H:%M:%S | 8/06/2022 19:45:30        \n",
    "\"\"\""
   ]
  },
  {
   "cell_type": "code",
   "execution_count": null,
   "metadata": {},
   "outputs": [],
   "source": [
    "# criando uma nova coluna - os nomes das colunas devem ter nomes especificos\n",
    "\n",
    "table = pd.DataFrame({'year': [2015, 2016],\n",
    "                   'month': [2, 3],\n",
    "                   'day': [4, 5]})\n",
    "table['date'] = pd.to_datetime(table)\n",
    "print(table)"
   ]
  },
  {
   "cell_type": "code",
   "execution_count": null,
   "metadata": {},
   "outputs": [],
   "source": [
    "# .dt - exemplo\n",
    "df = pd.DataFrame({'date': ['4/03/2022', '5/03/2022'],\n",
    "                  'guest': [16, 19]})\n",
    "df['date'] = pd.to_datetime(df['date'], dayfirst=True)\n",
    "\n",
    "df['year']= df['date'].dt.year\n",
    "df['month']= df['date'].dt.month\n",
    "df['day']= df['date'].dt.day\n",
    "df['is_lap_year'] = df['date'].dt.is_leap_year\n",
    "df['diff']= (df['date'] - df['date']).dt.days\n",
    "\n",
    "print(df)"
   ]
  },
  {
   "cell_type": "code",
   "execution_count": null,
   "metadata": {},
   "outputs": [],
   "source": [
    "# date_range\n",
    "\n",
    "table = pd.DataFrame({'values':[1, 2, 3, 4, 5]})\n",
    "\n",
    "table['date'] = pd.date_range(start='2000-01-01', end='2000-05-31', freq='M')\n",
    "print(table)"
   ]
  }
 ],
 "metadata": {
  "kernelspec": {
   "display_name": "Python 3",
   "language": "python",
   "name": "python3"
  },
  "language_info": {
   "codemirror_mode": {
    "name": "ipython",
    "version": 3
   },
   "file_extension": ".py",
   "mimetype": "text/x-python",
   "name": "python",
   "nbconvert_exporter": "python",
   "pygments_lexer": "ipython3",
   "version": "3.10.5"
  },
  "orig_nbformat": 4
 },
 "nbformat": 4,
 "nbformat_minor": 2
}
