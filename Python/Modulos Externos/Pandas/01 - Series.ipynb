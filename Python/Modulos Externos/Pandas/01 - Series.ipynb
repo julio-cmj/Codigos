{
 "cells": [
  {
   "cell_type": "code",
   "execution_count": null,
   "metadata": {},
   "outputs": [],
   "source": [
    "import pandas as pd\n",
    "#pd.read_csv('https://raw.githubusercontent.com/mwaskom/seaborn-data/master/penguins.csv')"
   ]
  },
  {
   "cell_type": "code",
   "execution_count": null,
   "metadata": {},
   "outputs": [],
   "source": [
    "# Criando Series - pd.Series(values, indexes, name=name)\n",
    "serie1 = pd.Series([1, 2, 3, 4, 5], name='numeros')\n",
    "serie2 = pd.Series([21, 20, 25, 22], ['Anna', 'Bob', 'Maria', 'Jack'])\n",
    "\n",
    "print(serie1)\n",
    "print(serie2)"
   ]
  },
  {
   "cell_type": "code",
   "execution_count": null,
   "metadata": {},
   "outputs": [],
   "source": [
    "# Alterando o index, além do modo indexes acima\n",
    "serie1 = pd.Series([30, 35, 40], index=['2015 Sales', '2016 Sales', '2017 Sales'])\n",
    "\n",
    "# Serie já criada\n",
    "serie1.index = ['2015 Sales', '2016 Sales', '2017 Sales']"
   ]
  },
  {
   "cell_type": "code",
   "execution_count": null,
   "metadata": {},
   "outputs": [],
   "source": [
    "# lendo por index\n",
    "serie1 = pd.Series([30, 35, 40], index=['2015 Sales', '2016 Sales', '2017 Sales'])\n",
    "serie2 = pd.Series([21, 20, 25, 22])\n",
    "\n",
    "print(serie1['2015 Sales'])\n",
    "print(serie2[0])"
   ]
  },
  {
   "cell_type": "code",
   "execution_count": null,
   "metadata": {},
   "outputs": [],
   "source": [
    "# alterando um valor\n",
    "serie = pd.Series(['um', 'dois', 'tres'])\n",
    "\n",
    "serie[1] = 'azul'\n",
    "\n",
    "print(serie)"
   ]
  },
  {
   "cell_type": "code",
   "execution_count": null,
   "metadata": {},
   "outputs": [],
   "source": [
    "# adicionando valor, ou criando uma nova série com concat\n",
    "serie = pd.Series(['um', 'dois', 'tres'])\n",
    "\n",
    "serie[3] = 'quatro'\n",
    "\n",
    "print(serie)"
   ]
  },
  {
   "cell_type": "code",
   "execution_count": null,
   "metadata": {},
   "outputs": [],
   "source": [
    "# removendo valores\n",
    "# o tamanho de uma serie é imutavel, adicionar ou remover valores de uma serie cria uma serie nova\n",
    "# para modificar a serie original utiliza-se inplace=True\n",
    "serie = pd.Series(['um', 'dois', 'tres'])\n",
    "\n",
    "nova_serie = serie.drop(index=0)\n",
    "\n",
    "print(serie)\n",
    "print(nova_serie)"
   ]
  },
  {
   "cell_type": "code",
   "execution_count": null,
   "metadata": {},
   "outputs": [],
   "source": [
    "# Operações com series - series suportam operações diretas \n",
    "serie1 = pd.Series([10, 20, 30, 50])\n",
    "serie2 = pd.Series([1, 2, 3, 5])\n",
    "\n",
    "print(serie1 / serie2)\n",
    "\n",
    "# \n",
    "serie1 = pd.Series([21, 44], index=['a','b'])\n",
    "serie2 = pd.Series([73, 80], index=['b','c'])\n",
    "\n",
    "print(serie1 + serie2)"
   ]
  }
 ],
 "metadata": {
  "kernelspec": {
   "display_name": "Python 3",
   "language": "python",
   "name": "python3"
  },
  "language_info": {
   "codemirror_mode": {
    "name": "ipython",
    "version": 3
   },
   "file_extension": ".py",
   "mimetype": "text/x-python",
   "name": "python",
   "nbconvert_exporter": "python",
   "pygments_lexer": "ipython3",
   "version": "3.10.5"
  },
  "orig_nbformat": 4
 },
 "nbformat": 4,
 "nbformat_minor": 2
}
