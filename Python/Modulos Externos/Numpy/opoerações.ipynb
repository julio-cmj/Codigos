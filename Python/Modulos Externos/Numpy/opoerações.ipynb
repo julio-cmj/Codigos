{
 "cells": [
  {
   "cell_type": "code",
   "execution_count": 2,
   "metadata": {},
   "outputs": [],
   "source": [
    "import numpy as np"
   ]
  },
  {
   "cell_type": "code",
   "execution_count": 28,
   "metadata": {},
   "outputs": [
    {
     "name": "stdout",
     "output_type": "stream",
     "text": [
      "soma:\n",
      " [[2 3]\n",
      " [5 6]]\n",
      "subtração:\n",
      " [[ 0 -1]\n",
      " [-1 -2]]\n",
      "multiplicação:\n",
      " [[1 2]\n",
      " [6 8]]\n",
      "divisão:\n",
      " [[1.         0.5       ]\n",
      " [0.66666667 0.5       ]]\n",
      "exponencial:\n",
      " [[ 1  1]\n",
      " [ 8 16]]\n",
      "multiplicação entre matrizes:\n",
      " [[ 4  6]\n",
      " [ 8 12]]\n"
     ]
    }
   ],
   "source": [
    "# operações entre arrays\n",
    "\n",
    "array1 = np.array([[1, 1], [2, 2]])\n",
    "array2 = np.array([[1, 2], [3, 4]])\n",
    "\n",
    "print('soma:\\n', array1 + array2)\n",
    "print('subtração:\\n', array1 - array2)\n",
    "print('multiplicação:\\n', array1 * array2)\n",
    "print('divisão:\\n', array1 / array2)\n",
    "print('exponencial:\\n', array1 ** array2)\n",
    "print('multiplicação entre matrizes:\\n', array1 @ array2)"
   ]
  },
  {
   "cell_type": "code",
   "execution_count": 24,
   "metadata": {},
   "outputs": [
    {
     "name": "stdout",
     "output_type": "stream",
     "text": [
      "soma:\n",
      " [[2 3]\n",
      " [5 6]]\n",
      "subtração:\n",
      " [[ 0 -1]\n",
      " [-1 -2]]\n",
      "multiplicação:\n",
      " [[1 2]\n",
      " [6 8]]\n",
      "divisão:\n",
      " [[1.         0.5       ]\n",
      " [0.66666667 0.5       ]]\n",
      "exponencial:\n",
      " [[ 1  1]\n",
      " [ 8 16]]\n",
      "multiplicação entre matrizes:\n",
      " [[ 4  6]\n",
      " [ 8 12]]\n"
     ]
    }
   ],
   "source": [
    "# operações entre arrays\n",
    "\n",
    "array1 = np.array([[1, 1], [2, 2]])\n",
    "array2 = np.array([[1, 2], [3, 4]])\n",
    "\n",
    "print('soma:\\n', np.add(array1, array2))\n",
    "print('subtração:\\n', np.subtract(array1, array2))\n",
    "print('multiplicação:\\n', np.multiply(array1,array2))\n",
    "print('divisão:\\n', np.divide(array1, array2))\n",
    "print('exponencial:\\n', np.power(array1, array2))\n",
    "print('multiplicação entre matrizes:\\n', np.matmul(array1,array2))"
   ]
  },
  {
   "cell_type": "code",
   "execution_count": 8,
   "metadata": {},
   "outputs": [
    {
     "name": "stdout",
     "output_type": "stream",
     "text": [
      "soma: 45\n",
      "multiplicação: 362880\n",
      "maior valor: 9  index: 8\n",
      "menor valor: 1  index: 0\n"
     ]
    }
   ],
   "source": [
    "# operações com arrays \n",
    "\n",
    "array = np.array([[1, 2, 3], [4, 5, 6], [7 , 8 ,9]])\n",
    "\n",
    "print(\"soma:\", array.sum())\n",
    "print(\"multiplicação:\", array.prod())\n",
    "print(\"maior valor:\", array.max(), ' index:', array.argmax()) \n",
    "print(\"menor valor:\", array.min(), \" index:\", array.argmin())    \n"
   ]
  },
  {
   "cell_type": "code",
   "execution_count": 12,
   "metadata": {},
   "outputs": [
    {
     "name": "stdout",
     "output_type": "stream",
     "text": [
      "29.576604101960076\n",
      "34.714285714285715\n",
      "874.7755102040816\n",
      "32.0\n",
      "30.892857142857142\n"
     ]
    }
   ],
   "source": [
    "# operações estatisicas com arrays \n",
    "\n",
    "array = np.array([3, 56, 78, 32, 65, 0, 9])\n",
    "\n",
    "print(array.std())       # desvio padrão, np.std(array)\n",
    "print(array.mean())      # media        , np.mean(array) \n",
    "print(array.var())       # variancia    , np.var(array)\n",
    "print(np.median(array))  # meio\n",
    "print(np.average(array, weights = [1, 2, 3, 4, 5, 6, 7])) # media avançada"
   ]
  },
  {
   "cell_type": "code",
   "execution_count": 17,
   "metadata": {},
   "outputs": [
    {
     "name": "stdout",
     "output_type": "stream",
     "text": [
      "[12 15 18]\n",
      "[ 6 15 24]\n",
      "45\n"
     ]
    }
   ],
   "source": [
    "# axis - especifica uma dimensão do array\n",
    "\n",
    "array = np.array([[1, 2, 3], [4, 5, 6], [7 , 8 ,9]])\n",
    "\n",
    "print(array.sum(axis=0)) # soma das colunas\n",
    "print(array.sum(axis=1)) # soma das linhas\n",
    "print(array.sum(axis=0).sum()) # soma da soma das colunas, equivalente a array.sum()"
   ]
  }
 ],
 "metadata": {
  "kernelspec": {
   "display_name": "Python 3",
   "language": "python",
   "name": "python3"
  },
  "language_info": {
   "codemirror_mode": {
    "name": "ipython",
    "version": 3
   },
   "file_extension": ".py",
   "mimetype": "text/x-python",
   "name": "python",
   "nbconvert_exporter": "python",
   "pygments_lexer": "ipython3",
   "version": "3.10.5"
  },
  "orig_nbformat": 4
 },
 "nbformat": 4,
 "nbformat_minor": 2
}
