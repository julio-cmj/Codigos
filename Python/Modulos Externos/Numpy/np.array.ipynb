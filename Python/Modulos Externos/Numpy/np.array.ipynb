{
 "cells": [
  {
   "cell_type": "code",
   "execution_count": null,
   "metadata": {},
   "outputs": [],
   "source": [
    "import numpy as np"
   ]
  },
  {
   "cell_type": "code",
   "execution_count": null,
   "metadata": {},
   "outputs": [],
   "source": [
    "# criando array - equivalente a vetor/matriz\n",
    "\n",
    "m = [1, 2, 3, 4, 5]\n",
    "matriz = np.array(m)\n",
    "print(matriz)"
   ]
  },
  {
   "cell_type": "code",
   "execution_count": null,
   "metadata": {},
   "outputs": [],
   "source": [
    "# criando array de qualquer tipo\n",
    "# arrays só podem ter um tipo\n",
    "\n",
    "matriz = np.array([2, [3], 'a'], dtype=object)\n",
    "print(matriz)"
   ]
  },
  {
   "cell_type": "code",
   "execution_count": null,
   "metadata": {},
   "outputs": [],
   "source": [
    "# array de maiores dimensões\n",
    "# as listas devem ter o mesmo numero de elementos, caso contrario terá dimensão 1\n",
    "\n",
    "matriz = np.array([[1, 2, 3], [4, 5, 6], [7 , 8, 9]])\n",
    "print(matriz)"
   ]
  },
  {
   "cell_type": "code",
   "execution_count": null,
   "metadata": {},
   "outputs": [],
   "source": [
    "# dimensões \n",
    "\n",
    "matriz1 = np.array([1, 2, 3])\n",
    "matriz2 = np.array([[1, 9], [0, 0], [4, 6]])\n",
    "\n",
    "# array.size - n de elementos\n",
    "print('size')\n",
    "print(matriz1.size)\n",
    "print(matriz2.size)\n",
    "\n",
    "# array.shape - (linha, coluna)\n",
    "print('shape')\n",
    "print(matriz1.shape)\n",
    "print(matriz2.shape)\n",
    "\n",
    "# array.ndim - n dimensoes (de .shape)\n",
    "print('ndim')\n",
    "print(matriz1.ndim)\n",
    "print(matriz2.ndim)"
   ]
  },
  {
   "cell_type": "code",
   "execution_count": null,
   "metadata": {},
   "outputs": [],
   "source": [
    "# np.tolist() - converte array em lista"
   ]
  }
 ],
 "metadata": {
  "kernelspec": {
   "display_name": "Python 3",
   "language": "python",
   "name": "python3"
  },
  "language_info": {
   "codemirror_mode": {
    "name": "ipython",
    "version": 3
   },
   "file_extension": ".py",
   "mimetype": "text/x-python",
   "name": "python",
   "nbconvert_exporter": "python",
   "pygments_lexer": "ipython3",
   "version": "3.10.5"
  },
  "orig_nbformat": 4
 },
 "nbformat": 4,
 "nbformat_minor": 2
}
