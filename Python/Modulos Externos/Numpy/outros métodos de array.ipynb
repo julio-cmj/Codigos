{
 "cells": [
  {
   "cell_type": "code",
   "execution_count": 2,
   "metadata": {},
   "outputs": [],
   "source": [
    "import numpy as np"
   ]
  },
  {
   "cell_type": "code",
   "execution_count": null,
   "metadata": {},
   "outputs": [],
   "source": [
    "# np.arange(start, end, step)\n",
    "\n",
    "array = np.arange(0, 10, 1)\n",
    "print(array)"
   ]
  },
  {
   "cell_type": "code",
   "execution_count": null,
   "metadata": {},
   "outputs": [],
   "source": [
    "# np.linspace(start, end, num=n) - cria um array com n(default 50) elementos entre start e end distruibuidos em \"steps\" iguais \n",
    "\n",
    "array = np.linspace(0, 10)\n",
    "print(array)"
   ]
  },
  {
   "cell_type": "code",
   "execution_count": 9,
   "metadata": {},
   "outputs": [
    {
     "name": "stdout",
     "output_type": "stream",
     "text": [
      "[[0. 0.]\n",
      " [0. 0.]]\n",
      "[1. 1. 1. 1.]\n"
     ]
    }
   ],
   "source": [
    "# np.zeros() e np.ones() - cria matrizes somente com 0 ou 1\n",
    "\n",
    "zeros = np.zeros((2, 2))\n",
    "one = np.ones(4)\n",
    "print(zeros)\n",
    "print(one)"
   ]
  },
  {
   "cell_type": "code",
   "execution_count": 11,
   "metadata": {},
   "outputs": [
    {
     "name": "stdout",
     "output_type": "stream",
     "text": [
      "[[0 0 0]\n",
      " [0 0 0]]\n"
     ]
    }
   ],
   "source": [
    "# np.zeros_like() e np.ones_like() - converte uma matriz em 0 ou 1\n",
    "\n",
    "matriz = np.array([[1, 2, 3], \n",
    "                   [4, 5, 6]])\n",
    "matriz_0 = np.zeros_like(matriz)\n",
    "print(matriz_0)"
   ]
  },
  {
   "cell_type": "code",
   "execution_count": 9,
   "metadata": {},
   "outputs": [
    {
     "name": "stdout",
     "output_type": "stream",
     "text": [
      "[[ 1  9]\n",
      " [ 2  2]\n",
      " [ 3 -1]] \n",
      "\n",
      "[[ 1  9]\n",
      " [ 2  2]\n",
      " [ 3 -1]]\n"
     ]
    }
   ],
   "source": [
    "# transposta - não funciona com matrizes de uma dimensão\n",
    "\n",
    "matriz = np.array([[1,2,3], [9, 2, -1]])\n",
    "\n",
    "print(matriz.T, '\\n')\n",
    "print(np.transpose(matriz))"
   ]
  },
  {
   "cell_type": "code",
   "execution_count": 17,
   "metadata": {},
   "outputs": [
    {
     "name": "stdout",
     "output_type": "stream",
     "text": [
      "[[2.  0.4]\n",
      " [3.  0.8]]\n"
     ]
    }
   ],
   "source": [
    "a = np.array([1,5])\n",
    "b = np.array([[2,2], [3,4]])\n",
    "print(b/a)"
   ]
  }
 ],
 "metadata": {
  "kernelspec": {
   "display_name": "Python 3",
   "language": "python",
   "name": "python3"
  },
  "language_info": {
   "codemirror_mode": {
    "name": "ipython",
    "version": 3
   },
   "file_extension": ".py",
   "mimetype": "text/x-python",
   "name": "python",
   "nbconvert_exporter": "python",
   "pygments_lexer": "ipython3",
   "version": "3.10.5"
  },
  "orig_nbformat": 4
 },
 "nbformat": 4,
 "nbformat_minor": 2
}
