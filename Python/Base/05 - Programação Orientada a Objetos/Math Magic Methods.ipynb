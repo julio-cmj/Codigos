{
 "cells": [
  {
   "cell_type": "code",
   "execution_count": null,
   "metadata": {},
   "outputs": [],
   "source": [
    "\"\"\"\n",
    "__add__()     | __iadd__()     | addition (+)\n",
    "__sub__()     | __isub__()     | subtraction (-)\n",
    "__mul__()     | __imul__()     | multiplication (*)\n",
    "__truediv__() | __itruediv__() | division (/)\n",
    "__pow__()     | __ipow__()     | exponents (**)\n",
    "\"\"\""
   ]
  },
  {
   "cell_type": "code",
   "execution_count": null,
   "metadata": {},
   "outputs": [],
   "source": [
    "\"\"\"\n",
    "__eq__() | equality (==)\n",
    "__ne__() | inequality (!=)\n",
    "__lt__() | less than (<)\n",
    "__gt__() | greater than (>)\n",
    "__le__() | less or equal (<=)\n",
    "__ge__() | greater or equal (>=)\n",
    "\"\"\""
   ]
  },
  {
   "cell_type": "code",
   "execution_count": null,
   "metadata": {},
   "outputs": [],
   "source": [
    "class ComplexNumber:\n",
    "    def __init__(self, real_part, im_part):\n",
    "        self.real_part = real_part\n",
    "        self.im_part = im_part\n",
    "\n",
    "    def __add__(self, other):\n",
    "        real = self.real_part + other.real_part\n",
    "        imaginary = self.im_part + other.im_part\n",
    "        return ComplexNumber(real, imaginary)\n",
    "\n",
    "    def __mul__(self, other):\n",
    "        real = (self.real_part * other.real_part - \n",
    "                self.im_part * other.im_part)\n",
    "        imaginary = (self.real_part * other.im_part + \n",
    "                     other.real_part * self.im_part)\n",
    "        return ComplexNumber(real, imaginary)\n",
    "    \n",
    "    def __iadd__(self, other):\n",
    "        self.real_part += other.real_part\n",
    "        self.im_part += other.im_part\n",
    "        return self\n",
    "    \n",
    "    def __eq__(self, other):\n",
    "        return ((self.real_part == other.real_part) and\n",
    "               (self.im_part == other.im_part))"
   ]
  }
 ],
 "metadata": {
  "kernelspec": {
   "display_name": "Python 3",
   "language": "python",
   "name": "python3"
  },
  "language_info": {
   "codemirror_mode": {
    "name": "ipython",
    "version": 3
   },
   "file_extension": ".py",
   "mimetype": "text/x-python",
   "name": "python",
   "nbconvert_exporter": "python",
   "pygments_lexer": "ipython3",
   "version": "3.10.5"
  },
  "orig_nbformat": 4
 },
 "nbformat": 4,
 "nbformat_minor": 2
}
