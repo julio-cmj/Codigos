{
 "cells": [
  {
   "cell_type": "code",
   "execution_count": null,
   "metadata": {},
   "outputs": [],
   "source": [
    "# em geral objetos tipo hash são imutavies ex: string, int, float, tuple, fronzenset, bool\n",
    "# somente objetos tipo hash podem ser chaves em um dicionario\n",
    "\n",
    "x = 2\n",
    "print(x.__hash__)"
   ]
  },
  {
   "cell_type": "code",
   "execution_count": null,
   "metadata": {},
   "outputs": [],
   "source": [
    "# __hash__ e __equal__\n",
    "\n",
    "string = 'string'\n",
    "print(string.__hash__())\n",
    "print(string.__eq__('string'))  # tem mesmo valor hash"
   ]
  },
  {
   "cell_type": "code",
   "execution_count": null,
   "metadata": {},
   "outputs": [],
   "source": [
    "# diferença entre valor hash e id\n",
    "\n",
    "string1 = ['string']\n",
    "string2 = ['string']\n",
    "print(string1.__eq__(string2))\n",
    "print(string1 == string2)\n",
    "print(id(string1) == id(string2))"
   ]
  },
  {
   "cell_type": "code",
   "execution_count": null,
   "metadata": {},
   "outputs": [],
   "source": [
    "# types list\n",
    "from collections.abc import Hashable\n",
    "\n",
    "print('float        ', isinstance(3.14, Hashable))\n",
    "print('string       ', isinstance('str', Hashable)) \n",
    "print('tuple        ', isinstance((3.14,) , Hashable))\n",
    "print('frozenset    ', isinstance(frozenset({3,14, }), Hashable))  \n",
    "print('dict         ', isinstance({3.14: \"Pi number\"}, Hashable))\n",
    "print('list         ', isinstance([3.14], Hashable))\n",
    "print('set          ', isinstance({3.14,}, Hashable))  \n",
    "print('bool         ', isinstance(True, Hashable))"
   ]
  }
 ],
 "metadata": {
  "kernelspec": {
   "display_name": "Python 3",
   "language": "python",
   "name": "python3"
  },
  "language_info": {
   "codemirror_mode": {
    "name": "ipython",
    "version": 3
   },
   "file_extension": ".py",
   "mimetype": "text/x-python",
   "name": "python",
   "nbconvert_exporter": "python",
   "pygments_lexer": "ipython3",
   "version": "3.10.5"
  },
  "orig_nbformat": 4
 },
 "nbformat": 4,
 "nbformat_minor": 2
}
