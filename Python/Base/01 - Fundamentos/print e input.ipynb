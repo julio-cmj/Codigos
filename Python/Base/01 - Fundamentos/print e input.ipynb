{
 "cells": [
  {
   "cell_type": "code",
   "execution_count": null,
   "metadata": {},
   "outputs": [],
   "source": [
    "# sep = 'x' - 'x' simbolo qualquer em formato string\n",
    "\n",
    "print('julio','cesar', sep = '')\n",
    "print('julio','cesar', sep = ' ')\n",
    "print('julio','cesar', sep = ' sobrenome: ')"
   ]
  },
  {
   "cell_type": "code",
   "execution_count": null,
   "metadata": {},
   "outputs": [],
   "source": [
    "# end = 'x' - une os prints \n",
    "\n",
    "print('hello', end = \"\")\n",
    "print('julio', end = ' ')\n",
    "print('ce','sar', end = '.')\n"
   ]
  },
  {
   "cell_type": "code",
   "execution_count": null,
   "metadata": {},
   "outputs": [],
   "source": [
    "# print em listas\n",
    "\n",
    "x = ['Humphrey the Bear', 'Spike the Bee', 'Fat Cat']\n",
    "print(*x)\n",
    "print(*x, end='\\n')"
   ]
  },
  {
   "cell_type": "code",
   "execution_count": null,
   "metadata": {},
   "outputs": [],
   "source": [
    "# input\n",
    "\n",
    "nome = input(\"Informe o seu nome: \")\n",
    "idade = input(\"Informe a sua idade: \")\n",
    "\n",
    "print(nome, idade)\n",
    "print(nome, idade, end=\"...\\n\")\n",
    "print(nome, idade, sep=\"#\", end=\"...\\n\")\n",
    "print(nome, idade, sep=\"#\")"
   ]
  }
 ],
 "metadata": {
  "kernelspec": {
   "display_name": "Python 3",
   "language": "python",
   "name": "python3"
  },
  "language_info": {
   "codemirror_mode": {
    "name": "ipython",
    "version": 3
   },
   "file_extension": ".py",
   "mimetype": "text/x-python",
   "name": "python",
   "nbconvert_exporter": "python",
   "pygments_lexer": "ipython3",
   "version": "3.10.5"
  },
  "orig_nbformat": 4,
  "vscode": {
   "interpreter": {
    "hash": "ca4ae65869d2cb0a1ce9a252154e55d284ddfed7dca74e9ec9cf70dfaaed74d1"
   }
  }
 },
 "nbformat": 4,
 "nbformat_minor": 2
}
