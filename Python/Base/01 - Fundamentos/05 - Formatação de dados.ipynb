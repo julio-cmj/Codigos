{
 "cells": [
  {
   "cell_type": "code",
   "execution_count": null,
   "metadata": {},
   "outputs": [],
   "source": [
    "nome = \"Guilherme\"\n",
    "idade = 28\n",
    "profissao = \"Progamador\"\n",
    "linguagem = \"Python\"\n",
    "saldo = 45.435"
   ]
  },
  {
   "cell_type": "code",
   "execution_count": null,
   "metadata": {},
   "outputs": [],
   "source": [
    "print(\"Nome: %s Idade: %d\" % (nome, idade))"
   ]
  },
  {
   "cell_type": "code",
   "execution_count": null,
   "metadata": {},
   "outputs": [],
   "source": [
    "print(\"Nome: {} Idade: {}\".format(nome, idade))"
   ]
  },
  {
   "cell_type": "code",
   "execution_count": null,
   "metadata": {},
   "outputs": [],
   "source": [
    "print(\"Nome: {1} Idade: {0}\".format(idade, nome))\n",
    "print(\"Nome: {1} Idade: {0} Nome: {1} {1}\".format(idade, nome))"
   ]
  },
  {
   "cell_type": "code",
   "execution_count": null,
   "metadata": {},
   "outputs": [],
   "source": [
    "dados = {\"nome\": \"Guilherme\", \"idade\": 28}\n",
    "\n",
    "print(\"Nome: {nome} Idade: {idade}\".format(nome=nome, idade=idade))\n",
    "print(\"Nome: {name} Idade: {age} {name} {name} {age}\".format(age=idade, name=nome))\n",
    "print(\"Nome: {nome} Idade: {idade}\".format(**dados))"
   ]
  },
  {
   "cell_type": "code",
   "execution_count": null,
   "metadata": {},
   "outputs": [],
   "source": [
    "print(f\"Nome: {nome} Idade: {idade}\")\n",
    "print(f\"Nome: {nome} Idade: {idade} Saldo: {saldo:.2f}\")\n",
    "print(f\"Nome: {nome} Idade: {idade} Saldo: {saldo:10.1f}\")"
   ]
  },
  {
   "cell_type": "code",
   "execution_count": null,
   "metadata": {},
   "outputs": [],
   "source": [
    "# escape sequences -> \\  \n",
    "\n",
    "print('hello\\' world!') #\\\n",
    "print()\n",
    "print('hello\\nworld!') #\\n -> pula para proxima linha\n",
    "print()\n",
    "print('hello\\rworld!') #\\r -> exclui tudo que está antes do \\r\n",
    "print()\n",
    "print('hello world!\\b') #\\b -> exclui o caractere que vem antes do \\b\n",
    "print()\n",
    "print('\\thello world\\t!') #\\t -> adiciona um espaço tabular (tab)"
   ]
  },
  {
   "cell_type": "code",
   "execution_count": null,
   "metadata": {},
   "outputs": [],
   "source": [
    "# desativando as escape sequences (\\)\n",
    "\n",
    "print(repr('\\n \\n \\n')) # repr()\n",
    "print(r'\\n \\n \\n') # r''"
   ]
  }
 ],
 "metadata": {
  "kernelspec": {
   "display_name": "Python 3",
   "language": "python",
   "name": "python3"
  },
  "language_info": {
   "codemirror_mode": {
    "name": "ipython",
    "version": 3
   },
   "file_extension": ".py",
   "mimetype": "text/x-python",
   "name": "python",
   "nbconvert_exporter": "python",
   "pygments_lexer": "ipython3",
   "version": "3.10.5"
  },
  "orig_nbformat": 4,
  "vscode": {
   "interpreter": {
    "hash": "ca4ae65869d2cb0a1ce9a252154e55d284ddfed7dca74e9ec9cf70dfaaed74d1"
   }
  }
 },
 "nbformat": 4,
 "nbformat_minor": 2
}
