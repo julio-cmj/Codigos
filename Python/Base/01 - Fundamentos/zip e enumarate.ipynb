{
 "cells": [
  {
   "cell_type": "code",
   "execution_count": null,
   "metadata": {},
   "outputs": [],
   "source": [
    "# a função zip() pega dois interaveis e combina em tuplas\n",
    "\n",
    "lista1 = [1, 2, 3]\n",
    "lista2 = ['um', 'dois', 'tres']\n",
    "\n",
    "zipados = zip(lista1, lista2)\n",
    "print(list(zipados))\n",
    "\n",
    "planets = ['Earth', 'The Moon', 'Mars']\n",
    "colors = ['blue', 'gray', 'red']\n",
    "visited = [True, True, False]\n",
    "\n",
    "ziped = zip(planets, colors, visited)\n",
    "print(list(ziped))"
   ]
  },
  {
   "cell_type": "code",
   "execution_count": null,
   "metadata": {},
   "outputs": [],
   "source": [
    "# zip(.items()) e dicionairios - as tuplas são organizadas com os valores e chaves juntos\n",
    "\n",
    "hero = {'name': 'Peter', 'age': 13}\n",
    "villain = {'name': 'Hook', 'age': 41}\n",
    "zipped = zip(hero.items(), villain.items())\n",
    "print(list(zipped))"
   ]
  },
  {
   "cell_type": "code",
   "execution_count": null,
   "metadata": {},
   "outputs": [],
   "source": [
    "# zip() e iteração palarela\n",
    "\n",
    "planets = ['Earth', 'The Moon', 'Mars']\n",
    "colors = ['blue', 'gray', 'red']\n",
    "visited = [True, True, False]\n",
    "\n",
    "for planet, color, visit in zip(planets, colors, visited):\n",
    "    print(f'{planet} is {color}')\n",
    "    print(f'Visited = {visit}')"
   ]
  },
  {
   "cell_type": "code",
   "execution_count": null,
   "metadata": {},
   "outputs": [],
   "source": [
    "# Utilizar sets como iteravis retorna ordens aleatorias\n",
    "\n",
    "lista1 = [1, 2, 3]\n",
    "lista2 = {'um', 'dois', 'tres'}\n",
    "\n",
    "zipados = zip(lista1, lista2)\n",
    "list(zipados)"
   ]
  },
  {
   "cell_type": "code",
   "execution_count": null,
   "metadata": {},
   "outputs": [],
   "source": [
    "# Utilizando zip com iteravies com diferentes tamanhos\n",
    "\n",
    "shortest = [1, 2, 3, 4, 5]\n",
    "longest = [True, True, False, True, False, True] # o ultimo True é deixado de fora\n",
    "zip_iterator = zip(shortest, longest)\n",
    "list(zip_iterator)"
   ]
  },
  {
   "cell_type": "code",
   "execution_count": null,
   "metadata": {},
   "outputs": [],
   "source": [
    "# iteraveis diferentes - strict: retorna um erro caso os objetos não tenham o mesmo tamanho\n",
    "\n",
    "symbol = [1, 2, 3, 4]\n",
    "number = ['one', 'two', 'three']\n",
    "\n",
    "for n, s in zip(number, symbol, strict=True):\n",
    "    print(s, ':', n)"
   ]
  },
  {
   "cell_type": "code",
   "execution_count": null,
   "metadata": {},
   "outputs": [],
   "source": [
    "# Utilizando zip com um único iteravel\n",
    "\n",
    "solo_string = 'Han Solo'\n",
    "zip_iterator = zip(solo_string)\n",
    "print(list(zip_iterator))"
   ]
  },
  {
   "cell_type": "code",
   "execution_count": null,
   "metadata": {},
   "outputs": [],
   "source": [
    "# unzipping\n",
    "phrase = [('A', 'Away'), ('F', 'From'), ('K', 'Keyboard')]\n",
    "unzipped = zip(*phrase)\n",
    "print(list(unzipped))"
   ]
  },
  {
   "cell_type": "code",
   "execution_count": null,
   "metadata": {},
   "outputs": [],
   "source": [
    "# enumerate - retorna cada valor de um iteravel junto com seu index\n",
    "\n",
    "numbers = ['one', 'two', 'three']\n",
    "for index, number in enumerate(numbers):\n",
    "    print(index, number)\n",
    "print()\n",
    "# start - alterando o index inicial\n",
    "for index, number in enumerate(numbers, start=1):\n",
    "    print(index, number)"
   ]
  }
 ],
 "metadata": {
  "kernelspec": {
   "display_name": "Python 3",
   "language": "python",
   "name": "python3"
  },
  "language_info": {
   "codemirror_mode": {
    "name": "ipython",
    "version": 3
   },
   "file_extension": ".py",
   "mimetype": "text/x-python",
   "name": "python",
   "nbconvert_exporter": "python",
   "pygments_lexer": "ipython3",
   "version": "3.10.5"
  },
  "orig_nbformat": 4,
  "vscode": {
   "interpreter": {
    "hash": "ca4ae65869d2cb0a1ce9a252154e55d284ddfed7dca74e9ec9cf70dfaaed74d1"
   }
  }
 },
 "nbformat": 4,
 "nbformat_minor": 2
}
