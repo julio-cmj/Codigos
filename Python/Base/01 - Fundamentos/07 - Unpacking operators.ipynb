{
 "cells": [
  {
   "cell_type": "code",
   "execution_count": null,
   "metadata": {},
   "outputs": [],
   "source": [
    "# simple unpacking\n",
    "\n",
    "my_tuple = 'hello', 'world', 123, [1, 2, 3]\n",
    "a, b, c, d = my_tuple\n",
    "print(a, b, c, d)"
   ]
  },
  {
   "cell_type": "code",
   "execution_count": null,
   "metadata": {},
   "outputs": [],
   "source": [
    "# * operator\n",
    "\n",
    "start, *middle, end = [1, 2, 3, 4, 5]\n",
    "print(start)   \n",
    "print(middle)\n",
    "print(end)     \n",
    "\n",
    "start, *middle, end = [1, 2]\n",
    "print(start)   \n",
    "print(middle)\n",
    "print(end)     "
   ]
  },
  {
   "cell_type": "code",
   "execution_count": null,
   "metadata": {},
   "outputs": [],
   "source": [
    "# * operator - parte 2\n",
    "\n",
    "*my_range, = range(5) \n",
    "print(my_range)\n",
    "\n",
    "nums = [1, 2, 3]\n",
    "print(*nums)"
   ]
  },
  {
   "cell_type": "code",
   "execution_count": null,
   "metadata": {},
   "outputs": [],
   "source": [
    "# * operator - parte 3 (listas) \n",
    "\n",
    "nums = [1, 2, 3]\n",
    "more_nums = [4, 5, 6, 7]\n",
    "all_nums = [*nums, *more_nums]\n",
    "print(all_nums) "
   ]
  },
  {
   "cell_type": "code",
   "execution_count": null,
   "metadata": {},
   "outputs": [],
   "source": [
    "# * operator  - parte 4 (dicionarios)\n",
    "\n",
    "my_dict = {'apple': 1, 'banana': 2, 'pear': 3}\n",
    "print(*my_dict)"
   ]
  },
  {
   "cell_type": "code",
   "execution_count": null,
   "metadata": {},
   "outputs": [],
   "source": [
    "# ** opreator \n",
    "\n",
    "dict_1 = {'a': 1, 'b': 2, 'c': 3}\n",
    "dict_2 = {'one': 'two', 'three': 'four'}\n",
    "dict_3 = {**dict_1, **dict_2}\n",
    "print(dict_3)"
   ]
  },
  {
   "cell_type": "code",
   "execution_count": null,
   "metadata": {},
   "outputs": [],
   "source": [
    "# ** operator - parte 2\n",
    "\n",
    "def fruit_sum(apple, banana, pear):\n",
    "  return apple + banana + pear\n",
    "\n",
    "my_dict = {'apple': 1, 'banana': 2, 'pear': 3}\n",
    "print(fruit_sum(**my_dict))"
   ]
  }
 ],
 "metadata": {
  "kernelspec": {
   "display_name": "Python 3",
   "language": "python",
   "name": "python3"
  },
  "language_info": {
   "codemirror_mode": {
    "name": "ipython",
    "version": 3
   },
   "file_extension": ".py",
   "mimetype": "text/x-python",
   "name": "python",
   "nbconvert_exporter": "python",
   "pygments_lexer": "ipython3",
   "version": "3.10.5"
  },
  "orig_nbformat": 4
 },
 "nbformat": 4,
 "nbformat_minor": 2
}
