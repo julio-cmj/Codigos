{
 "cells": [
  {
   "cell_type": "code",
   "execution_count": null,
   "metadata": {},
   "outputs": [],
   "source": [
    "# tipos de dados\n",
    "\n",
    "print(11 + 10 + 1000) #int\n",
    "print(1.5 + 1 + 0.5)  #float\n",
    "print(True)  #boleano\n",
    "print(False)  #boleano\n",
    "print(\"Python\") #string"
   ]
  },
  {
   "cell_type": "code",
   "execution_count": null,
   "metadata": {},
   "outputs": [],
   "source": [
    "# convertendo tipos de dados\n",
    "print(int(1.97348728))\n",
    "print(int(\"10\"))\n",
    "print(float(\"10.10\"))\n",
    "print(float(100))\n",
    "\n",
    "valor = 10\n",
    "valor_str = str(valor)\n",
    "print(type(valor))\n",
    "print(type(valor_str))\n",
    "\n",
    "print(100 / 2)\n",
    "print(100 // 2)"
   ]
  },
  {
   "cell_type": "code",
   "execution_count": null,
   "metadata": {},
   "outputs": [],
   "source": [
    "# variaveis constantes\n",
    "\n",
    "nome = \"Guilherme\"\n",
    "idade = 28\n",
    "\n",
    "nome, idade = \"Giovanna\", 27\n",
    "\n",
    "print(nome, idade)\n",
    "\n",
    "limite_saque_diario = 1000\n",
    "\n",
    "BRAZILIAN_STATES = [\"SP\", \"RJ\", \"SC\", \"RS\"]\n",
    "\n",
    "print(BRAZILIAN_STATES)"
   ]
  },
  {
   "cell_type": "code",
   "execution_count": null,
   "metadata": {},
   "outputs": [],
   "source": [
    "# Verificação de identidade (Cuidado ao utilizar input e numeros não entre -5 e 256)\n",
    "\n",
    "a = [1, 2, 3]\n",
    "b = [1, 2, 3]\n",
    "\n",
    "print(id(a))\n",
    "print(id(b))\n",
    "\n",
    "teste_identidade = a is b  # False\n",
    "teste_igualidade = a == b  # True\n",
    "\n",
    "a = b\n",
    "\n",
    "teste_identidade = a is b  # True"
   ]
  },
  {
   "cell_type": "code",
   "execution_count": null,
   "metadata": {},
   "outputs": [],
   "source": [
    "# multiplos objetos por linha\n",
    "\n",
    "a, b = 'A', 'B'\n",
    "print(a, b)\n",
    "a, b = b, a\n",
    "print(a, b)\n",
    "\n",
    "c = 'C'; d = 'D'\n",
    "print(c,d)"
   ]
  }
 ],
 "metadata": {
  "kernelspec": {
   "display_name": "Python 3",
   "language": "python",
   "name": "python3"
  },
  "language_info": {
   "codemirror_mode": {
    "name": "ipython",
    "version": 3
   },
   "file_extension": ".py",
   "mimetype": "text/x-python",
   "name": "python",
   "nbconvert_exporter": "python",
   "pygments_lexer": "ipython3",
   "version": "3.10.5"
  },
  "orig_nbformat": 4,
  "vscode": {
   "interpreter": {
    "hash": "ca4ae65869d2cb0a1ce9a252154e55d284ddfed7dca74e9ec9cf70dfaaed74d1"
   }
  }
 },
 "nbformat": 4,
 "nbformat_minor": 2
}
