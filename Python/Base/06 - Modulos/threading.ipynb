{
 "cells": [
  {
   "cell_type": "code",
   "execution_count": null,
   "metadata": {},
   "outputs": [],
   "source": [
    "# Possibilita o uso de multiplos threads para rodar o programa\n",
    "# O programa pode rodar multipals linhas de codigo ao mesmo tempo\n",
    "\n",
    "import threading\n",
    "import time"
   ]
  },
  {
   "cell_type": "code",
   "execution_count": null,
   "metadata": {},
   "outputs": [],
   "source": [
    "def func1():\n",
    "    time.sleep(3)\n",
    "    print('executando função 1')\n",
    "\n",
    "def func2():\n",
    "    time.sleep(1)\n",
    "    print('executando função 2')\n",
    "\n",
    "def func3():\n",
    "    print('executando função 3')\n",
    "\n",
    "t1 = threading.Thread(target=func1)\n",
    "t2 = threading.Thread(target=func2)\n",
    "t3 = threading.Thread(target=func3)\n",
    "\n",
    "t1.start()\n",
    "# t1.join()\n",
    "t2.start()\n",
    "t3.start()\n"
   ]
  },
  {
   "cell_type": "code",
   "execution_count": null,
   "metadata": {},
   "outputs": [],
   "source": [
    "# locks - permite o uso de um recurso(ex objeto) por apenas um thread por vez\n",
    "\n",
    "l = threading.Lock()\n",
    "total = 0               # recurso compartilhado\n",
    "\n",
    "\n",
    "def calc_price(name, item_price):\n",
    "\n",
    "    l.acquire()         # pega o lock\n",
    "    for i in range(3):\n",
    "        print(\"Item:\", name)\n",
    "        time.sleep(1)\n",
    "        total = item_price\n",
    "        print(\"Price:\", total)\n",
    "    l.release()         # solta o lock\n",
    "\n",
    "\n",
    "t1 = threading.Thread(target=calc_price, args=(\"Shirt\", 5))\n",
    "t2 = threading.Thread(target=calc_price, args=(\"Jeans\", 10))\n",
    "\n",
    "t1.start()\n",
    "#t1.join()      # quando o método .join de um thread é chamado ele bloqueia a execução de outros threads até que a execuação desta thread termine\n",
    "\n",
    "t2.start()\n",
    "#t2.join()"
   ]
  },
  {
   "cell_type": "code",
   "execution_count": null,
   "metadata": {},
   "outputs": [],
   "source": [
    "# Semaphore - permite uma quantidade limitada de threads the utilizar o mesmo recurso\n",
    "\n",
    "# cria um semaphore que permite 3 threads ao mesmo tempo\n",
    "sem = threading.Semaphore(3)\n",
    "total = 0\n",
    "\n",
    "def calc_price(name, item_price):\n",
    "    sem.acquire()\n",
    "    for i in range(2):\n",
    "        print(\"Item:\", name)\n",
    "        time.sleep(3)\n",
    "        total = item_price\n",
    "        print(\"Price:\", total)\n",
    "        sem.release()\n",
    "\n",
    "t1 = threading.Thread(target=calc_price, args=(\"Shirt\", 5))\n",
    "t2 = threading.Thread(target=calc_price, args=(\"Jeans\", 10))\n",
    "t3 = threading.Thread(target=calc_price, args=(\"Dress\", 12))\n",
    "t4 = threading.Thread(target=calc_price, args=(\"Belt\", 3))\n",
    "t5 = threading.Thread(target=calc_price, args=(\"Bag\", 20))\n",
    "\n",
    "t1.start()\n",
    "t2.start()\n",
    "t3.start()\n",
    "t4.start()\n",
    "t5.start()"
   ]
  }
 ],
 "metadata": {
  "kernelspec": {
   "display_name": "Python 3",
   "language": "python",
   "name": "python3"
  },
  "language_info": {
   "codemirror_mode": {
    "name": "ipython",
    "version": 3
   },
   "file_extension": ".py",
   "mimetype": "text/x-python",
   "name": "python",
   "nbconvert_exporter": "python",
   "pygments_lexer": "ipython3",
   "version": "3.10.5"
  },
  "orig_nbformat": 4
 },
 "nbformat": 4,
 "nbformat_minor": 2
}
