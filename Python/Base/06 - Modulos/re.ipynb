{
 "cells": [
  {
   "cell_type": "code",
   "execution_count": null,
   "metadata": {},
   "outputs": [],
   "source": [
    "# Regular Expression, uma sequencia de caracteres definindo um padrão de pesquisa, usado para procurar, editar e substituir textos e substrings\n",
    "\n",
    "import re"
   ]
  },
  {
   "cell_type": "code",
   "execution_count": null,
   "metadata": {},
   "outputs": [],
   "source": [
    "\"\"\"\n",
    "________________________________________________________________________________________________________________________ \n",
    "|re.match(pattern, string, flags=0)\t            |   Checks whether a pattern is present at the beginning of a string.   |\n",
    "|_______________________________________________________________________________________________________________________|\n",
    "|re.search(pattern, string, flags=0)\t        |   Checks whether a pattern is present anywhere in a string.           | \n",
    "|_______________________________________________________________________________________________________________________|\n",
    "|re.findall(pattern, string, flags=0)\t        |   Returns all matches in a list. If used with one capturing group,    |\n",
    "|returns only this group matches. If used with more than one group, returns tuples of capturing groups.                 | \n",
    "|_______________________________________________________________________________________________________________________| \n",
    "|re.finditer(pattern, string, flags=0)\t        |   Returns all matches as an iterator.                                 |\n",
    "|_______________________________________________________________________________________________________________________|   \n",
    "|re.split(pattern, string, maxsplit=0, flags=0)\t|   Splits a string based on a pattern. If used with groups,            |\n",
    "|outputs a text matched by a pattern. A text matched by a pattern outside the group won't be in the output.             | \n",
    "|_______________________________________________________________________________________________________________________| \n",
    "|re.sub(pattern, repl, string, count=0, flags=0)|   Searches and replaces a pattern with a specified piece of text.     |\n",
    "|_______________________________________________________________________________________________________________________| \n",
    "|re.compile(pattern, flags=0)\t                |   Compiles a pattern for reuse.                                       | \n",
    "|_______________________________________________________________________________________________________________________| \n",
    "\"\"\""
   ]
  },
  {
   "cell_type": "code",
   "execution_count": null,
   "metadata": {},
   "outputs": [],
   "source": [
    "\"\"\" Operadores\n",
    "  *   |  nenhuma ou varias vezes\n",
    "  ?   |  uma ou nenhuma vez\n",
    "  .   |  qualquer caractere ('\\n' não é considerado)\n",
    "  +   |  uma ou nenhuma vezes\n",
    "  $   |  ultimo caractere\n",
    "  ^   |  primeiro caractere\n",
    "  []  |  sets - qualquer um dos caracteres dentro de []\n",
    "  {}  |  quantidade definida de repetições\n",
    "  ()  |  groups - cria grupos\n",
    "  |   |  equivalente a 'or'\n",
    "\"\"\""
   ]
  },
  {
   "cell_type": "code",
   "execution_count": null,
   "metadata": {},
   "outputs": [],
   "source": [
    "\"\"\" Shorthands\n",
    " \\w  |  match [a-zA-Z0-9_]\n",
    " \\s  |  match [ \\t\\n\\r\\f\\v]\n",
    " \\d  |  match any digit [0-9]\n",
    " \\D  |  qualquer não digito \n",
    " \\W  |  qalquer um que não esteja em \\w, equivalente a [^a-zA-Z0-9_]\n",
    " \\S  |  qualquer que não esteja em \\s, equivalente a [^ \\t\\n\\r\\f\\v]\n",
    "\"\"\""
   ]
  },
  {
   "cell_type": "code",
   "execution_count": null,
   "metadata": {},
   "outputs": [],
   "source": [
    "\"\"\" flags - re.match(flags = flag1 + flag2 + ...)\n",
    "\n",
    "re.I\tre.IGNORECASE\tignore case.\n",
    "re.M\tre.MULTILINE\tmake begin/end {^, $} consider each line.\n",
    "re.S\tre.DOTALL\t    make . match newline too.\n",
    "re.U\tre.UNICODE\t    make {\\w, \\W, \\b, \\B} follow Unicode rules.\n",
    "re.L\tre.LOCALE\t    make {\\w, \\W, \\b, \\B} follow locale.\n",
    "re.X\tre.VERBOSE\t    allow comment in regex.\n",
    "\"\"\""
   ]
  },
  {
   "cell_type": "code",
   "execution_count": null,
   "metadata": {},
   "outputs": [],
   "source": [
    "\"\"\" Lookaheads - não da match no (pattern)\n",
    "(?=pattern)  |  match a string if the pattern comes after the string\n",
    "(?!pattern)  |  match the string if the pattern don't come after the string\n",
    "\n",
    "    Lookbehinds - só funciona com se o (pattern) tiver valor fixo e usar com search\n",
    "(?<=pattern) |  match the string if the pattern comes before the string\n",
    "(?<!pattern) |  match the strinf if the pattern don't come before the string\n",
    "\"\"\""
   ]
  },
  {
   "cell_type": "code",
   "execution_count": null,
   "metadata": {},
   "outputs": [],
   "source": [
    "# Exemplos\n",
    "\n",
    "# operadores\n",
    "print(re.match('numero .', 'numero 1'))\n",
    "print(re.match('nu.ero.2', 'numero 2'))\n",
    "\n",
    "print(re.match('letra a?', 'letra a'))\n",
    "print(re.match('letra a?', 'letra b'))\n",
    "\n",
    "print(re.match('casa*','casaaaaa'))\n",
    "print(re.match('casa*','cas'))\n",
    "\n",
    "print(re.match('casa+','casaaaaa'))\n",
    "print(re.match('casa+','cas'))\n",
    "\n",
    "print(re.match('pamonha$','pamonha'))\n",
    "print(re.match('pamonha$','pamonha!'))\n",
    "\n",
    "print(re.match('pa','pamonha'))\n",
    "print(re.match('^pa$','pamonha'))\n",
    "\n",
    "regexp = '[db]o[gm]'\n",
    "print(re.match(regexp, 'dog'))\n",
    "print(re.match(regexp, 'bom'))\n",
    "\n",
    "print(re.match('cas.{3}','casabc'))\n",
    "print(re.match('fi{1,3}o','fiio'))  # de uma a 3 vezes\n",
    "print(re.match('pis{,1}cina', 'picina')) # zero ou nenhuma\n",
    "\n",
    "template = r\"(([A-Z]\\d){2}\\.)+\"  # letra numero letra numero . \n",
    "print(re.match(template, \"A0C3.B8K5.\"))\n",
    "print(re.match(r\"([Pp]ython) (\\d)\", \"Python 3\"))\n",
    "\n",
    "print(re.match('(.*)(.com|.org|net)', 'www.google.com'))\n",
    "print(re.match('(python|kotlin) (course|lesson, \"python lesson\")'))\n",
    "\n",
    "# shorthands\n",
    "print(re.match('\\w\\scamels?', '1 camel'))  \n",
    "print(re.match('\\w\\scamels?', 'a\\tcamel'))  \n",
    "print(re.match('\\d\\scamels?', '8\\ncamels'))  \n",
    "\n",
    "print(re.match('\\D\\S\\W', 'A1-')) \n",
    "print(re.match('\\D\\S\\W', '1 A')) \n",
    "print(re.match('\\S', '\\n'))\n",
    "\n",
    "#\n",
    "re.match('Flag .', r'flag \\n', flags= re.I + re.DOTALL)\n",
    "\n",
    "#\n",
    "print(re.match('boas (?=vindas)', 'boas vindas'))               # lookahead\n",
    "print(('(?<=JetBrains )Academy', 'JetBrains Academy'))          # lookbehind\n",
    "print(re.search('(?<=JetBrains )Academy', 'JetBrains Academy')) # lookbehind"
   ]
  },
  {
   "cell_type": "code",
   "execution_count": null,
   "metadata": {},
   "outputs": [],
   "source": [
    "# escaping -> \\\n",
    "\n",
    "print(re.match(\"\\?\", \"?\"))              # \\\n",
    "print(re.match(\"\\.\", \".\"))              # \\\n",
    "print(re.match(r\"\\\\\", \"\\\\\"))            # r''\n",
    "print(re.match(re.escape('?'), '?'))    # re.escape()"
   ]
  },
  {
   "cell_type": "code",
   "execution_count": null,
   "metadata": {},
   "outputs": [],
   "source": [
    "# propriedades do operador []\n",
    "\n",
    "# range\n",
    "print(re.match('[A-Z]ond', 'Bond'))\n",
    "print(re.match('[0-9]20', '920'))\n",
    "print(re.match('[A-Za-z]rint', 'print')) # A-Z e a-z são dois ranges diferentes, ex: [ab], a= a-z e b= A-Z\n",
    "\n",
    "# [] e ^ -> não pode aparecer\n",
    "print(re.match('[^p]a', 'pa'))\n",
    "print(re.match('[^p]a', 'ca'))\n"
   ]
  },
  {
   "cell_type": "code",
   "execution_count": null,
   "metadata": {},
   "outputs": [],
   "source": [
    "# re.match - procura a regexp na string, retorna um objeto tipo match, None caso contrario\n",
    "\n",
    "print(re.match('tartaruga usa armadura', 'tartaruga'))\n",
    "print(re.match('macarrão', 'tartaruga'))\n",
    "\n",
    "# só chega o começo da string\n",
    "re.match('pala', 'palavra')\n",
    "\n",
    "# tem propriedades de True\n",
    "if re.match('true', 'true'):\n",
    "    print(True)\n",
    "bool(re.match('true', 'true'))"
   ]
  },
  {
   "cell_type": "code",
   "execution_count": null,
   "metadata": {},
   "outputs": [],
   "source": [
    "# re.search - similiar a re.match, mas procura por toda a string (Retorna apenas a primeira ocorrencia)\n",
    "\n",
    "string = \"roads? where we're going we don't need roads.\"\n",
    "print(re.search('roads\\?', string))  \n",
    "print(result_2 = re.search('roads\\.', string))  \n",
    "print(result_3 = re.search('Roads', string))  \n",
    "print(result_4 = re.search('here', string))  "
   ]
  },
  {
   "cell_type": "code",
   "execution_count": null,
   "metadata": {},
   "outputs": [],
   "source": [
    "# re.findall() - returna uma lista com todas as ocorrencias\n",
    "\n",
    "string = \"A million dollars isn’t cool. You know what’s cool? A billion dollars.\"\n",
    "\n",
    "print(re.findall('[mb]illion', string)) \n",
    "print(re.findall('(million)', string))  \n",
    "\n",
    "string = '3 apples, 2 bananas, 5 pears, 10 strawberries'\n",
    "\n",
    "print(re.findall('(\\d+) (\\w+)', string))"
   ]
  },
  {
   "cell_type": "code",
   "execution_count": null,
   "metadata": {},
   "outputs": [],
   "source": [
    "# re.finditer() - igual findall mas retorna um objeto iteravel\n",
    "\n",
    "string = \"A million dollars isn’t cool. You know what’s cool? A billion dollars.\"\n",
    "\n",
    "iter = re.finditer('[mb]illion', string)\n",
    "print(next(iter)) \n",
    "print(next(iter)) "
   ]
  },
  {
   "cell_type": "code",
   "execution_count": null,
   "metadata": {},
   "outputs": [],
   "source": [
    "# re.split() - separa a string \n",
    "\n",
    "string = '111412222234333345555544'\n",
    "\n",
    "print(re.split('4', string))\n",
    "print(re.split('4', string, maxsplit=3))\n",
    "print(re.split('(4)', string))"
   ]
  },
  {
   "cell_type": "code",
   "execution_count": null,
   "metadata": {},
   "outputs": [],
   "source": [
    "# re.sub() - substitui\n",
    "\n",
    "string = 'blue jeans, white shirt, yellow socks'\n",
    "pattern = '(blue|white|yellow)'\n",
    "replacement = 'black'\n",
    "\n",
    "print(re.sub(pattern, replacement, string)) \n",
    "print(re.sub(pattern, replacement, string, count=2))"
   ]
  },
  {
   "cell_type": "code",
   "execution_count": null,
   "metadata": {},
   "outputs": [],
   "source": [
    "# re.compile() - compila uma template para ser usado em outras funções, poupa memoria\n",
    "\n",
    "string = \"roads? where we're going we don't need roads.\"\n",
    "\n",
    "my_pattern = re.compile('roads')\n",
    "\n",
    "print(my_pattern.match(string)) \n",
    "print(my_pattern.findall(string))  \n",
    "print(my_pattern.split(string))  \n",
    "print(my_pattern.sub('cars', string)) "
   ]
  },
  {
   "cell_type": "code",
   "execution_count": null,
   "metadata": {},
   "outputs": [],
   "source": [
    "# .group(n=0) - retorna o grupo que deu match, com index n (ERRO CASO None)\n",
    "# se nenhum ou 0 é dado como index retorna a string inteira\n",
    "\n",
    "print(re.match('Python', 'Python 3').group())\n",
    "print(re.match(\"Python (\\d)\", \"Python 3\").group(1))"
   ]
  },
  {
   "cell_type": "code",
   "execution_count": null,
   "metadata": {},
   "outputs": [],
   "source": [
    "# .groups() - retorna uma tupla com todos os grupos que deram match\n",
    "\n",
    "print(re.match('Python', 'Python 3').groups())\n",
    "print(re.match('(Python)', 'Python 3').groups())\n",
    "print(re.match(\"([Pp]ython) (\\d)\", \"Python 3\").groups())"
   ]
  },
  {
   "cell_type": "code",
   "execution_count": null,
   "metadata": {},
   "outputs": [],
   "source": [
    "# .start(), .end(), .span() - retorna indexes\n",
    "\n",
    "string = 'hello what is your name?'\n",
    "print(re.match('hello', string).start())\n",
    "print(re.match ('hello', string).end())\n",
    "print(re.match('hello', string).span())"
   ]
  }
 ],
 "metadata": {
  "kernelspec": {
   "display_name": "Python 3",
   "language": "python",
   "name": "python3"
  },
  "language_info": {
   "codemirror_mode": {
    "name": "ipython",
    "version": 3
   },
   "file_extension": ".py",
   "mimetype": "text/x-python",
   "name": "python",
   "nbconvert_exporter": "python",
   "pygments_lexer": "ipython3",
   "version": "3.10.5"
  },
  "orig_nbformat": 4,
  "vscode": {
   "interpreter": {
    "hash": "ca4ae65869d2cb0a1ce9a252154e55d284ddfed7dca74e9ec9cf70dfaaed74d1"
   }
  }
 },
 "nbformat": 4,
 "nbformat_minor": 2
}
