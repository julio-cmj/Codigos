{
 "cells": [
  {
   "cell_type": "code",
   "execution_count": null,
   "metadata": {},
   "outputs": [],
   "source": [
    "# Regular Expression, uma sequencia de caracteres definindo um padrão de pesquisa, usado para procurar, editar e substituir textos e substrings\n",
    "\n",
    "import re"
   ]
  },
  {
   "cell_type": "code",
   "execution_count": null,
   "metadata": {},
   "outputs": [],
   "source": [
    "# re.match(regexp, string) - procura a regexp na string, retorna um objeto tipo match, None caso contrario\n",
    "\n",
    "string = 'tartaruga usa armadura'\n",
    "regexp = 'tartaruga'\n",
    "print(re.match(regexp, string))\n",
    "print(re.match('macarrão', string))"
   ]
  },
  {
   "cell_type": "code",
   "execution_count": null,
   "metadata": {},
   "outputs": [],
   "source": [
    "# só chega o começo da string\n",
    "\n",
    "re.match('pala', 'palavra')"
   ]
  },
  {
   "cell_type": "code",
   "execution_count": null,
   "metadata": {},
   "outputs": [],
   "source": [
    "# tem propriedades de True\n",
    "\n",
    "if re.match('true', 'true'):\n",
    "    print(True)\n",
    "\n",
    "bool(re.match('true', 'true'))"
   ]
  },
  {
   "cell_type": "code",
   "execution_count": null,
   "metadata": {},
   "outputs": [],
   "source": [
    "# operador . - qualquer caractere ('\\n' não é considerado)\n",
    "\n",
    "print(re.match('numero .', 'numero 1'))\n",
    "print(re.match('nu.ero.2', 'numero 2'))"
   ]
  },
  {
   "cell_type": "code",
   "execution_count": null,
   "metadata": {},
   "outputs": [],
   "source": [
    "# operador ? - uma ou nenhuma vez\n",
    "\n",
    "print(re.match('letra a?', 'letra a'))\n",
    "print(re.match('letra a?', 'letra b'))"
   ]
  },
  {
   "cell_type": "code",
   "execution_count": null,
   "metadata": {},
   "outputs": [],
   "source": [
    "# operador * - nenhuma ou varias vezes\n",
    "\n",
    "print(re.match('casa*','casaaaaa'))\n",
    "print(re.match('casa*','cas'))"
   ]
  },
  {
   "cell_type": "code",
   "execution_count": null,
   "metadata": {},
   "outputs": [],
   "source": [
    "# operador + - uma ou nenhuma vezes\n",
    "\n",
    "print(re.match('casa+','casaaaaa'))\n",
    "print(re.match('casa+','cas'))"
   ]
  },
  {
   "cell_type": "code",
   "execution_count": null,
   "metadata": {},
   "outputs": [],
   "source": [
    "# fixando quantidade de repetições\n",
    "\n",
    "print(re.match('cas.{3}','casabc'))\n",
    "print(re.match('fi{1,3}o','fiio'))  # de uma a 3 vezes\n",
    "print(re.match('pis{,1}cina', 'picina')) # zero ou nenhuma"
   ]
  },
  {
   "cell_type": "code",
   "execution_count": null,
   "metadata": {},
   "outputs": [],
   "source": [
    "# operador $ - ultimo caractere\n",
    "\n",
    "print(re.match('pamonha$','pamonha'))\n",
    "print(re.match('pamonha$','pamonha!'))"
   ]
  },
  {
   "cell_type": "code",
   "execution_count": null,
   "metadata": {},
   "outputs": [],
   "source": [
    "# operador ^ - primeiro caractere\n",
    "\n",
    "print(re.match('pa','pamonha'))\n",
    "print(re.match('^pa$','pamonha'))"
   ]
  },
  {
   "cell_type": "code",
   "execution_count": null,
   "metadata": {},
   "outputs": [],
   "source": [
    "# operador [] - qualquer um dos caracteres dentro de []\n",
    "\n",
    "regexp = '[db]o[gm]'\n",
    "print(re.match(regexp, 'dog'))\n",
    "print(re.match(regexp, 'bom'))"
   ]
  },
  {
   "cell_type": "code",
   "execution_count": null,
   "metadata": {},
   "outputs": [],
   "source": [
    "# range em []\n",
    "\n",
    "print(re.match('[A-Z]ond', 'Bond'))\n",
    "print(re.match('[0-9]20', '920'))\n",
    "print(re.match('[A-Za-z]rint', 'print')) # A-Z e a-z são dois ranges diferentes, ex: [ab], a= a-z e b= A-Z\n"
   ]
  },
  {
   "cell_type": "code",
   "execution_count": null,
   "metadata": {},
   "outputs": [],
   "source": [
    "# [] e ^ -> não pode aparecer\n",
    "\n",
    "print(re.match('[^p]a', 'pa'))\n",
    "print(re.match('[^p]a', 'ca'))"
   ]
  },
  {
   "cell_type": "code",
   "execution_count": null,
   "metadata": {},
   "outputs": [],
   "source": [
    "# escaping -> \\\n",
    "\n",
    "print(re.match(\"\\?\", \"?\"))              # \\\n",
    "print(re.match(\"\\.\", \".\"))              # \\\n",
    "print(re.match(r\"\\\\\", \"\\\\\"))            # r''\n",
    "print(re.match(re.escape('?'), '?'))    # re.escape()"
   ]
  },
  {
   "cell_type": "code",
   "execution_count": null,
   "metadata": {},
   "outputs": [],
   "source": [
    "# shorthands \n",
    "\n",
    "print(re.match('\\w\\scamels?', '1 camel'))  # \\w -> match [a-zA-Z0-9_]\n",
    "print(re.match('\\w\\scamels?', 'a\\tcamel'))  # \\s -> match [ \\t\\n\\r\\f\\v]\n",
    "print(re.match('\\d\\scamels?', '8\\ncamels'))  # \\d -> match any digit [0-9]"
   ]
  },
  {
   "cell_type": "code",
   "execution_count": null,
   "metadata": {},
   "outputs": [],
   "source": [
    "# negated shorthands -> oposto dos shorthands \n",
    "\n",
    "print(re.match('\\D\\S\\W', 'A1-'))  # \\D -> qualquer não digito # \\W - qalquer um que não esteja em \\w, equivalente a [^a-zA-Z0-9_]\n",
    "print(re.match('\\D\\S\\W', '1 A')) # qualquer que não esteja em \\s, equivalente a [^ \\t\\n\\r\\f\\v]"
   ]
  },
  {
   "cell_type": "code",
   "execution_count": null,
   "metadata": {},
   "outputs": [],
   "source": [
    "# boundary shorthands -> \n",
    "\n",
    "print(re.match('\\S', '\\n'))"
   ]
  },
  {
   "cell_type": "code",
   "execution_count": null,
   "metadata": {},
   "outputs": [],
   "source": [
    "# .group() - retorna a string que deu match (ERRO CASO None)\n",
    "\n",
    "re.match('hello', 'hello what is your name?').group()"
   ]
  },
  {
   "cell_type": "code",
   "execution_count": null,
   "metadata": {},
   "outputs": [],
   "source": [
    "# .start(), .end(), .span() - retorna indexes\n",
    "\n",
    "string = 'hello what is your name?'\n",
    "print(re.match('hello', string).start())\n",
    "print(re.match ('hello', string).end())\n",
    "print(re.match('hello', string).span())"
   ]
  },
  {
   "cell_type": "code",
   "execution_count": null,
   "metadata": {},
   "outputs": [],
   "source": [
    "# flags - re.match(flags = flag1 + flag2 + ...)\n",
    "#re.I\tre.IGNORECASE\tignore case.\n",
    "#re.M\tre.MULTILINE\tmake begin/end {^, $} consider each line.\n",
    "#re.S\tre.DOTALL\t    make . match newline too.\n",
    "#re.U\tre.UNICODE\t    make {\\w, \\W, \\b, \\B} follow Unicode rules.\n",
    "#re.L\tre.LOCALE\t    make {\\w, \\W, \\b, \\B} follow locale.\n",
    "#re.X\tre.VERBOSE\t    allow comment in regex.\n",
    "\n",
    "\n",
    "re.match('Flag .', r'flag \\n', flags= re.I + re.DOTALL)"
   ]
  }
 ],
 "metadata": {
  "kernelspec": {
   "display_name": "Python 3",
   "language": "python",
   "name": "python3"
  },
  "language_info": {
   "codemirror_mode": {
    "name": "ipython",
    "version": 3
   },
   "file_extension": ".py",
   "mimetype": "text/x-python",
   "name": "python",
   "nbconvert_exporter": "python",
   "pygments_lexer": "ipython3",
   "version": "3.10.5"
  },
  "orig_nbformat": 4
 },
 "nbformat": 4,
 "nbformat_minor": 2
}
