{
 "cells": [
  {
   "cell_type": "code",
   "execution_count": null,
   "metadata": {},
   "outputs": [],
   "source": [
    "# usado para lidar com valores de tempo (muitas funções são baseadas no EPOCH como time.time())\n",
    "\n",
    "import time"
   ]
  },
  {
   "cell_type": "code",
   "execution_count": null,
   "metadata": {},
   "outputs": [],
   "source": [
    "# time.gmtime() - retorna várias informações sobre o tempo de acordo com UTC (time.gtime(0) retorna o EPOCH)\n",
    "\n",
    "time.gmtime() # Objeto "
   ]
  },
  {
   "cell_type": "code",
   "execution_count": null,
   "metadata": {},
   "outputs": [],
   "source": [
    "# time.localtime() - retorna varias informações sobre o tempo local\n",
    "\n",
    "time.localtime()"
   ]
  },
  {
   "cell_type": "code",
   "execution_count": null,
   "metadata": {},
   "outputs": [],
   "source": [
    "# time.asctime(local ou gm)- retorna algumas informações sobre o tempo (local por padrao)\n",
    "\n",
    "time.asctime() # String"
   ]
  },
  {
   "cell_type": "code",
   "execution_count": null,
   "metadata": {},
   "outputs": [],
   "source": [
    "# time.strftime(\"%H, %M, %S, %d ...\", local ou gm) - retorna valores especificos de tempo (local por padrao)\n",
    "\n",
    "time.strftime(\"%H:%M:%S\")"
   ]
  },
  {
   "cell_type": "code",
   "execution_count": null,
   "metadata": {},
   "outputs": [],
   "source": [
    "# time.sleep(s) - s: segundos, define depois de quanto tempo o programa deve esperar para executar o código a partir da função\n",
    "\n",
    "contador = 0\n",
    "while contador < 3:\n",
    "    time.sleep(2)\n",
    "    print(\"2 segundos\")\n",
    "    contador += 1"
   ]
  },
  {
   "cell_type": "code",
   "execution_count": null,
   "metadata": {},
   "outputs": [],
   "source": [
    "# time.time() e time.ctime() - time() retorna o horario em float e ctime converte o float para saida tipo asctime\n",
    "\n",
    "contador = 0\n",
    "while contador < 3:\n",
    "    time.sleep(2)\n",
    "    time.time()\n",
    "    print(time.ctime(time.time()))\n",
    "    contador += 1"
   ]
  },
  {
   "cell_type": "code",
   "execution_count": null,
   "metadata": {},
   "outputs": [],
   "source": [
    "# time.perf_counter() - retorna em segundos o tempo de execução do programa (contador de performance)\n",
    "# time.perf_counter_ns() - retorna em nanosegundos\n",
    "# time.process_time e time.process_time_ns - retorna o tempo de processamento\n",
    "\n",
    "inicio = time.perf_counter_ns()\n",
    "\n",
    "contador = 0\n",
    "while contador < 10:\n",
    "    contador += 1\n",
    "\n",
    "final = time.perf_counter_ns()\n",
    "\n",
    "print(final - inicio)"
   ]
  },
  {
   "cell_type": "code",
   "execution_count": null,
   "metadata": {},
   "outputs": [],
   "source": [
    "# time.timezone - retorna em segundos o horario em relação ao UTC\n",
    "# time.tzname - retorna o nome da timezone\n",
    "# time.daylight - retorna se é horario de verão, 0: não 1: sim\n",
    "\n",
    "print(time.timezone / 3600) # em horas\n",
    "print(time.tzname)\n",
    "print(time.daylight)"
   ]
  },
  {
   "cell_type": "code",
   "execution_count": null,
   "metadata": {},
   "outputs": [],
   "source": [
    "# tempo de execução de um programa\n",
    "\n",
    "def soma(a,b):\n",
    "    return a + b\n",
    "\n",
    "\n",
    "start = time.time()\n",
    "soma(2, 5)\n",
    "end = time.time()\n",
    "print(end - start)"
   ]
  }
 ],
 "metadata": {
  "kernelspec": {
   "display_name": "Python 3",
   "language": "python",
   "name": "python3"
  },
  "language_info": {
   "codemirror_mode": {
    "name": "ipython",
    "version": 3
   },
   "file_extension": ".py",
   "mimetype": "text/x-python",
   "name": "python",
   "nbconvert_exporter": "python",
   "pygments_lexer": "ipython3",
   "version": "3.10.5"
  },
  "orig_nbformat": 4,
  "vscode": {
   "interpreter": {
    "hash": "ca4ae65869d2cb0a1ce9a252154e55d284ddfed7dca74e9ec9cf70dfaaed74d1"
   }
  }
 },
 "nbformat": 4,
 "nbformat_minor": 2
}
