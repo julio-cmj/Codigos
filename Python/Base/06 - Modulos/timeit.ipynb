{
 "cells": [
  {
   "cell_type": "code",
   "execution_count": null,
   "metadata": {},
   "outputs": [],
   "source": [
    "# verificar tempo de execucação do programa - leva em conta outros processos do sistema\n",
    "\n",
    "import timeit"
   ]
  },
  {
   "cell_type": "code",
   "execution_count": null,
   "metadata": {},
   "outputs": [],
   "source": [
    "# default parameters \n",
    "'''\n",
    "(stmt='pass', setup='pass', timer=<default timer>, number=1000000, globals=None)\n",
    "\n",
    "stmt    | means statement. It's your code snippet. Note that it must be str;\n",
    "setup   | is the code that you don't want to repeat in the loop (for example, an import statement); it will be executed once, and the module will then subtract the execution time from the result. It must be str;\n",
    "timer   | is the function that measures the time. By default, it's time.perf_counter(), a function well-suited to measuring short durations;\n",
    "number  | is the number of the stmt executions you want to have in one loop. The default value is 1 000 000;\n",
    "globals | allows you to specify the namespace to run the code. By default, stmt is executed in the timeit namespace.\n",
    "'''"
   ]
  },
  {
   "cell_type": "code",
   "execution_count": null,
   "metadata": {},
   "outputs": [],
   "source": [
    "# timeit\n",
    "\n",
    "string = 'a = 2; b = 3; soma = a + b'\n",
    "timeit.timeit(string)"
   ]
  },
  {
   "cell_type": "code",
   "execution_count": null,
   "metadata": {},
   "outputs": [],
   "source": [
    "# repeat\n",
    "\n",
    "stringt = 'a = 2; b = 3; soma = a + b'\n",
    "timeit.repeat(string, repeat=5)"
   ]
  },
  {
   "cell_type": "code",
   "execution_count": null,
   "metadata": {},
   "outputs": [],
   "source": [
    "# criando uma classe de timeit \n",
    "\n",
    "snippet = '[x for x in range(1, 100)]'\n",
    "t = timeit.Timer(stmt=snippet)\n",
    "t.timeit(number=10000)"
   ]
  }
 ],
 "metadata": {
  "kernelspec": {
   "display_name": "Python 3",
   "language": "python",
   "name": "python3"
  },
  "language_info": {
   "codemirror_mode": {
    "name": "ipython",
    "version": 3
   },
   "file_extension": ".py",
   "mimetype": "text/x-python",
   "name": "python",
   "nbconvert_exporter": "python",
   "pygments_lexer": "ipython3",
   "version": "3.10.5"
  },
  "orig_nbformat": 4
 },
 "nbformat": 4,
 "nbformat_minor": 2
}
