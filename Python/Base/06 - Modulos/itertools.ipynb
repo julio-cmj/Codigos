{
 "cells": [
  {
   "cell_type": "code",
   "execution_count": null,
   "metadata": {},
   "outputs": [],
   "source": [
    "# cria objetos iteraveis e ferramentas para iteração, não cria os objetos diretamente (memoria)\n",
    "\n",
    "import itertools"
   ]
  },
  {
   "cell_type": "code",
   "execution_count": null,
   "metadata": {},
   "outputs": [],
   "source": [
    "# .chains\n",
    "\n",
    "numeros1 = [1, 2, 3]\n",
    "numeros2 = [4, 5, 6]\n",
    "\n",
    "numeros = itertools.chain(numeros1, numeros2)    # cria objeto iteravel\n",
    "for numero in numeros:\n",
    "    print(numero)"
   ]
  },
  {
   "cell_type": "code",
   "execution_count": null,
   "metadata": {},
   "outputs": [],
   "source": [
    "# .product\n",
    "\n",
    "first_list = ['Hi', 'Bye', 'How are you']\n",
    "second_list = ['Jane', 'Anton']\n",
    "\n",
    "for first, second in itertools.product(first_list, second_list):\n",
    "    print(first, second)"
   ]
  },
  {
   "cell_type": "code",
   "execution_count": null,
   "metadata": {},
   "outputs": [],
   "source": [
    "first_list = ['Hi', 'Bye', 'How are you']\n",
    "\n",
    "for n in itertools.product(first_list, repeat=1):\n",
    "    print(n)"
   ]
  },
  {
   "cell_type": "code",
   "execution_count": null,
   "metadata": {},
   "outputs": [],
   "source": [
    "# .combination\n",
    "\n",
    "my_iter = itertools.combinations(range(1, 1000), 4)\n",
    "\n",
    "for i in range(5):\n",
    "    print(next(my_iter))"
   ]
  }
 ],
 "metadata": {
  "kernelspec": {
   "display_name": "Python 3",
   "language": "python",
   "name": "python3"
  },
  "language_info": {
   "codemirror_mode": {
    "name": "ipython",
    "version": 3
   },
   "file_extension": ".py",
   "mimetype": "text/x-python",
   "name": "python",
   "nbconvert_exporter": "python",
   "pygments_lexer": "ipython3",
   "version": "3.10.4"
  },
  "orig_nbformat": 4
 },
 "nbformat": 4,
 "nbformat_minor": 2
}
