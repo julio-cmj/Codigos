{
 "cells": [
  {
   "cell_type": "code",
   "execution_count": 2,
   "metadata": {},
   "outputs": [],
   "source": [
    "import string "
   ]
  },
  {
   "cell_type": "code",
   "execution_count": null,
   "metadata": {},
   "outputs": [],
   "source": [
    "'''\n",
    "string.ascii_lowercase   |   abcdefghijklmnopqrstuvwxyz\n",
    "\n",
    "string.ascii_uppercase   |   ABCDEFGHIJKLMNOPQRSTUVWXYZ\n",
    "\n",
    "string.ascii_letters     |   abcdefghijklmnopqrstuvwxyzABCDEFGHIJKLMNOPQRSTUVWXYZ\n",
    "\n",
    "string.digits            |   0123456789\n",
    "\n",
    "string.octdigits         |   01234567\n",
    "\n",
    "string.hexdigits         |   0123456789abcdefABCDEF\n",
    "\n",
    "string.punctuation       |   !\"#$%&\\'()*+,-./:;<=>?@[\\\\]^_`{|}~\n",
    "\n",
    "string.printable         |   0123456789abcdefghijklmnopqrstuvwxyzABCDEFGHIJKLMNOPQRSTUVWXYZ!\"#$%&\\'()*+,-./:;<=>?@[\\\\]^_`{|}~ \\t\\n\\r\\x0b\\x0c\n",
    "\n",
    "string.whitespace        |   '\\t\\n\\r\\x0b\\x0c\n",
    "'''"
   ]
  },
  {
   "cell_type": "code",
   "execution_count": 31,
   "metadata": {},
   "outputs": [
    {
     "data": {
      "text/plain": [
       "'The string i want to capitalize'"
      ]
     },
     "execution_count": 31,
     "metadata": {},
     "output_type": "execute_result"
    }
   ],
   "source": [
    "# string.capwords(str, sep) - str: frase, sep: separador (opcional)\n",
    "\n",
    "my_str = \"the string i want to capitalize\"\n",
    "print(string.capwords(my_str, sep= ','))"
   ]
  },
  {
   "cell_type": "code",
   "execution_count": 37,
   "metadata": {},
   "outputs": [
    {
     "name": "stdout",
     "output_type": "stream",
     "text": [
      "Hello, João!\n"
     ]
    }
   ],
   "source": [
    "# .Template - cria um template para ser usado \n",
    "\n",
    "my_template = string.Template(\"Hello, $name!\") # template \n",
    "\n",
    "my_str = my_template.substitute(name = \"João\")\n",
    "print(my_str) "
   ]
  }
 ],
 "metadata": {
  "kernelspec": {
   "display_name": "Python 3",
   "language": "python",
   "name": "python3"
  },
  "language_info": {
   "codemirror_mode": {
    "name": "ipython",
    "version": 3
   },
   "file_extension": ".py",
   "mimetype": "text/x-python",
   "name": "python",
   "nbconvert_exporter": "python",
   "pygments_lexer": "ipython3",
   "version": "3.10.5"
  },
  "orig_nbformat": 4,
  "vscode": {
   "interpreter": {
    "hash": "ca4ae65869d2cb0a1ce9a252154e55d284ddfed7dca74e9ec9cf70dfaaed74d1"
   }
  }
 },
 "nbformat": 4,
 "nbformat_minor": 2
}
