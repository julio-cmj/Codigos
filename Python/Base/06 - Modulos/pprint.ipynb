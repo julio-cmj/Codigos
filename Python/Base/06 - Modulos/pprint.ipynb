{
 "cells": [
  {
   "cell_type": "code",
   "execution_count": null,
   "metadata": {},
   "outputs": [],
   "source": [
    "from pprint import pprint, pformat, PrettyPrinter"
   ]
  },
  {
   "cell_type": "code",
   "execution_count": null,
   "metadata": {},
   "outputs": [],
   "source": [
    "dicionario = {'nome':'Julio', 'idade':23, 'bonito': True}\n",
    "\n",
    "print(dicionario)\n",
    "print(pformat(dicionario))\n",
    "pprint(dicionario)"
   ]
  },
  {
   "cell_type": "code",
   "execution_count": null,
   "metadata": {},
   "outputs": [],
   "source": [
    "'''pprint default values\n",
    "stream=None — use this property when you want to print the contents of a file;\n",
    "indent=1 — number of spaces for each line. This property is very useful for aligning;\n",
    "width=80 — maximum number of characters that can be printed on each line. \n",
    "If the line exceeds this limit, the remaining characters will be printed on a new line;\n",
    "depth=None — maximum number of nested data types;\n",
    "compact=False — this property compresses complex data structures in the lines, as long as the line does not exceed the width limit;\n",
    "sort_dicts=True — this property displays the key-value pairs of the dictionaries sorted by key.'''"
   ]
  },
  {
   "cell_type": "code",
   "execution_count": null,
   "metadata": {},
   "outputs": [],
   "source": [
    "my_printer = PrettyPrinter(indent=4, depth=2, sort_dicts=False, width=10)\n",
    "\n",
    "dicionario = {'letra_a': 'a', 'letra_c': 'c', 'letra_b': 'b'}\n",
    "\n",
    "my_printer.pprint(dicionario)"
   ]
  }
 ],
 "metadata": {
  "kernelspec": {
   "display_name": "Python 3",
   "language": "python",
   "name": "python3"
  },
  "language_info": {
   "codemirror_mode": {
    "name": "ipython",
    "version": 3
   },
   "file_extension": ".py",
   "mimetype": "text/x-python",
   "name": "python",
   "nbconvert_exporter": "python",
   "pygments_lexer": "ipython3",
   "version": "3.10.4"
  },
  "orig_nbformat": 4
 },
 "nbformat": 4,
 "nbformat_minor": 2
}
