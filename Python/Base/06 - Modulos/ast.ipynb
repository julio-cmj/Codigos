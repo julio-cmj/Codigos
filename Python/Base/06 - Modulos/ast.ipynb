{
 "cells": [
  {
   "cell_type": "code",
   "execution_count": 2,
   "metadata": {},
   "outputs": [],
   "source": [
    "# Abstract Syntax Tree - Separa um código em uma árvore \n",
    "\n",
    "import ast\n",
    "\n",
    "código = '''soma = 1 + 2\n",
    "subtração = 1 - 2'''\n"
   ]
  },
  {
   "cell_type": "code",
   "execution_count": null,
   "metadata": {},
   "outputs": [],
   "source": [
    "# Criando uma arvore\n",
    "\n",
    "tree = ast.parse(código)\n",
    "ast.dump(tree)"
   ]
  },
  {
   "cell_type": "code",
   "execution_count": null,
   "metadata": {},
   "outputs": [],
   "source": [
    "# verificando os nodes - cria um generator para iterar a tree sem ordem definida\n",
    "\n",
    "nodes = ast.walk(tree)\n",
    "print(nodes)\n",
    "print(next(nodes))\n",
    "\n",
    "# ou\n",
    "for n in nodes:\n",
    "    print(n)\n"
   ]
  },
  {
   "cell_type": "code",
   "execution_count": null,
   "metadata": {},
   "outputs": [],
   "source": [
    "# verificando um node especifico - classe ast.NodeVisitor\n",
    "\n",
    "class Analyser(ast.NodeVisitor):\n",
    "    def visit_Name(self, node):\n",
    "        print(node.id)\n",
    "\n",
    "    def visit_BinOp(self, node):\n",
    "        print(node.left)\n",
    "        print(node.op)\n",
    "        print(node.right)\n",
    "    \n",
    "Analyser().visit(tree)"
   ]
  },
  {
   "cell_type": "code",
   "execution_count": null,
   "metadata": {},
   "outputs": [],
   "source": [
    "# ast.literal_eval()\n",
    "\n",
    "y = '21'\n",
    "x = ast.literal_eval(y)\n",
    "print(x)"
   ]
  }
 ],
 "metadata": {
  "kernelspec": {
   "display_name": "Python 3",
   "language": "python",
   "name": "python3"
  },
  "language_info": {
   "codemirror_mode": {
    "name": "ipython",
    "version": 3
   },
   "file_extension": ".py",
   "mimetype": "text/x-python",
   "name": "python",
   "nbconvert_exporter": "python",
   "pygments_lexer": "ipython3",
   "version": "3.10.5"
  },
  "orig_nbformat": 4
 },
 "nbformat": 4,
 "nbformat_minor": 2
}
