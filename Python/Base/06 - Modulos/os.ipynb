{
 "cells": [
  {
   "cell_type": "code",
   "execution_count": null,
   "metadata": {},
   "outputs": [],
   "source": [
    "# usado para lidar com diferentes sistemas operacionais\n",
    "\n",
    "import os"
   ]
  },
  {
   "cell_type": "code",
   "execution_count": null,
   "metadata": {},
   "outputs": [],
   "source": [
    "# os.path"
   ]
  },
  {
   "cell_type": "code",
   "execution_count": null,
   "metadata": {},
   "outputs": [],
   "source": [
    "# os.getcwd() - Mostra o diretório \n",
    "\n",
    "os.getcwd()"
   ]
  },
  {
   "cell_type": "code",
   "execution_count": null,
   "metadata": {},
   "outputs": [],
   "source": [
    "# os.chdir('file path') - Alterando o diretório \n",
    "\n",
    "os.chdir('c:\\\\Users\\\\Julio\\\\Downloads\\\\')\n",
    "os.chdir('..\\\\')\n",
    "os.getcwd()"
   ]
  },
  {
   "cell_type": "code",
   "execution_count": null,
   "metadata": {},
   "outputs": [],
   "source": [
    "# os.mkdir('dir name') e os.makedirs('dir1/dir2/dir3') - Cria diretórios\n",
    "\n",
    "os.mkdir('some_new_project')\n",
    "os.makedirs('course/students/year')"
   ]
  },
  {
   "cell_type": "code",
   "execution_count": null,
   "metadata": {},
   "outputs": [],
   "source": [
    "# os.listdir('dir path') - Retorna os arquivos e diretórios em um diretório, diretório atual por padrão\n",
    "\n",
    "os.listdir()"
   ]
  },
  {
   "cell_type": "code",
   "execution_count": null,
   "metadata": {},
   "outputs": [],
   "source": [
    "# os.rename('atual', 'novo') - Altera o nome de um diretório ou arquivo\n",
    "\n",
    "os.rename('course/student_list.txt', 'course/list_of_students.txt')"
   ]
  },
  {
   "cell_type": "code",
   "execution_count": null,
   "metadata": {},
   "outputs": [],
   "source": [
    "# os.access('file path', mode) \n",
    "# modos: F_OK, checa se o arquivo existe. (R,W,X)_OK, checa se possui permissoes de ler, escrever, executar o arquivo\n",
    "\n",
    "os.access('list_of_students.txt', os.F_OK)  "
   ]
  },
  {
   "cell_type": "code",
   "execution_count": null,
   "metadata": {},
   "outputs": [],
   "source": [
    "# os.remove('file path') - remove o arquivo\n",
    "\n",
    "os.remove('course/course_plan.txt')"
   ]
  },
  {
   "cell_type": "code",
   "execution_count": null,
   "metadata": {},
   "outputs": [],
   "source": [
    "# os.rmdir('dir path') - remove o diretório\n",
    "\n",
    "os.rmdir('course/students/year')"
   ]
  },
  {
   "cell_type": "code",
   "execution_count": null,
   "metadata": {},
   "outputs": [],
   "source": [
    "# os.stat('file path') - retorna varios valores do arquivo (metadados)\n",
    "# os.stat(...).st_size - retorna o tamanho do arquivo\n",
    "\n",
    "os.stat(\"C:\\\\Users\\\\Julio\\\\Downloads\\\\codigos\\\\_TESTE.ipynb\")"
   ]
  },
  {
   "cell_type": "code",
   "execution_count": null,
   "metadata": {},
   "outputs": [],
   "source": [
    "# os.symlink('file path', 'shortcute path') - cria um atalho de um arquivo\n",
    "\n",
    "os.symlink(\"C:\\\\Users\\\\Julio\\\\Downloads\\\\codigos\\\\_TESTE.ipynb\")"
   ]
  }
 ],
 "metadata": {
  "kernelspec": {
   "display_name": "Python 3",
   "language": "python",
   "name": "python3"
  },
  "language_info": {
   "codemirror_mode": {
    "name": "ipython",
    "version": 3
   },
   "file_extension": ".py",
   "mimetype": "text/x-python",
   "name": "python",
   "nbconvert_exporter": "python",
   "pygments_lexer": "ipython3",
   "version": "3.10.5"
  },
  "orig_nbformat": 4,
  "vscode": {
   "interpreter": {
    "hash": "ca4ae65869d2cb0a1ce9a252154e55d284ddfed7dca74e9ec9cf70dfaaed74d1"
   }
  }
 },
 "nbformat": 4,
 "nbformat_minor": 2
}
