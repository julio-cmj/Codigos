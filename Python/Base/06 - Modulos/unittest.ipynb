{
 "cells": [
  {
   "cell_type": "code",
   "execution_count": 1,
   "metadata": {},
   "outputs": [],
   "source": [
    "# testa funções de um arquivo \n",
    "\n",
    "import unittest\n",
    "import file"
   ]
  },
  {
   "cell_type": "code",
   "execution_count": null,
   "metadata": {},
   "outputs": [],
   "source": [
    "'''\n",
    "assertEqual(a, b)      |     a == b\n",
    "\n",
    "assertNotEqual(a, b)   |     a != b\n",
    "\n",
    "assertTrue(x)          |     bool(x) is True\n",
    "\n",
    "assertFalse(x)         |     bool(x) is False\n",
    "\n",
    "assertIsNone(x)        |     x is None\n",
    "\n",
    "assertIsNotNone(x)     |     x is not None\n",
    "\n",
    "assertGreater(a, b)    |     a > b\n",
    "\n",
    "assertLess(a, b)       |     a < b\n",
    "\n",
    "assertIsInstance(a, b) |     isinstance(a, b)\n",
    "\n",
    "assertRaises           | The function raises the exception when given the arguments\n",
    "(exception, function, arguments) \n",
    "'''"
   ]
  },
  {
   "cell_type": "code",
   "execution_count": null,
   "metadata": {},
   "outputs": [],
   "source": [
    "# criando teste\n",
    "\n",
    "class TestFile(unittest.TestCase):  \n",
    "\n",
    "    def test_function(self):\n",
    "        # tests a given function of the file\n",
    "        self.assertEqual(file.function('arguments'), 'expected_result', 'error_message')  # return AssertionError se o resultado não for igual\n",
    "        self.assertRaises(KeyError, file.function, 'arguments') # checa o tipo de erro retornado \n",
    "        with self.assertRaises(ValueError):\n",
    "            file.function('arguments')"
   ]
  },
  {
   "cell_type": "code",
   "execution_count": null,
   "metadata": {},
   "outputs": [],
   "source": [
    "# utilizando teste\n",
    "'''\n",
    "python -m unittest test_calculator \n",
    "'''"
   ]
  }
 ],
 "metadata": {
  "kernelspec": {
   "display_name": "Python 3",
   "language": "python",
   "name": "python3"
  },
  "language_info": {
   "codemirror_mode": {
    "name": "ipython",
    "version": 3
   },
   "file_extension": ".py",
   "mimetype": "text/x-python",
   "name": "python",
   "nbconvert_exporter": "python",
   "pygments_lexer": "ipython3",
   "version": "3.10.5"
  },
  "orig_nbformat": 4
 },
 "nbformat": 4,
 "nbformat_minor": 2
}
