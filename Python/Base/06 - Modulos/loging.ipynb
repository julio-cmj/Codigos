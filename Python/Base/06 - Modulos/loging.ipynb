{
 "cells": [
  {
   "cell_type": "code",
   "execution_count": null,
   "metadata": {},
   "outputs": [],
   "source": [
    "# output log messages\n",
    "# não possui algumas funções de formatação -> %s\n",
    "\n",
    "import logging"
   ]
  },
  {
   "cell_type": "code",
   "execution_count": null,
   "metadata": {},
   "outputs": [],
   "source": [
    "# Por padrão o output é do tipo {LEVEL}:{LOGGER}:{MESSAGE} e o level mínimo é warning\n",
    "\n",
    "logging.debug(\"message\")\n",
    "logging.info(\"message\") \n",
    "logging.warning(\"message\") \n",
    "logging.error(\"message\") \n",
    "logging.critical(\"message\")"
   ]
  },
  {
   "cell_type": "code",
   "execution_count": null,
   "metadata": {},
   "outputs": [],
   "source": [
    "# basicConfig - Do basic configuration for the logging system\n",
    "# format= formatação do output, force= força a utilizar as configurações do basicConfig, level= mínimo level que é printado\n",
    "\n",
    "logging.basicConfig(format='%(lineno)s | %(asctime)s | %(levelname)s: %(message)s', level=\"DEBUG\", force=True)  \n",
    "\n",
    "logging.critical(\"It is critical to understand logs!\")\n",
    "logging.error(\"Running this line will result in an error message!\")\n",
    "logging.warning(\"You must catch that bug! It is a warning!\")\n",
    "logging.info(\"My info is that you are here!\")\n",
    "logging.debug(\"I'm debugging!\")"
   ]
  },
  {
   "cell_type": "code",
   "execution_count": null,
   "metadata": {},
   "outputs": [],
   "source": [
    "# filename= a output é passado para um arquivo ao invés de ser printado\n",
    "\n",
    "logging.basicConfig(filename='log_file.txt', filemode='a', encoding='utf-8')"
   ]
  },
  {
   "cell_type": "code",
   "execution_count": null,
   "metadata": {},
   "outputs": [],
   "source": [
    "# criando um objeto logger\n",
    "\n",
    "# cria o objeto de intância \"logger\"\n",
    "logger = logging.getLogger() \n",
    "\n",
    " # especifica o menor level para o logger\n",
    "logger.setLevel(logging.DEBUG)\n",
    "\n",
    "# cria um handler para o logger, alternativamente pode-se utilizar outro handler ou um arquivo\n",
    "console_handler = logging.StreamHandler() # log é printado no console\n",
    "\n",
    "# especifica a formatação do handler\n",
    "log_format = '%(levelname)s: %(message)s'\n",
    "console_handler.setFormatter(logging.Formatter(log_format))\n",
    "\n",
    "# adiciona o handler ao logger\n",
    "logger.addHandler(console_handler)\n",
    "\n",
    "logger.debug('Starting Debugging')"
   ]
  }
 ],
 "metadata": {
  "kernelspec": {
   "display_name": "Python 3",
   "language": "python",
   "name": "python3"
  },
  "language_info": {
   "codemirror_mode": {
    "name": "ipython",
    "version": 3
   },
   "file_extension": ".py",
   "mimetype": "text/x-python",
   "name": "python",
   "nbconvert_exporter": "python",
   "pygments_lexer": "ipython3",
   "version": "3.10.5"
  },
  "orig_nbformat": 4
 },
 "nbformat": 4,
 "nbformat_minor": 2
}
