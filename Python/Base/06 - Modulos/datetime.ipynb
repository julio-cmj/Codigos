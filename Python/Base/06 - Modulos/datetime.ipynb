{
 "cells": [
  {
   "cell_type": "code",
   "execution_count": null,
   "metadata": {},
   "outputs": [],
   "source": [
    "# Lidar com datas\n",
    "\n",
    "import datetime"
   ]
  },
  {
   "cell_type": "code",
   "execution_count": null,
   "metadata": {},
   "outputs": [],
   "source": [
    "\"\"\"\n",
    "datetime.date       |   represents standard date;\n",
    "datetime.time       |   represents standard time, independent from the date;\n",
    "datetime.timedelta  |   represents the difference between two points in time;\n",
    "datetime.tzinfo     |   abstract class for timezone;\n",
    "datetime.datetime   |   represents both time and date together.\n",
    "\"\"\""
   ]
  },
  {
   "cell_type": "code",
   "execution_count": null,
   "metadata": {},
   "outputs": [],
   "source": [
    "print(datetime.datetime.now())\n",
    "print(datetime.datetime.today())"
   ]
  },
  {
   "cell_type": "code",
   "execution_count": null,
   "metadata": {},
   "outputs": [],
   "source": [
    "data = datetime.date(2022, 2, 22)\n",
    "time = datetime.time(12, 30, 10)\n",
    "date = datetime.datetime(2022, 2, 22, 12, 30, 10)\n",
    "print(date)\n",
    "print(data)\n",
    "print(time)"
   ]
  },
  {
   "cell_type": "code",
   "execution_count": null,
   "metadata": {},
   "outputs": [],
   "source": [
    "# datetime methods\n",
    "\n",
    "print(date.ctime())\n",
    "print(date.weekday())\n",
    "print(date.isoweekday())"
   ]
  },
  {
   "cell_type": "code",
   "execution_count": null,
   "metadata": {},
   "outputs": [],
   "source": [
    "# formatando data\n",
    "\"\"\"\n",
    "%d\t|  Day of the month \n",
    "%m\t|  Month as a number \n",
    "%y\t|  Year without century — 92\n",
    "%Y\t|  Year with century — 1992\n",
    "%H\t|  Hour (24 hours) \n",
    "%I\t|  Hour (12 hours) \n",
    "%M\t|  Minutes \n",
    "%S\t|  Seconds\n",
    "%B\t|  Month as the area's full name — January\n",
    "\"\"\""
   ]
  },
  {
   "cell_type": "code",
   "execution_count": null,
   "metadata": {},
   "outputs": [],
   "source": [
    "date_string = \"06/04/2020 12:30\"\n",
    "\n",
    "dt1 = datetime.datetime.strptime(date_string, r\"%d/%m/%Y %H:%M\")\n",
    "\n",
    "date_string1 = dt1.strftime(\"%B %d, %Y at %H:%M\")\n",
    "print(date_string1)\n",
    "\n",
    "date_string2 = dt1.strftime(\"%d.%m.%y\")\n",
    "print(date_string2)\n",
    "\n",
    "date_string3 = dt1.strftime(\"%Y-%m-%d-%I:%M\")\n",
    "print(date_string3)\n",
    "\n",
    "date_string4 = dt1.strftime(\"The event will take place on %B %d.\")\n",
    "print(date_string4)"
   ]
  }
 ],
 "metadata": {
  "kernelspec": {
   "display_name": "Python 3",
   "language": "python",
   "name": "python3"
  },
  "language_info": {
   "codemirror_mode": {
    "name": "ipython",
    "version": 3
   },
   "file_extension": ".py",
   "mimetype": "text/x-python",
   "name": "python",
   "nbconvert_exporter": "python",
   "pygments_lexer": "ipython3",
   "version": "3.10.5"
  },
  "orig_nbformat": 4,
  "vscode": {
   "interpreter": {
    "hash": "ca4ae65869d2cb0a1ce9a252154e55d284ddfed7dca74e9ec9cf70dfaaed74d1"
   }
  }
 },
 "nbformat": 4,
 "nbformat_minor": 2
}
