{
 "cells": [
  {
   "cell_type": "code",
   "execution_count": null,
   "metadata": {},
   "outputs": [],
   "source": [
    "# usado para testar velocidade de diferentes partes do codigo\n",
    "\n",
    "import cProfile"
   ]
  },
  {
   "cell_type": "code",
   "execution_count": null,
   "metadata": {},
   "outputs": [],
   "source": [
    "def fib_recursive(n):\n",
    "    if n < 2:\n",
    "        return n\n",
    "    return fib_recursive(n - 1) + fib_recursive(n - 2)\n",
    "\n",
    "cProfile.run(\"fib_recursive(30)\")"
   ]
  },
  {
   "cell_type": "code",
   "execution_count": null,
   "metadata": {},
   "outputs": [],
   "source": [
    "def fib_list(n):\n",
    "    if n < 2:\n",
    "        return n\n",
    "    sequence = [0, 1]\n",
    "    for i in range(2, n + 1):\n",
    "        sequence.append(sequence[i - 1] + sequence[i - 2])\n",
    "    return sequence[n]\n",
    "\n",
    "cProfile.run(\"fib_list(30)\")"
   ]
  },
  {
   "cell_type": "code",
   "execution_count": null,
   "metadata": {},
   "outputs": [],
   "source": [
    "'''\n",
    "ncalls    |   The number of calls. We should try to optimize the functions that have a lot of calls or take too much time per call.\n",
    "\n",
    "tottime   |   The total time spent in the function, excluding the time taken to call sub-functions. \n",
    "The function is called N times, with a total time of S sec.\n",
    "\n",
    "cumtime   |   The cumulative time. In other words, it is the total time spent in the function plus the time spent in all sub-functions. \n",
    "Example, imagine that our function is appended to a list; every number there is passed in as an argument. The time spent calling the append function would be stated here, not in tottime.\n",
    "\n",
    "percall   |   There are two “per call” metrics. The first one is the total time per call, and the second one is the cumulative time per call.\n",
    "\n",
    "filename: |   Provides data about the filename and the line number of each function.\n",
    "lineno (function) \n",
    "'''"
   ]
  }
 ],
 "metadata": {
  "kernelspec": {
   "display_name": "Python 3",
   "language": "python",
   "name": "python3"
  },
  "language_info": {
   "codemirror_mode": {
    "name": "ipython",
    "version": 3
   },
   "file_extension": ".py",
   "mimetype": "text/x-python",
   "name": "python",
   "nbconvert_exporter": "python",
   "pygments_lexer": "ipython3",
   "version": "3.10.5"
  },
  "orig_nbformat": 4
 },
 "nbformat": 4,
 "nbformat_minor": 2
}
