{
 "cells": [
  {
   "cell_type": "code",
   "execution_count": null,
   "metadata": {},
   "outputs": [],
   "source": [
    "# usado para lidar com command lines\n",
    "\n",
    "import sys"
   ]
  },
  {
   "cell_type": "code",
   "execution_count": null,
   "metadata": {},
   "outputs": [],
   "source": [
    "# sys.argv - lista com imputs do comand lines \n",
    "# python file arg1 arg2 arg3 -> [file, arg1, agr2, arg3]\n",
    "\n",
    "lista = sys.argv\n",
    "lista[0]"
   ]
  }
 ],
 "metadata": {
  "kernelspec": {
   "display_name": "Python 3",
   "language": "python",
   "name": "python3"
  },
  "language_info": {
   "codemirror_mode": {
    "name": "ipython",
    "version": 3
   },
   "file_extension": ".py",
   "mimetype": "text/x-python",
   "name": "python",
   "nbconvert_exporter": "python",
   "pygments_lexer": "ipython3",
   "version": "3.10.4"
  },
  "orig_nbformat": 4,
  "vscode": {
   "interpreter": {
    "hash": "beb10830e324bdaa292a6e67dd38e4fb0e273fe7b5b2f0780e8faabebea9d606"
   }
  }
 },
 "nbformat": 4,
 "nbformat_minor": 2
}
