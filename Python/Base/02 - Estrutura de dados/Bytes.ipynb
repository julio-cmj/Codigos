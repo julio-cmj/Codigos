{
 "cells": [
  {
   "cell_type": "code",
   "execution_count": null,
   "metadata": {},
   "outputs": [],
   "source": [
    "# Convertendo caracteres em código unicode\n",
    "\n",
    "print(ord('')) # caractere -> unicode\n",
    "print(chr(93))  # unicode -> caractere"
   ]
  },
  {
   "cell_type": "code",
   "execution_count": null,
   "metadata": {},
   "outputs": [],
   "source": [
    "# criando bytes - b''\n",
    "\n",
    "byte = b'Unicode'\n",
    "print(byte)\n",
    "\n",
    "# Byte = b'Ûñïçødê' -> SyntaxError\n",
    "\n",
    "Byte2 = b'\\xdb\\xf1\\xef\\xe7\\xf8d\\xea'"
   ]
  },
  {
   "cell_type": "code",
   "execution_count": null,
   "metadata": {},
   "outputs": [],
   "source": [
    "# criando bytes - bytes()\n",
    "\n",
    "print(bytes('a', encoding='utf-8'))\n",
    "print(bytes('Ûñïçødê', encoding='utf-8'))"
   ]
  },
  {
   "cell_type": "code",
   "execution_count": null,
   "metadata": {},
   "outputs": [],
   "source": [
    "# criando bytes - .encode(enconder) -> metodo de string\n",
    "\n",
    "b = 'b'\n",
    "byte_b = b.encode() # por padrão utf-8\n",
    "print(byte_b)"
   ]
  },
  {
   "cell_type": "code",
   "execution_count": null,
   "metadata": {},
   "outputs": [],
   "source": [
    "# Bytearray - byte mutavel\n",
    "\n",
    "Bytearray = bytearray('ª', encoding='utf-8')\n",
    "print(Bytearray)"
   ]
  },
  {
   "cell_type": "code",
   "execution_count": null,
   "metadata": {},
   "outputs": [],
   "source": [
    "# Codigo numerico de um byte ou bytearray\n",
    "\n",
    "print(byte[0])\n",
    "print(Byte2[1])\n",
    "print(byte_b[0])\n",
    "print(Bytearray[0])"
   ]
  },
  {
   "cell_type": "code",
   "execution_count": 3,
   "metadata": {},
   "outputs": [
    {
     "data": {
      "text/plain": [
       "'bite'"
      ]
     },
     "execution_count": 3,
     "metadata": {},
     "output_type": "execute_result"
    }
   ],
   "source": [
    "# convertendo bytes em string - .decode(encoder), utf-8 por padrão\n",
    "\n",
    "bite = b'bite'\n",
    "bite.decode()"
   ]
  },
  {
   "cell_type": "code",
   "execution_count": 49,
   "metadata": {},
   "outputs": [
    {
     "name": "stdout",
     "output_type": "stream",
     "text": [
      "LoveThyCodeAsThyself\n"
     ]
    }
   ],
   "source": [
    "String = 'IlsbQev@lab>pQevpbic'\n",
    "\n",
    "Int = 258\n",
    "\n",
    "x = (Int).to_bytes(2, byteorder='little')\n",
    "y = x[0] + x[1]\n",
    "List = []\n",
    "for n in String:\n",
    "    List.append(ord(n) + y)\n",
    "\n",
    "List2 = []\n",
    "for n in List:\n",
    "    List2.append(chr(n))\n",
    "\n",
    "print(''.join(List2))"
   ]
  },
  {
   "cell_type": "code",
   "execution_count": null,
   "metadata": {},
   "outputs": [],
   "source": [
    "# criando bytes com inteiros- .to_bytes(n_bytes, byteorder='little' ou 'big') \n",
    "\n",
    "int_byte = (100).to_bytes(1, byteorder='little')\n",
    "print(int_byte)"
   ]
  },
  {
   "cell_type": "code",
   "execution_count": 2,
   "metadata": {},
   "outputs": [
    {
     "data": {
      "text/plain": [
       "1000"
      ]
     },
     "execution_count": 2,
     "metadata": {},
     "output_type": "execute_result"
    }
   ],
   "source": [
    "# convertendo bytes em inteiros - int.from_bytes(byte, byteorder)\n",
    "\n",
    "n = (1000).to_bytes(2, byteorder='little')\n",
    "int.from_bytes(n, byteorder='little')"
   ]
  }
 ],
 "metadata": {
  "kernelspec": {
   "display_name": "Python 3",
   "language": "python",
   "name": "python3"
  },
  "language_info": {
   "codemirror_mode": {
    "name": "ipython",
    "version": 3
   },
   "file_extension": ".py",
   "mimetype": "text/x-python",
   "name": "python",
   "nbconvert_exporter": "python",
   "pygments_lexer": "ipython3",
   "version": "3.10.5"
  },
  "orig_nbformat": 4
 },
 "nbformat": 4,
 "nbformat_minor": 2
}
