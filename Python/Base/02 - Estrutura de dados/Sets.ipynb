{
 "cells": [
  {
   "cell_type": "code",
   "execution_count": null,
   "metadata": {},
   "outputs": [],
   "source": [
    "# são mais rapidos de percorrer do que listas e mutaveis porém não possuem index e ordem especificos e não aceitam valores repetidos\n",
    "# a entrada deve ser com [] ou (), porém set não aceita listas"
   ]
  },
  {
   "cell_type": "code",
   "execution_count": null,
   "metadata": {},
   "outputs": [],
   "source": [
    "# Criando\n",
    "\n",
    "Set = set([1, 1, 1, 5, 7, 's', (1 , 2)]) \n",
    "print(Set)\n",
    "Set = {'a', 'b', 'c'}\n",
    "print(Set)"
   ]
  },
  {
   "cell_type": "code",
   "execution_count": null,
   "metadata": {},
   "outputs": [],
   "source": [
    "# Frozensets são sets que não podem ser modificador\n",
    "\n",
    "frozenset1 = frozenset([1, 2, 3])\n",
    "frozenset1.add(2)"
   ]
  },
  {
   "cell_type": "code",
   "execution_count": null,
   "metadata": {},
   "outputs": [],
   "source": [
    "# equivalencia\n",
    "\n",
    "set1 = set([1, 1, 1, 5, 7, 's', (1 , 2)]) \n",
    "set2 = set([1, 5, 's', (1, 2), 7])\n",
    "print(set1 == set2)"
   ]
  },
  {
   "cell_type": "code",
   "execution_count": null,
   "metadata": {},
   "outputs": [],
   "source": [
    "# .add() \n",
    "\n",
    "Set = set((1, 2))\n",
    "Set.add(3)\n",
    "print(Set)\n"
   ]
  },
  {
   "cell_type": "code",
   "execution_count": null,
   "metadata": {},
   "outputs": [],
   "source": [
    "# remove, discard, pop, clear - remove retorna erro caso elemento não faça parte do set\n",
    "# pop remove um elemento aleatorio\n",
    "\n",
    "Set = {1, 2, 3, 4, 5}\n",
    "Set.remove(5)\n",
    "Set.discard(2)\n",
    "Set.pop()\n",
    "Set"
   ]
  },
  {
   "cell_type": "code",
   "execution_count": null,
   "metadata": {},
   "outputs": [],
   "source": [
    "# .union() ou | - une os sets em um novo set\n",
    "\n",
    "set1 = {\"macaco\", \"tigre\"}\n",
    "set2 = {\"banana\", \"maça\"}\n",
    "\n",
    "print(set1.union(set2))\n",
    "print(set1 | set2)\n",
    "print(set1)"
   ]
  },
  {
   "cell_type": "code",
   "execution_count": null,
   "metadata": {},
   "outputs": [],
   "source": [
    "# .update() ou |= - adiciona um set em outro set\n",
    "\n",
    "set1 = {\"macaco\", \"tigre\"}\n",
    "set2 = {\"banana\", \"maça\"}\n",
    "set1 |= set2\n",
    "print(set1)\n",
    "print(set2)"
   ]
  },
  {
   "cell_type": "code",
   "execution_count": null,
   "metadata": {},
   "outputs": [],
   "source": [
    "# .intersection ou &\n",
    "\n",
    "set1 = {\"banana\", \"laranja\"}\n",
    "set2 = {\"banana\", \"maça\"}\n",
    "print(set1 & set2)"
   ]
  },
  {
   "cell_type": "code",
   "execution_count": null,
   "metadata": {},
   "outputs": [],
   "source": [
    "# .intersection_update ou &= - igual intersection porem modifica a lista orifinal\n",
    "\n",
    "set1 = {\"banana\", \"laranja\"}\n",
    "set2 = {\"banana\", \"maça\"}\n",
    "set1 &= set2\n",
    "print(set1)\n",
    "print(set2)"
   ]
  },
  {
   "cell_type": "code",
   "execution_count": null,
   "metadata": {},
   "outputs": [],
   "source": [
    "# .difference e .difference_update ou - e -=\n",
    "\n",
    "set1 = {\"banana\", \"laranja\"}\n",
    "set2 = {\"banana\", \"maça\"}\n",
    "print(set1 - set2)"
   ]
  },
  {
   "cell_type": "code",
   "execution_count": null,
   "metadata": {},
   "outputs": [],
   "source": [
    "# diferença entre metodo e operador - o metodo não aceita somente outros sets para funcionar\n",
    "\n",
    "santa_claus_sound = set('ho ho ho')\n",
    "pirate_sound = 'yo ho ho'\n",
    "ho_sound = santa_claus_sound.intersection(pirate_sound)\n",
    "print(ho_sound)\n",
    "print(santa_claus_sound & pirate_sound)"
   ]
  },
  {
   "cell_type": "code",
   "execution_count": null,
   "metadata": {},
   "outputs": [],
   "source": [
    "languages = [{'c', 'c++', 'python'}, {'python', 'javascript'}, {'python', 'java'}]\n",
    "the_best = set.intersection(*languages)\n",
    "print(the_best)"
   ]
  }
 ],
 "metadata": {
  "kernelspec": {
   "display_name": "Python 3",
   "language": "python",
   "name": "python3"
  },
  "language_info": {
   "codemirror_mode": {
    "name": "ipython",
    "version": 3
   },
   "file_extension": ".py",
   "mimetype": "text/x-python",
   "name": "python",
   "nbconvert_exporter": "python",
   "pygments_lexer": "ipython3",
   "version": "3.10.5"
  },
  "orig_nbformat": 4,
  "vscode": {
   "interpreter": {
    "hash": "ca4ae65869d2cb0a1ce9a252154e55d284ddfed7dca74e9ec9cf70dfaaed74d1"
   }
  }
 },
 "nbformat": 4,
 "nbformat_minor": 2
}
