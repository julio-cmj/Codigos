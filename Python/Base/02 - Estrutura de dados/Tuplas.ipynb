{
 "cells": [
  {
   "cell_type": "code",
   "execution_count": null,
   "metadata": {},
   "outputs": [],
   "source": [
    "# Tuplas são listas que não podem ser modificadas\n",
    "\n",
    "lista = ['a','b','c']\n",
    "tupla = ('a','b','c')\n",
    "\n",
    "lista[0] = 'd'\n",
    "print(lista)\n",
    "\n",
    "tupla[0] = 'd'\n",
    "print (tupla)\n"
   ]
  },
  {
   "cell_type": "code",
   "execution_count": null,
   "metadata": {},
   "outputs": [],
   "source": [
    "# declarando\n",
    "\n",
    "frutas = (\n",
    "    \"laranja\",\n",
    "    \"pera\",\n",
    "    \"uva\",\n",
    ")\n",
    "print(frutas)\n",
    "\n",
    "letras = tuple(\"python\")\n",
    "print(letras)\n",
    "\n",
    "numeros = tuple([1, 2, 3, 4])\n",
    "print(numeros)\n",
    "\n",
    "pais = (\"Brasil\",)\n",
    "print(pais)"
   ]
  },
  {
   "cell_type": "code",
   "execution_count": null,
   "metadata": {},
   "outputs": [],
   "source": [
    "# acessando pelo indice\n",
    "\n",
    "frutas = (\"maçã\", \"laranja\", \"uva\", \"pera\",)\n",
    "\n",
    "print(frutas[0])  \n",
    "print(frutas[2]) \n",
    "\n",
    "print(frutas[-1]) \n",
    "print(frutas[-3])  "
   ]
  },
  {
   "cell_type": "code",
   "execution_count": null,
   "metadata": {},
   "outputs": [],
   "source": [
    "# matriz\n",
    "\n",
    "matriz = (\n",
    "    (1, \"a\", 2),\n",
    "    (\"b\", 3, 4),\n",
    "    (6, 5, \"c\"),\n",
    ")\n",
    "\n",
    "print(matriz[0]) \n",
    "print(matriz[0][0]) \n",
    "print(matriz[0][-1]) \n",
    "print(matriz[-1][-1])  "
   ]
  },
  {
   "cell_type": "code",
   "execution_count": null,
   "metadata": {},
   "outputs": [],
   "source": [
    "# fatiamento\n",
    "\n",
    "tupla = (\"p\", \"y\", \"t\", \"h\", \"o\", \"n\",)\n",
    "\n",
    "print(tupla[2:])\n",
    "print(tupla[:2])  \n",
    "print(tupla[1:3])  \n",
    "print(tupla[0:3:2]) \n",
    "print(tupla[::]) \n",
    "print(tupla[::-1]) \n"
   ]
  },
  {
   "cell_type": "code",
   "execution_count": null,
   "metadata": {},
   "outputs": [],
   "source": [
    "# interação\n",
    "\n",
    "carros = (\n",
    "    \"gol\",\n",
    "    \"celta\",\n",
    "    \"palio\",\n",
    ")\n",
    "\n",
    "for carro in carros:\n",
    "    print(carro)\n",
    "\n",
    "\n",
    "for indice, carro in enumerate(carros):\n",
    "    print(f\"{indice}: {carro}\")"
   ]
  },
  {
   "cell_type": "code",
   "execution_count": null,
   "metadata": {},
   "outputs": [],
   "source": [
    "#.count\n",
    "\n",
    "cores = (\n",
    "    \"vermelho\",\n",
    "    \"azul\",\n",
    "    \"verde\",\n",
    "    \"azul\",\n",
    ")\n",
    "\n",
    "print(cores.count(\"vermelho\"))  \n",
    "print(cores.count(\"azul\"))  \n",
    "print(cores.count(\"verde\"))  "
   ]
  },
  {
   "cell_type": "code",
   "execution_count": null,
   "metadata": {},
   "outputs": [],
   "source": [
    "#.index\n",
    "\n",
    "linguagens = (\"python\", \"js\", \"c\", \"java\", \"csharp\",)\n",
    "\n",
    "print(linguagens.index(\"java\")) \n",
    "print(linguagens.index(\"python\"))"
   ]
  },
  {
   "cell_type": "code",
   "execution_count": null,
   "metadata": {},
   "outputs": [],
   "source": [
    "#len\n",
    "\n",
    "linguagens = (\n",
    "    \"python\",\n",
    "    \"js\",\n",
    "    \"c\",\n",
    "    \"java\",\n",
    "    \"csharp\",\n",
    ")\n",
    "\n",
    "print(len(linguagens)) "
   ]
  }
 ],
 "metadata": {
  "kernelspec": {
   "display_name": "Python 3",
   "language": "python",
   "name": "python3"
  },
  "language_info": {
   "codemirror_mode": {
    "name": "ipython",
    "version": 3
   },
   "file_extension": ".py",
   "mimetype": "text/x-python",
   "name": "python",
   "nbconvert_exporter": "python",
   "pygments_lexer": "ipython3",
   "version": "3.10.5"
  },
  "orig_nbformat": 4,
  "vscode": {
   "interpreter": {
    "hash": "ca4ae65869d2cb0a1ce9a252154e55d284ddfed7dca74e9ec9cf70dfaaed74d1"
   }
  }
 },
 "nbformat": 4,
 "nbformat_minor": 2
}
