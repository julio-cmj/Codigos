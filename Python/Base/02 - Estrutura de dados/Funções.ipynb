{
 "cells": [
  {
   "cell_type": "code",
   "execution_count": null,
   "metadata": {},
   "outputs": [],
   "source": [
    "# Definindo funções\n",
    "\n",
    "def exibir_mensagem():\n",
    "    print(\"Olá mundo!\")\n",
    "\n",
    "def exibir_mensagem_2(nome):\n",
    "    print(f\"Seja bem vindo {nome}!\")\n",
    "\n",
    "exibir_mensagem()\n",
    "exibir_mensagem_2('EU')"
   ]
  },
  {
   "cell_type": "code",
   "execution_count": null,
   "metadata": {},
   "outputs": [],
   "source": [
    "# return\n",
    "\n",
    "def calcular_total(numeros):\n",
    "    return sum(numeros)\n",
    "\n",
    "def retorna_antecessor_e_sucessor(numero):\n",
    "    antecessor = numero - 1\n",
    "    sucessor = numero + 1\n",
    "    return antecessor, sucessor\n",
    "\n",
    "print(calcular_total([10, 20, 34])) \n",
    "print(retorna_antecessor_e_sucessor(10)) "
   ]
  },
  {
   "cell_type": "code",
   "execution_count": null,
   "metadata": {},
   "outputs": [],
   "source": [
    "# generators - usados para economizar memoria, os valores são descartados após chamar next e só pode ser usados uma vez\n",
    "\n",
    "def multiplos(x, n):\n",
    "    i = 1\n",
    "    while i <= n:\n",
    "        yield x * i\n",
    "        i += 1\n",
    "\n",
    "numero = multiplos(10,5)\n",
    "print(numero)\n",
    "print(next(numero))\n",
    "print(next(numero))\n",
    "print(next(numero))"
   ]
  },
  {
   "cell_type": "code",
   "execution_count": null,
   "metadata": {},
   "outputs": [],
   "source": [
    "# yield from - multiplos generators\n",
    "\n",
    "def generator1():\n",
    "    for x in range(100):\n",
    "        yield x\n",
    "\n",
    "def generator2():\n",
    "    for y in range(100, 200):\n",
    "        yield y\n",
    "\n",
    "def generator():\n",
    "    for x in generator1():\n",
    "        yield x\n",
    "    for y in generator2():\n",
    "        yield y"
   ]
  },
  {
   "cell_type": "code",
   "execution_count": null,
   "metadata": {},
   "outputs": [],
   "source": [
    "# generators comprehension\n",
    "\n",
    "numbers = [1, 2, 3]\n",
    "my_generator = (n * 10 for n in numbers)\n",
    "\n",
    "for n in my_generator:\n",
    "    print(n)"
   ]
  },
  {
   "cell_type": "code",
   "execution_count": null,
   "metadata": {},
   "outputs": [],
   "source": [
    "# Objetos locais e globais\n",
    "\n",
    "salario = 2000\n",
    "\n",
    "def salario_bonus(bonus):\n",
    "    global salario\n",
    "    salario += bonus\n",
    "    return salario\n",
    "\n",
    "salario_bonus(500) "
   ]
  },
  {
   "cell_type": "code",
   "execution_count": null,
   "metadata": {},
   "outputs": [],
   "source": [
    "# Argumento por nomeação\n",
    "\n",
    "def salvar_carro(marca, modelo, ano, placa):\n",
    "    print(f\"Carro inserido com sucesso! {marca}/{modelo}/{ano}/{placa}\")\n",
    "\n",
    "\n",
    "salvar_carro(\"Fiat\", \"Palio\", 1999, \"ABC-1234\")\n",
    "salvar_carro(marca=\"Fiat\", modelo=\"Palio\", ano=1999, placa=\"ABC-1234\")\n",
    "salvar_carro(**{\"marca\": \"Fiat\", \"modelo\": \"Palio\", \"ano\": 1999, \"placa\": \"ABC-1234\"})"
   ]
  },
  {
   "cell_type": "code",
   "execution_count": null,
   "metadata": {},
   "outputs": [],
   "source": [
    "# Parametros somente por posição -> antes de / os argumentos só podem ser dados por posição\n",
    "\n",
    "def criar_carro(modelo, ano, placa, /, marca, motor, combustivel):\n",
    "    print(modelo, ano, placa, marca, motor, combustivel)\n",
    "\n",
    "\n",
    "criar_carro(\"Palio\", 1999, \"ABC-1234\", marca=\"Fiat\", motor=\"1.0\", combustivel=\"Gasolina\")\n",
    "criar_carro(\"Palio\", 1999, \"ABC-1234\", combustivel=\"Gasolina\",  marca=\"Fiat\", motor=\"1.0\") \n",
    "criar_carro(modelo=\"Palio\", ano=1999, placa=\"ABC-1234\", marca=\"Fiat\", motor=\"1.0\", combustivel=\"Gasolina\")  # inválido"
   ]
  },
  {
   "cell_type": "code",
   "execution_count": null,
   "metadata": {},
   "outputs": [],
   "source": [
    "# Parametros somente por nomeação -> depois de * os argumentos só podem ser dados por nomeação\n",
    "\n",
    "def criar_carro(modelo, ano, placa, *, marca, motor, combustivel):\n",
    "    print(modelo, ano, placa, marca, motor, combustivel)\n",
    "\n",
    "criar_carro(modelo=\"Palio\", ano=1999, placa=\"ABC-1234\", marca=\"Fiat\", motor=\"1.0\", combustivel=\"Gasolina\")\n",
    "criar_carro(\"Palio\", 1999, \"ABC-1234\", marca=\"Fiat\", motor=\"1.0\", combustivel=\"Gasolina\")\n",
    "criar_carro(\"Palio\", 1999, \"ABC-1234\", \"Fiat\", \"1.0\", \"Gasolina\") # inválido"
   ]
  },
  {
   "cell_type": "code",
   "execution_count": null,
   "metadata": {},
   "outputs": [],
   "source": [
    "# Objetos padrão (objetos padrão devem ser definidos depois dos não padrão)\n",
    "\n",
    "def locate(place, planet=\"Earth\"): # sem espaços entre = (PEP)\n",
    "    print(place, \"on\", planet)\n",
    "\n",
    "locate(\"Berlin\")                     \n",
    "locate(\"Breakfast\", planet=\"Pluto\") \n",
    "locate(\"Craters\", \"Mercury\")  "
   ]
  },
  {
   "cell_type": "code",
   "execution_count": null,
   "metadata": {},
   "outputs": [],
   "source": [
    "# Objetos de primeira classe\n",
    "\n",
    "def somar(a, b):\n",
    "    return a + b\n",
    "\n",
    "def exibir_resultado(a, b, funcao):\n",
    "    resultado = funcao(a, b)\n",
    "    print(f\"O resultado da operação {a} + {b} = {resultado}\")\n",
    "\n",
    "exibir_resultado(10, 10, somar)  "
   ]
  },
  {
   "cell_type": "code",
   "execution_count": null,
   "metadata": {},
   "outputs": [],
   "source": [
    "# args - objetos extras não necessarios a função, objetos iteraveis\n",
    "\n",
    "def add(a, b, *args): # a e b são necessarios mas pode-se somar mais objetos com args\n",
    "    total = a + b\n",
    "    for n in args:\n",
    "        total += n\n",
    "    print(total)\n",
    "\n",
    "add(1, 2)\n",
    "add(1, 2, 3)\n",
    "add(1, 2, 3, 4)"
   ]
  },
  {
   "cell_type": "code",
   "execution_count": null,
   "metadata": {},
   "outputs": [],
   "source": [
    "# kwargs - dicionários opcioanis\n",
    "\n",
    "def informações(**kwargs):\n",
    "    for values in kwargs.values():\n",
    "        for key, value in values.items():\n",
    "            print(key, '=', value)\n",
    "\n",
    "dicionario = {'julio': {'nome': 'julio', 'email': 'mail@mail.com', 'numero': '9999-9999'}}\n",
    "\n",
    "informações(**dicionario)"
   ]
  },
  {
   "cell_type": "code",
   "execution_count": null,
   "metadata": {},
   "outputs": [],
   "source": [
    "# lambda arguments - funções que não são definidas\n",
    "\n",
    "função = lambda x: x + 2\n",
    "print(função(2))\n",
    "\n",
    "# Exemplo de utilização\n",
    "def func_template(n):\n",
    "    return lambda x: n * x\n",
    "triplicador = func_template(3)\n",
    "triplicador(5)"
   ]
  },
  {
   "cell_type": "code",
   "execution_count": null,
   "metadata": {},
   "outputs": [],
   "source": [
    "# Decorators\n",
    "\n",
    "# Definindo\n",
    "def decorator(função):\n",
    "    def wrapper(argumentos):                # função que modifica a função \n",
    "        print('decorator sendo executado')  # o que o decorator faz \n",
    "        função(argumentos)                  # utilizando a função dentro do wrapper, comentar para exemplo\n",
    "        print('final do decorator')\n",
    "        return função(argumentos)           # retorna de volta a função, comentar para exemplo\n",
    "    \n",
    "    return wrapper\n",
    "\n",
    "# Utiliando \n",
    "@decorator                                   # o mesmo que minha_função = decorator(minha_função)\n",
    "def minha_função(nome):\n",
    "    print(nome)\n",
    "\n",
    "minha_função('pi')"
   ]
  },
  {
   "cell_type": "code",
   "execution_count": null,
   "metadata": {},
   "outputs": [],
   "source": [
    "# Docstrings e Annotations \n",
    "\n",
    "def função(x: 'Esse é um exemplo de annotation', y: 'Essa variavel não faz anda') -> 'Essa função não retorna nada':\n",
    "    \"\"\"Uma função que não faz nada, esse é um exemplo de docstring\"\"\"\n",
    "    \n",
    "    x = 'nada'\n",
    "    y = 'nadica'\n",
    "    pass\n",
    "\n",
    "print('Annotations:\\n', função.__annotations__)\n",
    "print()\n",
    "print('Docstring:\\n', função.__doc__)\n",
    "print()\n",
    "help(função)"
   ]
  }
 ],
 "metadata": {
  "kernelspec": {
   "display_name": "Python 3",
   "language": "python",
   "name": "python3"
  },
  "language_info": {
   "codemirror_mode": {
    "name": "ipython",
    "version": 3
   },
   "file_extension": ".py",
   "mimetype": "text/x-python",
   "name": "python",
   "nbconvert_exporter": "python",
   "pygments_lexer": "ipython3",
   "version": "3.10.5"
  },
  "orig_nbformat": 4,
  "vscode": {
   "interpreter": {
    "hash": "ca4ae65869d2cb0a1ce9a252154e55d284ddfed7dca74e9ec9cf70dfaaed74d1"
   }
  }
 },
 "nbformat": 4,
 "nbformat_minor": 2
}
