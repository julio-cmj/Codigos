{
 "cells": [
  {
   "cell_type": "code",
   "execution_count": null,
   "metadata": {},
   "outputs": [],
   "source": [
    "# Sets são listas que não possuem ordem espicifica ou entradas repetidas\n",
    "# a entrada deve ser com [] ou (), porém set não aceita listas\n",
    "\n",
    "Set = set([1, 1, 1, 5, 7, 's', (1 , 2)]) \n",
    "print(Set)"
   ]
  },
  {
   "cell_type": "code",
   "execution_count": null,
   "metadata": {},
   "outputs": [],
   "source": [
    "# Frozensets são sets que não podem ser modificador\n",
    "\n",
    "frozenset1 = frozenset([1, 2, 3])\n",
    "frozenset1.add(2)"
   ]
  },
  {
   "cell_type": "code",
   "execution_count": null,
   "metadata": {},
   "outputs": [],
   "source": [
    "# equivalencia\n",
    "\n",
    "set1 = set([1, 1, 1, 5, 7, 's', (1 , 2)]) \n",
    "set2 = set([1, 5, 's', (1, 2), 7])\n",
    "print(set1 == set2)"
   ]
  },
  {
   "cell_type": "code",
   "execution_count": null,
   "metadata": {},
   "outputs": [],
   "source": [
    "# .add() \n",
    "\n",
    "Set = set((1, 2))\n",
    "Set.add(3)\n",
    "print(Set)\n"
   ]
  },
  {
   "cell_type": "code",
   "execution_count": null,
   "metadata": {},
   "outputs": [],
   "source": [
    "# remove, discard, pop, clear - remove retorna erro caso elemento não faça parte do set\n",
    "# pop remove um elemento aleatorio\n",
    "\n",
    "Set = {1, 2, 3, 4, 5}\n",
    "Set.remove(5)\n",
    "Set.discard(2)\n",
    "Set.pop()\n",
    "Set"
   ]
  },
  {
   "cell_type": "code",
   "execution_count": 40,
   "metadata": {},
   "outputs": [
    {
     "name": "stdout",
     "output_type": "stream",
     "text": [
      "{'macaco', 'tigre', 'maça', 'banana'}\n",
      "{'macaco', 'tigre', 'maça', 'banana'}\n",
      "{'macaco', 'tigre'}\n"
     ]
    }
   ],
   "source": [
    "# .union() ou | - une os sets em um novo set\n",
    "\n",
    "set1 = {\"macaco\", \"tigre\"}\n",
    "set2 = {\"banana\", \"maça\"}\n",
    "\n",
    "print(set1.union(set2))\n",
    "print(set1 | set2)\n",
    "print(set1)"
   ]
  },
  {
   "cell_type": "code",
   "execution_count": 39,
   "metadata": {},
   "outputs": [
    {
     "name": "stdout",
     "output_type": "stream",
     "text": [
      "{'macaco', 'tigre', 'maça', 'banana'}\n",
      "{'maça', 'banana'}\n"
     ]
    }
   ],
   "source": [
    "# .update() ou |= - adiciona um set em outro set\n",
    "\n",
    "set1 = {\"macaco\", \"tigre\"}\n",
    "set2 = {\"banana\", \"maça\"}\n",
    "set1 |= set2\n",
    "print(set1)\n",
    "print(set2)"
   ]
  },
  {
   "cell_type": "code",
   "execution_count": 41,
   "metadata": {},
   "outputs": [
    {
     "name": "stdout",
     "output_type": "stream",
     "text": [
      "{'banana'}\n"
     ]
    }
   ],
   "source": [
    "# .intersection ou &\n",
    "\n",
    "set1 = {\"banana\", \"laranja\"}\n",
    "set2 = {\"banana\", \"maça\"}\n",
    "print(set1 & set2)"
   ]
  },
  {
   "cell_type": "code",
   "execution_count": 42,
   "metadata": {},
   "outputs": [
    {
     "name": "stdout",
     "output_type": "stream",
     "text": [
      "{'banana'}\n",
      "{'maça', 'banana'}\n"
     ]
    }
   ],
   "source": [
    "# .intersection_update ou &= - igual intersection porem modifica a lista orifinal\n",
    "\n",
    "set1 = {\"banana\", \"laranja\"}\n",
    "set2 = {\"banana\", \"maça\"}\n",
    "set1 &= set2\n",
    "print(set1)\n",
    "print(set2)"
   ]
  },
  {
   "cell_type": "code",
   "execution_count": 43,
   "metadata": {},
   "outputs": [
    {
     "name": "stdout",
     "output_type": "stream",
     "text": [
      "{'laranja'}\n"
     ]
    }
   ],
   "source": [
    "# .difference e .difference_update ou - e -=\n",
    "\n",
    "set1 = {\"banana\", \"laranja\"}\n",
    "set2 = {\"banana\", \"maça\"}\n",
    "print(set1 - set2)"
   ]
  },
  {
   "cell_type": "code",
   "execution_count": 44,
   "metadata": {},
   "outputs": [
    {
     "name": "stdout",
     "output_type": "stream",
     "text": [
      "{' ', 'h', 'o'}\n"
     ]
    },
    {
     "ename": "TypeError",
     "evalue": "unsupported operand type(s) for &: 'set' and 'str'",
     "output_type": "error",
     "traceback": [
      "\u001b[1;31m---------------------------------------------------------------------------\u001b[0m",
      "\u001b[1;31mTypeError\u001b[0m                                 Traceback (most recent call last)",
      "\u001b[1;32mc:\\Users\\Julio\\Downloads\\codigos\\Comandos\\Python Base\\Estrutura de dados\\Sets.ipynb Cell 11\u001b[0m in \u001b[0;36m<cell line: 7>\u001b[1;34m()\u001b[0m\n\u001b[0;32m      <a href='vscode-notebook-cell:/c%3A/Users/Julio/Downloads/codigos/Comandos/Python%20Base/Estrutura%20de%20dados/Sets.ipynb#X14sZmlsZQ%3D%3D?line=4'>5</a>\u001b[0m ho_sound \u001b[39m=\u001b[39m santa_claus_sound\u001b[39m.\u001b[39mintersection(pirate_sound)\n\u001b[0;32m      <a href='vscode-notebook-cell:/c%3A/Users/Julio/Downloads/codigos/Comandos/Python%20Base/Estrutura%20de%20dados/Sets.ipynb#X14sZmlsZQ%3D%3D?line=5'>6</a>\u001b[0m \u001b[39mprint\u001b[39m(ho_sound)\n\u001b[1;32m----> <a href='vscode-notebook-cell:/c%3A/Users/Julio/Downloads/codigos/Comandos/Python%20Base/Estrutura%20de%20dados/Sets.ipynb#X14sZmlsZQ%3D%3D?line=6'>7</a>\u001b[0m \u001b[39mprint\u001b[39m(santa_claus_sound \u001b[39m&\u001b[39;49m pirate_sound)\n",
      "\u001b[1;31mTypeError\u001b[0m: unsupported operand type(s) for &: 'set' and 'str'"
     ]
    }
   ],
   "source": [
    "# diferença entre metodo e operador - o metodo não aceita somente outros sets para funcionar\n",
    "\n",
    "santa_claus_sound = set('ho ho ho')\n",
    "pirate_sound = 'yo ho ho'\n",
    "ho_sound = santa_claus_sound.intersection(pirate_sound)\n",
    "print(ho_sound)\n",
    "print(santa_claus_sound & pirate_sound)"
   ]
  },
  {
   "cell_type": "code",
   "execution_count": null,
   "metadata": {},
   "outputs": [],
   "source": [
    "languages = [{'c', 'c++', 'python'}, {'python', 'javascript'}, {'python', 'java'}]\n",
    "the_best = set.intersection(*languages)\n",
    "print(the_best)"
   ]
  }
 ],
 "metadata": {
  "kernelspec": {
   "display_name": "Python 3",
   "language": "python",
   "name": "python3"
  },
  "language_info": {
   "codemirror_mode": {
    "name": "ipython",
    "version": 3
   },
   "file_extension": ".py",
   "mimetype": "text/x-python",
   "name": "python",
   "nbconvert_exporter": "python",
   "pygments_lexer": "ipython3",
   "version": "3.10.5"
  },
  "orig_nbformat": 4,
  "vscode": {
   "interpreter": {
    "hash": "ca4ae65869d2cb0a1ce9a252154e55d284ddfed7dca74e9ec9cf70dfaaed74d1"
   }
  }
 },
 "nbformat": 4,
 "nbformat_minor": 2
}
