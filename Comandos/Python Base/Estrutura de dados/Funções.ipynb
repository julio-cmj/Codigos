{
 "cells": [
  {
   "cell_type": "code",
   "execution_count": null,
   "metadata": {},
   "outputs": [],
   "source": [
    "#definindo funções\n",
    "\n",
    "def exibir_mensagem():\n",
    "    print(\"Olá mundo!\")\n",
    "\n",
    "\n",
    "def exibir_mensagem_2(nome):\n",
    "    print(f\"Seja bem vindo {nome}!\")\n",
    "\n",
    "\n",
    "def exibir_mensagem_3(nome=\"Anônimo\"):\n",
    "    print(f\"Seja bem vindo {nome}!\")\n",
    "\n",
    "\n",
    "exibir_mensagem()\n",
    "exibir_mensagem_2(nome=\"Guilherme\")\n",
    "exibir_mensagem_3()\n",
    "exibir_mensagem_3(nome=\"Chappie\")\n"
   ]
  },
  {
   "cell_type": "code",
   "execution_count": null,
   "metadata": {},
   "outputs": [],
   "source": [
    "# return\n",
    "\n",
    "def calcular_total(numeros):\n",
    "    return sum(numeros)\n",
    "\n",
    "def retorna_antecessor_e_sucessor(numero):\n",
    "    antecessor = numero - 1\n",
    "    sucessor = numero + 1\n",
    "    return antecessor, sucessor\n",
    "\n",
    "def funcao_sem_retorno(numero):\n",
    "    soma = numero + numero\n",
    "\n",
    "print(calcular_total([10, 20, 34])) \n",
    "print(retorna_antecessor_e_sucessor(10)) \n",
    "print(funcao_sem_retorno(2))\n",
    "funcao_sem_retorno(2)"
   ]
  },
  {
   "cell_type": "code",
   "execution_count": null,
   "metadata": {},
   "outputs": [],
   "source": [
    "# objetos locais e globais\n",
    "\n",
    "salario = 2000\n",
    "\n",
    "def salario_bonus(bonus):\n",
    "    global salario\n",
    "    salario += bonus\n",
    "    return salario\n",
    "\n",
    "salario_bonus(500) "
   ]
  },
  {
   "cell_type": "code",
   "execution_count": null,
   "metadata": {},
   "outputs": [],
   "source": [
    "# argumento por nomeação\n",
    "\n",
    "def salvar_carro(marca, modelo, ano, placa):\n",
    "    print(f\"Carro inserido com sucesso! {marca}/{modelo}/{ano}/{placa}\")\n",
    "\n",
    "\n",
    "salvar_carro(\"Fiat\", \"Palio\", 1999, \"ABC-1234\")\n",
    "salvar_carro(marca=\"Fiat\", modelo=\"Palio\", ano=1999, placa=\"ABC-1234\")\n",
    "salvar_carro(**{\"marca\": \"Fiat\", \"modelo\": \"Palio\", \"ano\": 1999, \"placa\": \"ABC-1234\"})"
   ]
  },
  {
   "cell_type": "code",
   "execution_count": null,
   "metadata": {},
   "outputs": [],
   "source": [
    "# parametros somente por posição -> antes de / os argumentos só podem ser dados por posição\n",
    "\n",
    "def criar_carro(modelo, ano, placa, /, marca, motor, combustivel):\n",
    "    print(modelo, ano, placa, marca, motor, combustivel)\n",
    "\n",
    "\n",
    "criar_carro(\"Palio\", 1999, \"ABC-1234\", marca=\"Fiat\", motor=\"1.0\", combustivel=\"Gasolina\")\n",
    "criar_carro(\"Palio\", 1999, \"ABC-1234\", combustivel=\"Gasolina\",  marca=\"Fiat\", motor=\"1.0\") \n",
    "criar_carro(modelo=\"Palio\", ano=1999, placa=\"ABC-1234\", marca=\"Fiat\", motor=\"1.0\", combustivel=\"Gasolina\")  # inválido"
   ]
  },
  {
   "cell_type": "code",
   "execution_count": null,
   "metadata": {},
   "outputs": [],
   "source": [
    "# parametros somente por nomeação -> depois de * os argumentos só podem ser dados por nomeação\n",
    "\n",
    "def criar_carro(modelo, ano, placa, *, marca, motor, combustivel):\n",
    "    print(modelo, ano, placa, marca, motor, combustivel)\n",
    "\n",
    "criar_carro(modelo=\"Palio\", ano=1999, placa=\"ABC-1234\", marca=\"Fiat\", motor=\"1.0\", combustivel=\"Gasolina\")\n",
    "criar_carro(\"Palio\", 1999, \"ABC-1234\", marca=\"Fiat\", motor=\"1.0\", combustivel=\"Gasolina\")\n",
    "criar_carro(\"Palio\", 1999, \"ABC-1234\", \"Fiat\", \"1.0\", \"Gasolina\") # inválido"
   ]
  },
  {
   "cell_type": "code",
   "execution_count": null,
   "metadata": {},
   "outputs": [],
   "source": [
    "# objetos de primeira classe\n",
    "\n",
    "def somar(a, b):\n",
    "    return a + b\n",
    "\n",
    "def exibir_resultado(a, b, funcao):\n",
    "    resultado = funcao(a, b)\n",
    "    print(f\"O resultado da operação {a} + {b} = {resultado}\")\n",
    "\n",
    "\n",
    "exibir_resultado(10, 10, somar)  "
   ]
  },
  {
   "cell_type": "code",
   "execution_count": null,
   "metadata": {},
   "outputs": [],
   "source": [
    "# args e kwargs\n",
    "\n",
    "def exibir_poema(data_extenso, *args, **kwargs):\n",
    "    texto = \"\\n\".join(args)\n",
    "    meta_dados = \"\\n\".join([f\"{chave.title()}: {valor}\" for chave, valor in kwargs.items()])\n",
    "    mensagem = f\"{data_extenso}\\n\\n{texto}\\n\\n{meta_dados}\"\n",
    "    print(mensagem)\n",
    "\n",
    "\n",
    "exibir_poema(\n",
    "    \"Zen of Python\",\n",
    "    \"Beautiful is better than ugly.\",\n",
    "    \"Explicit is better than implicit.\",\n",
    "    \"Simple is better than complex.\",\n",
    "    \"Complex is better than complicated.\",\n",
    "    \"Flat is better than nested.\",\n",
    "    \"Sparse is better than dense.\",\n",
    "    \"Readability counts.\",\n",
    "    \"Special cases aren't special enough to break the rules.\",\n",
    "    \"Although practicality beats purity.\",\n",
    "    \"Errors should never pass silently.\",\n",
    "    \"Unless explicitly silenced.\",\n",
    "    \"In the face of ambiguity, refuse the temptation to guess.\",\n",
    "    \"There should be one-- and preferably only one --obvious way to do it.\",\n",
    "    \"Although that way may not be obvious at first unless you're Dutch.\",\n",
    "    \"Now is better than never.\",\n",
    "    \"Although never is often better than *right* now.\",\n",
    "    \"If the implementation is hard to explain, it's a bad idea.\",\n",
    "    \"If the implementation is easy to explain, it may be a good idea.\",\n",
    "    \"Namespaces are one honking great idea -- let's do more of those!\",\n",
    "    autor=\"Tim Peters\",\n",
    "    ano=1999,\n",
    ")"
   ]
  }
 ],
 "metadata": {
  "kernelspec": {
   "display_name": "Python 3",
   "language": "python",
   "name": "python3"
  },
  "language_info": {
   "codemirror_mode": {
    "name": "ipython",
    "version": 3
   },
   "file_extension": ".py",
   "mimetype": "text/x-python",
   "name": "python",
   "nbconvert_exporter": "python",
   "pygments_lexer": "ipython3",
   "version": "3.10.5"
  },
  "orig_nbformat": 4,
  "vscode": {
   "interpreter": {
    "hash": "ca4ae65869d2cb0a1ce9a252154e55d284ddfed7dca74e9ec9cf70dfaaed74d1"
   }
  }
 },
 "nbformat": 4,
 "nbformat_minor": 2
}
