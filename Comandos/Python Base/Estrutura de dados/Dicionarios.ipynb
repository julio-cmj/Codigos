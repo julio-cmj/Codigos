{
 "cells": [
  {
   "cell_type": "code",
   "execution_count": null,
   "metadata": {},
   "outputs": [],
   "source": [
    "# Declarando\n",
    "\n",
    "pessoa = {\"nome\": \"Guilherme\", \"idade\": 28}\n",
    "print(pessoa)\n",
    "\n",
    "pessoa = dict(nome=\"Guilherme\", idade=28)\n",
    "print(pessoa)\n",
    "\n",
    "pessoa[\"telefone\"] = \"3333-1234\"  \n",
    "print(pessoa)"
   ]
  },
  {
   "cell_type": "code",
   "execution_count": null,
   "metadata": {},
   "outputs": [],
   "source": [
    "# dicionarios aninhados\n",
    "\n",
    "contatos = {\n",
    "    \"guilherme@gmail.com\": {\"nome\": \"Guilherme\", \"telefone\": \"3333-2221\"},\n",
    "    \"giovanna@gmail.com\": {\"nome\": \"Giovanna\", \"telefone\": \"3443-2121\"},\n",
    "    \"chappie@gmail.com\": {\"nome\": \"Chappie\", \"telefone\": \"3344-9871\"},\n",
    "    \"melaine@gmail.com\": {\"nome\": \"Melaine\", \"telefone\": \"3333-7766\"},\n",
    "}\n",
    "\n",
    "telefone = contatos[\"giovanna@gmail.com\"][\"telefone\"]  \n",
    "print(telefone)"
   ]
  },
  {
   "cell_type": "code",
   "execution_count": null,
   "metadata": {},
   "outputs": [],
   "source": [
    "# Acessando\n",
    "\n",
    "dados = {\"nome\": \"Guilherme\", \"idade\": 28, \"telefone\": \"3333-1234\"}\n",
    "\n",
    "print(dados[\"nome\"])  \n",
    "print(dados[\"idade\"])  \n",
    "print(dados[\"telefone\"]) \n",
    "\n",
    "dados[\"nome\"] = \"Maria\"\n",
    "dados[\"idade\"] = 18\n",
    "dados[\"telefone\"] = \"9988-1781\"\n",
    "\n",
    "print(dados)  "
   ]
  },
  {
   "cell_type": "code",
   "execution_count": null,
   "metadata": {},
   "outputs": [],
   "source": [
    "#.get - retorna os valores a de uma determinada chave (ao contrario de obter o valor com [chave], se a chave nao existir retorna None)\n",
    "\n",
    "contatos = {\"guilherme@gmail.com\": {\"nome\": \"Guilherme\", \"telefone\": \"3333-2221\"}}\n",
    "\n",
    "# contatos[\"chave\"]  # KeyError\n",
    "\n",
    "resultado = contatos.get(\"chave\")  \n",
    "print(resultado)\n",
    "\n",
    "resultado = contatos.get(\"chave\", 'nada')  \n",
    "print(resultado)\n",
    "\n",
    "resultado = contatos.get(\n",
    "    \"guilherme@gmail.com\"\n",
    ")  \n",
    "print(resultado)"
   ]
  },
  {
   "cell_type": "code",
   "execution_count": null,
   "metadata": {},
   "outputs": [],
   "source": [
    "# iterando dicionarios\n",
    "\n",
    "contatos = {\n",
    "    \"guilherme@gmail.com\": {\"nome\": \"Guilherme\", \"telefone\": \"3333-2221\"},\n",
    "    \"giovanna@gmail.com\": {\"nome\": \"Giovanna\", \"telefone\": \"3443-2121\"},\n",
    "    \"chappie@gmail.com\": {\"nome\": \"Chappie\", \"telefone\": \"3344-9871\"},\n",
    "    \"melaine@gmail.com\": {\"nome\": \"Melaine\", \"telefone\": \"3333-7766\"},\n",
    "}\n",
    "\n",
    "for chave in contatos:\n",
    "    print(chave, contatos[chave])\n",
    "\n",
    "print(\"=\" * 100)\n",
    "\n",
    "for chave, valor in contatos.items():\n",
    "    print(chave, valor)"
   ]
  },
  {
   "cell_type": "code",
   "execution_count": 3,
   "metadata": {},
   "outputs": [
    {
     "name": "stdout",
     "output_type": "stream",
     "text": [
      "{}\n",
      "{}\n"
     ]
    }
   ],
   "source": [
    "#.clear - limpa o dicionario e outros objetos que o referenciam (ao contrario de dict = {})\n",
    "\n",
    "contatos = {\n",
    "    \"guilherme@gmail.com\": {\"nome\": \"Guilherme\", \"telefone\": \"3333-2221\"},\n",
    "    \"giovanna@gmail.com\": {\"nome\": \"Giovanna\", \"telefone\": \"3443-2121\"},\n",
    "    \"chappie@gmail.com\": {\"nome\": \"Chappie\", \"telefone\": \"3344-9871\"},\n",
    "    \"melaine@gmail.com\": {\"nome\": \"Melaine\", \"telefone\": \"3333-7766\"}}\n",
    "\n",
    "novo_contato = contatos\n",
    "\n",
    "contatos.clear()\n",
    "print(contatos)\n",
    "print(novo_contato)"
   ]
  },
  {
   "cell_type": "code",
   "execution_count": null,
   "metadata": {},
   "outputs": [],
   "source": [
    "#.copy - copia o dicionario\n",
    "\n",
    "contatos = {\"guilherme@gmail.com\": {\"nome\": \"Guilherme\", \"telefone\": \"3333-2221\"}}\n",
    "\n",
    "copia = contatos.copy()\n",
    "copia[\"guilherme@gmail.com\"] = {\"nome\": \"Gui\"}\n",
    "\n",
    "print(contatos[\"guilherme@gmail.com\"])  \n",
    "\n",
    "print(copia[\"guilherme@gmail.com\"])  "
   ]
  },
  {
   "cell_type": "code",
   "execution_count": 2,
   "metadata": {},
   "outputs": [
    {
     "name": "stdout",
     "output_type": "stream",
     "text": [
      "{'julio': [20, 14, 34], 'mariana': [20, 14, 34], 'jose': [20, 14, 34]}\n",
      "{'nome': None, 'telefone': None}\n",
      "{'nome': 'vazio', 'telefone': 'vazio'}\n"
     ]
    }
   ],
   "source": [
    "#.fromkeys(keys, value) - cria um dicionario com chaves e um valor determinado\n",
    "\n",
    "resultado = dict.fromkeys([\"nome\", \"telefone\"])  \n",
    "print(resultado)\n",
    "\n",
    "resultado = dict.fromkeys([\"nome\", \"telefone\"], \"vazio\")  \n",
    "print(resultado)"
   ]
  },
  {
   "cell_type": "code",
   "execution_count": null,
   "metadata": {},
   "outputs": [],
   "source": [
    "#.items - retorna os itens do dicionario (chaves e fechaduras separados)\n",
    "\n",
    "contatos = {\"guilherme@gmail.com\": {\"nome\": \"Guilherme\", \"telefone\": \"3333-2221\"}}\n",
    "\n",
    "resultado = contatos.items()  \n",
    "print(resultado)"
   ]
  },
  {
   "cell_type": "code",
   "execution_count": null,
   "metadata": {},
   "outputs": [],
   "source": [
    "#.keys - retorna as chaves do dicionario\n",
    "\n",
    "contatos = {\"guilherme@gmail.com\": {\"nome\": \"Guilherme\", \"telefone\": \"3333-2221\"}}\n",
    "\n",
    "resultado = contatos.keys()  \n",
    "print(resultado)"
   ]
  },
  {
   "cell_type": "code",
   "execution_count": null,
   "metadata": {},
   "outputs": [],
   "source": [
    "#.pop - remove um termo aleatorio e o retorna\n",
    "\n",
    "contatos = {\"guilherme@gmail.com\": {\"nome\": \"Guilherme\", \"telefone\": \"3333-2221\"}}\n",
    "\n",
    "resultado = contatos.pop(\"guilherme@gmail.com\") \n",
    "print(resultado)\n",
    "\n",
    "resultado = contatos.pop(\"guilherme@gmail.com\", {}) \n",
    "print(resultado)"
   ]
  },
  {
   "cell_type": "code",
   "execution_count": null,
   "metadata": {},
   "outputs": [],
   "source": [
    "#.popitem - remove o ultimo termo adicionado e o retorna\n",
    "\n",
    "contatos = {\"guilherme@gmail.com\": {\"nome\": \"Guilherme\", \"telefone\": \"3333-2221\"}}\n",
    "\n",
    "resultado = contatos.popitem() \n",
    "print(resultado)\n",
    "\n",
    "# contatos.popitem()  # KeyError"
   ]
  },
  {
   "cell_type": "code",
   "execution_count": null,
   "metadata": {},
   "outputs": [],
   "source": [
    "#.setdefault\n",
    "\n",
    "contato = {\"nome\": \"Guilherme\", \"telefone\": \"3333-2221\"}\n",
    "\n",
    "contato.setdefault(\"nome\", \"Giovanna\")  # \"Guilherme\"\n",
    "print(contato) \n",
    "\n",
    "contato.setdefault(\"idade\", 28)  # 28\n",
    "print(contato)  "
   ]
  },
  {
   "cell_type": "code",
   "execution_count": null,
   "metadata": {},
   "outputs": [],
   "source": [
    "#.update - altera o dicionario\n",
    "\n",
    "contatos = {\"guilherme@gmail.com\": {\"nome\": \"Guilherme\", \"telefone\": \"3333-2221\"}}\n",
    "\n",
    "contatos.update({\"guilherme@gmail.com\": {\"nome\": \"Gui\"}})\n",
    "print(contatos)  \n",
    "\n",
    "contatos.update({\"giovanna@gmail.com\": {\"nome\": \"Giovanna\", \"telefone\": \"3322-8181\"}})\n",
    "\n",
    "print(contatos)"
   ]
  },
  {
   "cell_type": "code",
   "execution_count": null,
   "metadata": {},
   "outputs": [],
   "source": [
    "#.values - retorna as chaves\n",
    "\n",
    "contatos = {\n",
    "    \"guilherme@gmail.com\": {\"nome\": \"Guilherme\", \"telefone\": \"3333-2221\"},\n",
    "    \"giovanna@gmail.com\": {\"nome\": \"Giovanna\", \"telefone\": \"3443-2121\"},\n",
    "    \"chappie@gmail.com\": {\"nome\": \"Chappie\", \"telefone\": \"3344-9871\"},\n",
    "    \"melaine@gmail.com\": {\"nome\": \"Melaine\", \"telefone\": \"3333-7766\"},\n",
    "}\n",
    "\n",
    "resultado = (\n",
    "    contatos.values()\n",
    ") \n",
    "print(resultado)"
   ]
  },
  {
   "cell_type": "code",
   "execution_count": null,
   "metadata": {},
   "outputs": [],
   "source": [
    "# in\n",
    "\n",
    "contatos = {\n",
    "    \"guilherme@gmail.com\": {\"nome\": \"Guilherme\", \"telefone\": \"3333-2221\"},\n",
    "    \"giovanna@gmail.com\": {\"nome\": \"Giovanna\", \"telefone\": \"3443-2121\"},\n",
    "    \"chappie@gmail.com\": {\"nome\": \"Chappie\", \"telefone\": \"3344-9871\"},\n",
    "    \"melaine@gmail.com\": {\"nome\": \"Melaine\", \"telefone\": \"3333-7766\"},\n",
    "}\n",
    "\n",
    "resultado = \"guilherme@gmail.com\" in contatos  \n",
    "print(resultado)\n",
    "\n",
    "resultado = \"megui@gmail.com\" in contatos  \n",
    "print(resultado)\n",
    "\n",
    "resultado = \"idade\" in contatos[\"guilherme@gmail.com\"]  \n",
    "print(resultado)\n",
    "\n",
    "resultado = \"telefone\" in contatos[\"giovanna@gmail.com\"]  \n",
    "print(resultado)"
   ]
  },
  {
   "cell_type": "code",
   "execution_count": null,
   "metadata": {},
   "outputs": [],
   "source": [
    "#.del - exclui termos do dicionario (chave ou chave e fechadura)\n",
    "\n",
    "contatos = {\n",
    "    \"guilherme@gmail.com\": {\"nome\": \"Guilherme\", \"telefone\": \"3333-2221\"},\n",
    "    \"giovanna@gmail.com\": {\"nome\": \"Giovanna\", \"telefone\": \"3443-2121\"},\n",
    "    \"chappie@gmail.com\": {\"nome\": \"Chappie\", \"telefone\": \"3344-9871\"},\n",
    "    \"melaine@gmail.com\": {\"nome\": \"Melaine\", \"telefone\": \"3333-7766\"},\n",
    "}\n",
    "\n",
    "del contatos[\"guilherme@gmail.com\"][\"telefone\"]\n",
    "del contatos[\"chappie@gmail.com\"]\n",
    "\n",
    "print(contatos)"
   ]
  }
 ],
 "metadata": {
  "kernelspec": {
   "display_name": "Python 3",
   "language": "python",
   "name": "python3"
  },
  "language_info": {
   "codemirror_mode": {
    "name": "ipython",
    "version": 3
   },
   "file_extension": ".py",
   "mimetype": "text/x-python",
   "name": "python",
   "nbconvert_exporter": "python",
   "pygments_lexer": "ipython3",
   "version": "3.10.4"
  },
  "orig_nbformat": 4,
  "vscode": {
   "interpreter": {
    "hash": "beb10830e324bdaa292a6e67dd38e4fb0e273fe7b5b2f0780e8faabebea9d606"
   }
  }
 },
 "nbformat": 4,
 "nbformat_minor": 2
}
