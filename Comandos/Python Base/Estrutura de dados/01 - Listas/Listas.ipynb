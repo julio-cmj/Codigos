{
 "cells": [
  {
   "cell_type": "code",
   "execution_count": null,
   "metadata": {},
   "outputs": [],
   "source": [
    "# Declarando\n",
    "\n",
    "frutas = [\"laranja\", \"maca\", \"uva\"]\n",
    "print(frutas)\n",
    "\n",
    "frutas = []\n",
    "print(frutas)\n",
    "\n",
    "letras = list(\"python\")\n",
    "print(letras)\n",
    "\n",
    "numeros = list(range(10))\n",
    "print(numeros)\n",
    "\n",
    "carro = [\"Ferrari\", \"F8\", 4200000, 2020, 2900, \"São Paulo\", True]\n",
    "print(carro)"
   ]
  },
  {
   "cell_type": "code",
   "execution_count": null,
   "metadata": {},
   "outputs": [],
   "source": [
    "# Lendo entradas\n",
    "\n",
    "frutas = [\"maçã\", \"laranja\", \"uva\", \"pera\"]\n",
    "\n",
    "print(frutas[0])  \n",
    "print(frutas[2])  \n",
    "print(frutas[-1])  \n",
    "print(frutas[-3])  \n",
    "\n",
    "\n"
   ]
  },
  {
   "cell_type": "code",
   "execution_count": null,
   "metadata": {},
   "outputs": [],
   "source": [
    "# fatiamento\n",
    "\n",
    "lista = [\"p\", \"y\", \"t\", \"h\", \"o\", \"n\"]\n",
    "\n",
    "print(lista[2:])  # [\"t\", \"h\", \"o\", \"n\"]\n",
    "print(lista[:2])  # [\"p\", \"y\"]\n",
    "print(lista[1:3])  # [\"y\", \"t\"]\n",
    "print(lista[0:3:2])  # [\"p\", \"t\"]\n",
    "print(lista[::])  # [\"p\", \"y\", \"t\", \"h\", \"o\", \"n\"]\n",
    "print(lista[::-1])  # [\"n\", \"o\", \"h\", \"t\", \"y\", \"p\"]"
   ]
  },
  {
   "cell_type": "code",
   "execution_count": null,
   "metadata": {},
   "outputs": [],
   "source": [
    "# Matriz\n",
    "\n",
    "matriz = [\n",
    "    [1, \"a\", 2],\n",
    "    [\"b\", 3, 4],\n",
    "    [6, 5, \"c\"]\n",
    "]\n",
    "\n",
    "print(matriz[0])  # [1, \"a\", 2]\n",
    "print(matriz[0][0])  # 1\n",
    "print(matriz[0][-1])  # 2\n",
    "print(matriz[-1][-1])  # \"c\""
   ]
  },
  {
   "cell_type": "code",
   "execution_count": null,
   "metadata": {},
   "outputs": [],
   "source": [
    "#.append adiciona termo\n",
    "\n",
    "lista = []\n",
    "\n",
    "lista.append(1)\n",
    "lista.append(\"Python\")\n",
    "lista.append([40, 30, 20])\n",
    "\n",
    "print(lista)  "
   ]
  },
  {
   "cell_type": "code",
   "execution_count": 1,
   "metadata": {},
   "outputs": [
    {
     "name": "stdout",
     "output_type": "stream",
     "text": [
      "1\n",
      "2\n",
      "1\n"
     ]
    }
   ],
   "source": [
    "#.count - retorna a primeira posição em que aparece\n",
    "\n",
    "cores = [\"vermelho\", \"azul\", \"verde\", \"azul\"]\n",
    "\n",
    "print(cores.count(\"vermelho\"))  \n",
    "print(cores.count(\"azul\"))  \n",
    "print(cores.count(\"verde\")) "
   ]
  },
  {
   "cell_type": "code",
   "execution_count": null,
   "metadata": {},
   "outputs": [],
   "source": [
    "#.clear - limpa a lista\n",
    "\n",
    "lista = [1, \"Python\", [40, 30, 20]]\n",
    "\n",
    "print(lista)  \n",
    "\n",
    "lista.clear()\n",
    "\n",
    "print(lista)  "
   ]
  },
  {
   "cell_type": "code",
   "execution_count": null,
   "metadata": {},
   "outputs": [],
   "source": [
    "#.copy - copia a lista\n",
    "\n",
    "lista = [1, \"Python\", [40, 30, 20]]\n",
    "\n",
    "lista.copy()\n",
    "\n",
    "print(lista)  # [1, \"Python\", [40, 30, 20]]"
   ]
  },
  {
   "cell_type": "code",
   "execution_count": null,
   "metadata": {},
   "outputs": [],
   "source": [
    "#.extend - adiciona lista a lista\n",
    "\n",
    "linguagens = [\"python\", \"js\", \"c\"]\n",
    "\n",
    "print(linguagens)  \n",
    "\n",
    "linguagens.extend([\"java\", \"csharp\"])\n",
    "\n",
    "print(linguagens)  "
   ]
  },
  {
   "cell_type": "code",
   "execution_count": null,
   "metadata": {},
   "outputs": [],
   "source": [
    "#.index - retorna o index\n",
    "\n",
    "linguagens = [\"python\", \"js\", \"c\", \"java\", \"csharp\"]\n",
    "\n",
    "print(linguagens.index(\"java\"))  \n",
    "print(linguagens.index(\"python\"))  "
   ]
  },
  {
   "cell_type": "code",
   "execution_count": null,
   "metadata": {},
   "outputs": [],
   "source": [
    "#.pop - exclui uma entrada, ultima por padrao\n",
    "\n",
    "linguagens = [\"python\", \"js\", \"c\", \"java\", \"csharp\"]\n",
    "\n",
    "print(linguagens.pop())  \n",
    "print(linguagens.pop())  \n",
    "print(linguagens.pop())  \n",
    "print(linguagens.pop(0))  "
   ]
  },
  {
   "cell_type": "code",
   "execution_count": null,
   "metadata": {},
   "outputs": [],
   "source": [
    "#.remove - remove uma entrada\n",
    "\n",
    "linguagens = [\"python\", \"js\", \"c\", \"java\", \"csharp\"]\n",
    "\n",
    "linguagens.remove(\"c\")\n",
    "\n",
    "  "
   ]
  },
  {
   "cell_type": "code",
   "execution_count": null,
   "metadata": {},
   "outputs": [],
   "source": [
    "#.reverse - inverte a lista\n",
    "\n",
    "linguagens = [\"python\", \"js\", \"c\", \"java\", \"csharp\"]\n",
    "\n",
    "linguagens.reverse()\n",
    "\n",
    "print(linguagens)  "
   ]
  },
  {
   "cell_type": "code",
   "execution_count": null,
   "metadata": {},
   "outputs": [],
   "source": [
    "#.sort - \n",
    "\n",
    "linguagens = [\"python\", \"js\", \"c\", \"java\", \"csharp\"]\n",
    "linguagens.sort()  # [\"c\", \"csharp\", \"java\", \"js\", \"python\"]\n",
    "print(linguagens)\n",
    "\n",
    "linguagens = [\"python\", \"js\", \"c\", \"java\", \"csharp\"]\n",
    "linguagens.sort(reverse=True)  # [\"python\", \"js\", \"java\", \"csharp\", \"c\"]\n",
    "print(linguagens)\n",
    "\n",
    "linguagens = [\"python\", \"js\", \"c\", \"java\", \"csharp\"]\n",
    "linguagens.sort(key=lambda x: len(x))  # [\"c\", \"js\", \"java\", \"python\", \"csharp\"]\n",
    "print(linguagens)\n",
    "\n",
    "linguagens = [\"python\", \"js\", \"c\", \"java\", \"csharp\"]\n",
    "linguagens.sort(key=lambda x: len(x), reverse=True)  # [\"python\", \"csharp\", \"java\", \"js\", \"c\"]\n",
    "print(linguagens)"
   ]
  },
  {
   "cell_type": "code",
   "execution_count": null,
   "metadata": {},
   "outputs": [],
   "source": [
    "#.len - conta o numero de termos\n",
    "\n",
    "linguagens = [\"python\", \"js\", \"c\", \"java\", \"csharp\"]\n",
    "\n",
    "print(len(linguagens))  "
   ]
  },
  {
   "cell_type": "code",
   "execution_count": null,
   "metadata": {},
   "outputs": [],
   "source": [
    "#sorted - igual a .sort\n",
    "\n",
    "linguagens = [\"python\", \"js\", \"c\", \"java\", \"csharp\"]\n",
    "\n",
    "print(sorted(linguagens, key=lambda x: len(x))) \n",
    "print(sorted(linguagens, key=lambda x: len(x), reverse=True)) "
   ]
  },
  {
   "cell_type": "code",
   "execution_count": null,
   "metadata": {},
   "outputs": [],
   "source": [
    "# iteração de listas\n",
    "\n",
    "carros = [\"gol\", \"celta\", \"palio\"]\n",
    "\n",
    "for carro in carros:\n",
    "    print(carro)\n",
    "\n",
    "\n",
    "for indice, carro in enumerate(carros):\n",
    "    print(f\"{indice}: {carro}\")"
   ]
  },
  {
   "cell_type": "code",
   "execution_count": null,
   "metadata": {},
   "outputs": [],
   "source": [
    "# compreensão em listas\n",
    "\n",
    "# Filtrar lista\n",
    "numeros = [1, 30, 21, 2, 9, 65, 34]\n",
    "pares = [numero for numero in numeros if numero % 2 == 0]\n",
    "print(pares)\n",
    "\n",
    "# Modificar valores\n",
    "numeros = [1, 30, 21, 2, 9, 65, 34]\n",
    "quadrado = [numero**2 for numero in numeros]\n",
    "print(quadrado)"
   ]
  }
 ],
 "metadata": {
  "kernelspec": {
   "display_name": "Python 3",
   "language": "python",
   "name": "python3"
  },
  "language_info": {
   "codemirror_mode": {
    "name": "ipython",
    "version": 3
   },
   "file_extension": ".py",
   "mimetype": "text/x-python",
   "name": "python",
   "nbconvert_exporter": "python",
   "pygments_lexer": "ipython3",
   "version": "3.10.5"
  },
  "orig_nbformat": 4,
  "vscode": {
   "interpreter": {
    "hash": "ca4ae65869d2cb0a1ce9a252154e55d284ddfed7dca74e9ec9cf70dfaaed74d1"
   }
  }
 },
 "nbformat": 4,
 "nbformat_minor": 2
}
