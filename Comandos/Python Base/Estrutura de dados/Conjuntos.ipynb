{
 "cells": [
  {
   "cell_type": "code",
   "execution_count": null,
   "metadata": {},
   "outputs": [],
   "source": [
    "# Conjuntos númericos (aceita termos não numericos)"
   ]
  },
  {
   "cell_type": "code",
   "execution_count": null,
   "metadata": {},
   "outputs": [],
   "source": [
    "# Declarando\n",
    "\n",
    "numeros = set([1, 2, 3, 1, 3, 4])\n",
    "print(numeros) \n",
    "\n",
    "letras = set(\"abacaxi\")\n",
    "print(letras)  \n",
    "\n",
    "carros = set((\"palio\", \"gol\", \"celta\", \"palio\"))\n",
    "print(carros) "
   ]
  },
  {
   "cell_type": "code",
   "execution_count": null,
   "metadata": {},
   "outputs": [],
   "source": [
    "# Acessando dados\n",
    "\n",
    "numeros = {1, 2, 3, 2}\n",
    "\n",
    "numeros = list(numeros)\n",
    "\n",
    "print(numeros[0])"
   ]
  },
  {
   "cell_type": "code",
   "execution_count": null,
   "metadata": {},
   "outputs": [],
   "source": [
    "# Iterando\n",
    "\n",
    "carros = {\"gol\", \"celta\", \"palio\"}\n",
    "\n",
    "for carro in carros:\n",
    "    print(carro)\n",
    "\n",
    "for indice, carro in enumerate(carros):\n",
    "    print(f\"{indice}: {carro}\")"
   ]
  },
  {
   "cell_type": "code",
   "execution_count": null,
   "metadata": {},
   "outputs": [],
   "source": [
    "#.union - une conjuntos\n",
    "\n",
    "conjunto_a = {1, 2}\n",
    "conjunto_b = {3, 4}\n",
    "\n",
    "resultado = conjunto_a.union(conjunto_b)\n",
    "print(resultado)"
   ]
  },
  {
   "cell_type": "code",
   "execution_count": null,
   "metadata": {},
   "outputs": [],
   "source": [
    "#.intersection - intersecção entre os conjuntos\n",
    "\n",
    "conjunto_a = {1, 2, 3}\n",
    "conjunto_b = {2, 3, 4}\n",
    "\n",
    "resultado = conjunto_a.intersection(conjunto_b)\n",
    "print(resultado)"
   ]
  },
  {
   "cell_type": "code",
   "execution_count": null,
   "metadata": {},
   "outputs": [],
   "source": [
    "#.difference - diferença entre os conjuntos\n",
    "\n",
    "conjunto_a = {1, 2, 3, 0}\n",
    "conjunto_b = {2, 3, 4, 5}\n",
    "\n",
    "resultado = conjunto_a.difference(conjunto_b)\n",
    "print(resultado)\n",
    "\n",
    "resultado = conjunto_b.difference(conjunto_a)\n",
    "print(resultado)"
   ]
  },
  {
   "cell_type": "code",
   "execution_count": null,
   "metadata": {},
   "outputs": [],
   "source": [
    "#.symmetric_difference - retorna um conjunto com a diferença\n",
    "\n",
    "conjunto_a = {1, 2, 3}\n",
    "conjunto_b = {2, 3, 4}\n",
    "\n",
    "resultado = conjunto_a.symmetric_difference(conjunto_b)\n",
    "print(resultado)"
   ]
  },
  {
   "cell_type": "code",
   "execution_count": null,
   "metadata": {},
   "outputs": [],
   "source": [
    "#.issubset - retorna se um conjunto se subconjunto de outro\n",
    "\n",
    "conjunto_a = {1, 2, 3}\n",
    "conjunto_b = {4, 1, 2, 5, 6, 3}\n",
    "\n",
    "resultado = conjunto_a.issubset(conjunto_b)  \n",
    "print(resultado)\n",
    "\n",
    "resultado = conjunto_b.issubset(conjunto_a)  \n",
    "print(resultado)"
   ]
  },
  {
   "cell_type": "code",
   "execution_count": null,
   "metadata": {},
   "outputs": [],
   "source": [
    "#.issuperset \n",
    "\n",
    "conjunto_a = {1, 2, 3}\n",
    "conjunto_b = {4, 1, 2, 5, 6, 3}\n",
    "\n",
    "resultado = conjunto_a.issuperset(conjunto_b) \n",
    "print(resultado)\n",
    "\n",
    "resultado = conjunto_b.issuperset(conjunto_a) \n",
    "print(resultado)"
   ]
  },
  {
   "cell_type": "code",
   "execution_count": null,
   "metadata": {},
   "outputs": [],
   "source": [
    "#.isdisjoint\n",
    "\n",
    "conjunto_a = {1, 2, 3, 4, 5}\n",
    "conjunto_b = {6, 7, 8, 9}\n",
    "conjunto_c = {1, 0}\n",
    "\n",
    "resultado = conjunto_a.isdisjoint(conjunto_b) \n",
    "print(resultado)\n",
    "\n",
    "resultado = conjunto_a.isdisjoint(conjunto_c)  \n",
    "print(resultado)"
   ]
  },
  {
   "cell_type": "code",
   "execution_count": null,
   "metadata": {},
   "outputs": [],
   "source": [
    "#.add - adiciona termos ao conjunto\n",
    "\n",
    "sorteio = {1, 23}\n",
    "\n",
    "sorteio.add(25)  \n",
    "print(sorteio)\n",
    "\n",
    "sorteio.add(42) \n",
    "print(sorteio)\n",
    "\n",
    "sorteio.add(25) \n",
    "print(sorteio)"
   ]
  },
  {
   "cell_type": "code",
   "execution_count": null,
   "metadata": {},
   "outputs": [],
   "source": [
    "#.clear - limpa o conjunto\n",
    "\n",
    "sorteio = {1, 23}\n",
    "\n",
    "print(sorteio)  \n",
    "\n",
    "sorteio.clear()\n",
    "\n",
    "print(sorteio)  "
   ]
  },
  {
   "cell_type": "code",
   "execution_count": null,
   "metadata": {},
   "outputs": [],
   "source": [
    "#.copy - copia o conjunto\n",
    "\n",
    "sorteio = {1, 23}\n",
    "\n",
    "print(sorteio) \n",
    "\n",
    "sorteio.copy()\n",
    "\n",
    "print(sorteio)  "
   ]
  },
  {
   "cell_type": "code",
   "execution_count": null,
   "metadata": {},
   "outputs": [],
   "source": [
    "#.discard - retira um termo especifico do conjunto (não retorna erro caso o numero nao esteja no conjunto)\n",
    "\n",
    "numeros = {1, 2, 3, 1, 2, 4, 5, 5, 6, 7, 8, 9, 0}\n",
    "\n",
    "print(numeros)\n",
    "\n",
    "numeros.discard(1)\n",
    "numeros.discard(45)\n",
    "\n",
    "print(numeros) "
   ]
  },
  {
   "cell_type": "code",
   "execution_count": null,
   "metadata": {},
   "outputs": [],
   "source": [
    "#.pop - retira o primeiro termo do conjunto\n",
    "\n",
    "numeros = {1, 2, 3, 1, 2, 4, 5, 5, 6, 7, 8, 9, 0}\n",
    "\n",
    "print(numeros)  \n",
    "print(numeros.pop())  \n",
    "print(numeros.pop())  \n",
    "print(numeros)  "
   ]
  },
  {
   "cell_type": "code",
   "execution_count": null,
   "metadata": {},
   "outputs": [],
   "source": [
    "#.remove - remove um termo da lista\n",
    "\n",
    "numeros = {1, 2, 3, 1, 2, 4, 5, 5, 6, 7, 8, 9, 0}\n",
    "\n",
    "print(numeros)  \n",
    "print(numeros.remove(0))  \n",
    "print(numeros)  "
   ]
  },
  {
   "cell_type": "code",
   "execution_count": null,
   "metadata": {},
   "outputs": [],
   "source": [
    "#.len\n",
    "\n",
    "numeros = {1, 2, 3, 1, 2, 4, 5, 5, 6, 7, 8, 9, 0}\n",
    "\n",
    "print(len(numeros))  "
   ]
  },
  {
   "cell_type": "code",
   "execution_count": null,
   "metadata": {},
   "outputs": [],
   "source": [
    "#in\n",
    "\n",
    "numeros = {1, 2, 3, 1, 2, 4, 5, 5, 6, 7, 8, 9, 0}\n",
    "\n",
    "print(1 in numeros)  \n",
    "print(10 in numeros) "
   ]
  }
 ],
 "metadata": {
  "kernelspec": {
   "display_name": "Python 3",
   "language": "python",
   "name": "python3"
  },
  "language_info": {
   "codemirror_mode": {
    "name": "ipython",
    "version": 3
   },
   "file_extension": ".py",
   "mimetype": "text/x-python",
   "name": "python",
   "nbconvert_exporter": "python",
   "pygments_lexer": "ipython3",
   "version": "3.10.5"
  },
  "orig_nbformat": 4,
  "vscode": {
   "interpreter": {
    "hash": "ca4ae65869d2cb0a1ce9a252154e55d284ddfed7dca74e9ec9cf70dfaaed74d1"
   }
  }
 },
 "nbformat": 4,
 "nbformat_minor": 2
}
