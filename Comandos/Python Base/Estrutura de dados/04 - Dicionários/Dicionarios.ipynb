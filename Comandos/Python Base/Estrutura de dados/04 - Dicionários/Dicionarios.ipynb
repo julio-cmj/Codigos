{
 "cells": [
  {
   "cell_type": "code",
   "execution_count": 1,
   "metadata": {},
   "outputs": [
    {
     "name": "stdout",
     "output_type": "stream",
     "text": [
      "{'nome': 'Guilherme', 'idade': 28}\n",
      "{'nome': 'Guilherme', 'idade': 28}\n",
      "{'nome': 'Guilherme', 'idade': 28, 'telefone': '3333-1234'}\n"
     ]
    }
   ],
   "source": [
    "# Declarando\n",
    "\n",
    "pessoa = {\"nome\": \"Guilherme\", \"idade\": 28}\n",
    "print(pessoa)\n",
    "\n",
    "pessoa = dict(nome=\"Guilherme\", idade=28)\n",
    "print(pessoa)\n",
    "\n",
    "pessoa[\"telefone\"] = \"3333-1234\"  \n",
    "print(pessoa)"
   ]
  },
  {
   "cell_type": "code",
   "execution_count": 2,
   "metadata": {},
   "outputs": [
    {
     "name": "stdout",
     "output_type": "stream",
     "text": [
      "Guilherme\n",
      "28\n",
      "3333-1234\n",
      "{'nome': 'Maria', 'idade': 18, 'telefone': '9988-1781'}\n"
     ]
    }
   ],
   "source": [
    "# Acessando\n",
    "\n",
    "dados = {\"nome\": \"Guilherme\", \"idade\": 28, \"telefone\": \"3333-1234\"}\n",
    "\n",
    "print(dados[\"nome\"])  \n",
    "print(dados[\"idade\"])  \n",
    "print(dados[\"telefone\"]) \n",
    "\n",
    "dados[\"nome\"] = \"Maria\"\n",
    "dados[\"idade\"] = 18\n",
    "dados[\"telefone\"] = \"9988-1781\"\n",
    "\n",
    "print(dados)  "
   ]
  },
  {
   "cell_type": "code",
   "execution_count": null,
   "metadata": {},
   "outputs": [],
   "source": [
    "# dicionarios aninhados\n",
    "\n",
    "contatos = {\n",
    "    \"guilherme@gmail.com\": {\"nome\": \"Guilherme\", \"telefone\": \"3333-2221\"},\n",
    "    \"giovanna@gmail.com\": {\"nome\": \"Giovanna\", \"telefone\": \"3443-2121\"},\n",
    "    \"chappie@gmail.com\": {\"nome\": \"Chappie\", \"telefone\": \"3344-9871\"},\n",
    "    \"melaine@gmail.com\": {\"nome\": \"Melaine\", \"telefone\": \"3333-7766\"},\n",
    "}\n",
    "\n",
    "telefone = contatos[\"giovanna@gmail.com\"][\"telefone\"]  \n",
    "print(telefone)"
   ]
  },
  {
   "cell_type": "code",
   "execution_count": 3,
   "metadata": {},
   "outputs": [
    {
     "name": "stdout",
     "output_type": "stream",
     "text": [
      "guilherme@gmail.com {'nome': 'Guilherme', 'telefone': '3333-2221'}\n",
      "giovanna@gmail.com {'nome': 'Giovanna', 'telefone': '3443-2121'}\n",
      "chappie@gmail.com {'nome': 'Chappie', 'telefone': '3344-9871'}\n",
      "melaine@gmail.com {'nome': 'Melaine', 'telefone': '3333-7766'}\n",
      "====================================================================================================\n",
      "guilherme@gmail.com {'nome': 'Guilherme', 'telefone': '3333-2221'}\n",
      "giovanna@gmail.com {'nome': 'Giovanna', 'telefone': '3443-2121'}\n",
      "chappie@gmail.com {'nome': 'Chappie', 'telefone': '3344-9871'}\n",
      "melaine@gmail.com {'nome': 'Melaine', 'telefone': '3333-7766'}\n"
     ]
    }
   ],
   "source": [
    "# iterando dicionarios\n",
    "\n",
    "contatos = {\n",
    "    \"guilherme@gmail.com\": {\"nome\": \"Guilherme\", \"telefone\": \"3333-2221\"},\n",
    "    \"giovanna@gmail.com\": {\"nome\": \"Giovanna\", \"telefone\": \"3443-2121\"},\n",
    "    \"chappie@gmail.com\": {\"nome\": \"Chappie\", \"telefone\": \"3344-9871\"},\n",
    "    \"melaine@gmail.com\": {\"nome\": \"Melaine\", \"telefone\": \"3333-7766\"},\n",
    "}\n",
    "\n",
    "for chave in contatos:\n",
    "    print(chave, contatos[chave])\n",
    "\n",
    "print(\"=\" * 100)\n",
    "\n",
    "for chave, valor in contatos.items():\n",
    "    print(chave, valor)"
   ]
  },
  {
   "cell_type": "code",
   "execution_count": null,
   "metadata": {},
   "outputs": [],
   "source": [
    "#.clear - limpa o dicionario\n",
    "\n",
    "contatos = {\n",
    "    \"guilherme@gmail.com\": {\"nome\": \"Guilherme\", \"telefone\": \"3333-2221\"},\n",
    "    \"giovanna@gmail.com\": {\"nome\": \"Giovanna\", \"telefone\": \"3443-2121\"},\n",
    "    \"chappie@gmail.com\": {\"nome\": \"Chappie\", \"telefone\": \"3344-9871\"},\n",
    "    \"melaine@gmail.com\": {\"nome\": \"Melaine\", \"telefone\": \"3333-7766\"},\n",
    "}\n",
    "\n",
    "contatos.clear()\n",
    "print(contatos)  # {}"
   ]
  },
  {
   "cell_type": "code",
   "execution_count": null,
   "metadata": {},
   "outputs": [],
   "source": [
    "#.copy - copia o dicionario\n",
    "\n",
    "contatos = {\"guilherme@gmail.com\": {\"nome\": \"Guilherme\", \"telefone\": \"3333-2221\"}}\n",
    "\n",
    "copia = contatos.copy()\n",
    "copia[\"guilherme@gmail.com\"] = {\"nome\": \"Gui\"}\n",
    "\n",
    "print(contatos[\"guilherme@gmail.com\"])  \n",
    "\n",
    "print(copia[\"guilherme@gmail.com\"])  "
   ]
  },
  {
   "cell_type": "code",
   "execution_count": 4,
   "metadata": {},
   "outputs": [
    {
     "name": "stdout",
     "output_type": "stream",
     "text": [
      "{'nome': None, 'telefone': None}\n",
      "{'nome': 'vazio', 'telefone': 'vazio'}\n"
     ]
    }
   ],
   "source": [
    "#.fromkeys - \n",
    "\n",
    "resultado = dict.fromkeys([\"nome\", \"telefone\"])  \n",
    "print(resultado)\n",
    "\n",
    "resultado = dict.fromkeys([\"nome\", \"telefone\"], \"vazio\")  \n",
    "print(resultado)"
   ]
  },
  {
   "cell_type": "code",
   "execution_count": 13,
   "metadata": {},
   "outputs": [
    {
     "name": "stdout",
     "output_type": "stream",
     "text": [
      "None\n",
      "nada\n",
      "{'nome': 'Guilherme', 'telefone': '3333-2221'}\n"
     ]
    }
   ],
   "source": [
    "#.get - retorna os valores a de uma determinada chave\n",
    "\n",
    "contatos = {\"guilherme@gmail.com\": {\"nome\": \"Guilherme\", \"telefone\": \"3333-2221\"}}\n",
    "\n",
    "# contatos[\"chave\"]  # KeyError\n",
    "\n",
    "resultado = contatos.get(\"chave\")  \n",
    "print(resultado)\n",
    "\n",
    "resultado = contatos.get(\"chave\", 'nada')  \n",
    "print(resultado)\n",
    "\n",
    "resultado = contatos.get(\n",
    "    \"guilherme@gmail.com\"\n",
    ")  \n",
    "print(resultado)"
   ]
  },
  {
   "cell_type": "code",
   "execution_count": 14,
   "metadata": {},
   "outputs": [
    {
     "name": "stdout",
     "output_type": "stream",
     "text": [
      "dict_items([('guilherme@gmail.com', {'nome': 'Guilherme', 'telefone': '3333-2221'})])\n"
     ]
    }
   ],
   "source": [
    "#.items - retorna os itens do dicionario (chaves e fechaduras separados)\n",
    "\n",
    "contatos = {\"guilherme@gmail.com\": {\"nome\": \"Guilherme\", \"telefone\": \"3333-2221\"}}\n",
    "\n",
    "resultado = contatos.items()  \n",
    "print(resultado)"
   ]
  },
  {
   "cell_type": "code",
   "execution_count": null,
   "metadata": {},
   "outputs": [],
   "source": [
    "#.keys - retorna as chaves do dicionario\n",
    "\n",
    "contatos = {\"guilherme@gmail.com\": {\"nome\": \"Guilherme\", \"telefone\": \"3333-2221\"}}\n",
    "\n",
    "resultado = contatos.keys()  \n",
    "print(resultado)"
   ]
  },
  {
   "cell_type": "code",
   "execution_count": 16,
   "metadata": {},
   "outputs": [
    {
     "name": "stdout",
     "output_type": "stream",
     "text": [
      "{'nome': 'Guilherme', 'telefone': '3333-2221'}\n",
      "{'nome': 'Guilherme', 'telefone': '3333-2221'}\n"
     ]
    }
   ],
   "source": [
    "#.pop - remove termos\n",
    "\n",
    "contatos = {\"guilherme@gmail.com\": {\"nome\": \"Guilherme\", \"telefone\": \"3333-2221\"}}\n",
    "\n",
    "resultado = contatos.pop(\"guilherme@gmail.com\") \n",
    "print(resultado)\n",
    "\n",
    "resultado = contatos.pop(\"guilherme@gmail.com\", {}) \n",
    "print(resultado)"
   ]
  },
  {
   "cell_type": "code",
   "execution_count": null,
   "metadata": {},
   "outputs": [],
   "source": []
  },
  {
   "cell_type": "code",
   "execution_count": null,
   "metadata": {},
   "outputs": [],
   "source": []
  },
  {
   "cell_type": "code",
   "execution_count": null,
   "metadata": {},
   "outputs": [],
   "source": []
  },
  {
   "cell_type": "code",
   "execution_count": null,
   "metadata": {},
   "outputs": [],
   "source": []
  },
  {
   "cell_type": "code",
   "execution_count": null,
   "metadata": {},
   "outputs": [],
   "source": []
  }
 ],
 "metadata": {
  "kernelspec": {
   "display_name": "Python 3",
   "language": "python",
   "name": "python3"
  },
  "language_info": {
   "codemirror_mode": {
    "name": "ipython",
    "version": 3
   },
   "file_extension": ".py",
   "mimetype": "text/x-python",
   "name": "python",
   "nbconvert_exporter": "python",
   "pygments_lexer": "ipython3",
   "version": "3.10.5"
  },
  "orig_nbformat": 4,
  "vscode": {
   "interpreter": {
    "hash": "ca4ae65869d2cb0a1ce9a252154e55d284ddfed7dca74e9ec9cf70dfaaed74d1"
   }
  }
 },
 "nbformat": 4,
 "nbformat_minor": 2
}
