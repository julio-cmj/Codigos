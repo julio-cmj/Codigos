{
 "cells": [
  {
   "cell_type": "code",
   "execution_count": 2,
   "metadata": {},
   "outputs": [],
   "source": [
    "from collections import *"
   ]
  },
  {
   "cell_type": "code",
   "execution_count": 3,
   "metadata": {},
   "outputs": [
    {
     "name": "stdout",
     "output_type": "stream",
     "text": [
      "deque(['1L', 1])\n"
     ]
    },
    {
     "data": {
      "text/plain": [
       "'1L'"
      ]
     },
     "execution_count": 3,
     "metadata": {},
     "output_type": "execute_result"
    }
   ],
   "source": [
    "# deque() - cria um stack\n",
    "\n",
    "stack = deque()\n",
    "stack.append(1)\n",
    "stack.appendleft('1L')\n",
    "print(stack)\n",
    "stack.pop()\n",
    "stack.popleft()"
   ]
  },
  {
   "cell_type": "code",
   "execution_count": 20,
   "metadata": {},
   "outputs": [
    {
     "ename": "TypeError",
     "evalue": "unsupported operand type(s) for *: 'NoneType' and 'int'",
     "output_type": "error",
     "traceback": [
      "\u001b[1;31m---------------------------------------------------------------------------\u001b[0m",
      "\u001b[1;31mTypeError\u001b[0m                                 Traceback (most recent call last)",
      "\u001b[1;32mc:\\Users\\julio\\Documents\\Codigos\\Comandos\\Python Base\\05 - Modulos\\collections.ipynb Cell 3\u001b[0m in \u001b[0;36m2\n\u001b[0;32m      <a href='vscode-notebook-cell:/c%3A/Users/julio/Documents/Codigos/Comandos/Python%20Base/05%20-%20Modulos/collections.ipynb#W2sZmlsZQ%3D%3D?line=0'>1</a>\u001b[0m stack \u001b[39m=\u001b[39m deque()\n\u001b[1;32m----> <a href='vscode-notebook-cell:/c%3A/Users/julio/Documents/Codigos/Comandos/Python%20Base/05%20-%20Modulos/collections.ipynb#W2sZmlsZQ%3D%3D?line=1'>2</a>\u001b[0m stack\u001b[39m.\u001b[39;49mappend(\u001b[39m1\u001b[39;49m) \u001b[39m*\u001b[39;49m \u001b[39m2\u001b[39;49m\n\u001b[0;32m      <a href='vscode-notebook-cell:/c%3A/Users/julio/Documents/Codigos/Comandos/Python%20Base/05%20-%20Modulos/collections.ipynb#W2sZmlsZQ%3D%3D?line=2'>3</a>\u001b[0m stack\n",
      "\u001b[1;31mTypeError\u001b[0m: unsupported operand type(s) for *: 'NoneType' and 'int'"
     ]
    }
   ],
   "source": [
    "stack = deque()\n",
    "stack.append(1) \n",
    "stack"
   ]
  }
 ],
 "metadata": {
  "kernelspec": {
   "display_name": "Python 3",
   "language": "python",
   "name": "python3"
  },
  "language_info": {
   "codemirror_mode": {
    "name": "ipython",
    "version": 3
   },
   "file_extension": ".py",
   "mimetype": "text/x-python",
   "name": "python",
   "nbconvert_exporter": "python",
   "pygments_lexer": "ipython3",
   "version": "3.10.5"
  },
  "orig_nbformat": 4
 },
 "nbformat": 4,
 "nbformat_minor": 2
}
