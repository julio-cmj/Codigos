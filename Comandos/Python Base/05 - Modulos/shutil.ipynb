{
 "cells": [
  {
   "cell_type": "code",
   "execution_count": null,
   "metadata": {},
   "outputs": [],
   "source": [
    "import shutil"
   ]
  },
  {
   "cell_type": "code",
   "execution_count": null,
   "metadata": {},
   "outputs": [],
   "source": [
    "# shutil.copyfile(file_name, copy_file_name) - copia um arquivo\n",
    "\n",
    "file_name = 'texto.txt'\n",
    "copy_file_name = 'texto_copia.txt'\n",
    "shutil.copyfile(file_name, copy_file_name)"
   ]
  },
  {
   "cell_type": "code",
   "execution_count": null,
   "metadata": {},
   "outputs": [],
   "source": [
    "# shutil.copy(file_path, folder_path) - copia um arquivo para um diretório\n",
    "# shutil.copy2(file_path, folder_path) - copia um arquivo e seus metadados\n",
    "\n",
    "file_path = 'C:\\Users\\julio\\Documents\\documento.pdf'\n",
    "folder_path = 'C:\\Users\\julio\\Downloads'\n",
    "shutil.copy(file_path, folder_path)"
   ]
  },
  {
   "cell_type": "code",
   "execution_count": null,
   "metadata": {},
   "outputs": [],
   "source": [
    "# shutil.copytree(source_folder , destination_folder) - copia o conteudo de um diretoio para outro\n",
    "# o diretorio de destino não pode existir\n",
    "\n",
    "source_folder = r'C:\\Users\\julio\\Downloads\\novos_codigos'  #\\n\n",
    "destination_folder = 'C:\\Users\\julio\\Documents'\n",
    "shutil.copytree(source_folder , destination_folder)"
   ]
  },
  {
   "cell_type": "code",
   "execution_count": null,
   "metadata": {},
   "outputs": [],
   "source": [
    "# shutil.rmtree(folder_path) - exclui o diretorio\n",
    "\n",
    "shutil.rmtree(r'C:\\Users\\julio\\Downloads\\novos_codigos') #\\n"
   ]
  },
  {
   "cell_type": "code",
   "execution_count": null,
   "metadata": {},
   "outputs": [],
   "source": [
    "# shutil.move(src_path, dest_path) - move um arquivo ou diretorio para outro diretorio\n",
    "# pode alterar o nome do arquivo que foi movido\n",
    "\n",
    "source_path = 'C:\\Users\\julio\\Documents\\documento.txt'\n",
    "destination_path = r'C:\\Users\\julio\\Downloads\\texto.txt' #\\t, nome do arquivo foi alterado, mas não copiado\n",
    "shutil.move(source_path , destination_path)"
   ]
  },
  {
   "cell_type": "code",
   "execution_count": null,
   "metadata": {},
   "outputs": [],
   "source": [
    "# shutil.which(.exe) - encontra o caminho de um executal\n",
    "\n",
    "shutil.which('python')"
   ]
  },
  {
   "cell_type": "code",
   "execution_count": null,
   "metadata": {},
   "outputs": [],
   "source": [
    "# shutil.get_archive_formats() - lista os tipos de arquivos que podem ser criados\n",
    "\n",
    "shutil.get_archive_formats()"
   ]
  },
  {
   "cell_type": "code",
   "execution_count": null,
   "metadata": {},
   "outputs": [],
   "source": [
    "# shutil.register_archive_format() - registra um novo tipo de arquivo que pode ser criado\n",
    "\n",
    "shutil.register_archive_format()"
   ]
  },
  {
   "cell_type": "code",
   "execution_count": null,
   "metadata": {},
   "outputs": [],
   "source": [
    "# shutil.make_archive(new_file_name, format, source_path) - cria um novo arquivo\n",
    "\n",
    "soruce_path = \"C:\\Users\\julio\\Documents\"\n",
    "arc_name = shutil.make_archive(\"arquivo_zip\", \"zip\", source_path) "
   ]
  }
 ],
 "metadata": {
  "kernelspec": {
   "display_name": "Python 3",
   "language": "python",
   "name": "python3"
  },
  "language_info": {
   "codemirror_mode": {
    "name": "ipython",
    "version": 3
   },
   "file_extension": ".py",
   "mimetype": "text/x-python",
   "name": "python",
   "nbconvert_exporter": "python",
   "pygments_lexer": "ipython3",
   "version": "3.10.5"
  },
  "orig_nbformat": 4
 },
 "nbformat": 4,
 "nbformat_minor": 2
}
