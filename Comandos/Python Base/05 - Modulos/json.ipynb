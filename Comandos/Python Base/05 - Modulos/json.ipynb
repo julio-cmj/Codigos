{
 "cells": [
  {
   "cell_type": "code",
   "execution_count": null,
   "metadata": {},
   "outputs": [],
   "source": [
    "import json"
   ]
  },
  {
   "cell_type": "code",
   "execution_count": null,
   "metadata": {},
   "outputs": [],
   "source": [
    "# converter json para python\n",
    " \n",
    "json.loads('{\"julio\": \"foda\"}')  # converte uma string  \n",
    "\n",
    "#json_file = json.load('file') # converte um arquivo "
   ]
  },
  {
   "cell_type": "code",
   "execution_count": null,
   "metadata": {},
   "outputs": [],
   "source": [
    "# converter python para json\n",
    "\n",
    "dicionario = {'julio': 'foda'}\n",
    "json_string = json.dumps(dicionario, indent= 4) # transforma uma string em uma formatação para json\n",
    "print(json_string)"
   ]
  },
  {
   "cell_type": "code",
   "execution_count": null,
   "metadata": {},
   "outputs": [],
   "source": [
    "# json.dump(texto em python, arquivo)\n",
    "\n",
    "dicionario = {'julio': 'foda'}\n",
    "white open('textao.json', 'w') as json_file:\n",
    "    json.dump(dicionario, json_file)"
   ]
  }
 ],
 "metadata": {
  "kernelspec": {
   "display_name": "Python 3",
   "language": "python",
   "name": "python3"
  },
  "language_info": {
   "name": "python",
   "version": "3.10.5"
  },
  "orig_nbformat": 4,
  "vscode": {
   "interpreter": {
    "hash": "ca4ae65869d2cb0a1ce9a252154e55d284ddfed7dca74e9ec9cf70dfaaed74d1"
   }
  }
 },
 "nbformat": 4,
 "nbformat_minor": 2
}
