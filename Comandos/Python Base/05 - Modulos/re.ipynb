{
 "cells": [
  {
   "cell_type": "code",
   "execution_count": null,
   "metadata": {},
   "outputs": [],
   "source": [
    "# Regular Expression, uma sequencia de caracteres definindo um padrão de pesquisa, usado para procurar, editar e substituir textos e substrings\n",
    "\n",
    "import re"
   ]
  },
  {
   "cell_type": "code",
   "execution_count": null,
   "metadata": {},
   "outputs": [],
   "source": [
    "# re.match(regexp, string) - procura a regexp na string, retorna um objeto tipo match, None caso contrario\n",
    "\n",
    "string = 'tartaruga usa armadura'\n",
    "regexp = 'tartaruga'\n",
    "print(re.match(regexp, string))\n",
    "print(re.match('macarrão', string))"
   ]
  },
  {
   "cell_type": "code",
   "execution_count": null,
   "metadata": {},
   "outputs": [],
   "source": [
    "# re.match e .  ('\\n' não é considerado)\n",
    "\n",
    "regexp = 'numero .'\n",
    "print(re.match(regexp, 'numero 1'))\n",
    "\n",
    "regexp = 'nu.ero.2'\n",
    "print(re.match(regexp, 'numero 2'))"
   ]
  },
  {
   "cell_type": "code",
   "execution_count": null,
   "metadata": {},
   "outputs": [],
   "source": [
    "# re.match e ?\n",
    "\n",
    "regexp = 'letra a?'\n",
    "print(re.match(regexp, 'letra a'))\n",
    "print(re.match(regexp, 'letra b'))"
   ]
  }
 ],
 "metadata": {
  "kernelspec": {
   "display_name": "Python 3",
   "language": "python",
   "name": "python3"
  },
  "language_info": {
   "codemirror_mode": {
    "name": "ipython",
    "version": 3
   },
   "file_extension": ".py",
   "mimetype": "text/x-python",
   "name": "python",
   "nbconvert_exporter": "python",
   "pygments_lexer": "ipython3",
   "version": "3.10.5"
  },
  "orig_nbformat": 4
 },
 "nbformat": 4,
 "nbformat_minor": 2
}
