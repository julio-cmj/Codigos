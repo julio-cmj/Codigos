{
 "cells": [
  {
   "cell_type": "code",
   "execution_count": null,
   "metadata": {},
   "outputs": [],
   "source": [
    "# Usado para receber imputs em sistema operacionais\n",
    "\n",
    "import argparse"
   ]
  },
  {
   "cell_type": "code",
   "execution_count": null,
   "metadata": {},
   "outputs": [],
   "source": [
    "import argparse\n",
    "\n",
    "argparse.parse_args()\n",
    "\n",
    "parser = argparse.ArgumentParser(description=\"This program prints recipes \\\n",
    "consisting of the ingredients you provide.\")\n",
    "\n",
    "parser.add_argument(\"-i1\", \"--ingredient_1\", choices=[\"pasta\", \"rice\", \"potato\",\n",
    "                    \"onion\", \"garlic\", \"carrot\", \"soy_sauce\", \"tomato_sauce\"],\n",
    "                    help=\"You need to choose only one ingredient from the list.\")\n",
    "parser.add_argument(\"-i2\", \"--ingredient_2\", choices=[\"pasta\", \"rice\", \"potato\",\n",
    "                    \"onion\", \"garlic\", \"carrot\", \"soy_sauce\", \"tomato_sauce\"],\n",
    "                    help=\"You need to choose only one ingredient from the list.\")\n",
    "parser.add_argument(\"-i3\", \"--ingredient_3\", choices=[\"pasta\", \"rice\", \"potato\",\n",
    "                    \"onion\", \"garlic\", \"carrot\", \"soy_sauce\", \"tomato_sauce\"],\n",
    "                    help=\"You need to choose only one ingredient from the list.\")\n",
    "parser.add_argument(\"-i4\", \"--ingredient_4\", choices=[\"pasta\", \"rice\", \"potato\",\n",
    "                    \"onion\", \"garlic\", \"carrot\", \"soy_sauce\", \"tomato_sauce\"],\n",
    "                    help=\"You need to choose only one ingredient from the list.\")\n",
    "parser.add_argument(\"-i5\", \"--ingredient_5\", choices=[\"pasta\", \"rice\", \"potato\",\n",
    "                    \"onion\", \"garlic\", \"carrot\", \"soy_sauce\", \"tomato_sauce\"],\n",
    "                    help=\"You need to choose only one ingredient from the list.\", )\n",
    "\n",
    "parser.add_argument(\"--salt\", action=\"store_true\",\n",
    "                    help=\"Specify if you'd like to use salt in your recipe.\")\n",
    "parser.add_argument(\"--pepper\", default=\"False\",\n",
    "                    help=\"Change to 'True' if you'd like to use pepper in your recipe.\")\n",
    "\n",
    "args = parser.parse_args()\n",
    "\n",
    "ingredients = [args.ingredient_1, args.ingredient_2, args.ingredient_3,\n",
    "               args.ingredient_4, args.ingredient_5]\n",
    "if args.salt:\n",
    "    ingredients.append(\"salt\")\n",
    "if args.pepper == \"True\":\n",
    "    ingredients.append(\"pepper\")\n",
    "\n",
    "print(f\"The ingredients you provided are: {ingredients}\")"
   ]
  }
 ],
 "metadata": {
  "kernelspec": {
   "display_name": "Python 3",
   "language": "python",
   "name": "python3"
  },
  "language_info": {
   "name": "python",
   "version": "3.10.5"
  },
  "orig_nbformat": 4,
  "vscode": {
   "interpreter": {
    "hash": "ca4ae65869d2cb0a1ce9a252154e55d284ddfed7dca74e9ec9cf70dfaaed74d1"
   }
  }
 },
 "nbformat": 4,
 "nbformat_minor": 2
}
