{
 "cells": [
  {
   "cell_type": "code",
   "execution_count": 1,
   "metadata": {},
   "outputs": [
    {
     "name": "stdout",
     "output_type": "stream",
     "text": [
      "juliocesar\n",
      "julio cesar\n",
      "julio sobrenome: cesar\n"
     ]
    }
   ],
   "source": [
    "# sep = 'x' - 'x' simbolo qualquer em formato string\n",
    "\n",
    "print('julio','cesar', sep = '')\n",
    "print('julio','cesar', sep = ' ')\n",
    "print('julio','cesar', sep = ' sobrenome: ')"
   ]
  },
  {
   "cell_type": "code",
   "execution_count": 7,
   "metadata": {},
   "outputs": [
    {
     "name": "stdout",
     "output_type": "stream",
     "text": [
      "hellojulio ce sar."
     ]
    }
   ],
   "source": [
    "# end = 'x' - une os prints \n",
    "\n",
    "print('hello', end = \"\")\n",
    "print('julio', end = ' ')\n",
    "print('ce','sar', end = '.')\n"
   ]
  },
  {
   "cell_type": "code",
   "execution_count": 10,
   "metadata": {},
   "outputs": [
    {
     "name": "stdout",
     "output_type": "stream",
     "text": [
      "Humphrey the Bear Spike the Bee Fat Cat\n",
      "Humphrey the Bear Spike the Bee Fat Cat\n"
     ]
    }
   ],
   "source": [
    "# print em listas\n",
    "\n",
    "x = ['Humphrey the Bear', 'Spike the Bee', 'Fat Cat']\n",
    "print(*x)\n",
    "print(*x, end='\\n')"
   ]
  }
 ],
 "metadata": {
  "kernelspec": {
   "display_name": "Python 3",
   "language": "python",
   "name": "python3"
  },
  "language_info": {
   "codemirror_mode": {
    "name": "ipython",
    "version": 3
   },
   "file_extension": ".py",
   "mimetype": "text/x-python",
   "name": "python",
   "nbconvert_exporter": "python",
   "pygments_lexer": "ipython3",
   "version": "3.10.4"
  },
  "orig_nbformat": 4,
  "vscode": {
   "interpreter": {
    "hash": "beb10830e324bdaa292a6e67dd38e4fb0e273fe7b5b2f0780e8faabebea9d606"
   }
  }
 },
 "nbformat": 4,
 "nbformat_minor": 2
}
