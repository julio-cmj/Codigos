{
 "cells": [
  {
   "cell_type": "code",
   "execution_count": null,
   "metadata": {},
   "outputs": [],
   "source": [
    "# cotinue -> a função retorna ao inicio\n",
    "# break -> para a função\n",
    "# pass -> não faz nada, usado em funções sem nada para que ela n de erro"
   ]
  },
  {
   "cell_type": "code",
   "execution_count": null,
   "metadata": {},
   "outputs": [],
   "source": [
    "# estrutura condicional\n",
    "\n",
    "MAIOR_IDADE = 18\n",
    "IDADE_ESPECIAL = 17\n",
    "\n",
    "idade = int(input(\"Informe sua idade: \"))\n",
    "\n",
    "if idade >= MAIOR_IDADE:\n",
    "    print(\"Maior de idade, pode tirar a CHN.\")\n",
    "\n",
    "if idade < MAIOR_IDADE:\n",
    "    print(\"Ainda não pode tirar a CNH.\")\n",
    "\n",
    "\n",
    "if idade >= MAIOR_IDADE:\n",
    "    print(\"Maior de idade, pode tirar a CHN.\")\n",
    "else:\n",
    "    print(\"Ainda não pode tirar a CNH.\")\n",
    "\n",
    "\n",
    "if idade >= MAIOR_IDADE:\n",
    "    print(\"Maior de idade, pode tirar a CHN.\")\n",
    "elif idade == IDADE_ESPECIAL:\n",
    "    print(\"Pode fazer aulas teóricas, mas não pode fazer aulas práticas.\")\n",
    "else:\n",
    "    print(\"Ainda não pode tirar a CNH.\")"
   ]
  },
  {
   "cell_type": "code",
   "execution_count": null,
   "metadata": {},
   "outputs": [],
   "source": [
    "# estrutara condicional ternaria\n",
    "\n",
    "saldo = 2000\n",
    "saque = 2500\n",
    "\n",
    "status = \"Sucesso\" if saldo >= saque else \"Falha\"\n",
    "\n",
    "print(f\"{status} ao realizar o saque!\")"
   ]
  },
  {
   "cell_type": "code",
   "execution_count": null,
   "metadata": {},
   "outputs": [],
   "source": [
    "# estrutura condicional aninhada\n",
    "\n",
    "conta_normal = False\n",
    "conta_universitaria = False\n",
    "conta_especial = True\n",
    "\n",
    "saldo = 2000\n",
    "saque = 1500\n",
    "cheque_especial = 450\n",
    "\n",
    "if conta_normal:\n",
    "\n",
    "    if saldo >= saque:\n",
    "        print(\"Saque realizado com sucesso!\")\n",
    "    elif saque <= (saldo + cheque_especial):\n",
    "        print(\"Saque realizado com uso do cheque especial!\")\n",
    "    else:\n",
    "        print(\"Não foi possivel realizar o saque, saldo insuficiente!\")\n",
    "\n",
    "elif conta_universitaria:\n",
    "\n",
    "    if saldo >= saque:\n",
    "        print(\"Saque realizado com sucesso!\")\n",
    "    else:\n",
    "        print(\"Saldo insuficiente!\")\n",
    "\n",
    "elif conta_especial:\n",
    "    print(\"Conta especial selecionada!\")\n",
    "\n",
    "else:\n",
    "    print(\"Sistema não reconheceu seu tipo de conta, entre em contato com o seu gerente.\")"
   ]
  }
 ],
 "metadata": {
  "kernelspec": {
   "display_name": "Python 3",
   "language": "python",
   "name": "python3"
  },
  "language_info": {
   "name": "python",
   "version": "3.10.5"
  },
  "orig_nbformat": 4,
  "vscode": {
   "interpreter": {
    "hash": "ca4ae65869d2cb0a1ce9a252154e55d284ddfed7dca74e9ec9cf70dfaaed74d1"
   }
  }
 },
 "nbformat": 4,
 "nbformat_minor": 2
}
