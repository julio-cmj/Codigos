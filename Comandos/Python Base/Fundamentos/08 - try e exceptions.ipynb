{
 "cells": [
  {
   "cell_type": "code",
   "execution_count": null,
   "metadata": {},
   "outputs": [],
   "source": [
    "# try e except - o tipo de excessão pode ser definido, Exception por padrão (PEP)\n",
    "\n",
    "try:\n",
    "    nome = string\n",
    "except Exception:\n",
    "    nome = 'string'\n",
    "\n",
    "nome"
   ]
  },
  {
   "cell_type": "code",
   "execution_count": null,
   "metadata": {},
   "outputs": [],
   "source": [
    "# assert <condição>, <mesnsagem (opcional)> - Se a condição é False, retorna a excessão AssertionError: <mensagem> se é True, executa o resto do programa\n",
    "# assert is mainly used for debugging, e. g., to stop the execution based on a certain condition and return a message that will help debug faster.\n",
    "\n",
    "word = input(\"Enter a word: \")\n",
    "message = \"'cat' is the wrong word!\"\n",
    "assert word != \"cat\", message # se a palavra é cat a condição é False (cat não é diferente de cat)\n",
    "print(\"Your word is\", word)"
   ]
  },
  {
   "cell_type": "code",
   "execution_count": null,
   "metadata": {},
   "outputs": [],
   "source": [
    "# raise <excessão> (mensagem (opcional)) - retorna uma excessão que pode ser determinada\n",
    "# raise is used mainly for data validation, it allows you to customize exceptions and raise errors of your choice\n",
    "\n",
    "word = input(\"Enter a word: \")\n",
    "if word != \"cat\":\n",
    "    print(word)\n",
    "else:\n",
    "    raise Exception(\"There is a wrong word!\") # executa a excessão de qualquer forma"
   ]
  },
  {
   "cell_type": "code",
   "execution_count": null,
   "metadata": {},
   "outputs": [],
   "source": [
    "# definindo uma classe de excessão\n",
    "\n",
    "class Erro(Exception):\n",
    "    def __str__(self):\n",
    "        return \"Errou Feio\"\n",
    "\n",
    "x = 9   \n",
    "if x < 23:\n",
    "    raise Erro\n",
    "else:\n",
    "    print(\"Acertou\")"
   ]
  },
  {
   "cell_type": "code",
   "execution_count": null,
   "metadata": {},
   "outputs": [],
   "source": [
    "# __debug__ - built-in variable that is True by default and False when Python is started in the optimization mode\n",
    "\n",
    "if __debug__:\n",
    "    print('True')"
   ]
  }
 ],
 "metadata": {
  "kernelspec": {
   "display_name": "Python 3",
   "language": "python",
   "name": "python3"
  },
  "language_info": {
   "codemirror_mode": {
    "name": "ipython",
    "version": 3
   },
   "file_extension": ".py",
   "mimetype": "text/x-python",
   "name": "python",
   "nbconvert_exporter": "python",
   "pygments_lexer": "ipython3",
   "version": "3.10.5"
  },
  "orig_nbformat": 4,
  "vscode": {
   "interpreter": {
    "hash": "ca4ae65869d2cb0a1ce9a252154e55d284ddfed7dca74e9ec9cf70dfaaed74d1"
   }
  }
 },
 "nbformat": 4,
 "nbformat_minor": 2
}
