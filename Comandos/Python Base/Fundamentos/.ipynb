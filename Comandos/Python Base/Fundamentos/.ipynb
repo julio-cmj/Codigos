{
 "cells": [
  {
   "cell_type": "code",
   "execution_count": null,
   "metadata": {},
   "outputs": [],
   "source": [
    "nome = \"Guilherme\"\n",
    "idade = 28\n",
    "profissao = \"Progamador\"\n",
    "linguagem = \"Python\"\n",
    "saldo = 45.435\n",
    "\n",
    "dados = {\"nome\": \"Guilherme\", \"idade\": 28}\n",
    "\n",
    "print(\"Nome: %s Idade: %d\" % (nome, idade))\n",
    "\n",
    "print(\"Nome: {} Idade: {}\".format(nome, idade))\n",
    "\n",
    "print(\"Nome: {1} Idade: {0}\".format(idade, nome))\n",
    "print(\"Nome: {1} Idade: {0} Nome: {1} {1}\".format(idade, nome))\n",
    "\n",
    "print(\"Nome: {nome} Idade: {idade}\".format(nome=nome, idade=idade))\n",
    "print(\"Nome: {name} Idade: {age} {name} {name} {age}\".format(age=idade, name=nome))\n",
    "print(\"Nome: {nome} Idade: {idade}\".format(**dados))\n",
    "\n",
    "print(f\"Nome: {nome} Idade: {idade}\")\n",
    "print(f\"Nome: {nome} Idade: {idade} Saldo: {saldo:.2f}\")\n",
    "print(f\"Nome: {nome} Idade: {idade} Saldo: {saldo:10.1f}\")"
   ]
  }
 ],
 "metadata": {
  "language_info": {
   "name": "python"
  },
  "orig_nbformat": 4
 },
 "nbformat": 4,
 "nbformat_minor": 2
}
