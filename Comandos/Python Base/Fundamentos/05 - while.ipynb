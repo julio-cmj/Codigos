{
 "cells": [
  {
   "cell_type": "code",
   "execution_count": null,
   "metadata": {},
   "outputs": [],
   "source": [
    "# cotinue -> a função retorna ao inicio\n",
    "# break -> para a função\n",
    "# pass -> não faz nada, usado em funções sem nada para que ela n de erro"
   ]
  },
  {
   "cell_type": "code",
   "execution_count": null,
   "metadata": {},
   "outputs": [],
   "source": [
    "opcao = -1\n",
    "\n",
    "while opcao != 0:\n",
    "    opcao = int(input(\"[1] Sacar \\n[2] Extrato \\n[0] Sair \\n: \"))\n",
    "\n",
    "    if opcao == 1:\n",
    "        print(\"Sacando...\")\n",
    "    elif opcao == 2:\n",
    "        print(\"Exibindo o extrato...\")\n",
    "else:\n",
    "    print(\"Obrigado por usar nosso sistema bancário, até logo!\")"
   ]
  },
  {
   "cell_type": "code",
   "execution_count": null,
   "metadata": {},
   "outputs": [],
   "source": []
  },
  {
   "cell_type": "code",
   "execution_count": null,
   "metadata": {},
   "outputs": [],
   "source": []
  }
 ],
 "metadata": {
  "kernelspec": {
   "display_name": "Python 3",
   "language": "python",
   "name": "python3"
  },
  "language_info": {
   "name": "python",
   "version": "3.10.5"
  },
  "orig_nbformat": 4,
  "vscode": {
   "interpreter": {
    "hash": "ca4ae65869d2cb0a1ce9a252154e55d284ddfed7dca74e9ec9cf70dfaaed74d1"
   }
  }
 },
 "nbformat": 4,
 "nbformat_minor": 2
}
