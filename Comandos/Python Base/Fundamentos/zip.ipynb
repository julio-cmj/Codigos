{
 "cells": [
  {
   "cell_type": "code",
   "execution_count": 9,
   "metadata": {},
   "outputs": [
    {
     "name": "stdout",
     "output_type": "stream",
     "text": [
      "[(1, 'um'), (2, 'dois'), (3, 'tres')]\n",
      "[('Earth', 'blue', True), ('The Moon', 'gray', True), ('Mars', 'red', False)]\n"
     ]
    }
   ],
   "source": [
    "# a função zip() pega dois interaveis e combina em tuplas\n",
    "\n",
    "lista1 = [1, 2, 3]\n",
    "lista2 = ['um', 'dois', 'tres']\n",
    "\n",
    "zipados = zip(lista1, lista2)\n",
    "print(list(zipados))\n",
    "\n",
    "planets = ['Earth', 'The Moon', 'Mars']\n",
    "colors = ['blue', 'gray', 'red']\n",
    "visited = [True, True, False]\n",
    "\n",
    "ziped = zip(planets, colors, visited)\n",
    "print(list(ziped))"
   ]
  },
  {
   "cell_type": "code",
   "execution_count": null,
   "metadata": {},
   "outputs": [],
   "source": [
    "# zip(.items()) e dicionairios - as tuplas são organizadas com os valores e chaves juntos\n",
    "\n",
    "hero = {'name': 'Peter', 'age': 13}\n",
    "villain = {'name': 'Hook', 'age': 41}\n",
    "zipped = zip(hero.items(), villain.items())\n",
    "print(list(zipped))"
   ]
  },
  {
   "cell_type": "code",
   "execution_count": 10,
   "metadata": {},
   "outputs": [
    {
     "name": "stdout",
     "output_type": "stream",
     "text": [
      "Earth is blue\n",
      "Visited = True\n",
      "The Moon is gray\n",
      "Visited = True\n",
      "Mars is red\n",
      "Visited = False\n"
     ]
    }
   ],
   "source": [
    "# zip() e iteração palarela\n",
    "\n",
    "planets = ['Earth', 'The Moon', 'Mars']\n",
    "colors = ['blue', 'gray', 'red']\n",
    "visited = [True, True, False]\n",
    "\n",
    "for planet, color, visit in zip(planets, colors, visited):\n",
    "    print(f'{planet} is {color}')\n",
    "    print(f'Visited = {visit}')"
   ]
  },
  {
   "cell_type": "code",
   "execution_count": 6,
   "metadata": {},
   "outputs": [
    {
     "data": {
      "text/plain": [
       "[(1, 'dois'), (2, 'um'), (3, 'tres')]"
      ]
     },
     "execution_count": 6,
     "metadata": {},
     "output_type": "execute_result"
    }
   ],
   "source": [
    "# Utilizar sets como iteravis retorna ordens aleatorias\n",
    "\n",
    "lista1 = [1, 2, 3]\n",
    "lista2 = {'um', 'dois', 'tres'}\n",
    "\n",
    "zipados = zip(lista1, lista2)\n",
    "list(zipados)"
   ]
  },
  {
   "cell_type": "code",
   "execution_count": 7,
   "metadata": {},
   "outputs": [
    {
     "data": {
      "text/plain": [
       "[(1, True), (2, True), (3, False), (4, True), (5, False)]"
      ]
     },
     "execution_count": 7,
     "metadata": {},
     "output_type": "execute_result"
    }
   ],
   "source": [
    "# Utilizando zip com iteravies com diferentes tamanhos\n",
    "\n",
    "shortest = [1, 2, 3, 4, 5]\n",
    "longest = [True, True, False, True, False, True] # o ultimo True é deixado de fora\n",
    "zip_iterator = zip(shortest, longest)\n",
    "list(zip_iterator)"
   ]
  },
  {
   "cell_type": "code",
   "execution_count": 8,
   "metadata": {},
   "outputs": [
    {
     "name": "stdout",
     "output_type": "stream",
     "text": [
      "[('H',), ('a',), ('n',), (' ',), ('S',), ('o',), ('l',), ('o',)]\n"
     ]
    }
   ],
   "source": [
    "# Utilizando zip com um único iteravel\n",
    "\n",
    "solo_string = 'Han Solo'\n",
    "zip_iterator = zip(solo_string)\n",
    "print(list(zip_iterator))"
   ]
  },
  {
   "cell_type": "code",
   "execution_count": 12,
   "metadata": {},
   "outputs": [
    {
     "name": "stdout",
     "output_type": "stream",
     "text": [
      "[(('A', 'Away'),), (('F', 'From'),), (('K', 'Keyboard'),)]\n"
     ]
    }
   ],
   "source": [
    "# unzipping\n",
    "phrase = [('A', 'Away'), ('F', 'From'), ('K', 'Keyboard')]\n",
    "unzipped = zip(*phrase)\n",
    "print(list(unzipped))"
   ]
  }
 ],
 "metadata": {
  "kernelspec": {
   "display_name": "Python 3",
   "language": "python",
   "name": "python3"
  },
  "language_info": {
   "codemirror_mode": {
    "name": "ipython",
    "version": 3
   },
   "file_extension": ".py",
   "mimetype": "text/x-python",
   "name": "python",
   "nbconvert_exporter": "python",
   "pygments_lexer": "ipython3",
   "version": "3.10.4"
  },
  "orig_nbformat": 4,
  "vscode": {
   "interpreter": {
    "hash": "beb10830e324bdaa292a6e67dd38e4fb0e273fe7b5b2f0780e8faabebea9d606"
   }
  }
 },
 "nbformat": 4,
 "nbformat_minor": 2
}
