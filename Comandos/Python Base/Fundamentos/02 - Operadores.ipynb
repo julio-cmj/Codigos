{
 "cells": [
  {
   "cell_type": "code",
   "execution_count": null,
   "metadata": {},
   "outputs": [],
   "source": [
    "# operadores aritmeticos\n",
    "\n",
    "produto_1 = 20\n",
    "produto_2 = 10\n",
    "\n",
    "print(produto_1 + produto_2)\n",
    "print(produto_1 - produto_2)\n",
    "print(produto_1 / produto_2)\n",
    "print(produto_1 // produto_2)\n",
    "print(produto_1 * produto_2)\n",
    "print(produto_1 % produto_2)\n",
    "print(produto_1 ** produto_2)\n",
    "\n",
    "x = (10 + 5) * 4\n",
    "y = (10 / 2) + 25 * ((2 - 2) ** 2)\n",
    "print(x)\n",
    "print(y)"
   ]
  },
  {
   "cell_type": "code",
   "execution_count": null,
   "metadata": {},
   "outputs": [],
   "source": [
    "# operadores atribuição\n",
    "\n",
    "saldo = 500\n",
    "print(saldo)\n",
    "\n",
    "saldo = 200\n",
    "print(saldo)\n",
    "\n",
    "saldo += 10\n",
    "print(saldo)\n",
    "\n",
    "saldo -= 5\n",
    "print(saldo)\n",
    "\n",
    "saldo //= 2\n",
    "print(saldo)\n",
    "\n",
    "saldo /= 2\n",
    "print(saldo)\n",
    "\n",
    "saldo *= 10\n",
    "print(saldo)\n",
    "\n",
    "saldo %= 4\n",
    "print(saldo)\n",
    "\n",
    "saldo **= 2\n",
    "print(saldo)"
   ]
  },
  {
   "cell_type": "code",
   "execution_count": null,
   "metadata": {},
   "outputs": [],
   "source": [
    "# operadores comparação\n",
    "\n",
    "saldo = 200\n",
    "saque = 200\n",
    "\n",
    "print(saldo == saque)\n",
    "print(saldo != saque)\n",
    "print(saldo > saque)\n",
    "print(saldo >= saque)\n",
    "print(saldo < saque)\n",
    "print(saldo <= saque)"
   ]
  },
  {
   "cell_type": "code",
   "execution_count": null,
   "metadata": {},
   "outputs": [],
   "source": [
    "# operadores associação\n",
    "\n",
    "frutas = [\"limao\", \"uva\"]\n",
    "curso = \"Curso de python\"\n",
    "\n",
    "print(\"laranja\" not in frutas)\n",
    "print(\"limao\" in frutas)\n",
    "print(\"Python\" in curso)"
   ]
  },
  {
   "cell_type": "code",
   "execution_count": null,
   "metadata": {},
   "outputs": [],
   "source": [
    "# operadores identidade\n",
    "\n",
    "saldo = 1000\n",
    "limite = 1000\n",
    "\n",
    "print(saldo is limite)\n",
    "print(saldo is not limite)"
   ]
  },
  {
   "cell_type": "code",
   "execution_count": null,
   "metadata": {},
   "outputs": [],
   "source": [
    "# operadores logicos\n",
    "\n",
    "print(True and True and True)\n",
    "print(True and False and True)\n",
    "print(False and False and False)\n",
    "print(True or True or True)\n",
    "print(True or False or False)\n",
    "print(False or False or False)\n",
    "\n",
    "saldo = 1000\n",
    "saque = 250\n",
    "limite = 200\n",
    "conta_especial = True\n",
    "\n",
    "exp = saldo >= saque and saque <= limite or conta_especial and saldo >= saque\n",
    "print(exp)\n",
    "\n",
    "exp_2 = (saldo >= saque and saque <= limite) or (conta_especial and saldo >= saque)\n",
    "print(exp_2)\n",
    "\n",
    "conta_normal_com_saldo_suficiente = saldo >= saque and saque <= limite\n",
    "conta_especial_com_saldo_suficiente = conta_especial and saldo >= saque\n",
    "\n",
    "exp_3 = conta_normal_com_saldo_suficiente or conta_especial_com_saldo_suficiente\n",
    "print(exp_3)\n"
   ]
  }
 ],
 "metadata": {
  "kernelspec": {
   "display_name": "Python 3",
   "language": "python",
   "name": "python3"
  },
  "language_info": {
   "name": "python",
   "version": "3.10.5"
  },
  "orig_nbformat": 4,
  "vscode": {
   "interpreter": {
    "hash": "ca4ae65869d2cb0a1ce9a252154e55d284ddfed7dca74e9ec9cf70dfaaed74d1"
   }
  }
 },
 "nbformat": 4,
 "nbformat_minor": 2
}
