{
 "cells": [
  {
   "cell_type": "code",
   "execution_count": null,
   "metadata": {},
   "outputs": [],
   "source": [
    "# métodos não alteram o valor inicial da string, eles precisam ser atribuidos a outra variavel ou a mesma"
   ]
  },
  {
   "cell_type": "code",
   "execution_count": null,
   "metadata": {},
   "outputs": [],
   "source": [
    "# escape sequences -> \\  repr() -> desativa o \\\n",
    "\n",
    "print('hello\\' world!') #\\\n",
    "print()\n",
    "print('hello\\nworld!') #\\n -> pula para proxima linha\n",
    "print()\n",
    "print('hello\\rworld!') #\\r -> exclui tudo que está antes do \\r\n",
    "print()\n",
    "print('hello world!\\b') #\\b -> exclui o caractere que vem antes do \\b\n",
    "print()\n",
    "print('\\thello world\\t!') #\\t -> adiciona um espaço tabular (tab)\n"
   ]
  },
  {
   "cell_type": "code",
   "execution_count": null,
   "metadata": {},
   "outputs": [],
   "source": [
    "# formatando uppercase e lowercase\n",
    "\n",
    "nome = \"gUIlherME\"\n",
    "\n",
    "print(nome.upper()) \n",
    "print(nome.lower()) \n",
    "print(nome.title()) # -> altera a primeira letra de todas as palavras\n",
    "print(nome.capitalize())  # -> altera somente a primeira letra da primera palavra\n",
    "print(nome.swapcase()) # -> troca \n"
   ]
  },
  {
   "cell_type": "code",
   "execution_count": null,
   "metadata": {},
   "outputs": [],
   "source": [
    "# Centralização \n",
    "\n",
    "menu = \"Python\"\n",
    "\n",
    "print(menu.center(14))\n",
    "print(menu.center(14, \"#\"))"
   ]
  },
  {
   "cell_type": "code",
   "execution_count": null,
   "metadata": {},
   "outputs": [],
   "source": [
    "# .strip, .rstrip, .lstrip - por padrão remove espaços em branco, mas pode ser especificado alguma string (ATENÇÃO: pode cortar partes indesejadas)\n",
    "\n",
    "texto = \"  Olá mundo!    \"\n",
    "print(texto)\n",
    "print(texto.strip())\n",
    "print(texto.rstrip())\n",
    "print(texto.lstrip())\n",
    "\n",
    "texto = 'Olá mundo!'\n",
    "print(texto.strip('Olá')) "
   ]
  },
  {
   "cell_type": "code",
   "execution_count": null,
   "metadata": {},
   "outputs": [],
   "source": [
    "# Fatiamento\n",
    "\n",
    "nome = \"Guilherme Arthur de Carvalho\"\n",
    "\n",
    "print(1, nome[0])\n",
    "print(2, nome[-2])\n",
    "print(3, nome[:9])\n",
    "print(4, nome[10:])\n",
    "print(5, nome[10:16])\n",
    "print(6, nome[10:16:2])\n",
    "print(7, nome[:])\n",
    "print(8, nome[::-1])\n",
    "print(\"-\".join(nome))\n"
   ]
  },
  {
   "cell_type": "code",
   "execution_count": null,
   "metadata": {},
   "outputs": [],
   "source": [
    "# triplo '\n",
    "\n",
    "print(\n",
    "    \"\"\"\n",
    "    ============= MENU =============\n",
    "\n",
    "    1 - Depositar\n",
    "    2 - Sacar\n",
    "    0 - Sair\n",
    "\n",
    "    ================================\n",
    "\n",
    "            Obrigado por usar nosso sistema!!!!\n",
    "\"\"\"\n",
    ")"
   ]
  },
  {
   "cell_type": "code",
   "execution_count": null,
   "metadata": {},
   "outputs": [],
   "source": [
    "# f format\n",
    "\n",
    "nome = \"Guilherme\"\n",
    "\n",
    "mensagem = f\"\"\"\n",
    "   Olá meu nome é {nome},\n",
    " Eu estou aprendendo Python.\n",
    "     Essa mensagem tem diferentes recuos.\n",
    "\"\"\"\n",
    "\n",
    "print(mensagem)\n"
   ]
  },
  {
   "cell_type": "code",
   "execution_count": null,
   "metadata": {},
   "outputs": [],
   "source": [
    "# .replace(old, new, count) - old: string a ser mudada, new: o que mudar, count: em quantas ocorrencias deve se trocar o old por new\n",
    "\n",
    "nome = 'julio'\n",
    "print(nome.replace('o', 'ano'))\n",
    "print(nome)"
   ]
  },
  {
   "cell_type": "code",
   "execution_count": null,
   "metadata": {},
   "outputs": [],
   "source": [
    "# .split -> transforma a string em uma lista, dando um argumento em que deve-se usar como separar (por padrão '') \n",
    "\n",
    "definition = 'Coin of the realm is the legal money of the country' \n",
    "print(definition.split())\n",
    "print(definition.split('of'))\n",
    "print(definition.split('of',1))\n",
    "\n",
    "# pode ser usado para definir variaveis\n",
    "\n",
    "nome, sobrenome = 'julio cesar'.split()\n",
    "print(nome + ' e ' + sobrenome)"
   ]
  },
  {
   "cell_type": "code",
   "execution_count": null,
   "metadata": {},
   "outputs": [],
   "source": [
    "# .splitline() -> transforma as frases em linhas diferentes em uma lista\n",
    "\n",
    "texto = 'linha um\\n linha dois\\n linha tres'\n",
    "print(texto.splitlines())\n",
    "texto.splitlines(keepends=True) \n"
   ]
  }
 ],
 "metadata": {
  "kernelspec": {
   "display_name": "Python 3",
   "language": "python",
   "name": "python3"
  },
  "language_info": {
   "codemirror_mode": {
    "name": "ipython",
    "version": 3
   },
   "file_extension": ".py",
   "mimetype": "text/x-python",
   "name": "python",
   "nbconvert_exporter": "python",
   "pygments_lexer": "ipython3",
   "version": "3.10.5"
  },
  "orig_nbformat": 4,
  "vscode": {
   "interpreter": {
    "hash": "ca4ae65869d2cb0a1ce9a252154e55d284ddfed7dca74e9ec9cf70dfaaed74d1"
   }
  }
 },
 "nbformat": 4,
 "nbformat_minor": 2
}
