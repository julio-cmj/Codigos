{
 "cells": [
  {
   "cell_type": "code",
   "execution_count": null,
   "metadata": {},
   "outputs": [],
   "source": [
    "# formatando uppercase e lowercase\n",
    "\n",
    "nome = \"gUIlherME\"\n",
    "\n",
    "print(nome.upper())\n",
    "print(nome.lower())\n",
    "print(nome.title())"
   ]
  },
  {
   "cell_type": "code",
   "execution_count": null,
   "metadata": {},
   "outputs": [],
   "source": [
    "# eliminando espaçamento\n",
    "\n",
    "texto = \"  Olá mundo!    \"\n",
    "\n",
    "print(texto + \".\")\n",
    "print(texto.strip() + \".\")\n",
    "print(texto.rstrip() + \".\")\n",
    "print(texto.lstrip() + \".\")\n",
    "\n",
    "menu = \"Python\"\n",
    "\n",
    "print(menu.center(14))\n",
    "print(menu.center(14, \"#\"))"
   ]
  },
  {
   "cell_type": "code",
   "execution_count": null,
   "metadata": {},
   "outputs": [],
   "source": [
    "# Fatiamento\n",
    "\n",
    "nome = \"Guilherme Arthur de Carvalho\"\n",
    "\n",
    "print(nome[0])\n",
    "print(nome[-2])\n",
    "print(nome[:9])\n",
    "print(nome[10:])\n",
    "print(nome[10:16])\n",
    "print(nome[10:16:2])\n",
    "print(nome[:])\n",
    "print(nome[::-1])\n",
    "print(\"-\".join(menu))\n"
   ]
  },
  {
   "cell_type": "code",
   "execution_count": null,
   "metadata": {},
   "outputs": [],
   "source": [
    "# triplo '\n",
    "\n",
    "print(\n",
    "    \"\"\"\n",
    "    ============= MENU =============\n",
    "\n",
    "    1 - Depositar\n",
    "    2 - Sacar\n",
    "    0 - Sair\n",
    "\n",
    "    ================================\n",
    "\n",
    "            Obrigado por usar nosso sistema!!!!\n",
    "\"\"\"\n",
    ")"
   ]
  },
  {
   "cell_type": "code",
   "execution_count": null,
   "metadata": {},
   "outputs": [],
   "source": [
    "# f format\n",
    "\n",
    "nome = \"Guilherme\"\n",
    "\n",
    "mensagem = f\"\"\"\n",
    "   Olá meu nome é {nome},\n",
    " Eu estou aprendendo Python.\n",
    "     Essa mensagem tem diferentes recuos.\n",
    "\"\"\"\n",
    "\n",
    "print(mensagem)\n"
   ]
  }
 ],
 "metadata": {
  "kernelspec": {
   "display_name": "Python 3",
   "language": "python",
   "name": "python3"
  },
  "language_info": {
   "codemirror_mode": {
    "name": "ipython",
    "version": 3
   },
   "file_extension": ".py",
   "mimetype": "text/x-python",
   "name": "python",
   "nbconvert_exporter": "python",
   "pygments_lexer": "ipython3",
   "version": "3.10.5"
  },
  "orig_nbformat": 4,
  "vscode": {
   "interpreter": {
    "hash": "ca4ae65869d2cb0a1ce9a252154e55d284ddfed7dca74e9ec9cf70dfaaed74d1"
   }
  }
 },
 "nbformat": 4,
 "nbformat_minor": 2
}
