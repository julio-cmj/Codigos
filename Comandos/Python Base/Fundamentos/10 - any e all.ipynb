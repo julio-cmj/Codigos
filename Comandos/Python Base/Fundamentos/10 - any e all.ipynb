{
 "cells": [
  {
   "cell_type": "code",
   "execution_count": null,
   "metadata": {},
   "outputs": [],
   "source": [
    "# any() - bolean\n",
    "\n",
    "print(any([True, True, True]))\n",
    "print(any([False, False, False]))\n",
    "print(any([True, True, False]))"
   ]
  },
  {
   "cell_type": "code",
   "execution_count": null,
   "metadata": {},
   "outputs": [],
   "source": [
    "# any - string\n",
    "\n",
    "print(any('julio'))\n",
    "print(any(''))"
   ]
  },
  {
   "cell_type": "code",
   "execution_count": null,
   "metadata": {},
   "outputs": [],
   "source": [
    "# any - int ou float\n",
    "\n",
    "print(any([2]))\n",
    "print(any([1]))\n",
    "print(any([-1]))\n",
    "print(any([0.5]))\n",
    "print(any([0]))"
   ]
  },
  {
   "cell_type": "code",
   "execution_count": null,
   "metadata": {},
   "outputs": [],
   "source": [
    "# all\n",
    "\n",
    "print(all([False, False, True]), all([1, 1, 0]))\n",
    "print(all('julio'), all(''))\n",
    "print(all([1, 1, 1]), all([True, True, True]))"
   ]
  }
 ],
 "metadata": {
  "kernelspec": {
   "display_name": "Python 3",
   "language": "python",
   "name": "python3"
  },
  "language_info": {
   "codemirror_mode": {
    "name": "ipython",
    "version": 3
   },
   "file_extension": ".py",
   "mimetype": "text/x-python",
   "name": "python",
   "nbconvert_exporter": "python",
   "pygments_lexer": "ipython3",
   "version": "3.10.4"
  },
  "orig_nbformat": 4,
  "vscode": {
   "interpreter": {
    "hash": "beb10830e324bdaa292a6e67dd38e4fb0e273fe7b5b2f0780e8faabebea9d606"
   }
  }
 },
 "nbformat": 4,
 "nbformat_minor": 2
}
