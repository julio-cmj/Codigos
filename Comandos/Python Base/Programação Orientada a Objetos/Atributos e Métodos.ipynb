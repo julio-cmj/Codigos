{
 "cells": [
  {
   "cell_type": "code",
   "execution_count": null,
   "metadata": {},
   "outputs": [],
   "source": [
    "# Definindo e crando objetos\n",
    "\n",
    "class Objeto(): # convenção MyClass\n",
    "    nome = 'cadeira' # atributo\n",
    "\n",
    "meu_objeto = Objeto()\n",
    "print(meu_objeto.nome)"
   ]
  },
  {
   "cell_type": "code",
   "execution_count": null,
   "metadata": {},
   "outputs": [],
   "source": [
    "# atributos são definidos para todos os objetos criados com a classe\n",
    "\n",
    "class Casa(): \n",
    "    endereço = 'Rua Joaquim' \n",
    "\n",
    "casa1 = Casa()\n",
    "casa2 = Casa()\n",
    "print(casa1.endereço)\n",
    "print(casa2.endereço) "
   ]
  },
  {
   "cell_type": "code",
   "execution_count": null,
   "metadata": {},
   "outputs": [],
   "source": [
    "# __init__() - define os atributos somente para uma instancia da classe\n",
    "\n",
    "class Casa():\n",
    "    def __init__(self, endereço): # self indica que deve ser aplicado no proprio objeto\n",
    "        self.endereço = endereço\n",
    "\n",
    "casa1 = Casa(\"Rua Santos\")\n",
    "casa2 = Casa(\"Avenida da Luz\")\n",
    "print(casa1.endereço) \n",
    "print(casa2.endereço) "
   ]
  },
  {
   "cell_type": "code",
   "execution_count": 32,
   "metadata": {},
   "outputs": [
    {
     "name": "stdout",
     "output_type": "stream",
     "text": [
      "Dalmata Rex\n",
      "Au Au Au\n"
     ]
    }
   ],
   "source": [
    "# Criando métodos (métodos como __init__ são chamados de métodos magicos)\n",
    "\n",
    "class Cachorro():\n",
    "    animal = \"cachorro\"\n",
    "    def __init__(self, nome, raça): \n",
    "        self.nome = nome\n",
    "        self.raça = raça\n",
    "    \n",
    "    def latir(self):\n",
    "        print(\"Au Au Au\")\n",
    "\n",
    "    def info(self):\n",
    "       return f\"{rex.raça} {rex.nome}\"\n",
    "\n",
    "rex = Cachorro('Rex', 'Dalmata')\n",
    "print(rex.info())\n",
    "rex.latir()\n"
   ]
  },
  {
   "cell_type": "code",
   "execution_count": 55,
   "metadata": {},
   "outputs": [
    {
     "ename": "TypeError",
     "evalue": "Cachorro.__new__() takes 2 positional arguments but 3 were given",
     "output_type": "error",
     "traceback": [
      "\u001b[1;31m---------------------------------------------------------------------------\u001b[0m",
      "\u001b[1;31mTypeError\u001b[0m                                 Traceback (most recent call last)",
      "Cell \u001b[1;32mIn [55], line 13\u001b[0m\n\u001b[0;32m     10\u001b[0m         \u001b[39mcls\u001b[39m\u001b[39m.\u001b[39mdono \u001b[39m=\u001b[39m dono\n\u001b[0;32m     11\u001b[0m         \u001b[39mreturn\u001b[39;00m \u001b[39mobject\u001b[39m\u001b[39m.\u001b[39m\u001b[39m__new__\u001b[39m(\u001b[39mcls\u001b[39m, dono)\n\u001b[1;32m---> 13\u001b[0m rex \u001b[39m=\u001b[39m Cachorro(\u001b[39m'\u001b[39;49m\u001b[39mRex\u001b[39;49m\u001b[39m'\u001b[39;49m, \u001b[39m'\u001b[39;49m\u001b[39mDalmata\u001b[39;49m\u001b[39m'\u001b[39;49m)\n\u001b[0;32m     14\u001b[0m rex\u001b[39m.\u001b[39m\u001b[39m__new__\u001b[39m(\u001b[39m'\u001b[39m\u001b[39mJulio\u001b[39m\u001b[39m'\u001b[39m)\n\u001b[0;32m     15\u001b[0m \u001b[39mprint\u001b[39m(rex\u001b[39m.\u001b[39mdono)\n",
      "\u001b[1;31mTypeError\u001b[0m: Cachorro.__new__() takes 2 positional arguments but 3 were given"
     ]
    }
   ],
   "source": [
    "# __new__ - cria novos atributos tipo __init__\n",
    "\n",
    "class Cachorro():\n",
    "    animal = \"cachorro\"\n",
    "    def __init__(self, nome, raça):\n",
    "        self.nome = nome\n",
    "        self.raça = raça\n",
    "    \n",
    "    def __new__(cls, dono):\n",
    "        cls.dono = dono\n",
    "        return object.__new__(cls)\n",
    "\n",
    "rex = Cachorro('Rex', 'Dalmata')\n",
    "rex.__new__('Julio')\n",
    "print(rex.dono)"
   ]
  },
  {
   "cell_type": "code",
   "execution_count": 1,
   "metadata": {},
   "outputs": [
    {
     "name": "stdout",
     "output_type": "stream",
     "text": [
      "Alerta!!! aviso de tempestade\n",
      "cuidado com a tempestade\n"
     ]
    }
   ],
   "source": [
    "# __str__ e __repr__ - definem o que o objeto retorna por padrão\n",
    "\n",
    "class Alerta():\n",
    "    def __init__(self, mensagem): \n",
    "        self.mensagem = mensagem\n",
    "       \n",
    "    def __str__(self):\n",
    "        return f'Alerta!!! aviso de {self.mensagem}'\n",
    "\n",
    "    def __repr__(self): \n",
    "        return f\"cuidado com a {self.mensagem}\"\n",
    "\n",
    "tempestade = Alerta(\"tempestade\")\n",
    "print(tempestade)\n",
    "print(repr(tempestade))"
   ]
  },
  {
   "cell_type": "code",
   "execution_count": null,
   "metadata": {},
   "outputs": [],
   "source": []
  }
 ],
 "metadata": {
  "kernelspec": {
   "display_name": "Python 3",
   "language": "python",
   "name": "python3"
  },
  "language_info": {
   "codemirror_mode": {
    "name": "ipython",
    "version": 3
   },
   "file_extension": ".py",
   "mimetype": "text/x-python",
   "name": "python",
   "nbconvert_exporter": "python",
   "pygments_lexer": "ipython3",
   "version": "3.10.5"
  },
  "orig_nbformat": 4,
  "vscode": {
   "interpreter": {
    "hash": "ca4ae65869d2cb0a1ce9a252154e55d284ddfed7dca74e9ec9cf70dfaaed74d1"
   }
  }
 },
 "nbformat": 4,
 "nbformat_minor": 2
}
