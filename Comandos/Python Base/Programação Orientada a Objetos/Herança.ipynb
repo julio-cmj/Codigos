{
 "cells": [
  {
   "cell_type": "code",
   "execution_count": 3,
   "metadata": {},
   "outputs": [
    {
     "name": "stdout",
     "output_type": "stream",
     "text": [
      "Lerry\n",
      "Rex\n"
     ]
    }
   ],
   "source": [
    "# As classes podem herdar métodos e atributos de outras classes\n",
    "\n",
    "class Animal:\n",
    "    def __init__(self, nome):\n",
    "        self.nome = nome\n",
    "\n",
    "class Cachorro(Animal):\n",
    "    pass\n",
    "\n",
    "golfinho = Animal(\"Lerry\")\n",
    "cachorro = Cachorro(\"Rex\")\n",
    "\n",
    "print(golfinho.nome)\n",
    "print(cachorro.nome)"
   ]
  },
  {
   "cell_type": "code",
   "execution_count": 13,
   "metadata": {},
   "outputs": [
    {
     "name": "stdout",
     "output_type": "stream",
     "text": [
      "True\n",
      "False\n"
     ]
    }
   ],
   "source": [
    "# issubclass(x, y) - retorna valor boleano para x ser subclasse de y (y pode ser mais de um valor (w, y, z))\n",
    "\n",
    "class Primaria:\n",
    "    pass\n",
    "class Secundaria(Primaria):\n",
    "    pass\n",
    "\n",
    "print( issubclass(Secundaria, Primaria) )"
   ]
  },
  {
   "cell_type": "code",
   "execution_count": 13,
   "metadata": {},
   "outputs": [
    {
     "name": "stdout",
     "output_type": "stream",
     "text": [
      "True\n",
      "True\n",
      "\n",
      "True\n",
      "False\n"
     ]
    }
   ],
   "source": [
    "# isinstance(x, y) e type(x) == y - retorna um valor boleano para x ser uma instancia de y\n",
    "\n",
    "class Classe1:\n",
    "    def __init__(self, atributo):\n",
    "        self.atributo = atributo\n",
    "\n",
    "class Classe2(Classe1):\n",
    "    pass\n",
    "\n",
    "objeto1 = Classe1(\"atributo1\")\n",
    "objeto2 = Classe2(\"atributo2\")\n",
    "\n",
    "print( isinstance(objeto1, Classe1) )\n",
    "print( isinstance(objeto2, Classe1) ) # subclasses também são válidas\n",
    "\n",
    "print('')  # ou type\n",
    "\n",
    "print(type(objeto1) == Classe1)\n",
    "print(type(objeto2) == Classe1) # não funciona com subclasse"
   ]
  },
  {
   "cell_type": "code",
   "execution_count": 21,
   "metadata": {},
   "outputs": [
    {
     "name": "stdout",
     "output_type": "stream",
     "text": [
      "Did something\n",
      "Did something else\n"
     ]
    }
   ],
   "source": [
    "# Method overriding - altera o método da classe primaria (ATENÇÃO: a função __init__ é sobescrevivel)\n",
    "\n",
    "class Parent:\n",
    "    def do_something(self):\n",
    "        print(\"Did something\")\n",
    "\n",
    "\n",
    "class Child(Parent):\n",
    "    def do_something(self):\n",
    "        print(\"Did something else\")\n",
    "\n",
    "parent = Parent()\n",
    "child = Child()\n",
    "\n",
    "parent.do_something()  \n",
    "child.do_something()  "
   ]
  },
  {
   "cell_type": "code",
   "execution_count": 23,
   "metadata": {},
   "outputs": [
    {
     "name": "stdout",
     "output_type": "stream",
     "text": [
      "Gato Garfield\n"
     ]
    }
   ],
   "source": [
    "# super() - \n",
    "\n",
    "class Animal:\n",
    "    def __init__(self, especie):\n",
    "        self.especie = especie\n",
    "\n",
    "class Gato(Animal):\n",
    "    def __init__(self, especie, nome):\n",
    "        super().__init__(especie)\n",
    "        self.nome = nome\n",
    "\n",
    "garfield = Gato('Gato', 'Garfield')\n",
    "\n",
    "print(garfield.especie, garfield.nome)"
   ]
  }
 ],
 "metadata": {
  "kernelspec": {
   "display_name": "Python 3",
   "language": "python",
   "name": "python3"
  },
  "language_info": {
   "codemirror_mode": {
    "name": "ipython",
    "version": 3
   },
   "file_extension": ".py",
   "mimetype": "text/x-python",
   "name": "python",
   "nbconvert_exporter": "python",
   "pygments_lexer": "ipython3",
   "version": "3.10.5"
  },
  "orig_nbformat": 4,
  "vscode": {
   "interpreter": {
    "hash": "ca4ae65869d2cb0a1ce9a252154e55d284ddfed7dca74e9ec9cf70dfaaed74d1"
   }
  }
 },
 "nbformat": 4,
 "nbformat_minor": 2
}
