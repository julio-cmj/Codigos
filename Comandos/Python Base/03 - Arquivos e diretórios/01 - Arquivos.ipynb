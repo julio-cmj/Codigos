{
 "cells": [
  {
   "cell_type": "code",
   "execution_count": null,
   "metadata": {},
   "outputs": [],
   "source": [
    "# open(\"file\") - abre o arquivo, file: path file ou somente nome do arquivo se estiver no mesmo diretório\n",
    "\n",
    "arquivo = open(\"arquivo.txt\")"
   ]
  },
  {
   "cell_type": "code",
   "execution_count": null,
   "metadata": {},
   "outputs": [],
   "source": [
    "# open(\"file\", 'r', 'w', 'a', 'b', '+', 't') - modos, por padrão 'rt' (r + t)\n",
    "\n",
    "arquivo = open(\"arquivo.txt\", 'rw')"
   ]
  },
  {
   "cell_type": "code",
   "execution_count": null,
   "metadata": {},
   "outputs": [],
   "source": [
    "# open(\"file\", enconding='encoder') - qual protocolo deve ser usado para decodificar o arquivo\n",
    "\n",
    "arquivo_utf8 = open('arquivo.txt', encoding='utf-8')"
   ]
  },
  {
   "cell_type": "code",
   "execution_count": null,
   "metadata": {},
   "outputs": [],
   "source": [
    "# Fechando o arquivo \n",
    "\n",
    "arquivo.close()"
   ]
  },
  {
   "cell_type": "code",
   "execution_count": null,
   "metadata": {},
   "outputs": [],
   "source": [
    "# Escrevendo arquivos\n",
    "\n",
    "arquivo.write(\"Escrevendo uma linha\" + \"\\n\" + \"linha dois\") # escreve uma string\n",
    "\n",
    "Lista = [\"linha 1\\n\", \"linha 2\\n\", \"linha 3\\n\"]\n",
    "arquivo.writelines(Lista) # escreve iterando uma lista de strings"
   ]
  },
  {
   "cell_type": "code",
   "execution_count": 23,
   "metadata": {},
   "outputs": [
    {
     "data": {
      "text/plain": [
       "2"
      ]
     },
     "execution_count": 23,
     "metadata": {},
     "output_type": "execute_result"
    }
   ],
   "source": [
    "names = ['Kate\\n', 'Alexander\\n', 'Oscar\\n', 'Mary\\n']\n",
    "\n",
    "name_file = open('names.txt', 'w', encoding='utf-8')\n",
    "\n",
    "name_file.writelines(names)\n",
    "\n",
    "name_file.close()"
   ]
  },
  {
   "cell_type": "code",
   "execution_count": null,
   "metadata": {},
   "outputs": [],
   "source": [
    "# Lendo arquivos\n",
    "\n",
    "Dog\n",
    "Cat\n",
    "Rabbit\n",
    "Sea turtle\n",
    "Penguin"
   ]
  },
  {
   "cell_type": "code",
   "execution_count": null,
   "metadata": {},
   "outputs": [],
   "source": [
    "# read(size)\n",
    "\n",
    "print(file.read())\n",
    "\n",
    "# Dog\n",
    "# Cat\n",
    "# Rabbit\n",
    "# Sea turtle\n",
    "# Penguin"
   ]
  },
  {
   "cell_type": "code",
   "execution_count": null,
   "metadata": {},
   "outputs": [],
   "source": [
    "# realine(size)\n",
    "\n",
    "print(file.readline(3))\n",
    "print(file.readline(3))\n",
    "print(file.readline(3))\n",
    "print(file.readline(3))\n",
    "print(file.readline(3))\n",
    "print(file.readline(3))\n",
    "\n",
    "# Dog\n",
    "# \n",
    "# \n",
    "# Cat\n",
    "# \n",
    "# \n",
    "# Rab\n",
    "# bit"
   ]
  },
  {
   "cell_type": "code",
   "execution_count": null,
   "metadata": {},
   "outputs": [],
   "source": [
    "# readlines()\n",
    "\n",
    "print(file.readlines())\n",
    "\n",
    "# ['Dog\\n', 'Cat\\n', 'Rabbit\\n', 'Sea turtle\\n', 'Penguin']"
   ]
  },
  {
   "cell_type": "code",
   "execution_count": null,
   "metadata": {},
   "outputs": [],
   "source": [
    "# for loop\n",
    "\n",
    "for line in file:\n",
    "    print(line)\n",
    "\n",
    "# Dog\n",
    "# \n",
    "# Cat\n",
    "# \n",
    "# Rabbit\n",
    "# \n",
    "# Sea turtle\n",
    "# \n",
    "# Penguin"
   ]
  }
 ],
 "metadata": {
  "kernelspec": {
   "display_name": "Python 3",
   "language": "python",
   "name": "python3"
  },
  "language_info": {
   "codemirror_mode": {
    "name": "ipython",
    "version": 3
   },
   "file_extension": ".py",
   "mimetype": "text/x-python",
   "name": "python",
   "nbconvert_exporter": "python",
   "pygments_lexer": "ipython3",
   "version": "3.10.5"
  },
  "orig_nbformat": 4,
  "vscode": {
   "interpreter": {
    "hash": "ca4ae65869d2cb0a1ce9a252154e55d284ddfed7dca74e9ec9cf70dfaaed74d1"
   }
  }
 },
 "nbformat": 4,
 "nbformat_minor": 2
}
