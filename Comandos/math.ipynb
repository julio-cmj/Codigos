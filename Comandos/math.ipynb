{
 "cells": [
  {
   "cell_type": "code",
   "execution_count": null,
   "metadata": {},
   "outputs": [],
   "source": [
    "import math"
   ]
  },
  {
   "cell_type": "code",
   "execution_count": null,
   "metadata": {},
   "outputs": [],
   "source": [
    "# constantes\n",
    "\n",
    "print(math.pi) # pi\n",
    "print(math.e) # numero de euler"
   ]
  },
  {
   "cell_type": "code",
   "execution_count": null,
   "metadata": {},
   "outputs": [],
   "source": [
    "# conversão radiano e graus\n",
    "\n",
    "print(math.radians(180))     # graus -> radiano\n",
    "print(math.degrees(math.pi)) # radiano -> graus"
   ]
  },
  {
   "cell_type": "code",
   "execution_count": null,
   "metadata": {},
   "outputs": [],
   "source": [
    "# fabs() - retorna valor absoluto em float\n",
    "\n",
    "math.fabs(-10)"
   ]
  },
  {
   "cell_type": "code",
   "execution_count": null,
   "metadata": {},
   "outputs": [],
   "source": [
    "# sqrt() - retorna a raiz quadrada\n",
    "\n",
    "math.sqrt(16)"
   ]
  },
  {
   "cell_type": "code",
   "execution_count": null,
   "metadata": {},
   "outputs": [],
   "source": [
    "# pow(x,y) - retorna x elevado a y em float\n",
    "\n",
    "math.pow(2,10)"
   ]
  },
  {
   "cell_type": "code",
   "execution_count": null,
   "metadata": {},
   "outputs": [],
   "source": [
    "# log(x,y) - log de x na base y\n",
    "\n",
    "math.log(1024,2)"
   ]
  },
  {
   "cell_type": "code",
   "execution_count": null,
   "metadata": {},
   "outputs": [],
   "source": [
    "# ceil, floor - arrendoda float para int\n",
    "\n",
    "print(math.ceil(6.1)) # arredoda para cima\n",
    "print(math.floor(6.9)) # arredonda para baixo"
   ]
  },
  {
   "cell_type": "code",
   "execution_count": null,
   "metadata": {},
   "outputs": [],
   "source": [
    "# funções trigonometricas\n",
    "\n",
    "pi = math.pi\n",
    "\n",
    "print(math.cos(2*pi)) # cosseno\n",
    "print(math.sin(pi/2)) # seno\n",
    "print(math.tan(pi/4)) # tagente\n",
    "print(math.acos(1/2)) # arco cosseno\n",
    "print(math.asin(1/2)) # arco seno\n"
   ]
  },
  {
   "cell_type": "code",
   "execution_count": null,
   "metadata": {},
   "outputs": [],
   "source": [
    "# funções trigonometricas hiperbolicas\n",
    "\n",
    "pi = math.pi\n",
    "\n",
    "print(math.sinh(pi))\n",
    "print(math.asinh(pi))"
   ]
  },
  {
   "cell_type": "code",
   "execution_count": null,
   "metadata": {},
   "outputs": [],
   "source": [
    "# comb(n,p) - retorna a combinação de n em p: ___n!___\n",
    "#                                             p!(n-p)!                           \n",
    "math.comb(10,2)"
   ]
  },
  {
   "cell_type": "code",
   "execution_count": null,
   "metadata": {},
   "outputs": [],
   "source": [
    "# copysign(x,y) - copia o sinal de y para x\n",
    "\n",
    "math.copysign(-10,5)"
   ]
  },
  {
   "cell_type": "code",
   "execution_count": null,
   "metadata": {},
   "outputs": [],
   "source": [
    "# math.dist(p1,p2) - retorna a distância entre os pontos p1 e p2\n",
    "\n",
    "p1 = (3,0) # [3,0]\n",
    "p2 = (0,4) # [0,4]\n",
    "\n",
    "math.dist(p1,p2)"
   ]
  },
  {
   "cell_type": "code",
   "execution_count": null,
   "metadata": {},
   "outputs": [],
   "source": [
    "# exp(n) - retorna e^n\n",
    "\n",
    "math.exp(2)"
   ]
  },
  {
   "cell_type": "code",
   "execution_count": null,
   "metadata": {},
   "outputs": [],
   "source": [
    "# factorial() - retorna o fatorial \n",
    "\n",
    "math.factorial(5)"
   ]
  },
  {
   "cell_type": "code",
   "execution_count": null,
   "metadata": {},
   "outputs": [],
   "source": [
    "# gcd, lcm  - maximo divisor comum e minimo multiplo comum \n",
    "\n",
    "print(math.gcd(256, 640))\n",
    "print(math.lcm(20, 68))"
   ]
  }
 ],
 "metadata": {
  "kernelspec": {
   "display_name": "Python 3",
   "language": "python",
   "name": "python3"
  },
  "language_info": {
   "codemirror_mode": {
    "name": "ipython",
    "version": 3
   },
   "file_extension": ".py",
   "mimetype": "text/x-python",
   "name": "python",
   "nbconvert_exporter": "python",
   "pygments_lexer": "ipython3",
   "version": "3.10.5"
  },
  "orig_nbformat": 4,
  "vscode": {
   "interpreter": {
    "hash": "ca4ae65869d2cb0a1ce9a252154e55d284ddfed7dca74e9ec9cf70dfaaed74d1"
   }
  }
 },
 "nbformat": 4,
 "nbformat_minor": 2
}
